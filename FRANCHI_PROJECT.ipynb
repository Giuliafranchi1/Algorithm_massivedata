{
  "nbformat": 4,
  "nbformat_minor": 0,
  "metadata": {
    "colab": {
      "provenance": [],
      "include_colab_link": true
    },
    "kernelspec": {
      "name": "python3",
      "display_name": "Python 3"
    },
    "language_info": {
      "name": "python"
    },
    "accelerator": "GPU",
    "gpuClass": "standard"
  },
  "cells": [
    {
      "cell_type": "markdown",
      "metadata": {
        "id": "view-in-github",
        "colab_type": "text"
      },
      "source": [
        "<a href=\"https://colab.research.google.com/github/Giuliafranchi1/Algorithm_massivedata/blob/master/FRANCHI_PROJECT.ipynb\" target=\"_parent\"><img src=\"https://colab.research.google.com/assets/colab-badge.svg\" alt=\"Open In Colab\"/></a>"
      ]
    },
    {
      "cell_type": "code",
      "source": [
        "import torch as t\n",
        "from torch import nn\n",
        "import os\n",
        "from glob import glob\n",
        "\n",
        "t.manual_seed(1) #reproducibility\n",
        "\n",
        "#set GPU\n",
        "device = t.device(\"cuda\" if t.cuda.is_available() else \"cpu\")\n",
        "print(f\"Using {device} device\")\n"
      ],
      "metadata": {
        "id": "jwQFOFk0LBXO",
        "colab": {
          "base_uri": "https://localhost:8080/"
        },
        "outputId": "aa4f7baf-9ec3-4db3-ffd7-8dbc9d14dd23"
      },
      "execution_count": null,
      "outputs": [
        {
          "output_type": "stream",
          "name": "stdout",
          "text": [
            "Using cpu device\n"
          ]
        }
      ]
    },
    {
      "cell_type": "code",
      "source": [
        "#Import dataset from Kaggle\n",
        "\n",
        "!mkdir -p /root/.kaggle\n",
        "!echo '{\"username\":\"giuliafranchi\",\"key\":\"4cfe8adf4b6fb74cc4f72ff3a92f971f\"}' > /root/.kaggle/kaggle.json\n",
        "!kaggle datasets download -d csafrit2/plant-leaves-for-image-classification"
      ],
      "metadata": {
        "id": "gl7ifyP5_EgF",
        "colab": {
          "base_uri": "https://localhost:8080/"
        },
        "outputId": "3de56d21-92cb-4913-ddb8-3934edfbb60e"
      },
      "execution_count": null,
      "outputs": [
        {
          "output_type": "stream",
          "name": "stdout",
          "text": [
            "Warning: Your Kaggle API key is readable by other users on this system! To fix this, you can run 'chmod 600 /root/.kaggle/kaggle.json'\n",
            "Downloading plant-leaves-for-image-classification.zip to /content\n",
            "100% 6.56G/6.56G [03:37<00:00, 29.5MB/s]\n",
            "100% 6.56G/6.56G [03:37<00:00, 32.3MB/s]\n"
          ]
        }
      ]
    },
    {
      "cell_type": "code",
      "source": [
        "!unzip plant-leaves-for-image-classification.zip"
      ],
      "metadata": {
        "id": "WacDBw7jPo2p",
        "colab": {
          "base_uri": "https://localhost:8080/"
        },
        "outputId": "810ac836-0997-4ab7-ed09-2913d353e26d"
      },
      "execution_count": null,
      "outputs": [
        {
          "output_type": "stream",
          "name": "stdout",
          "text": [
            "Archive:  plant-leaves-for-image-classification.zip\n",
            "  inflating: Plants_2/images to predict/0001_0170.JPG  \n",
            "  inflating: Plants_2/images to predict/0003_0179.JPG  \n",
            "  inflating: Plants_2/images to predict/0005_0268.JPG  \n",
            "  inflating: Plants_2/images to predict/0008_0148.JPG  \n",
            "  inflating: Plants_2/images to predict/0015_0123.JPG  \n",
            "  inflating: Plants_2/images to predict/0016_0118.JPG  \n",
            "  inflating: Plants_2/images to predict/0019_0276.JPG  \n",
            "  inflating: Plants_2/images to predict/0020_0271.JPG  \n",
            "  inflating: Plants_2/test/Alstonia Scholaris diseased (P2a)/0014_0006.JPG  \n",
            "  inflating: Plants_2/test/Alstonia Scholaris diseased (P2a)/0014_0007.JPG  \n",
            "  inflating: Plants_2/test/Alstonia Scholaris diseased (P2a)/0014_0008.JPG  \n",
            "  inflating: Plants_2/test/Alstonia Scholaris diseased (P2a)/0014_0009.JPG  \n",
            "  inflating: Plants_2/test/Alstonia Scholaris diseased (P2a)/0014_0010.JPG  \n",
            "  inflating: Plants_2/test/Alstonia Scholaris healthy (P2b)/0003_0006.JPG  \n",
            "  inflating: Plants_2/test/Alstonia Scholaris healthy (P2b)/0003_0007.JPG  \n",
            "  inflating: Plants_2/test/Alstonia Scholaris healthy (P2b)/0003_0008.JPG  \n",
            "  inflating: Plants_2/test/Alstonia Scholaris healthy (P2b)/0003_0009.JPG  \n",
            "  inflating: Plants_2/test/Alstonia Scholaris healthy (P2b)/0003_0010.JPG  \n",
            "  inflating: Plants_2/test/Arjun diseased (P1a)/0013_0006.JPG  \n",
            "  inflating: Plants_2/test/Arjun diseased (P1a)/0013_0007.JPG  \n",
            "  inflating: Plants_2/test/Arjun diseased (P1a)/0013_0008.JPG  \n",
            "  inflating: Plants_2/test/Arjun diseased (P1a)/0013_0009.JPG  \n",
            "  inflating: Plants_2/test/Arjun diseased (P1a)/0013_0010.JPG  \n",
            "  inflating: Plants_2/test/Arjun healthy (P1b)/0002_0006.JPG  \n",
            "  inflating: Plants_2/test/Arjun healthy (P1b)/0002_0007.JPG  \n",
            "  inflating: Plants_2/test/Arjun healthy (P1b)/0002_0008.JPG  \n",
            "  inflating: Plants_2/test/Arjun healthy (P1b)/0002_0009.JPG  \n",
            "  inflating: Plants_2/test/Arjun healthy (P1b)/0002_0010.JPG  \n",
            "  inflating: Plants_2/test/Bael diseased (P4b)/0016_0006.JPG  \n",
            "  inflating: Plants_2/test/Bael diseased (P4b)/0016_0007.JPG  \n",
            "  inflating: Plants_2/test/Bael diseased (P4b)/0016_0008.JPG  \n",
            "  inflating: Plants_2/test/Bael diseased (P4b)/0016_0009.JPG  \n",
            "  inflating: Plants_2/test/Bael diseased (P4b)/0016_0010.JPG  \n",
            "  inflating: Plants_2/test/Basil healthy (P8)/0008_0001.JPG  \n",
            "  inflating: Plants_2/test/Basil healthy (P8)/0008_0002.JPG  \n",
            "  inflating: Plants_2/test/Basil healthy (P8)/0008_0003.JPG  \n",
            "  inflating: Plants_2/test/Basil healthy (P8)/0008_0004.JPG  \n",
            "  inflating: Plants_2/test/Basil healthy (P8)/0008_0005.JPG  \n",
            "  inflating: Plants_2/test/Chinar diseased (P11b)/0022_0006.JPG  \n",
            "  inflating: Plants_2/test/Chinar diseased (P11b)/0022_0007.JPG  \n",
            "  inflating: Plants_2/test/Chinar diseased (P11b)/0022_0008.JPG  \n",
            "  inflating: Plants_2/test/Chinar diseased (P11b)/0022_0009.JPG  \n",
            "  inflating: Plants_2/test/Chinar diseased (P11b)/0022_0010.JPG  \n",
            "  inflating: Plants_2/test/Chinar healthy (P11a)/0011_0006.JPG  \n",
            "  inflating: Plants_2/test/Chinar healthy (P11a)/0011_0007.JPG  \n",
            "  inflating: Plants_2/test/Chinar healthy (P11a)/0011_0008.JPG  \n",
            "  inflating: Plants_2/test/Chinar healthy (P11a)/0011_0009.JPG  \n",
            "  inflating: Plants_2/test/Chinar healthy (P11a)/0011_0010.JPG  \n",
            "  inflating: Plants_2/test/Gauva diseased (P3b)/0015_0001.JPG  \n",
            "  inflating: Plants_2/test/Gauva diseased (P3b)/0015_0002.JPG  \n",
            "  inflating: Plants_2/test/Gauva diseased (P3b)/0015_0003.JPG  \n",
            "  inflating: Plants_2/test/Gauva diseased (P3b)/0015_0004.JPG  \n",
            "  inflating: Plants_2/test/Gauva diseased (P3b)/0015_0005.JPG  \n",
            "  inflating: Plants_2/test/Gauva healthy (P3a)/0004_0006.JPG  \n",
            "  inflating: Plants_2/test/Gauva healthy (P3a)/0004_0007.JPG  \n",
            "  inflating: Plants_2/test/Gauva healthy (P3a)/0004_0008.JPG  \n",
            "  inflating: Plants_2/test/Gauva healthy (P3a)/0004_0009.JPG  \n",
            "  inflating: Plants_2/test/Gauva healthy (P3a)/0004_0010.JPG  \n",
            "  inflating: Plants_2/test/Jamun diseased (P5b)/0017_0006.JPG  \n",
            "  inflating: Plants_2/test/Jamun diseased (P5b)/0017_0007.JPG  \n",
            "  inflating: Plants_2/test/Jamun diseased (P5b)/0017_0008.JPG  \n",
            "  inflating: Plants_2/test/Jamun diseased (P5b)/0017_0009.JPG  \n",
            "  inflating: Plants_2/test/Jamun diseased (P5b)/0017_0010.JPG  \n",
            "  inflating: Plants_2/test/Jamun healthy (P5a)/0005_0001.JPG  \n",
            "  inflating: Plants_2/test/Jamun healthy (P5a)/0005_0002.JPG  \n",
            "  inflating: Plants_2/test/Jamun healthy (P5a)/0005_0003.JPG  \n",
            "  inflating: Plants_2/test/Jamun healthy (P5a)/0005_0004.JPG  \n",
            "  inflating: Plants_2/test/Jamun healthy (P5a)/0005_0005.JPG  \n",
            "  inflating: Plants_2/test/Jatropha diseased (P6b)/0018_0001.JPG  \n",
            "  inflating: Plants_2/test/Jatropha diseased (P6b)/0018_0002.JPG  \n",
            "  inflating: Plants_2/test/Jatropha diseased (P6b)/0018_0003.JPG  \n",
            "  inflating: Plants_2/test/Jatropha diseased (P6b)/0018_0004.JPG  \n",
            "  inflating: Plants_2/test/Jatropha diseased (P6b)/0018_0005.JPG  \n",
            "  inflating: Plants_2/test/Jatropha healthy (P6a)/0006_0001.JPG  \n",
            "  inflating: Plants_2/test/Jatropha healthy (P6a)/0006_0002.JPG  \n",
            "  inflating: Plants_2/test/Jatropha healthy (P6a)/0006_0003.JPG  \n",
            "  inflating: Plants_2/test/Jatropha healthy (P6a)/0006_0004.JPG  \n",
            "  inflating: Plants_2/test/Jatropha healthy (P6a)/0006_0005.JPG  \n",
            "  inflating: Plants_2/test/Lemon diseased (P10b)/0021_0001.JPG  \n",
            "  inflating: Plants_2/test/Lemon diseased (P10b)/0021_0002.JPG  \n",
            "  inflating: Plants_2/test/Lemon diseased (P10b)/0021_0003.JPG  \n",
            "  inflating: Plants_2/test/Lemon diseased (P10b)/0021_0004.JPG  \n",
            "  inflating: Plants_2/test/Lemon diseased (P10b)/0021_0005.JPG  \n",
            "  inflating: Plants_2/test/Lemon healthy (P10a)/0010_0001.JPG  \n",
            "  inflating: Plants_2/test/Lemon healthy (P10a)/0010_0002.JPG  \n",
            "  inflating: Plants_2/test/Lemon healthy (P10a)/0010_0003.JPG  \n",
            "  inflating: Plants_2/test/Lemon healthy (P10a)/0010_0004.JPG  \n",
            "  inflating: Plants_2/test/Lemon healthy (P10a)/0010_0005.JPG  \n",
            "  inflating: Plants_2/test/Mango diseased (P0b)/0012_0001.JPG  \n",
            "  inflating: Plants_2/test/Mango diseased (P0b)/0012_0002.JPG  \n",
            "  inflating: Plants_2/test/Mango diseased (P0b)/0012_0003.JPG  \n",
            "  inflating: Plants_2/test/Mango diseased (P0b)/0012_0004.JPG  \n",
            "  inflating: Plants_2/test/Mango diseased (P0b)/0012_0005.JPG  \n",
            "  inflating: Plants_2/test/Mango healthy (P0a)/0001_0001.JPG  \n",
            "  inflating: Plants_2/test/Mango healthy (P0a)/0001_0002.JPG  \n",
            "  inflating: Plants_2/test/Mango healthy (P0a)/0001_0003.JPG  \n",
            "  inflating: Plants_2/test/Mango healthy (P0a)/0001_0004.JPG  \n",
            "  inflating: Plants_2/test/Mango healthy (P0a)/0001_0005.JPG  \n",
            "  inflating: Plants_2/test/Pomegranate diseased (P9b)/0020_0001.JPG  \n",
            "  inflating: Plants_2/test/Pomegranate diseased (P9b)/0020_0002.JPG  \n",
            "  inflating: Plants_2/test/Pomegranate diseased (P9b)/0020_0003.JPG  \n",
            "  inflating: Plants_2/test/Pomegranate diseased (P9b)/0020_0004.JPG  \n",
            "  inflating: Plants_2/test/Pomegranate diseased (P9b)/0020_0005.JPG  \n",
            "  inflating: Plants_2/test/Pomegranate healthy (P9a)/0009_0001.JPG  \n",
            "  inflating: Plants_2/test/Pomegranate healthy (P9a)/0009_0002.JPG  \n",
            "  inflating: Plants_2/test/Pomegranate healthy (P9a)/0009_0003.JPG  \n",
            "  inflating: Plants_2/test/Pomegranate healthy (P9a)/0009_0004.JPG  \n",
            "  inflating: Plants_2/test/Pomegranate healthy (P9a)/0009_0005.JPG  \n",
            "  inflating: Plants_2/test/Pongamia Pinnata diseased (P7b)/0019_0001.JPG  \n",
            "  inflating: Plants_2/test/Pongamia Pinnata diseased (P7b)/0019_0002.JPG  \n",
            "  inflating: Plants_2/test/Pongamia Pinnata diseased (P7b)/0019_0003.JPG  \n",
            "  inflating: Plants_2/test/Pongamia Pinnata diseased (P7b)/0019_0004.JPG  \n",
            "  inflating: Plants_2/test/Pongamia Pinnata diseased (P7b)/0019_0005.JPG  \n",
            "  inflating: Plants_2/test/Pongamia Pinnata healthy (P7a)/0007_0001.JPG  \n",
            "  inflating: Plants_2/test/Pongamia Pinnata healthy (P7a)/0007_0002.JPG  \n",
            "  inflating: Plants_2/test/Pongamia Pinnata healthy (P7a)/0007_0003.JPG  \n",
            "  inflating: Plants_2/test/Pongamia Pinnata healthy (P7a)/0007_0004.JPG  \n",
            "  inflating: Plants_2/test/Pongamia Pinnata healthy (P7a)/0007_0005.JPG  \n",
            "  inflating: Plants_2/train/Alstonia Scholaris diseased (P2a)/0014_0011.JPG  \n",
            "  inflating: Plants_2/train/Alstonia Scholaris diseased (P2a)/0014_0012.JPG  \n",
            "  inflating: Plants_2/train/Alstonia Scholaris diseased (P2a)/0014_0013.JPG  \n",
            "  inflating: Plants_2/train/Alstonia Scholaris diseased (P2a)/0014_0014.JPG  \n",
            "  inflating: Plants_2/train/Alstonia Scholaris diseased (P2a)/0014_0015.JPG  \n",
            "  inflating: Plants_2/train/Alstonia Scholaris diseased (P2a)/0014_0016.JPG  \n",
            "  inflating: Plants_2/train/Alstonia Scholaris diseased (P2a)/0014_0017.JPG  \n",
            "  inflating: Plants_2/train/Alstonia Scholaris diseased (P2a)/0014_0018.JPG  \n",
            "  inflating: Plants_2/train/Alstonia Scholaris diseased (P2a)/0014_0019.JPG  \n",
            "  inflating: Plants_2/train/Alstonia Scholaris diseased (P2a)/0014_0020.JPG  \n",
            "  inflating: Plants_2/train/Alstonia Scholaris diseased (P2a)/0014_0021.JPG  \n",
            "  inflating: Plants_2/train/Alstonia Scholaris diseased (P2a)/0014_0022.JPG  \n",
            "  inflating: Plants_2/train/Alstonia Scholaris diseased (P2a)/0014_0023.JPG  \n",
            "  inflating: Plants_2/train/Alstonia Scholaris diseased (P2a)/0014_0024.JPG  \n",
            "  inflating: Plants_2/train/Alstonia Scholaris diseased (P2a)/0014_0025.JPG  \n",
            "  inflating: Plants_2/train/Alstonia Scholaris diseased (P2a)/0014_0026.JPG  \n",
            "  inflating: Plants_2/train/Alstonia Scholaris diseased (P2a)/0014_0027.JPG  \n",
            "  inflating: Plants_2/train/Alstonia Scholaris diseased (P2a)/0014_0028.JPG  \n",
            "  inflating: Plants_2/train/Alstonia Scholaris diseased (P2a)/0014_0029.JPG  \n",
            "  inflating: Plants_2/train/Alstonia Scholaris diseased (P2a)/0014_0030.JPG  \n",
            "  inflating: Plants_2/train/Alstonia Scholaris diseased (P2a)/0014_0031.JPG  \n",
            "  inflating: Plants_2/train/Alstonia Scholaris diseased (P2a)/0014_0032.JPG  \n",
            "  inflating: Plants_2/train/Alstonia Scholaris diseased (P2a)/0014_0033.JPG  \n",
            "  inflating: Plants_2/train/Alstonia Scholaris diseased (P2a)/0014_0034.JPG  \n",
            "  inflating: Plants_2/train/Alstonia Scholaris diseased (P2a)/0014_0035.JPG  \n",
            "  inflating: Plants_2/train/Alstonia Scholaris diseased (P2a)/0014_0036.JPG  \n",
            "  inflating: Plants_2/train/Alstonia Scholaris diseased (P2a)/0014_0037.JPG  \n",
            "  inflating: Plants_2/train/Alstonia Scholaris diseased (P2a)/0014_0038.JPG  \n",
            "  inflating: Plants_2/train/Alstonia Scholaris diseased (P2a)/0014_0039.JPG  \n",
            "  inflating: Plants_2/train/Alstonia Scholaris diseased (P2a)/0014_0040.JPG  \n",
            "  inflating: Plants_2/train/Alstonia Scholaris diseased (P2a)/0014_0041.JPG  \n",
            "  inflating: Plants_2/train/Alstonia Scholaris diseased (P2a)/0014_0042.JPG  \n",
            "  inflating: Plants_2/train/Alstonia Scholaris diseased (P2a)/0014_0043.JPG  \n",
            "  inflating: Plants_2/train/Alstonia Scholaris diseased (P2a)/0014_0044.JPG  \n",
            "  inflating: Plants_2/train/Alstonia Scholaris diseased (P2a)/0014_0045.JPG  \n",
            "  inflating: Plants_2/train/Alstonia Scholaris diseased (P2a)/0014_0046.JPG  \n",
            "  inflating: Plants_2/train/Alstonia Scholaris diseased (P2a)/0014_0047.JPG  \n",
            "  inflating: Plants_2/train/Alstonia Scholaris diseased (P2a)/0014_0048.JPG  \n",
            "  inflating: Plants_2/train/Alstonia Scholaris diseased (P2a)/0014_0049.JPG  \n",
            "  inflating: Plants_2/train/Alstonia Scholaris diseased (P2a)/0014_0050.JPG  \n",
            "  inflating: Plants_2/train/Alstonia Scholaris diseased (P2a)/0014_0051.JPG  \n",
            "  inflating: Plants_2/train/Alstonia Scholaris diseased (P2a)/0014_0052.JPG  \n",
            "  inflating: Plants_2/train/Alstonia Scholaris diseased (P2a)/0014_0053.JPG  \n",
            "  inflating: Plants_2/train/Alstonia Scholaris diseased (P2a)/0014_0054.JPG  \n",
            "  inflating: Plants_2/train/Alstonia Scholaris diseased (P2a)/0014_0055.JPG  \n",
            "  inflating: Plants_2/train/Alstonia Scholaris diseased (P2a)/0014_0056.JPG  \n",
            "  inflating: Plants_2/train/Alstonia Scholaris diseased (P2a)/0014_0057.JPG  \n",
            "  inflating: Plants_2/train/Alstonia Scholaris diseased (P2a)/0014_0058.JPG  \n",
            "  inflating: Plants_2/train/Alstonia Scholaris diseased (P2a)/0014_0059.JPG  \n",
            "  inflating: Plants_2/train/Alstonia Scholaris diseased (P2a)/0014_0060.JPG  \n",
            "  inflating: Plants_2/train/Alstonia Scholaris diseased (P2a)/0014_0061.JPG  \n",
            "  inflating: Plants_2/train/Alstonia Scholaris diseased (P2a)/0014_0062.JPG  \n",
            "  inflating: Plants_2/train/Alstonia Scholaris diseased (P2a)/0014_0063.JPG  \n",
            "  inflating: Plants_2/train/Alstonia Scholaris diseased (P2a)/0014_0064.JPG  \n",
            "  inflating: Plants_2/train/Alstonia Scholaris diseased (P2a)/0014_0065.JPG  \n",
            "  inflating: Plants_2/train/Alstonia Scholaris diseased (P2a)/0014_0066.JPG  \n",
            "  inflating: Plants_2/train/Alstonia Scholaris diseased (P2a)/0014_0067.JPG  \n",
            "  inflating: Plants_2/train/Alstonia Scholaris diseased (P2a)/0014_0068.JPG  \n",
            "  inflating: Plants_2/train/Alstonia Scholaris diseased (P2a)/0014_0069.JPG  \n",
            "  inflating: Plants_2/train/Alstonia Scholaris diseased (P2a)/0014_0070.JPG  \n",
            "  inflating: Plants_2/train/Alstonia Scholaris diseased (P2a)/0014_0071.JPG  \n",
            "  inflating: Plants_2/train/Alstonia Scholaris diseased (P2a)/0014_0072.JPG  \n",
            "  inflating: Plants_2/train/Alstonia Scholaris diseased (P2a)/0014_0073.JPG  \n",
            "  inflating: Plants_2/train/Alstonia Scholaris diseased (P2a)/0014_0074.JPG  \n",
            "  inflating: Plants_2/train/Alstonia Scholaris diseased (P2a)/0014_0075.JPG  \n",
            "  inflating: Plants_2/train/Alstonia Scholaris diseased (P2a)/0014_0076.JPG  \n",
            "  inflating: Plants_2/train/Alstonia Scholaris diseased (P2a)/0014_0077.JPG  \n",
            "  inflating: Plants_2/train/Alstonia Scholaris diseased (P2a)/0014_0078.JPG  \n",
            "  inflating: Plants_2/train/Alstonia Scholaris diseased (P2a)/0014_0079.JPG  \n",
            "  inflating: Plants_2/train/Alstonia Scholaris diseased (P2a)/0014_0080.JPG  \n",
            "  inflating: Plants_2/train/Alstonia Scholaris diseased (P2a)/0014_0081.JPG  \n",
            "  inflating: Plants_2/train/Alstonia Scholaris diseased (P2a)/0014_0082.JPG  \n",
            "  inflating: Plants_2/train/Alstonia Scholaris diseased (P2a)/0014_0083.JPG  \n",
            "  inflating: Plants_2/train/Alstonia Scholaris diseased (P2a)/0014_0084.JPG  \n",
            "  inflating: Plants_2/train/Alstonia Scholaris diseased (P2a)/0014_0085.JPG  \n",
            "  inflating: Plants_2/train/Alstonia Scholaris diseased (P2a)/0014_0086.JPG  \n",
            "  inflating: Plants_2/train/Alstonia Scholaris diseased (P2a)/0014_0087.JPG  \n",
            "  inflating: Plants_2/train/Alstonia Scholaris diseased (P2a)/0014_0088.JPG  \n",
            "  inflating: Plants_2/train/Alstonia Scholaris diseased (P2a)/0014_0089.JPG  \n",
            "  inflating: Plants_2/train/Alstonia Scholaris diseased (P2a)/0014_0090.JPG  \n",
            "  inflating: Plants_2/train/Alstonia Scholaris diseased (P2a)/0014_0091.JPG  \n",
            "  inflating: Plants_2/train/Alstonia Scholaris diseased (P2a)/0014_0092.JPG  \n",
            "  inflating: Plants_2/train/Alstonia Scholaris diseased (P2a)/0014_0093.JPG  \n",
            "  inflating: Plants_2/train/Alstonia Scholaris diseased (P2a)/0014_0094.JPG  \n",
            "  inflating: Plants_2/train/Alstonia Scholaris diseased (P2a)/0014_0095.JPG  \n",
            "  inflating: Plants_2/train/Alstonia Scholaris diseased (P2a)/0014_0096.JPG  \n",
            "  inflating: Plants_2/train/Alstonia Scholaris diseased (P2a)/0014_0097.JPG  \n",
            "  inflating: Plants_2/train/Alstonia Scholaris diseased (P2a)/0014_0098.JPG  \n",
            "  inflating: Plants_2/train/Alstonia Scholaris diseased (P2a)/0014_0099.JPG  \n",
            "  inflating: Plants_2/train/Alstonia Scholaris diseased (P2a)/0014_0100.JPG  \n",
            "  inflating: Plants_2/train/Alstonia Scholaris diseased (P2a)/0014_0101.JPG  \n",
            "  inflating: Plants_2/train/Alstonia Scholaris diseased (P2a)/0014_0102.JPG  \n",
            "  inflating: Plants_2/train/Alstonia Scholaris diseased (P2a)/0014_0103.JPG  \n",
            "  inflating: Plants_2/train/Alstonia Scholaris diseased (P2a)/0014_0104.JPG  \n",
            "  inflating: Plants_2/train/Alstonia Scholaris diseased (P2a)/0014_0105.JPG  \n",
            "  inflating: Plants_2/train/Alstonia Scholaris diseased (P2a)/0014_0106.JPG  \n",
            "  inflating: Plants_2/train/Alstonia Scholaris diseased (P2a)/0014_0107.JPG  \n",
            "  inflating: Plants_2/train/Alstonia Scholaris diseased (P2a)/0014_0108.JPG  \n",
            "  inflating: Plants_2/train/Alstonia Scholaris diseased (P2a)/0014_0109.JPG  \n",
            "  inflating: Plants_2/train/Alstonia Scholaris diseased (P2a)/0014_0110.JPG  \n",
            "  inflating: Plants_2/train/Alstonia Scholaris diseased (P2a)/0014_0111.JPG  \n",
            "  inflating: Plants_2/train/Alstonia Scholaris diseased (P2a)/0014_0112.JPG  \n",
            "  inflating: Plants_2/train/Alstonia Scholaris diseased (P2a)/0014_0113.JPG  \n",
            "  inflating: Plants_2/train/Alstonia Scholaris diseased (P2a)/0014_0114.JPG  \n",
            "  inflating: Plants_2/train/Alstonia Scholaris diseased (P2a)/0014_0115.JPG  \n",
            "  inflating: Plants_2/train/Alstonia Scholaris diseased (P2a)/0014_0116.JPG  \n",
            "  inflating: Plants_2/train/Alstonia Scholaris diseased (P2a)/0014_0117.JPG  \n",
            "  inflating: Plants_2/train/Alstonia Scholaris diseased (P2a)/0014_0118.JPG  \n",
            "  inflating: Plants_2/train/Alstonia Scholaris diseased (P2a)/0014_0119.JPG  \n",
            "  inflating: Plants_2/train/Alstonia Scholaris diseased (P2a)/0014_0120.JPG  \n",
            "  inflating: Plants_2/train/Alstonia Scholaris diseased (P2a)/0014_0121.JPG  \n",
            "  inflating: Plants_2/train/Alstonia Scholaris diseased (P2a)/0014_0122.JPG  \n",
            "  inflating: Plants_2/train/Alstonia Scholaris diseased (P2a)/0014_0123.JPG  \n",
            "  inflating: Plants_2/train/Alstonia Scholaris diseased (P2a)/0014_0124.JPG  \n",
            "  inflating: Plants_2/train/Alstonia Scholaris diseased (P2a)/0014_0125.JPG  \n",
            "  inflating: Plants_2/train/Alstonia Scholaris diseased (P2a)/0014_0126.JPG  \n",
            "  inflating: Plants_2/train/Alstonia Scholaris diseased (P2a)/0014_0127.JPG  \n",
            "  inflating: Plants_2/train/Alstonia Scholaris diseased (P2a)/0014_0128.JPG  \n",
            "  inflating: Plants_2/train/Alstonia Scholaris diseased (P2a)/0014_0129.JPG  \n",
            "  inflating: Plants_2/train/Alstonia Scholaris diseased (P2a)/0014_0130.JPG  \n",
            "  inflating: Plants_2/train/Alstonia Scholaris diseased (P2a)/0014_0131.JPG  \n",
            "  inflating: Plants_2/train/Alstonia Scholaris diseased (P2a)/0014_0132.JPG  \n",
            "  inflating: Plants_2/train/Alstonia Scholaris diseased (P2a)/0014_0133.JPG  \n",
            "  inflating: Plants_2/train/Alstonia Scholaris diseased (P2a)/0014_0134.JPG  \n",
            "  inflating: Plants_2/train/Alstonia Scholaris diseased (P2a)/0014_0135.JPG  \n",
            "  inflating: Plants_2/train/Alstonia Scholaris diseased (P2a)/0014_0136.JPG  \n",
            "  inflating: Plants_2/train/Alstonia Scholaris diseased (P2a)/0014_0137.JPG  \n",
            "  inflating: Plants_2/train/Alstonia Scholaris diseased (P2a)/0014_0138.JPG  \n",
            "  inflating: Plants_2/train/Alstonia Scholaris diseased (P2a)/0014_0139.JPG  \n",
            "  inflating: Plants_2/train/Alstonia Scholaris diseased (P2a)/0014_0140.JPG  \n",
            "  inflating: Plants_2/train/Alstonia Scholaris diseased (P2a)/0014_0141.JPG  \n",
            "  inflating: Plants_2/train/Alstonia Scholaris diseased (P2a)/0014_0142.JPG  \n",
            "  inflating: Plants_2/train/Alstonia Scholaris diseased (P2a)/0014_0143.JPG  \n",
            "  inflating: Plants_2/train/Alstonia Scholaris diseased (P2a)/0014_0144.JPG  \n",
            "  inflating: Plants_2/train/Alstonia Scholaris diseased (P2a)/0014_0145.JPG  \n",
            "  inflating: Plants_2/train/Alstonia Scholaris diseased (P2a)/0014_0146.JPG  \n",
            "  inflating: Plants_2/train/Alstonia Scholaris diseased (P2a)/0014_0147.JPG  \n",
            "  inflating: Plants_2/train/Alstonia Scholaris diseased (P2a)/0014_0148.JPG  \n",
            "  inflating: Plants_2/train/Alstonia Scholaris diseased (P2a)/0014_0149.JPG  \n",
            "  inflating: Plants_2/train/Alstonia Scholaris diseased (P2a)/0014_0150.JPG  \n",
            "  inflating: Plants_2/train/Alstonia Scholaris diseased (P2a)/0014_0151.JPG  \n",
            "  inflating: Plants_2/train/Alstonia Scholaris diseased (P2a)/0014_0152.JPG  \n",
            "  inflating: Plants_2/train/Alstonia Scholaris diseased (P2a)/0014_0153.JPG  \n",
            "  inflating: Plants_2/train/Alstonia Scholaris diseased (P2a)/0014_0154.JPG  \n",
            "  inflating: Plants_2/train/Alstonia Scholaris diseased (P2a)/0014_0155.JPG  \n",
            "  inflating: Plants_2/train/Alstonia Scholaris diseased (P2a)/0014_0156.JPG  \n",
            "  inflating: Plants_2/train/Alstonia Scholaris diseased (P2a)/0014_0157.JPG  \n",
            "  inflating: Plants_2/train/Alstonia Scholaris diseased (P2a)/0014_0158.JPG  \n",
            "  inflating: Plants_2/train/Alstonia Scholaris diseased (P2a)/0014_0159.JPG  \n",
            "  inflating: Plants_2/train/Alstonia Scholaris diseased (P2a)/0014_0160.JPG  \n",
            "  inflating: Plants_2/train/Alstonia Scholaris diseased (P2a)/0014_0161.JPG  \n",
            "  inflating: Plants_2/train/Alstonia Scholaris diseased (P2a)/0014_0162.JPG  \n",
            "  inflating: Plants_2/train/Alstonia Scholaris diseased (P2a)/0014_0163.JPG  \n",
            "  inflating: Plants_2/train/Alstonia Scholaris diseased (P2a)/0014_0164.JPG  \n",
            "  inflating: Plants_2/train/Alstonia Scholaris diseased (P2a)/0014_0165.JPG  \n",
            "  inflating: Plants_2/train/Alstonia Scholaris diseased (P2a)/0014_0166.JPG  \n",
            "  inflating: Plants_2/train/Alstonia Scholaris diseased (P2a)/0014_0167.JPG  \n",
            "  inflating: Plants_2/train/Alstonia Scholaris diseased (P2a)/0014_0168.JPG  \n",
            "  inflating: Plants_2/train/Alstonia Scholaris diseased (P2a)/0014_0169.JPG  \n",
            "  inflating: Plants_2/train/Alstonia Scholaris diseased (P2a)/0014_0170.JPG  \n",
            "  inflating: Plants_2/train/Alstonia Scholaris diseased (P2a)/0014_0171.JPG  \n",
            "  inflating: Plants_2/train/Alstonia Scholaris diseased (P2a)/0014_0172.JPG  \n",
            "  inflating: Plants_2/train/Alstonia Scholaris diseased (P2a)/0014_0173.JPG  \n",
            "  inflating: Plants_2/train/Alstonia Scholaris diseased (P2a)/0014_0174.JPG  \n",
            "  inflating: Plants_2/train/Alstonia Scholaris diseased (P2a)/0014_0175.JPG  \n",
            "  inflating: Plants_2/train/Alstonia Scholaris diseased (P2a)/0014_0176.JPG  \n",
            "  inflating: Plants_2/train/Alstonia Scholaris diseased (P2a)/0014_0177.JPG  \n",
            "  inflating: Plants_2/train/Alstonia Scholaris diseased (P2a)/0014_0178.JPG  \n",
            "  inflating: Plants_2/train/Alstonia Scholaris diseased (P2a)/0014_0179.JPG  \n",
            "  inflating: Plants_2/train/Alstonia Scholaris diseased (P2a)/0014_0180.JPG  \n",
            "  inflating: Plants_2/train/Alstonia Scholaris diseased (P2a)/0014_0181.JPG  \n",
            "  inflating: Plants_2/train/Alstonia Scholaris diseased (P2a)/0014_0182.JPG  \n",
            "  inflating: Plants_2/train/Alstonia Scholaris diseased (P2a)/0014_0183.JPG  \n",
            "  inflating: Plants_2/train/Alstonia Scholaris diseased (P2a)/0014_0184.JPG  \n",
            "  inflating: Plants_2/train/Alstonia Scholaris diseased (P2a)/0014_0185.JPG  \n",
            "  inflating: Plants_2/train/Alstonia Scholaris diseased (P2a)/0014_0186.JPG  \n",
            "  inflating: Plants_2/train/Alstonia Scholaris diseased (P2a)/0014_0187.JPG  \n",
            "  inflating: Plants_2/train/Alstonia Scholaris diseased (P2a)/0014_0188.JPG  \n",
            "  inflating: Plants_2/train/Alstonia Scholaris diseased (P2a)/0014_0189.JPG  \n",
            "  inflating: Plants_2/train/Alstonia Scholaris diseased (P2a)/0014_0190.JPG  \n",
            "  inflating: Plants_2/train/Alstonia Scholaris diseased (P2a)/0014_0191.JPG  \n",
            "  inflating: Plants_2/train/Alstonia Scholaris diseased (P2a)/0014_0192.JPG  \n",
            "  inflating: Plants_2/train/Alstonia Scholaris diseased (P2a)/0014_0193.JPG  \n",
            "  inflating: Plants_2/train/Alstonia Scholaris diseased (P2a)/0014_0194.JPG  \n",
            "  inflating: Plants_2/train/Alstonia Scholaris diseased (P2a)/0014_0195.JPG  \n",
            "  inflating: Plants_2/train/Alstonia Scholaris diseased (P2a)/0014_0196.JPG  \n",
            "  inflating: Plants_2/train/Alstonia Scholaris diseased (P2a)/0014_0197.JPG  \n",
            "  inflating: Plants_2/train/Alstonia Scholaris diseased (P2a)/0014_0198.JPG  \n",
            "  inflating: Plants_2/train/Alstonia Scholaris diseased (P2a)/0014_0199.JPG  \n",
            "  inflating: Plants_2/train/Alstonia Scholaris diseased (P2a)/0014_0200.JPG  \n",
            "  inflating: Plants_2/train/Alstonia Scholaris diseased (P2a)/0014_0201.JPG  \n",
            "  inflating: Plants_2/train/Alstonia Scholaris diseased (P2a)/0014_0202.JPG  \n",
            "  inflating: Plants_2/train/Alstonia Scholaris diseased (P2a)/0014_0203.JPG  \n",
            "  inflating: Plants_2/train/Alstonia Scholaris diseased (P2a)/0014_0204.JPG  \n",
            "  inflating: Plants_2/train/Alstonia Scholaris diseased (P2a)/0014_0205.JPG  \n",
            "  inflating: Plants_2/train/Alstonia Scholaris diseased (P2a)/0014_0206.JPG  \n",
            "  inflating: Plants_2/train/Alstonia Scholaris diseased (P2a)/0014_0207.JPG  \n",
            "  inflating: Plants_2/train/Alstonia Scholaris diseased (P2a)/0014_0208.JPG  \n",
            "  inflating: Plants_2/train/Alstonia Scholaris diseased (P2a)/0014_0209.JPG  \n",
            "  inflating: Plants_2/train/Alstonia Scholaris diseased (P2a)/0014_0210.JPG  \n",
            "  inflating: Plants_2/train/Alstonia Scholaris diseased (P2a)/0014_0211.JPG  \n",
            "  inflating: Plants_2/train/Alstonia Scholaris diseased (P2a)/0014_0212.JPG  \n",
            "  inflating: Plants_2/train/Alstonia Scholaris diseased (P2a)/0014_0213.JPG  \n",
            "  inflating: Plants_2/train/Alstonia Scholaris diseased (P2a)/0014_0214.JPG  \n",
            "  inflating: Plants_2/train/Alstonia Scholaris diseased (P2a)/0014_0215.JPG  \n",
            "  inflating: Plants_2/train/Alstonia Scholaris diseased (P2a)/0014_0216.JPG  \n",
            "  inflating: Plants_2/train/Alstonia Scholaris diseased (P2a)/0014_0217.JPG  \n",
            "  inflating: Plants_2/train/Alstonia Scholaris diseased (P2a)/0014_0218.JPG  \n",
            "  inflating: Plants_2/train/Alstonia Scholaris diseased (P2a)/0014_0219.JPG  \n",
            "  inflating: Plants_2/train/Alstonia Scholaris diseased (P2a)/0014_0220.JPG  \n",
            "  inflating: Plants_2/train/Alstonia Scholaris diseased (P2a)/0014_0221.JPG  \n",
            "  inflating: Plants_2/train/Alstonia Scholaris diseased (P2a)/0014_0222.JPG  \n",
            "  inflating: Plants_2/train/Alstonia Scholaris diseased (P2a)/0014_0223.JPG  \n",
            "  inflating: Plants_2/train/Alstonia Scholaris diseased (P2a)/0014_0224.JPG  \n",
            "  inflating: Plants_2/train/Alstonia Scholaris diseased (P2a)/0014_0225.JPG  \n",
            "  inflating: Plants_2/train/Alstonia Scholaris diseased (P2a)/0014_0226.JPG  \n",
            "  inflating: Plants_2/train/Alstonia Scholaris diseased (P2a)/0014_0227.JPG  \n",
            "  inflating: Plants_2/train/Alstonia Scholaris diseased (P2a)/0014_0228.JPG  \n",
            "  inflating: Plants_2/train/Alstonia Scholaris diseased (P2a)/0014_0229.JPG  \n",
            "  inflating: Plants_2/train/Alstonia Scholaris diseased (P2a)/0014_0230.JPG  \n",
            "  inflating: Plants_2/train/Alstonia Scholaris diseased (P2a)/0014_0231.JPG  \n",
            "  inflating: Plants_2/train/Alstonia Scholaris diseased (P2a)/0014_0232.JPG  \n",
            "  inflating: Plants_2/train/Alstonia Scholaris diseased (P2a)/0014_0233.JPG  \n",
            "  inflating: Plants_2/train/Alstonia Scholaris diseased (P2a)/0014_0234.JPG  \n",
            "  inflating: Plants_2/train/Alstonia Scholaris diseased (P2a)/0014_0235.JPG  \n",
            "  inflating: Plants_2/train/Alstonia Scholaris diseased (P2a)/0014_0236.JPG  \n",
            "  inflating: Plants_2/train/Alstonia Scholaris diseased (P2a)/0014_0237.JPG  \n",
            "  inflating: Plants_2/train/Alstonia Scholaris diseased (P2a)/0014_0238.JPG  \n",
            "  inflating: Plants_2/train/Alstonia Scholaris diseased (P2a)/0014_0239.JPG  \n",
            "  inflating: Plants_2/train/Alstonia Scholaris diseased (P2a)/0014_0240.JPG  \n",
            "  inflating: Plants_2/train/Alstonia Scholaris diseased (P2a)/0014_0241.JPG  \n",
            "  inflating: Plants_2/train/Alstonia Scholaris diseased (P2a)/0014_0242.JPG  \n",
            "  inflating: Plants_2/train/Alstonia Scholaris diseased (P2a)/0014_0243.JPG  \n",
            "  inflating: Plants_2/train/Alstonia Scholaris diseased (P2a)/0014_0244.JPG  \n",
            "  inflating: Plants_2/train/Alstonia Scholaris diseased (P2a)/0014_0245.JPG  \n",
            "  inflating: Plants_2/train/Alstonia Scholaris diseased (P2a)/0014_0246.JPG  \n",
            "  inflating: Plants_2/train/Alstonia Scholaris diseased (P2a)/0014_0247.JPG  \n",
            "  inflating: Plants_2/train/Alstonia Scholaris diseased (P2a)/0014_0248.JPG  \n",
            "  inflating: Plants_2/train/Alstonia Scholaris diseased (P2a)/0014_0249.JPG  \n",
            "  inflating: Plants_2/train/Alstonia Scholaris diseased (P2a)/0014_0250.JPG  \n",
            "  inflating: Plants_2/train/Alstonia Scholaris diseased (P2a)/0014_0251.JPG  \n",
            "  inflating: Plants_2/train/Alstonia Scholaris diseased (P2a)/0014_0252.JPG  \n",
            "  inflating: Plants_2/train/Alstonia Scholaris diseased (P2a)/0014_0253.JPG  \n",
            "  inflating: Plants_2/train/Alstonia Scholaris diseased (P2a)/0014_0254.JPG  \n",
            "  inflating: Plants_2/train/Alstonia Scholaris healthy (P2b)/0003_0011.JPG  \n",
            "  inflating: Plants_2/train/Alstonia Scholaris healthy (P2b)/0003_0012.JPG  \n",
            "  inflating: Plants_2/train/Alstonia Scholaris healthy (P2b)/0003_0013.JPG  \n",
            "  inflating: Plants_2/train/Alstonia Scholaris healthy (P2b)/0003_0014.JPG  \n",
            "  inflating: Plants_2/train/Alstonia Scholaris healthy (P2b)/0003_0015.JPG  \n",
            "  inflating: Plants_2/train/Alstonia Scholaris healthy (P2b)/0003_0016.JPG  \n",
            "  inflating: Plants_2/train/Alstonia Scholaris healthy (P2b)/0003_0017.JPG  \n",
            "  inflating: Plants_2/train/Alstonia Scholaris healthy (P2b)/0003_0018.JPG  \n",
            "  inflating: Plants_2/train/Alstonia Scholaris healthy (P2b)/0003_0019.JPG  \n",
            "  inflating: Plants_2/train/Alstonia Scholaris healthy (P2b)/0003_0020.JPG  \n",
            "  inflating: Plants_2/train/Alstonia Scholaris healthy (P2b)/0003_0021.JPG  \n",
            "  inflating: Plants_2/train/Alstonia Scholaris healthy (P2b)/0003_0022.JPG  \n",
            "  inflating: Plants_2/train/Alstonia Scholaris healthy (P2b)/0003_0023.JPG  \n",
            "  inflating: Plants_2/train/Alstonia Scholaris healthy (P2b)/0003_0024.JPG  \n",
            "  inflating: Plants_2/train/Alstonia Scholaris healthy (P2b)/0003_0025.JPG  \n",
            "  inflating: Plants_2/train/Alstonia Scholaris healthy (P2b)/0003_0026.JPG  \n",
            "  inflating: Plants_2/train/Alstonia Scholaris healthy (P2b)/0003_0027.JPG  \n",
            "  inflating: Plants_2/train/Alstonia Scholaris healthy (P2b)/0003_0028.JPG  \n",
            "  inflating: Plants_2/train/Alstonia Scholaris healthy (P2b)/0003_0029.JPG  \n",
            "  inflating: Plants_2/train/Alstonia Scholaris healthy (P2b)/0003_0030.JPG  \n",
            "  inflating: Plants_2/train/Alstonia Scholaris healthy (P2b)/0003_0031.JPG  \n",
            "  inflating: Plants_2/train/Alstonia Scholaris healthy (P2b)/0003_0032.JPG  \n",
            "  inflating: Plants_2/train/Alstonia Scholaris healthy (P2b)/0003_0033.JPG  \n",
            "  inflating: Plants_2/train/Alstonia Scholaris healthy (P2b)/0003_0034.JPG  \n",
            "  inflating: Plants_2/train/Alstonia Scholaris healthy (P2b)/0003_0035.JPG  \n",
            "  inflating: Plants_2/train/Alstonia Scholaris healthy (P2b)/0003_0036.JPG  \n",
            "  inflating: Plants_2/train/Alstonia Scholaris healthy (P2b)/0003_0037.JPG  \n",
            "  inflating: Plants_2/train/Alstonia Scholaris healthy (P2b)/0003_0038.JPG  \n",
            "  inflating: Plants_2/train/Alstonia Scholaris healthy (P2b)/0003_0039.JPG  \n",
            "  inflating: Plants_2/train/Alstonia Scholaris healthy (P2b)/0003_0040.JPG  \n",
            "  inflating: Plants_2/train/Alstonia Scholaris healthy (P2b)/0003_0041.JPG  \n",
            "  inflating: Plants_2/train/Alstonia Scholaris healthy (P2b)/0003_0042.JPG  \n",
            "  inflating: Plants_2/train/Alstonia Scholaris healthy (P2b)/0003_0043.JPG  \n",
            "  inflating: Plants_2/train/Alstonia Scholaris healthy (P2b)/0003_0044.JPG  \n",
            "  inflating: Plants_2/train/Alstonia Scholaris healthy (P2b)/0003_0045.JPG  \n",
            "  inflating: Plants_2/train/Alstonia Scholaris healthy (P2b)/0003_0046.JPG  \n",
            "  inflating: Plants_2/train/Alstonia Scholaris healthy (P2b)/0003_0047.JPG  \n",
            "  inflating: Plants_2/train/Alstonia Scholaris healthy (P2b)/0003_0048.JPG  \n",
            "  inflating: Plants_2/train/Alstonia Scholaris healthy (P2b)/0003_0049.JPG  \n",
            "  inflating: Plants_2/train/Alstonia Scholaris healthy (P2b)/0003_0050.JPG  \n",
            "  inflating: Plants_2/train/Alstonia Scholaris healthy (P2b)/0003_0051.JPG  \n",
            "  inflating: Plants_2/train/Alstonia Scholaris healthy (P2b)/0003_0052.JPG  \n",
            "  inflating: Plants_2/train/Alstonia Scholaris healthy (P2b)/0003_0053.JPG  \n",
            "  inflating: Plants_2/train/Alstonia Scholaris healthy (P2b)/0003_0054.JPG  \n",
            "  inflating: Plants_2/train/Alstonia Scholaris healthy (P2b)/0003_0055.JPG  \n",
            "  inflating: Plants_2/train/Alstonia Scholaris healthy (P2b)/0003_0056.JPG  \n",
            "  inflating: Plants_2/train/Alstonia Scholaris healthy (P2b)/0003_0057.JPG  \n",
            "  inflating: Plants_2/train/Alstonia Scholaris healthy (P2b)/0003_0058.JPG  \n",
            "  inflating: Plants_2/train/Alstonia Scholaris healthy (P2b)/0003_0059.JPG  \n",
            "  inflating: Plants_2/train/Alstonia Scholaris healthy (P2b)/0003_0060.JPG  \n",
            "  inflating: Plants_2/train/Alstonia Scholaris healthy (P2b)/0003_0061.JPG  \n",
            "  inflating: Plants_2/train/Alstonia Scholaris healthy (P2b)/0003_0062.JPG  \n",
            "  inflating: Plants_2/train/Alstonia Scholaris healthy (P2b)/0003_0063.JPG  \n",
            "  inflating: Plants_2/train/Alstonia Scholaris healthy (P2b)/0003_0064.JPG  \n",
            "  inflating: Plants_2/train/Alstonia Scholaris healthy (P2b)/0003_0065.JPG  \n",
            "  inflating: Plants_2/train/Alstonia Scholaris healthy (P2b)/0003_0066.JPG  \n",
            "  inflating: Plants_2/train/Alstonia Scholaris healthy (P2b)/0003_0067.JPG  \n",
            "  inflating: Plants_2/train/Alstonia Scholaris healthy (P2b)/0003_0068.JPG  \n",
            "  inflating: Plants_2/train/Alstonia Scholaris healthy (P2b)/0003_0069.JPG  \n",
            "  inflating: Plants_2/train/Alstonia Scholaris healthy (P2b)/0003_0070.JPG  \n",
            "  inflating: Plants_2/train/Alstonia Scholaris healthy (P2b)/0003_0071.JPG  \n",
            "  inflating: Plants_2/train/Alstonia Scholaris healthy (P2b)/0003_0072.JPG  \n",
            "  inflating: Plants_2/train/Alstonia Scholaris healthy (P2b)/0003_0073.JPG  \n",
            "  inflating: Plants_2/train/Alstonia Scholaris healthy (P2b)/0003_0074.JPG  \n",
            "  inflating: Plants_2/train/Alstonia Scholaris healthy (P2b)/0003_0075.JPG  \n",
            "  inflating: Plants_2/train/Alstonia Scholaris healthy (P2b)/0003_0076.JPG  \n",
            "  inflating: Plants_2/train/Alstonia Scholaris healthy (P2b)/0003_0077.JPG  \n",
            "  inflating: Plants_2/train/Alstonia Scholaris healthy (P2b)/0003_0078.JPG  \n",
            "  inflating: Plants_2/train/Alstonia Scholaris healthy (P2b)/0003_0079.JPG  \n",
            "  inflating: Plants_2/train/Alstonia Scholaris healthy (P2b)/0003_0080.JPG  \n",
            "  inflating: Plants_2/train/Alstonia Scholaris healthy (P2b)/0003_0081.JPG  \n",
            "  inflating: Plants_2/train/Alstonia Scholaris healthy (P2b)/0003_0082.JPG  \n",
            "  inflating: Plants_2/train/Alstonia Scholaris healthy (P2b)/0003_0083.JPG  \n",
            "  inflating: Plants_2/train/Alstonia Scholaris healthy (P2b)/0003_0084.JPG  \n",
            "  inflating: Plants_2/train/Alstonia Scholaris healthy (P2b)/0003_0085.JPG  \n",
            "  inflating: Plants_2/train/Alstonia Scholaris healthy (P2b)/0003_0086.JPG  \n",
            "  inflating: Plants_2/train/Alstonia Scholaris healthy (P2b)/0003_0087.JPG  \n",
            "  inflating: Plants_2/train/Alstonia Scholaris healthy (P2b)/0003_0088.JPG  \n",
            "  inflating: Plants_2/train/Alstonia Scholaris healthy (P2b)/0003_0089.JPG  \n",
            "  inflating: Plants_2/train/Alstonia Scholaris healthy (P2b)/0003_0090.JPG  \n",
            "  inflating: Plants_2/train/Alstonia Scholaris healthy (P2b)/0003_0091.JPG  \n",
            "  inflating: Plants_2/train/Alstonia Scholaris healthy (P2b)/0003_0092.JPG  \n",
            "  inflating: Plants_2/train/Alstonia Scholaris healthy (P2b)/0003_0093.JPG  \n",
            "  inflating: Plants_2/train/Alstonia Scholaris healthy (P2b)/0003_0094.JPG  \n",
            "  inflating: Plants_2/train/Alstonia Scholaris healthy (P2b)/0003_0095.JPG  \n",
            "  inflating: Plants_2/train/Alstonia Scholaris healthy (P2b)/0003_0096.JPG  \n",
            "  inflating: Plants_2/train/Alstonia Scholaris healthy (P2b)/0003_0097.JPG  \n",
            "  inflating: Plants_2/train/Alstonia Scholaris healthy (P2b)/0003_0098.JPG  \n",
            "  inflating: Plants_2/train/Alstonia Scholaris healthy (P2b)/0003_0099.JPG  \n",
            "  inflating: Plants_2/train/Alstonia Scholaris healthy (P2b)/0003_0100.JPG  \n",
            "  inflating: Plants_2/train/Alstonia Scholaris healthy (P2b)/0003_0101.JPG  \n",
            "  inflating: Plants_2/train/Alstonia Scholaris healthy (P2b)/0003_0102.JPG  \n",
            "  inflating: Plants_2/train/Alstonia Scholaris healthy (P2b)/0003_0103.JPG  \n",
            "  inflating: Plants_2/train/Alstonia Scholaris healthy (P2b)/0003_0104.JPG  \n",
            "  inflating: Plants_2/train/Alstonia Scholaris healthy (P2b)/0003_0105.JPG  \n",
            "  inflating: Plants_2/train/Alstonia Scholaris healthy (P2b)/0003_0106.JPG  \n",
            "  inflating: Plants_2/train/Alstonia Scholaris healthy (P2b)/0003_0107.JPG  \n",
            "  inflating: Plants_2/train/Alstonia Scholaris healthy (P2b)/0003_0108.JPG  \n",
            "  inflating: Plants_2/train/Alstonia Scholaris healthy (P2b)/0003_0109.JPG  \n",
            "  inflating: Plants_2/train/Alstonia Scholaris healthy (P2b)/0003_0110.JPG  \n",
            "  inflating: Plants_2/train/Alstonia Scholaris healthy (P2b)/0003_0111.JPG  \n",
            "  inflating: Plants_2/train/Alstonia Scholaris healthy (P2b)/0003_0112.JPG  \n",
            "  inflating: Plants_2/train/Alstonia Scholaris healthy (P2b)/0003_0113.JPG  \n",
            "  inflating: Plants_2/train/Alstonia Scholaris healthy (P2b)/0003_0114.JPG  \n",
            "  inflating: Plants_2/train/Alstonia Scholaris healthy (P2b)/0003_0115.JPG  \n",
            "  inflating: Plants_2/train/Alstonia Scholaris healthy (P2b)/0003_0116.JPG  \n",
            "  inflating: Plants_2/train/Alstonia Scholaris healthy (P2b)/0003_0117.JPG  \n",
            "  inflating: Plants_2/train/Alstonia Scholaris healthy (P2b)/0003_0118.JPG  \n",
            "  inflating: Plants_2/train/Alstonia Scholaris healthy (P2b)/0003_0119.JPG  \n",
            "  inflating: Plants_2/train/Alstonia Scholaris healthy (P2b)/0003_0120.JPG  \n",
            "  inflating: Plants_2/train/Alstonia Scholaris healthy (P2b)/0003_0121.JPG  \n",
            "  inflating: Plants_2/train/Alstonia Scholaris healthy (P2b)/0003_0122.JPG  \n",
            "  inflating: Plants_2/train/Alstonia Scholaris healthy (P2b)/0003_0123.JPG  \n",
            "  inflating: Plants_2/train/Alstonia Scholaris healthy (P2b)/0003_0124.JPG  \n",
            "  inflating: Plants_2/train/Alstonia Scholaris healthy (P2b)/0003_0125.JPG  \n",
            "  inflating: Plants_2/train/Alstonia Scholaris healthy (P2b)/0003_0126.JPG  \n",
            "  inflating: Plants_2/train/Alstonia Scholaris healthy (P2b)/0003_0127.JPG  \n",
            "  inflating: Plants_2/train/Alstonia Scholaris healthy (P2b)/0003_0128.JPG  \n",
            "  inflating: Plants_2/train/Alstonia Scholaris healthy (P2b)/0003_0129.JPG  \n",
            "  inflating: Plants_2/train/Alstonia Scholaris healthy (P2b)/0003_0130.JPG  \n",
            "  inflating: Plants_2/train/Alstonia Scholaris healthy (P2b)/0003_0131.JPG  \n",
            "  inflating: Plants_2/train/Alstonia Scholaris healthy (P2b)/0003_0132.JPG  \n",
            "  inflating: Plants_2/train/Alstonia Scholaris healthy (P2b)/0003_0133.JPG  \n",
            "  inflating: Plants_2/train/Alstonia Scholaris healthy (P2b)/0003_0134.JPG  \n",
            "  inflating: Plants_2/train/Alstonia Scholaris healthy (P2b)/0003_0135.JPG  \n",
            "  inflating: Plants_2/train/Alstonia Scholaris healthy (P2b)/0003_0136.JPG  \n",
            "  inflating: Plants_2/train/Alstonia Scholaris healthy (P2b)/0003_0137.JPG  \n",
            "  inflating: Plants_2/train/Alstonia Scholaris healthy (P2b)/0003_0138.JPG  \n",
            "  inflating: Plants_2/train/Alstonia Scholaris healthy (P2b)/0003_0139.JPG  \n",
            "  inflating: Plants_2/train/Alstonia Scholaris healthy (P2b)/0003_0140.JPG  \n",
            "  inflating: Plants_2/train/Alstonia Scholaris healthy (P2b)/0003_0141.JPG  \n",
            "  inflating: Plants_2/train/Alstonia Scholaris healthy (P2b)/0003_0142.JPG  \n",
            "  inflating: Plants_2/train/Alstonia Scholaris healthy (P2b)/0003_0143.JPG  \n",
            "  inflating: Plants_2/train/Alstonia Scholaris healthy (P2b)/0003_0144.JPG  \n",
            "  inflating: Plants_2/train/Alstonia Scholaris healthy (P2b)/0003_0145.JPG  \n",
            "  inflating: Plants_2/train/Alstonia Scholaris healthy (P2b)/0003_0146.JPG  \n",
            "  inflating: Plants_2/train/Alstonia Scholaris healthy (P2b)/0003_0147.JPG  \n",
            "  inflating: Plants_2/train/Alstonia Scholaris healthy (P2b)/0003_0148.JPG  \n",
            "  inflating: Plants_2/train/Alstonia Scholaris healthy (P2b)/0003_0149.JPG  \n",
            "  inflating: Plants_2/train/Alstonia Scholaris healthy (P2b)/0003_0150.JPG  \n",
            "  inflating: Plants_2/train/Alstonia Scholaris healthy (P2b)/0003_0151.JPG  \n",
            "  inflating: Plants_2/train/Alstonia Scholaris healthy (P2b)/0003_0152.JPG  \n",
            "  inflating: Plants_2/train/Alstonia Scholaris healthy (P2b)/0003_0153.JPG  \n",
            "  inflating: Plants_2/train/Alstonia Scholaris healthy (P2b)/0003_0154.JPG  \n",
            "  inflating: Plants_2/train/Alstonia Scholaris healthy (P2b)/0003_0155.JPG  \n",
            "  inflating: Plants_2/train/Alstonia Scholaris healthy (P2b)/0003_0156.JPG  \n",
            "  inflating: Plants_2/train/Alstonia Scholaris healthy (P2b)/0003_0157.JPG  \n",
            "  inflating: Plants_2/train/Alstonia Scholaris healthy (P2b)/0003_0158.JPG  \n",
            "  inflating: Plants_2/train/Alstonia Scholaris healthy (P2b)/0003_0159.JPG  \n",
            "  inflating: Plants_2/train/Alstonia Scholaris healthy (P2b)/0003_0160.JPG  \n",
            "  inflating: Plants_2/train/Alstonia Scholaris healthy (P2b)/0003_0161.JPG  \n",
            "  inflating: Plants_2/train/Alstonia Scholaris healthy (P2b)/0003_0162.JPG  \n",
            "  inflating: Plants_2/train/Alstonia Scholaris healthy (P2b)/0003_0163.JPG  \n",
            "  inflating: Plants_2/train/Alstonia Scholaris healthy (P2b)/0003_0164.JPG  \n",
            "  inflating: Plants_2/train/Alstonia Scholaris healthy (P2b)/0003_0165.JPG  \n",
            "  inflating: Plants_2/train/Alstonia Scholaris healthy (P2b)/0003_0166.JPG  \n",
            "  inflating: Plants_2/train/Alstonia Scholaris healthy (P2b)/0003_0167.JPG  \n",
            "  inflating: Plants_2/train/Alstonia Scholaris healthy (P2b)/0003_0168.JPG  \n",
            "  inflating: Plants_2/train/Alstonia Scholaris healthy (P2b)/0003_0169.JPG  \n",
            "  inflating: Plants_2/train/Alstonia Scholaris healthy (P2b)/0003_0170.JPG  \n",
            "  inflating: Plants_2/train/Alstonia Scholaris healthy (P2b)/0003_0171.JPG  \n",
            "  inflating: Plants_2/train/Alstonia Scholaris healthy (P2b)/0003_0172.JPG  \n",
            "  inflating: Plants_2/train/Alstonia Scholaris healthy (P2b)/0003_0173.JPG  \n",
            "  inflating: Plants_2/train/Alstonia Scholaris healthy (P2b)/0003_0174.JPG  \n",
            "  inflating: Plants_2/train/Alstonia Scholaris healthy (P2b)/0003_0175.JPG  \n",
            "  inflating: Plants_2/train/Alstonia Scholaris healthy (P2b)/0003_0176.JPG  \n",
            "  inflating: Plants_2/train/Alstonia Scholaris healthy (P2b)/0003_0177.JPG  \n",
            "  inflating: Plants_2/train/Alstonia Scholaris healthy (P2b)/0003_0178.JPG  \n",
            "  inflating: Plants_2/train/Arjun diseased (P1a)/0013_0011.JPG  \n",
            "  inflating: Plants_2/train/Arjun diseased (P1a)/0013_0012.JPG  \n",
            "  inflating: Plants_2/train/Arjun diseased (P1a)/0013_0013.JPG  \n",
            "  inflating: Plants_2/train/Arjun diseased (P1a)/0013_0014.JPG  \n",
            "  inflating: Plants_2/train/Arjun diseased (P1a)/0013_0015.JPG  \n",
            "  inflating: Plants_2/train/Arjun diseased (P1a)/0013_0016.JPG  \n",
            "  inflating: Plants_2/train/Arjun diseased (P1a)/0013_0017.JPG  \n",
            "  inflating: Plants_2/train/Arjun diseased (P1a)/0013_0018.JPG  \n",
            "  inflating: Plants_2/train/Arjun diseased (P1a)/0013_0019.JPG  \n",
            "  inflating: Plants_2/train/Arjun diseased (P1a)/0013_0020.JPG  \n",
            "  inflating: Plants_2/train/Arjun diseased (P1a)/0013_0021.JPG  \n",
            "  inflating: Plants_2/train/Arjun diseased (P1a)/0013_0022.JPG  \n",
            "  inflating: Plants_2/train/Arjun diseased (P1a)/0013_0023.JPG  \n",
            "  inflating: Plants_2/train/Arjun diseased (P1a)/0013_0024.JPG  \n",
            "  inflating: Plants_2/train/Arjun diseased (P1a)/0013_0025.JPG  \n",
            "  inflating: Plants_2/train/Arjun diseased (P1a)/0013_0026.JPG  \n",
            "  inflating: Plants_2/train/Arjun diseased (P1a)/0013_0027.JPG  \n",
            "  inflating: Plants_2/train/Arjun diseased (P1a)/0013_0028.JPG  \n",
            "  inflating: Plants_2/train/Arjun diseased (P1a)/0013_0029.JPG  \n",
            "  inflating: Plants_2/train/Arjun diseased (P1a)/0013_0030.JPG  \n",
            "  inflating: Plants_2/train/Arjun diseased (P1a)/0013_0031.JPG  \n",
            "  inflating: Plants_2/train/Arjun diseased (P1a)/0013_0032.JPG  \n",
            "  inflating: Plants_2/train/Arjun diseased (P1a)/0013_0033.JPG  \n",
            "  inflating: Plants_2/train/Arjun diseased (P1a)/0013_0034.JPG  \n",
            "  inflating: Plants_2/train/Arjun diseased (P1a)/0013_0035.JPG  \n",
            "  inflating: Plants_2/train/Arjun diseased (P1a)/0013_0036.JPG  \n",
            "  inflating: Plants_2/train/Arjun diseased (P1a)/0013_0037.JPG  \n",
            "  inflating: Plants_2/train/Arjun diseased (P1a)/0013_0038.JPG  \n",
            "  inflating: Plants_2/train/Arjun diseased (P1a)/0013_0039.JPG  \n",
            "  inflating: Plants_2/train/Arjun diseased (P1a)/0013_0040.JPG  \n",
            "  inflating: Plants_2/train/Arjun diseased (P1a)/0013_0041.JPG  \n",
            "  inflating: Plants_2/train/Arjun diseased (P1a)/0013_0042.JPG  \n",
            "  inflating: Plants_2/train/Arjun diseased (P1a)/0013_0043.JPG  \n",
            "  inflating: Plants_2/train/Arjun diseased (P1a)/0013_0044.JPG  \n",
            "  inflating: Plants_2/train/Arjun diseased (P1a)/0013_0045.JPG  \n",
            "  inflating: Plants_2/train/Arjun diseased (P1a)/0013_0046.JPG  \n",
            "  inflating: Plants_2/train/Arjun diseased (P1a)/0013_0047.JPG  \n",
            "  inflating: Plants_2/train/Arjun diseased (P1a)/0013_0048.JPG  \n",
            "  inflating: Plants_2/train/Arjun diseased (P1a)/0013_0049.JPG  \n",
            "  inflating: Plants_2/train/Arjun diseased (P1a)/0013_0050.JPG  \n",
            "  inflating: Plants_2/train/Arjun diseased (P1a)/0013_0051.JPG  \n",
            "  inflating: Plants_2/train/Arjun diseased (P1a)/0013_0052.JPG  \n",
            "  inflating: Plants_2/train/Arjun diseased (P1a)/0013_0053.JPG  \n",
            "  inflating: Plants_2/train/Arjun diseased (P1a)/0013_0054.JPG  \n",
            "  inflating: Plants_2/train/Arjun diseased (P1a)/0013_0055.JPG  \n",
            "  inflating: Plants_2/train/Arjun diseased (P1a)/0013_0056.JPG  \n",
            "  inflating: Plants_2/train/Arjun diseased (P1a)/0013_0057.JPG  \n",
            "  inflating: Plants_2/train/Arjun diseased (P1a)/0013_0058.JPG  \n",
            "  inflating: Plants_2/train/Arjun diseased (P1a)/0013_0059.JPG  \n",
            "  inflating: Plants_2/train/Arjun diseased (P1a)/0013_0060.JPG  \n",
            "  inflating: Plants_2/train/Arjun diseased (P1a)/0013_0061.JPG  \n",
            "  inflating: Plants_2/train/Arjun diseased (P1a)/0013_0062.JPG  \n",
            "  inflating: Plants_2/train/Arjun diseased (P1a)/0013_0063.JPG  \n",
            "  inflating: Plants_2/train/Arjun diseased (P1a)/0013_0064.JPG  \n",
            "  inflating: Plants_2/train/Arjun diseased (P1a)/0013_0065.JPG  \n",
            "  inflating: Plants_2/train/Arjun diseased (P1a)/0013_0066.JPG  \n",
            "  inflating: Plants_2/train/Arjun diseased (P1a)/0013_0067.JPG  \n",
            "  inflating: Plants_2/train/Arjun diseased (P1a)/0013_0068.JPG  \n",
            "  inflating: Plants_2/train/Arjun diseased (P1a)/0013_0069.JPG  \n",
            "  inflating: Plants_2/train/Arjun diseased (P1a)/0013_0070.JPG  \n",
            "  inflating: Plants_2/train/Arjun diseased (P1a)/0013_0071.JPG  \n",
            "  inflating: Plants_2/train/Arjun diseased (P1a)/0013_0072.JPG  \n",
            "  inflating: Plants_2/train/Arjun diseased (P1a)/0013_0073.JPG  \n",
            "  inflating: Plants_2/train/Arjun diseased (P1a)/0013_0074.JPG  \n",
            "  inflating: Plants_2/train/Arjun diseased (P1a)/0013_0075.JPG  \n",
            "  inflating: Plants_2/train/Arjun diseased (P1a)/0013_0076.JPG  \n",
            "  inflating: Plants_2/train/Arjun diseased (P1a)/0013_0077.JPG  \n",
            "  inflating: Plants_2/train/Arjun diseased (P1a)/0013_0078.JPG  \n",
            "  inflating: Plants_2/train/Arjun diseased (P1a)/0013_0079.JPG  \n",
            "  inflating: Plants_2/train/Arjun diseased (P1a)/0013_0080.JPG  \n",
            "  inflating: Plants_2/train/Arjun diseased (P1a)/0013_0081.JPG  \n",
            "  inflating: Plants_2/train/Arjun diseased (P1a)/0013_0082.JPG  \n",
            "  inflating: Plants_2/train/Arjun diseased (P1a)/0013_0083.JPG  \n",
            "  inflating: Plants_2/train/Arjun diseased (P1a)/0013_0084.JPG  \n",
            "  inflating: Plants_2/train/Arjun diseased (P1a)/0013_0085.JPG  \n",
            "  inflating: Plants_2/train/Arjun diseased (P1a)/0013_0086.JPG  \n",
            "  inflating: Plants_2/train/Arjun diseased (P1a)/0013_0087.JPG  \n",
            "  inflating: Plants_2/train/Arjun diseased (P1a)/0013_0088.JPG  \n",
            "  inflating: Plants_2/train/Arjun diseased (P1a)/0013_0089.JPG  \n",
            "  inflating: Plants_2/train/Arjun diseased (P1a)/0013_0090.JPG  \n",
            "  inflating: Plants_2/train/Arjun diseased (P1a)/0013_0091.JPG  \n",
            "  inflating: Plants_2/train/Arjun diseased (P1a)/0013_0092.JPG  \n",
            "  inflating: Plants_2/train/Arjun diseased (P1a)/0013_0093.JPG  \n",
            "  inflating: Plants_2/train/Arjun diseased (P1a)/0013_0094.JPG  \n",
            "  inflating: Plants_2/train/Arjun diseased (P1a)/0013_0095.JPG  \n",
            "  inflating: Plants_2/train/Arjun diseased (P1a)/0013_0096.JPG  \n",
            "  inflating: Plants_2/train/Arjun diseased (P1a)/0013_0097.JPG  \n",
            "  inflating: Plants_2/train/Arjun diseased (P1a)/0013_0098.JPG  \n",
            "  inflating: Plants_2/train/Arjun diseased (P1a)/0013_0099.JPG  \n",
            "  inflating: Plants_2/train/Arjun diseased (P1a)/0013_0100.JPG  \n",
            "  inflating: Plants_2/train/Arjun diseased (P1a)/0013_0101.JPG  \n",
            "  inflating: Plants_2/train/Arjun diseased (P1a)/0013_0102.JPG  \n",
            "  inflating: Plants_2/train/Arjun diseased (P1a)/0013_0103.JPG  \n",
            "  inflating: Plants_2/train/Arjun diseased (P1a)/0013_0104.JPG  \n",
            "  inflating: Plants_2/train/Arjun diseased (P1a)/0013_0105.JPG  \n",
            "  inflating: Plants_2/train/Arjun diseased (P1a)/0013_0106.JPG  \n",
            "  inflating: Plants_2/train/Arjun diseased (P1a)/0013_0107.JPG  \n",
            "  inflating: Plants_2/train/Arjun diseased (P1a)/0013_0108.JPG  \n",
            "  inflating: Plants_2/train/Arjun diseased (P1a)/0013_0109.JPG  \n",
            "  inflating: Plants_2/train/Arjun diseased (P1a)/0013_0110.JPG  \n",
            "  inflating: Plants_2/train/Arjun diseased (P1a)/0013_0111.JPG  \n",
            "  inflating: Plants_2/train/Arjun diseased (P1a)/0013_0112.JPG  \n",
            "  inflating: Plants_2/train/Arjun diseased (P1a)/0013_0113.JPG  \n",
            "  inflating: Plants_2/train/Arjun diseased (P1a)/0013_0114.JPG  \n",
            "  inflating: Plants_2/train/Arjun diseased (P1a)/0013_0115.JPG  \n",
            "  inflating: Plants_2/train/Arjun diseased (P1a)/0013_0116.JPG  \n",
            "  inflating: Plants_2/train/Arjun diseased (P1a)/0013_0117.JPG  \n",
            "  inflating: Plants_2/train/Arjun diseased (P1a)/0013_0118.JPG  \n",
            "  inflating: Plants_2/train/Arjun diseased (P1a)/0013_0119.JPG  \n",
            "  inflating: Plants_2/train/Arjun diseased (P1a)/0013_0120.JPG  \n",
            "  inflating: Plants_2/train/Arjun diseased (P1a)/0013_0121.JPG  \n",
            "  inflating: Plants_2/train/Arjun diseased (P1a)/0013_0122.JPG  \n",
            "  inflating: Plants_2/train/Arjun diseased (P1a)/0013_0123.JPG  \n",
            "  inflating: Plants_2/train/Arjun diseased (P1a)/0013_0124.JPG  \n",
            "  inflating: Plants_2/train/Arjun diseased (P1a)/0013_0125.JPG  \n",
            "  inflating: Plants_2/train/Arjun diseased (P1a)/0013_0126.JPG  \n",
            "  inflating: Plants_2/train/Arjun diseased (P1a)/0013_0127.JPG  \n",
            "  inflating: Plants_2/train/Arjun diseased (P1a)/0013_0128.JPG  \n",
            "  inflating: Plants_2/train/Arjun diseased (P1a)/0013_0129.JPG  \n",
            "  inflating: Plants_2/train/Arjun diseased (P1a)/0013_0130.JPG  \n",
            "  inflating: Plants_2/train/Arjun diseased (P1a)/0013_0131.JPG  \n",
            "  inflating: Plants_2/train/Arjun diseased (P1a)/0013_0132.JPG  \n",
            "  inflating: Plants_2/train/Arjun diseased (P1a)/0013_0133.JPG  \n",
            "  inflating: Plants_2/train/Arjun diseased (P1a)/0013_0134.JPG  \n",
            "  inflating: Plants_2/train/Arjun diseased (P1a)/0013_0135.JPG  \n",
            "  inflating: Plants_2/train/Arjun diseased (P1a)/0013_0136.JPG  \n",
            "  inflating: Plants_2/train/Arjun diseased (P1a)/0013_0137.JPG  \n",
            "  inflating: Plants_2/train/Arjun diseased (P1a)/0013_0138.JPG  \n",
            "  inflating: Plants_2/train/Arjun diseased (P1a)/0013_0139.JPG  \n",
            "  inflating: Plants_2/train/Arjun diseased (P1a)/0013_0140.JPG  \n",
            "  inflating: Plants_2/train/Arjun diseased (P1a)/0013_0141.JPG  \n",
            "  inflating: Plants_2/train/Arjun diseased (P1a)/0013_0142.JPG  \n",
            "  inflating: Plants_2/train/Arjun diseased (P1a)/0013_0143.JPG  \n",
            "  inflating: Plants_2/train/Arjun diseased (P1a)/0013_0144.JPG  \n",
            "  inflating: Plants_2/train/Arjun diseased (P1a)/0013_0145.JPG  \n",
            "  inflating: Plants_2/train/Arjun diseased (P1a)/0013_0146.JPG  \n",
            "  inflating: Plants_2/train/Arjun diseased (P1a)/0013_0147.JPG  \n",
            "  inflating: Plants_2/train/Arjun diseased (P1a)/0013_0148.JPG  \n",
            "  inflating: Plants_2/train/Arjun diseased (P1a)/0013_0149.JPG  \n",
            "  inflating: Plants_2/train/Arjun diseased (P1a)/0013_0150.JPG  \n",
            "  inflating: Plants_2/train/Arjun diseased (P1a)/0013_0151.JPG  \n",
            "  inflating: Plants_2/train/Arjun diseased (P1a)/0013_0152.JPG  \n",
            "  inflating: Plants_2/train/Arjun diseased (P1a)/0013_0153.JPG  \n",
            "  inflating: Plants_2/train/Arjun diseased (P1a)/0013_0154.JPG  \n",
            "  inflating: Plants_2/train/Arjun diseased (P1a)/0013_0155.JPG  \n",
            "  inflating: Plants_2/train/Arjun diseased (P1a)/0013_0156.JPG  \n",
            "  inflating: Plants_2/train/Arjun diseased (P1a)/0013_0157.JPG  \n",
            "  inflating: Plants_2/train/Arjun diseased (P1a)/0013_0158.JPG  \n",
            "  inflating: Plants_2/train/Arjun diseased (P1a)/0013_0159.JPG  \n",
            "  inflating: Plants_2/train/Arjun diseased (P1a)/0013_0160.JPG  \n",
            "  inflating: Plants_2/train/Arjun diseased (P1a)/0013_0161.JPG  \n",
            "  inflating: Plants_2/train/Arjun diseased (P1a)/0013_0162.JPG  \n",
            "  inflating: Plants_2/train/Arjun diseased (P1a)/0013_0163.JPG  \n",
            "  inflating: Plants_2/train/Arjun diseased (P1a)/0013_0164.JPG  \n",
            "  inflating: Plants_2/train/Arjun diseased (P1a)/0013_0165.JPG  \n",
            "  inflating: Plants_2/train/Arjun diseased (P1a)/0013_0166.JPG  \n",
            "  inflating: Plants_2/train/Arjun diseased (P1a)/0013_0167.JPG  \n",
            "  inflating: Plants_2/train/Arjun diseased (P1a)/0013_0168.JPG  \n",
            "  inflating: Plants_2/train/Arjun diseased (P1a)/0013_0169.JPG  \n",
            "  inflating: Plants_2/train/Arjun diseased (P1a)/0013_0170.JPG  \n",
            "  inflating: Plants_2/train/Arjun diseased (P1a)/0013_0171.JPG  \n",
            "  inflating: Plants_2/train/Arjun diseased (P1a)/0013_0172.JPG  \n",
            "  inflating: Plants_2/train/Arjun diseased (P1a)/0013_0173.JPG  \n",
            "  inflating: Plants_2/train/Arjun diseased (P1a)/0013_0174.JPG  \n",
            "  inflating: Plants_2/train/Arjun diseased (P1a)/0013_0175.JPG  \n",
            "  inflating: Plants_2/train/Arjun diseased (P1a)/0013_0176.JPG  \n",
            "  inflating: Plants_2/train/Arjun diseased (P1a)/0013_0177.JPG  \n",
            "  inflating: Plants_2/train/Arjun diseased (P1a)/0013_0178.JPG  \n",
            "  inflating: Plants_2/train/Arjun diseased (P1a)/0013_0179.JPG  \n",
            "  inflating: Plants_2/train/Arjun diseased (P1a)/0013_0180.JPG  \n",
            "  inflating: Plants_2/train/Arjun diseased (P1a)/0013_0181.JPG  \n",
            "  inflating: Plants_2/train/Arjun diseased (P1a)/0013_0182.JPG  \n",
            "  inflating: Plants_2/train/Arjun diseased (P1a)/0013_0183.JPG  \n",
            "  inflating: Plants_2/train/Arjun diseased (P1a)/0013_0184.JPG  \n",
            "  inflating: Plants_2/train/Arjun diseased (P1a)/0013_0185.JPG  \n",
            "  inflating: Plants_2/train/Arjun diseased (P1a)/0013_0186.JPG  \n",
            "  inflating: Plants_2/train/Arjun diseased (P1a)/0013_0187.JPG  \n",
            "  inflating: Plants_2/train/Arjun diseased (P1a)/0013_0188.JPG  \n",
            "  inflating: Plants_2/train/Arjun diseased (P1a)/0013_0189.JPG  \n",
            "  inflating: Plants_2/train/Arjun diseased (P1a)/0013_0190.JPG  \n",
            "  inflating: Plants_2/train/Arjun diseased (P1a)/0013_0191.JPG  \n",
            "  inflating: Plants_2/train/Arjun diseased (P1a)/0013_0192.JPG  \n",
            "  inflating: Plants_2/train/Arjun diseased (P1a)/0013_0193.JPG  \n",
            "  inflating: Plants_2/train/Arjun diseased (P1a)/0013_0194.JPG  \n",
            "  inflating: Plants_2/train/Arjun diseased (P1a)/0013_0195.JPG  \n",
            "  inflating: Plants_2/train/Arjun diseased (P1a)/0013_0196.JPG  \n",
            "  inflating: Plants_2/train/Arjun diseased (P1a)/0013_0197.JPG  \n",
            "  inflating: Plants_2/train/Arjun diseased (P1a)/0013_0198.JPG  \n",
            "  inflating: Plants_2/train/Arjun diseased (P1a)/0013_0199.JPG  \n",
            "  inflating: Plants_2/train/Arjun diseased (P1a)/0013_0200.JPG  \n",
            "  inflating: Plants_2/train/Arjun diseased (P1a)/0013_0201.JPG  \n",
            "  inflating: Plants_2/train/Arjun diseased (P1a)/0013_0202.JPG  \n",
            "  inflating: Plants_2/train/Arjun diseased (P1a)/0013_0203.JPG  \n",
            "  inflating: Plants_2/train/Arjun diseased (P1a)/0013_0204.JPG  \n",
            "  inflating: Plants_2/train/Arjun diseased (P1a)/0013_0205.JPG  \n",
            "  inflating: Plants_2/train/Arjun diseased (P1a)/0013_0206.JPG  \n",
            "  inflating: Plants_2/train/Arjun diseased (P1a)/0013_0207.JPG  \n",
            "  inflating: Plants_2/train/Arjun diseased (P1a)/0013_0208.JPG  \n",
            "  inflating: Plants_2/train/Arjun diseased (P1a)/0013_0209.JPG  \n",
            "  inflating: Plants_2/train/Arjun diseased (P1a)/0013_0210.JPG  \n",
            "  inflating: Plants_2/train/Arjun diseased (P1a)/0013_0211.JPG  \n",
            "  inflating: Plants_2/train/Arjun diseased (P1a)/0013_0212.JPG  \n",
            "  inflating: Plants_2/train/Arjun diseased (P1a)/0013_0213.JPG  \n",
            "  inflating: Plants_2/train/Arjun diseased (P1a)/0013_0214.JPG  \n",
            "  inflating: Plants_2/train/Arjun diseased (P1a)/0013_0215.JPG  \n",
            "  inflating: Plants_2/train/Arjun diseased (P1a)/0013_0216.JPG  \n",
            "  inflating: Plants_2/train/Arjun diseased (P1a)/0013_0217.JPG  \n",
            "  inflating: Plants_2/train/Arjun diseased (P1a)/0013_0218.JPG  \n",
            "  inflating: Plants_2/train/Arjun diseased (P1a)/0013_0219.JPG  \n",
            "  inflating: Plants_2/train/Arjun diseased (P1a)/0013_0220.JPG  \n",
            "  inflating: Plants_2/train/Arjun diseased (P1a)/0013_0221.JPG  \n",
            "  inflating: Plants_2/train/Arjun diseased (P1a)/0013_0222.JPG  \n",
            "  inflating: Plants_2/train/Arjun diseased (P1a)/0013_0223.JPG  \n",
            "  inflating: Plants_2/train/Arjun diseased (P1a)/0013_0224.JPG  \n",
            "  inflating: Plants_2/train/Arjun diseased (P1a)/0013_0225.JPG  \n",
            "  inflating: Plants_2/train/Arjun diseased (P1a)/0013_0226.JPG  \n",
            "  inflating: Plants_2/train/Arjun diseased (P1a)/0013_0227.JPG  \n",
            "  inflating: Plants_2/train/Arjun diseased (P1a)/0013_0228.JPG  \n",
            "  inflating: Plants_2/train/Arjun diseased (P1a)/0013_0229.JPG  \n",
            "  inflating: Plants_2/train/Arjun diseased (P1a)/0013_0230.JPG  \n",
            "  inflating: Plants_2/train/Arjun diseased (P1a)/0013_0231.JPG  \n",
            "  inflating: Plants_2/train/Arjun diseased (P1a)/0013_0232.JPG  \n",
            "  inflating: Plants_2/train/Arjun healthy (P1b)/0002_0011.JPG  \n",
            "  inflating: Plants_2/train/Arjun healthy (P1b)/0002_0012.JPG  \n",
            "  inflating: Plants_2/train/Arjun healthy (P1b)/0002_0013.JPG  \n",
            "  inflating: Plants_2/train/Arjun healthy (P1b)/0002_0014.JPG  \n",
            "  inflating: Plants_2/train/Arjun healthy (P1b)/0002_0015.JPG  \n",
            "  inflating: Plants_2/train/Arjun healthy (P1b)/0002_0016.JPG  \n",
            "  inflating: Plants_2/train/Arjun healthy (P1b)/0002_0017.JPG  \n",
            "  inflating: Plants_2/train/Arjun healthy (P1b)/0002_0018.JPG  \n",
            "  inflating: Plants_2/train/Arjun healthy (P1b)/0002_0019.JPG  \n",
            "  inflating: Plants_2/train/Arjun healthy (P1b)/0002_0020.JPG  \n",
            "  inflating: Plants_2/train/Arjun healthy (P1b)/0002_0021.JPG  \n",
            "  inflating: Plants_2/train/Arjun healthy (P1b)/0002_0022.JPG  \n",
            "  inflating: Plants_2/train/Arjun healthy (P1b)/0002_0023.JPG  \n",
            "  inflating: Plants_2/train/Arjun healthy (P1b)/0002_0024.JPG  \n",
            "  inflating: Plants_2/train/Arjun healthy (P1b)/0002_0025.JPG  \n",
            "  inflating: Plants_2/train/Arjun healthy (P1b)/0002_0026.JPG  \n",
            "  inflating: Plants_2/train/Arjun healthy (P1b)/0002_0027.JPG  \n",
            "  inflating: Plants_2/train/Arjun healthy (P1b)/0002_0028.JPG  \n",
            "  inflating: Plants_2/train/Arjun healthy (P1b)/0002_0029.JPG  \n",
            "  inflating: Plants_2/train/Arjun healthy (P1b)/0002_0030.JPG  \n",
            "  inflating: Plants_2/train/Arjun healthy (P1b)/0002_0031.JPG  \n",
            "  inflating: Plants_2/train/Arjun healthy (P1b)/0002_0032.JPG  \n",
            "  inflating: Plants_2/train/Arjun healthy (P1b)/0002_0033.JPG  \n",
            "  inflating: Plants_2/train/Arjun healthy (P1b)/0002_0034.JPG  \n",
            "  inflating: Plants_2/train/Arjun healthy (P1b)/0002_0035.JPG  \n",
            "  inflating: Plants_2/train/Arjun healthy (P1b)/0002_0036.JPG  \n",
            "  inflating: Plants_2/train/Arjun healthy (P1b)/0002_0037.JPG  \n",
            "  inflating: Plants_2/train/Arjun healthy (P1b)/0002_0038.JPG  \n",
            "  inflating: Plants_2/train/Arjun healthy (P1b)/0002_0039.JPG  \n",
            "  inflating: Plants_2/train/Arjun healthy (P1b)/0002_0040.JPG  \n",
            "  inflating: Plants_2/train/Arjun healthy (P1b)/0002_0041.JPG  \n",
            "  inflating: Plants_2/train/Arjun healthy (P1b)/0002_0042.JPG  \n",
            "  inflating: Plants_2/train/Arjun healthy (P1b)/0002_0043.JPG  \n",
            "  inflating: Plants_2/train/Arjun healthy (P1b)/0002_0044.JPG  \n",
            "  inflating: Plants_2/train/Arjun healthy (P1b)/0002_0045.JPG  \n",
            "  inflating: Plants_2/train/Arjun healthy (P1b)/0002_0046.JPG  \n",
            "  inflating: Plants_2/train/Arjun healthy (P1b)/0002_0047.JPG  \n",
            "  inflating: Plants_2/train/Arjun healthy (P1b)/0002_0048.JPG  \n",
            "  inflating: Plants_2/train/Arjun healthy (P1b)/0002_0049.JPG  \n",
            "  inflating: Plants_2/train/Arjun healthy (P1b)/0002_0050.JPG  \n",
            "  inflating: Plants_2/train/Arjun healthy (P1b)/0002_0051.JPG  \n",
            "  inflating: Plants_2/train/Arjun healthy (P1b)/0002_0052.JPG  \n",
            "  inflating: Plants_2/train/Arjun healthy (P1b)/0002_0053.JPG  \n",
            "  inflating: Plants_2/train/Arjun healthy (P1b)/0002_0054.JPG  \n",
            "  inflating: Plants_2/train/Arjun healthy (P1b)/0002_0055.JPG  \n",
            "  inflating: Plants_2/train/Arjun healthy (P1b)/0002_0056.JPG  \n",
            "  inflating: Plants_2/train/Arjun healthy (P1b)/0002_0057.JPG  \n",
            "  inflating: Plants_2/train/Arjun healthy (P1b)/0002_0058.JPG  \n",
            "  inflating: Plants_2/train/Arjun healthy (P1b)/0002_0059.JPG  \n",
            "  inflating: Plants_2/train/Arjun healthy (P1b)/0002_0060.JPG  \n",
            "  inflating: Plants_2/train/Arjun healthy (P1b)/0002_0061.JPG  \n",
            "  inflating: Plants_2/train/Arjun healthy (P1b)/0002_0062.JPG  \n",
            "  inflating: Plants_2/train/Arjun healthy (P1b)/0002_0063.JPG  \n",
            "  inflating: Plants_2/train/Arjun healthy (P1b)/0002_0064.JPG  \n",
            "  inflating: Plants_2/train/Arjun healthy (P1b)/0002_0065.JPG  \n",
            "  inflating: Plants_2/train/Arjun healthy (P1b)/0002_0066.JPG  \n",
            "  inflating: Plants_2/train/Arjun healthy (P1b)/0002_0067.JPG  \n",
            "  inflating: Plants_2/train/Arjun healthy (P1b)/0002_0068.JPG  \n",
            "  inflating: Plants_2/train/Arjun healthy (P1b)/0002_0069.JPG  \n",
            "  inflating: Plants_2/train/Arjun healthy (P1b)/0002_0070.JPG  \n",
            "  inflating: Plants_2/train/Arjun healthy (P1b)/0002_0071.JPG  \n",
            "  inflating: Plants_2/train/Arjun healthy (P1b)/0002_0072.JPG  \n",
            "  inflating: Plants_2/train/Arjun healthy (P1b)/0002_0073.JPG  \n",
            "  inflating: Plants_2/train/Arjun healthy (P1b)/0002_0074.JPG  \n",
            "  inflating: Plants_2/train/Arjun healthy (P1b)/0002_0075.JPG  \n",
            "  inflating: Plants_2/train/Arjun healthy (P1b)/0002_0076.JPG  \n",
            "  inflating: Plants_2/train/Arjun healthy (P1b)/0002_0077.JPG  \n",
            "  inflating: Plants_2/train/Arjun healthy (P1b)/0002_0078.JPG  \n",
            "  inflating: Plants_2/train/Arjun healthy (P1b)/0002_0079.JPG  \n",
            "  inflating: Plants_2/train/Arjun healthy (P1b)/0002_0080.JPG  \n",
            "  inflating: Plants_2/train/Arjun healthy (P1b)/0002_0081.JPG  \n",
            "  inflating: Plants_2/train/Arjun healthy (P1b)/0002_0082.JPG  \n",
            "  inflating: Plants_2/train/Arjun healthy (P1b)/0002_0083.JPG  \n",
            "  inflating: Plants_2/train/Arjun healthy (P1b)/0002_0084.JPG  \n",
            "  inflating: Plants_2/train/Arjun healthy (P1b)/0002_0085.JPG  \n",
            "  inflating: Plants_2/train/Arjun healthy (P1b)/0002_0086.JPG  \n",
            "  inflating: Plants_2/train/Arjun healthy (P1b)/0002_0087.JPG  \n",
            "  inflating: Plants_2/train/Arjun healthy (P1b)/0002_0088.JPG  \n",
            "  inflating: Plants_2/train/Arjun healthy (P1b)/0002_0089.JPG  \n",
            "  inflating: Plants_2/train/Arjun healthy (P1b)/0002_0090.JPG  \n",
            "  inflating: Plants_2/train/Arjun healthy (P1b)/0002_0091.JPG  \n",
            "  inflating: Plants_2/train/Arjun healthy (P1b)/0002_0092.JPG  \n",
            "  inflating: Plants_2/train/Arjun healthy (P1b)/0002_0093.JPG  \n",
            "  inflating: Plants_2/train/Arjun healthy (P1b)/0002_0094.JPG  \n",
            "  inflating: Plants_2/train/Arjun healthy (P1b)/0002_0095.JPG  \n",
            "  inflating: Plants_2/train/Arjun healthy (P1b)/0002_0096.JPG  \n",
            "  inflating: Plants_2/train/Arjun healthy (P1b)/0002_0097.JPG  \n",
            "  inflating: Plants_2/train/Arjun healthy (P1b)/0002_0098.JPG  \n",
            "  inflating: Plants_2/train/Arjun healthy (P1b)/0002_0099.JPG  \n",
            "  inflating: Plants_2/train/Arjun healthy (P1b)/0002_0100.JPG  \n",
            "  inflating: Plants_2/train/Arjun healthy (P1b)/0002_0101.JPG  \n",
            "  inflating: Plants_2/train/Arjun healthy (P1b)/0002_0102.JPG  \n",
            "  inflating: Plants_2/train/Arjun healthy (P1b)/0002_0103.JPG  \n",
            "  inflating: Plants_2/train/Arjun healthy (P1b)/0002_0104.JPG  \n",
            "  inflating: Plants_2/train/Arjun healthy (P1b)/0002_0105.JPG  \n",
            "  inflating: Plants_2/train/Arjun healthy (P1b)/0002_0106.JPG  \n",
            "  inflating: Plants_2/train/Arjun healthy (P1b)/0002_0107.JPG  \n",
            "  inflating: Plants_2/train/Arjun healthy (P1b)/0002_0108.JPG  \n",
            "  inflating: Plants_2/train/Arjun healthy (P1b)/0002_0109.JPG  \n",
            "  inflating: Plants_2/train/Arjun healthy (P1b)/0002_0110.JPG  \n",
            "  inflating: Plants_2/train/Arjun healthy (P1b)/0002_0111.JPG  \n",
            "  inflating: Plants_2/train/Arjun healthy (P1b)/0002_0112.JPG  \n",
            "  inflating: Plants_2/train/Arjun healthy (P1b)/0002_0113.JPG  \n",
            "  inflating: Plants_2/train/Arjun healthy (P1b)/0002_0114.JPG  \n",
            "  inflating: Plants_2/train/Arjun healthy (P1b)/0002_0115.JPG  \n",
            "  inflating: Plants_2/train/Arjun healthy (P1b)/0002_0116.JPG  \n",
            "  inflating: Plants_2/train/Arjun healthy (P1b)/0002_0117.JPG  \n",
            "  inflating: Plants_2/train/Arjun healthy (P1b)/0002_0118.JPG  \n",
            "  inflating: Plants_2/train/Arjun healthy (P1b)/0002_0119.JPG  \n",
            "  inflating: Plants_2/train/Arjun healthy (P1b)/0002_0120.JPG  \n",
            "  inflating: Plants_2/train/Arjun healthy (P1b)/0002_0121.JPG  \n",
            "  inflating: Plants_2/train/Arjun healthy (P1b)/0002_0122.JPG  \n",
            "  inflating: Plants_2/train/Arjun healthy (P1b)/0002_0123.JPG  \n",
            "  inflating: Plants_2/train/Arjun healthy (P1b)/0002_0124.JPG  \n",
            "  inflating: Plants_2/train/Arjun healthy (P1b)/0002_0125.JPG  \n",
            "  inflating: Plants_2/train/Arjun healthy (P1b)/0002_0126.JPG  \n",
            "  inflating: Plants_2/train/Arjun healthy (P1b)/0002_0127.JPG  \n",
            "  inflating: Plants_2/train/Arjun healthy (P1b)/0002_0128.JPG  \n",
            "  inflating: Plants_2/train/Arjun healthy (P1b)/0002_0129.JPG  \n",
            "  inflating: Plants_2/train/Arjun healthy (P1b)/0002_0130.JPG  \n",
            "  inflating: Plants_2/train/Arjun healthy (P1b)/0002_0131.JPG  \n",
            "  inflating: Plants_2/train/Arjun healthy (P1b)/0002_0132.JPG  \n",
            "  inflating: Plants_2/train/Arjun healthy (P1b)/0002_0133.JPG  \n",
            "  inflating: Plants_2/train/Arjun healthy (P1b)/0002_0134.JPG  \n",
            "  inflating: Plants_2/train/Arjun healthy (P1b)/0002_0135.JPG  \n",
            "  inflating: Plants_2/train/Arjun healthy (P1b)/0002_0136.JPG  \n",
            "  inflating: Plants_2/train/Arjun healthy (P1b)/0002_0137.JPG  \n",
            "  inflating: Plants_2/train/Arjun healthy (P1b)/0002_0138.JPG  \n",
            "  inflating: Plants_2/train/Arjun healthy (P1b)/0002_0139.JPG  \n",
            "  inflating: Plants_2/train/Arjun healthy (P1b)/0002_0140.JPG  \n",
            "  inflating: Plants_2/train/Arjun healthy (P1b)/0002_0141.JPG  \n",
            "  inflating: Plants_2/train/Arjun healthy (P1b)/0002_0142.JPG  \n",
            "  inflating: Plants_2/train/Arjun healthy (P1b)/0002_0143.JPG  \n",
            "  inflating: Plants_2/train/Arjun healthy (P1b)/0002_0144.JPG  \n",
            "  inflating: Plants_2/train/Arjun healthy (P1b)/0002_0145.JPG  \n",
            "  inflating: Plants_2/train/Arjun healthy (P1b)/0002_0146.JPG  \n",
            "  inflating: Plants_2/train/Arjun healthy (P1b)/0002_0147.JPG  \n",
            "  inflating: Plants_2/train/Arjun healthy (P1b)/0002_0148.JPG  \n",
            "  inflating: Plants_2/train/Arjun healthy (P1b)/0002_0149.JPG  \n",
            "  inflating: Plants_2/train/Arjun healthy (P1b)/0002_0150.JPG  \n",
            "  inflating: Plants_2/train/Arjun healthy (P1b)/0002_0151.JPG  \n",
            "  inflating: Plants_2/train/Arjun healthy (P1b)/0002_0152.JPG  \n",
            "  inflating: Plants_2/train/Arjun healthy (P1b)/0002_0153.JPG  \n",
            "  inflating: Plants_2/train/Arjun healthy (P1b)/0002_0154.JPG  \n",
            "  inflating: Plants_2/train/Arjun healthy (P1b)/0002_0155.JPG  \n",
            "  inflating: Plants_2/train/Arjun healthy (P1b)/0002_0156.JPG  \n",
            "  inflating: Plants_2/train/Arjun healthy (P1b)/0002_0157.JPG  \n",
            "  inflating: Plants_2/train/Arjun healthy (P1b)/0002_0158.JPG  \n",
            "  inflating: Plants_2/train/Arjun healthy (P1b)/0002_0159.JPG  \n",
            "  inflating: Plants_2/train/Arjun healthy (P1b)/0002_0160.JPG  \n",
            "  inflating: Plants_2/train/Arjun healthy (P1b)/0002_0161.JPG  \n",
            "  inflating: Plants_2/train/Arjun healthy (P1b)/0002_0162.JPG  \n",
            "  inflating: Plants_2/train/Arjun healthy (P1b)/0002_0163.JPG  \n",
            "  inflating: Plants_2/train/Arjun healthy (P1b)/0002_0164.JPG  \n",
            "  inflating: Plants_2/train/Arjun healthy (P1b)/0002_0165.JPG  \n",
            "  inflating: Plants_2/train/Arjun healthy (P1b)/0002_0166.JPG  \n",
            "  inflating: Plants_2/train/Arjun healthy (P1b)/0002_0167.JPG  \n",
            "  inflating: Plants_2/train/Arjun healthy (P1b)/0002_0168.JPG  \n",
            "  inflating: Plants_2/train/Arjun healthy (P1b)/0002_0169.JPG  \n",
            "  inflating: Plants_2/train/Arjun healthy (P1b)/0002_0170.JPG  \n",
            "  inflating: Plants_2/train/Arjun healthy (P1b)/0002_0171.JPG  \n",
            "  inflating: Plants_2/train/Arjun healthy (P1b)/0002_0172.JPG  \n",
            "  inflating: Plants_2/train/Arjun healthy (P1b)/0002_0173.JPG  \n",
            "  inflating: Plants_2/train/Arjun healthy (P1b)/0002_0174.JPG  \n",
            "  inflating: Plants_2/train/Arjun healthy (P1b)/0002_0175.JPG  \n",
            "  inflating: Plants_2/train/Arjun healthy (P1b)/0002_0176.JPG  \n",
            "  inflating: Plants_2/train/Arjun healthy (P1b)/0002_0177.JPG  \n",
            "  inflating: Plants_2/train/Arjun healthy (P1b)/0002_0178.JPG  \n",
            "  inflating: Plants_2/train/Arjun healthy (P1b)/0002_0179.JPG  \n",
            "  inflating: Plants_2/train/Arjun healthy (P1b)/0002_0180.JPG  \n",
            "  inflating: Plants_2/train/Arjun healthy (P1b)/0002_0181.JPG  \n",
            "  inflating: Plants_2/train/Arjun healthy (P1b)/0002_0182.JPG  \n",
            "  inflating: Plants_2/train/Arjun healthy (P1b)/0002_0183.JPG  \n",
            "  inflating: Plants_2/train/Arjun healthy (P1b)/0002_0184.JPG  \n",
            "  inflating: Plants_2/train/Arjun healthy (P1b)/0002_0185.JPG  \n",
            "  inflating: Plants_2/train/Arjun healthy (P1b)/0002_0186.JPG  \n",
            "  inflating: Plants_2/train/Arjun healthy (P1b)/0002_0187.JPG  \n",
            "  inflating: Plants_2/train/Arjun healthy (P1b)/0002_0188.JPG  \n",
            "  inflating: Plants_2/train/Arjun healthy (P1b)/0002_0189.JPG  \n",
            "  inflating: Plants_2/train/Arjun healthy (P1b)/0002_0190.JPG  \n",
            "  inflating: Plants_2/train/Arjun healthy (P1b)/0002_0191.JPG  \n",
            "  inflating: Plants_2/train/Arjun healthy (P1b)/0002_0192.JPG  \n",
            "  inflating: Plants_2/train/Arjun healthy (P1b)/0002_0193.JPG  \n",
            "  inflating: Plants_2/train/Arjun healthy (P1b)/0002_0194.JPG  \n",
            "  inflating: Plants_2/train/Arjun healthy (P1b)/0002_0195.JPG  \n",
            "  inflating: Plants_2/train/Arjun healthy (P1b)/0002_0196.JPG  \n",
            "  inflating: Plants_2/train/Arjun healthy (P1b)/0002_0197.JPG  \n",
            "  inflating: Plants_2/train/Arjun healthy (P1b)/0002_0198.JPG  \n",
            "  inflating: Plants_2/train/Arjun healthy (P1b)/0002_0199.JPG  \n",
            "  inflating: Plants_2/train/Arjun healthy (P1b)/0002_0200.JPG  \n",
            "  inflating: Plants_2/train/Arjun healthy (P1b)/0002_0201.JPG  \n",
            "  inflating: Plants_2/train/Arjun healthy (P1b)/0002_0202.JPG  \n",
            "  inflating: Plants_2/train/Arjun healthy (P1b)/0002_0203.JPG  \n",
            "  inflating: Plants_2/train/Arjun healthy (P1b)/0002_0204.JPG  \n",
            "  inflating: Plants_2/train/Arjun healthy (P1b)/0002_0205.JPG  \n",
            "  inflating: Plants_2/train/Arjun healthy (P1b)/0002_0206.JPG  \n",
            "  inflating: Plants_2/train/Arjun healthy (P1b)/0002_0207.JPG  \n",
            "  inflating: Plants_2/train/Arjun healthy (P1b)/0002_0208.JPG  \n",
            "  inflating: Plants_2/train/Arjun healthy (P1b)/0002_0209.JPG  \n",
            "  inflating: Plants_2/train/Arjun healthy (P1b)/0002_0210.JPG  \n",
            "  inflating: Plants_2/train/Arjun healthy (P1b)/0002_0211.JPG  \n",
            "  inflating: Plants_2/train/Arjun healthy (P1b)/0002_0212.JPG  \n",
            "  inflating: Plants_2/train/Arjun healthy (P1b)/0002_0213.JPG  \n",
            "  inflating: Plants_2/train/Arjun healthy (P1b)/0002_0214.JPG  \n",
            "  inflating: Plants_2/train/Arjun healthy (P1b)/0002_0215.JPG  \n",
            "  inflating: Plants_2/train/Arjun healthy (P1b)/0002_0216.JPG  \n",
            "  inflating: Plants_2/train/Arjun healthy (P1b)/0002_0217.JPG  \n",
            "  inflating: Plants_2/train/Arjun healthy (P1b)/0002_0218.JPG  \n",
            "  inflating: Plants_2/train/Arjun healthy (P1b)/0002_0219.JPG  \n",
            "  inflating: Plants_2/train/Arjun healthy (P1b)/0002_0220.JPG  \n",
            "  inflating: Plants_2/train/Bael diseased (P4b)/0016_0011.JPG  \n",
            "  inflating: Plants_2/train/Bael diseased (P4b)/0016_0012.JPG  \n",
            "  inflating: Plants_2/train/Bael diseased (P4b)/0016_0013.JPG  \n",
            "  inflating: Plants_2/train/Bael diseased (P4b)/0016_0014.JPG  \n",
            "  inflating: Plants_2/train/Bael diseased (P4b)/0016_0015.JPG  \n",
            "  inflating: Plants_2/train/Bael diseased (P4b)/0016_0016.JPG  \n",
            "  inflating: Plants_2/train/Bael diseased (P4b)/0016_0017.JPG  \n",
            "  inflating: Plants_2/train/Bael diseased (P4b)/0016_0018.JPG  \n",
            "  inflating: Plants_2/train/Bael diseased (P4b)/0016_0019.JPG  \n",
            "  inflating: Plants_2/train/Bael diseased (P4b)/0016_0020.JPG  \n",
            "  inflating: Plants_2/train/Bael diseased (P4b)/0016_0021.JPG  \n",
            "  inflating: Plants_2/train/Bael diseased (P4b)/0016_0022.JPG  \n",
            "  inflating: Plants_2/train/Bael diseased (P4b)/0016_0023.JPG  \n",
            "  inflating: Plants_2/train/Bael diseased (P4b)/0016_0024.JPG  \n",
            "  inflating: Plants_2/train/Bael diseased (P4b)/0016_0025.JPG  \n",
            "  inflating: Plants_2/train/Bael diseased (P4b)/0016_0026.JPG  \n",
            "  inflating: Plants_2/train/Bael diseased (P4b)/0016_0027.JPG  \n",
            "  inflating: Plants_2/train/Bael diseased (P4b)/0016_0028.JPG  \n",
            "  inflating: Plants_2/train/Bael diseased (P4b)/0016_0029.JPG  \n",
            "  inflating: Plants_2/train/Bael diseased (P4b)/0016_0030.JPG  \n",
            "  inflating: Plants_2/train/Bael diseased (P4b)/0016_0031.JPG  \n",
            "  inflating: Plants_2/train/Bael diseased (P4b)/0016_0032.JPG  \n",
            "  inflating: Plants_2/train/Bael diseased (P4b)/0016_0033.JPG  \n",
            "  inflating: Plants_2/train/Bael diseased (P4b)/0016_0034.JPG  \n",
            "  inflating: Plants_2/train/Bael diseased (P4b)/0016_0035.JPG  \n",
            "  inflating: Plants_2/train/Bael diseased (P4b)/0016_0036.JPG  \n",
            "  inflating: Plants_2/train/Bael diseased (P4b)/0016_0037.JPG  \n",
            "  inflating: Plants_2/train/Bael diseased (P4b)/0016_0038.JPG  \n",
            "  inflating: Plants_2/train/Bael diseased (P4b)/0016_0039.JPG  \n",
            "  inflating: Plants_2/train/Bael diseased (P4b)/0016_0040.JPG  \n",
            "  inflating: Plants_2/train/Bael diseased (P4b)/0016_0041.JPG  \n",
            "  inflating: Plants_2/train/Bael diseased (P4b)/0016_0042.JPG  \n",
            "  inflating: Plants_2/train/Bael diseased (P4b)/0016_0043.JPG  \n",
            "  inflating: Plants_2/train/Bael diseased (P4b)/0016_0044.JPG  \n",
            "  inflating: Plants_2/train/Bael diseased (P4b)/0016_0045.JPG  \n",
            "  inflating: Plants_2/train/Bael diseased (P4b)/0016_0046.JPG  \n",
            "  inflating: Plants_2/train/Bael diseased (P4b)/0016_0047.JPG  \n",
            "  inflating: Plants_2/train/Bael diseased (P4b)/0016_0048.JPG  \n",
            "  inflating: Plants_2/train/Bael diseased (P4b)/0016_0049.JPG  \n",
            "  inflating: Plants_2/train/Bael diseased (P4b)/0016_0050.JPG  \n",
            "  inflating: Plants_2/train/Bael diseased (P4b)/0016_0051.JPG  \n",
            "  inflating: Plants_2/train/Bael diseased (P4b)/0016_0052.JPG  \n",
            "  inflating: Plants_2/train/Bael diseased (P4b)/0016_0053.JPG  \n",
            "  inflating: Plants_2/train/Bael diseased (P4b)/0016_0054.JPG  \n",
            "  inflating: Plants_2/train/Bael diseased (P4b)/0016_0055.JPG  \n",
            "  inflating: Plants_2/train/Bael diseased (P4b)/0016_0056.JPG  \n",
            "  inflating: Plants_2/train/Bael diseased (P4b)/0016_0057.JPG  \n",
            "  inflating: Plants_2/train/Bael diseased (P4b)/0016_0058.JPG  \n",
            "  inflating: Plants_2/train/Bael diseased (P4b)/0016_0059.JPG  \n",
            "  inflating: Plants_2/train/Bael diseased (P4b)/0016_0060.JPG  \n",
            "  inflating: Plants_2/train/Bael diseased (P4b)/0016_0061.JPG  \n",
            "  inflating: Plants_2/train/Bael diseased (P4b)/0016_0062.JPG  \n",
            "  inflating: Plants_2/train/Bael diseased (P4b)/0016_0063.JPG  \n",
            "  inflating: Plants_2/train/Bael diseased (P4b)/0016_0064.JPG  \n",
            "  inflating: Plants_2/train/Bael diseased (P4b)/0016_0065.JPG  \n",
            "  inflating: Plants_2/train/Bael diseased (P4b)/0016_0066.JPG  \n",
            "  inflating: Plants_2/train/Bael diseased (P4b)/0016_0067.JPG  \n",
            "  inflating: Plants_2/train/Bael diseased (P4b)/0016_0068.JPG  \n",
            "  inflating: Plants_2/train/Bael diseased (P4b)/0016_0069.JPG  \n",
            "  inflating: Plants_2/train/Bael diseased (P4b)/0016_0070.JPG  \n",
            "  inflating: Plants_2/train/Bael diseased (P4b)/0016_0071.JPG  \n",
            "  inflating: Plants_2/train/Bael diseased (P4b)/0016_0072.JPG  \n",
            "  inflating: Plants_2/train/Bael diseased (P4b)/0016_0073.JPG  \n",
            "  inflating: Plants_2/train/Bael diseased (P4b)/0016_0074.JPG  \n",
            "  inflating: Plants_2/train/Bael diseased (P4b)/0016_0075.JPG  \n",
            "  inflating: Plants_2/train/Bael diseased (P4b)/0016_0076.JPG  \n",
            "  inflating: Plants_2/train/Bael diseased (P4b)/0016_0077.JPG  \n",
            "  inflating: Plants_2/train/Bael diseased (P4b)/0016_0078.JPG  \n",
            "  inflating: Plants_2/train/Bael diseased (P4b)/0016_0079.JPG  \n",
            "  inflating: Plants_2/train/Bael diseased (P4b)/0016_0080.JPG  \n",
            "  inflating: Plants_2/train/Bael diseased (P4b)/0016_0081.JPG  \n",
            "  inflating: Plants_2/train/Bael diseased (P4b)/0016_0082.JPG  \n",
            "  inflating: Plants_2/train/Bael diseased (P4b)/0016_0083.JPG  \n",
            "  inflating: Plants_2/train/Bael diseased (P4b)/0016_0084.JPG  \n",
            "  inflating: Plants_2/train/Bael diseased (P4b)/0016_0085.JPG  \n",
            "  inflating: Plants_2/train/Bael diseased (P4b)/0016_0086.JPG  \n",
            "  inflating: Plants_2/train/Bael diseased (P4b)/0016_0087.JPG  \n",
            "  inflating: Plants_2/train/Bael diseased (P4b)/0016_0088.JPG  \n",
            "  inflating: Plants_2/train/Bael diseased (P4b)/0016_0089.JPG  \n",
            "  inflating: Plants_2/train/Bael diseased (P4b)/0016_0090.JPG  \n",
            "  inflating: Plants_2/train/Bael diseased (P4b)/0016_0091.JPG  \n",
            "  inflating: Plants_2/train/Bael diseased (P4b)/0016_0092.JPG  \n",
            "  inflating: Plants_2/train/Bael diseased (P4b)/0016_0093.JPG  \n",
            "  inflating: Plants_2/train/Bael diseased (P4b)/0016_0094.JPG  \n",
            "  inflating: Plants_2/train/Bael diseased (P4b)/0016_0095.JPG  \n",
            "  inflating: Plants_2/train/Bael diseased (P4b)/0016_0096.JPG  \n",
            "  inflating: Plants_2/train/Bael diseased (P4b)/0016_0097.JPG  \n",
            "  inflating: Plants_2/train/Bael diseased (P4b)/0016_0098.JPG  \n",
            "  inflating: Plants_2/train/Bael diseased (P4b)/0016_0099.JPG  \n",
            "  inflating: Plants_2/train/Bael diseased (P4b)/0016_0100.JPG  \n",
            "  inflating: Plants_2/train/Bael diseased (P4b)/0016_0101.JPG  \n",
            "  inflating: Plants_2/train/Bael diseased (P4b)/0016_0102.JPG  \n",
            "  inflating: Plants_2/train/Bael diseased (P4b)/0016_0103.JPG  \n",
            "  inflating: Plants_2/train/Bael diseased (P4b)/0016_0104.JPG  \n",
            "  inflating: Plants_2/train/Bael diseased (P4b)/0016_0105.JPG  \n",
            "  inflating: Plants_2/train/Bael diseased (P4b)/0016_0106.JPG  \n",
            "  inflating: Plants_2/train/Bael diseased (P4b)/0016_0107.JPG  \n",
            "  inflating: Plants_2/train/Bael diseased (P4b)/0016_0108.JPG  \n",
            "  inflating: Plants_2/train/Bael diseased (P4b)/0016_0109.JPG  \n",
            "  inflating: Plants_2/train/Bael diseased (P4b)/0016_0110.JPG  \n",
            "  inflating: Plants_2/train/Bael diseased (P4b)/0016_0111.JPG  \n",
            "  inflating: Plants_2/train/Bael diseased (P4b)/0016_0112.JPG  \n",
            "  inflating: Plants_2/train/Bael diseased (P4b)/0016_0113.JPG  \n",
            "  inflating: Plants_2/train/Bael diseased (P4b)/0016_0114.JPG  \n",
            "  inflating: Plants_2/train/Bael diseased (P4b)/0016_0115.JPG  \n",
            "  inflating: Plants_2/train/Bael diseased (P4b)/0016_0116.JPG  \n",
            "  inflating: Plants_2/train/Bael diseased (P4b)/0016_0117.JPG  \n",
            "  inflating: Plants_2/train/Basil healthy (P8)/0008_0011.JPG  \n",
            "  inflating: Plants_2/train/Basil healthy (P8)/0008_0012.JPG  \n",
            "  inflating: Plants_2/train/Basil healthy (P8)/0008_0013.JPG  \n",
            "  inflating: Plants_2/train/Basil healthy (P8)/0008_0014.JPG  \n",
            "  inflating: Plants_2/train/Basil healthy (P8)/0008_0015.JPG  \n",
            "  inflating: Plants_2/train/Basil healthy (P8)/0008_0016.JPG  \n",
            "  inflating: Plants_2/train/Basil healthy (P8)/0008_0017.JPG  \n",
            "  inflating: Plants_2/train/Basil healthy (P8)/0008_0018.JPG  \n",
            "  inflating: Plants_2/train/Basil healthy (P8)/0008_0019.JPG  \n",
            "  inflating: Plants_2/train/Basil healthy (P8)/0008_0020.JPG  \n",
            "  inflating: Plants_2/train/Basil healthy (P8)/0008_0021.JPG  \n",
            "  inflating: Plants_2/train/Basil healthy (P8)/0008_0022.JPG  \n",
            "  inflating: Plants_2/train/Basil healthy (P8)/0008_0023.JPG  \n",
            "  inflating: Plants_2/train/Basil healthy (P8)/0008_0024.JPG  \n",
            "  inflating: Plants_2/train/Basil healthy (P8)/0008_0025.JPG  \n",
            "  inflating: Plants_2/train/Basil healthy (P8)/0008_0026.JPG  \n",
            "  inflating: Plants_2/train/Basil healthy (P8)/0008_0027.JPG  \n",
            "  inflating: Plants_2/train/Basil healthy (P8)/0008_0028.JPG  \n",
            "  inflating: Plants_2/train/Basil healthy (P8)/0008_0029.JPG  \n",
            "  inflating: Plants_2/train/Basil healthy (P8)/0008_0030.JPG  \n",
            "  inflating: Plants_2/train/Basil healthy (P8)/0008_0031.JPG  \n",
            "  inflating: Plants_2/train/Basil healthy (P8)/0008_0032.JPG  \n",
            "  inflating: Plants_2/train/Basil healthy (P8)/0008_0033.JPG  \n",
            "  inflating: Plants_2/train/Basil healthy (P8)/0008_0034.JPG  \n",
            "  inflating: Plants_2/train/Basil healthy (P8)/0008_0035.JPG  \n",
            "  inflating: Plants_2/train/Basil healthy (P8)/0008_0036.JPG  \n",
            "  inflating: Plants_2/train/Basil healthy (P8)/0008_0037.JPG  \n",
            "  inflating: Plants_2/train/Basil healthy (P8)/0008_0038.JPG  \n",
            "  inflating: Plants_2/train/Basil healthy (P8)/0008_0039.JPG  \n",
            "  inflating: Plants_2/train/Basil healthy (P8)/0008_0040.JPG  \n",
            "  inflating: Plants_2/train/Basil healthy (P8)/0008_0041.JPG  \n",
            "  inflating: Plants_2/train/Basil healthy (P8)/0008_0042.JPG  \n",
            "  inflating: Plants_2/train/Basil healthy (P8)/0008_0043.JPG  \n",
            "  inflating: Plants_2/train/Basil healthy (P8)/0008_0044.JPG  \n",
            "  inflating: Plants_2/train/Basil healthy (P8)/0008_0045.JPG  \n",
            "  inflating: Plants_2/train/Basil healthy (P8)/0008_0046.JPG  \n",
            "  inflating: Plants_2/train/Basil healthy (P8)/0008_0047.JPG  \n",
            "  inflating: Plants_2/train/Basil healthy (P8)/0008_0048.JPG  \n",
            "  inflating: Plants_2/train/Basil healthy (P8)/0008_0049.JPG  \n",
            "  inflating: Plants_2/train/Basil healthy (P8)/0008_0050.JPG  \n",
            "  inflating: Plants_2/train/Basil healthy (P8)/0008_0051.JPG  \n",
            "  inflating: Plants_2/train/Basil healthy (P8)/0008_0052.JPG  \n",
            "  inflating: Plants_2/train/Basil healthy (P8)/0008_0053.JPG  \n",
            "  inflating: Plants_2/train/Basil healthy (P8)/0008_0054.JPG  \n",
            "  inflating: Plants_2/train/Basil healthy (P8)/0008_0055.JPG  \n",
            "  inflating: Plants_2/train/Basil healthy (P8)/0008_0056.JPG  \n",
            "  inflating: Plants_2/train/Basil healthy (P8)/0008_0057.JPG  \n",
            "  inflating: Plants_2/train/Basil healthy (P8)/0008_0058.JPG  \n",
            "  inflating: Plants_2/train/Basil healthy (P8)/0008_0059.JPG  \n",
            "  inflating: Plants_2/train/Basil healthy (P8)/0008_0060.JPG  \n",
            "  inflating: Plants_2/train/Basil healthy (P8)/0008_0061.JPG  \n",
            "  inflating: Plants_2/train/Basil healthy (P8)/0008_0062.JPG  \n",
            "  inflating: Plants_2/train/Basil healthy (P8)/0008_0063.JPG  \n",
            "  inflating: Plants_2/train/Basil healthy (P8)/0008_0064.JPG  \n",
            "  inflating: Plants_2/train/Basil healthy (P8)/0008_0065.JPG  \n",
            "  inflating: Plants_2/train/Basil healthy (P8)/0008_0066.JPG  \n",
            "  inflating: Plants_2/train/Basil healthy (P8)/0008_0067.JPG  \n",
            "  inflating: Plants_2/train/Basil healthy (P8)/0008_0068.JPG  \n",
            "  inflating: Plants_2/train/Basil healthy (P8)/0008_0069.JPG  \n",
            "  inflating: Plants_2/train/Basil healthy (P8)/0008_0070.JPG  \n",
            "  inflating: Plants_2/train/Basil healthy (P8)/0008_0071.JPG  \n",
            "  inflating: Plants_2/train/Basil healthy (P8)/0008_0072.JPG  \n",
            "  inflating: Plants_2/train/Basil healthy (P8)/0008_0073.JPG  \n",
            "  inflating: Plants_2/train/Basil healthy (P8)/0008_0074.JPG  \n",
            "  inflating: Plants_2/train/Basil healthy (P8)/0008_0075.JPG  \n",
            "  inflating: Plants_2/train/Basil healthy (P8)/0008_0076.JPG  \n",
            "  inflating: Plants_2/train/Basil healthy (P8)/0008_0077.JPG  \n",
            "  inflating: Plants_2/train/Basil healthy (P8)/0008_0078.JPG  \n",
            "  inflating: Plants_2/train/Basil healthy (P8)/0008_0079.JPG  \n",
            "  inflating: Plants_2/train/Basil healthy (P8)/0008_0080.JPG  \n",
            "  inflating: Plants_2/train/Basil healthy (P8)/0008_0081.JPG  \n",
            "  inflating: Plants_2/train/Basil healthy (P8)/0008_0082.JPG  \n",
            "  inflating: Plants_2/train/Basil healthy (P8)/0008_0083.JPG  \n",
            "  inflating: Plants_2/train/Basil healthy (P8)/0008_0084.JPG  \n",
            "  inflating: Plants_2/train/Basil healthy (P8)/0008_0085.JPG  \n",
            "  inflating: Plants_2/train/Basil healthy (P8)/0008_0086.JPG  \n",
            "  inflating: Plants_2/train/Basil healthy (P8)/0008_0087.JPG  \n",
            "  inflating: Plants_2/train/Basil healthy (P8)/0008_0088.JPG  \n",
            "  inflating: Plants_2/train/Basil healthy (P8)/0008_0089.JPG  \n",
            "  inflating: Plants_2/train/Basil healthy (P8)/0008_0090.JPG  \n",
            "  inflating: Plants_2/train/Basil healthy (P8)/0008_0091.JPG  \n",
            "  inflating: Plants_2/train/Basil healthy (P8)/0008_0092.JPG  \n",
            "  inflating: Plants_2/train/Basil healthy (P8)/0008_0093.JPG  \n",
            "  inflating: Plants_2/train/Basil healthy (P8)/0008_0094.JPG  \n",
            "  inflating: Plants_2/train/Basil healthy (P8)/0008_0095.JPG  \n",
            "  inflating: Plants_2/train/Basil healthy (P8)/0008_0096.JPG  \n",
            "  inflating: Plants_2/train/Basil healthy (P8)/0008_0097.JPG  \n",
            "  inflating: Plants_2/train/Basil healthy (P8)/0008_0098.JPG  \n",
            "  inflating: Plants_2/train/Basil healthy (P8)/0008_0099.JPG  \n",
            "  inflating: Plants_2/train/Basil healthy (P8)/0008_0100.JPG  \n",
            "  inflating: Plants_2/train/Basil healthy (P8)/0008_0101.JPG  \n",
            "  inflating: Plants_2/train/Basil healthy (P8)/0008_0102.JPG  \n",
            "  inflating: Plants_2/train/Basil healthy (P8)/0008_0103.JPG  \n",
            "  inflating: Plants_2/train/Basil healthy (P8)/0008_0104.JPG  \n",
            "  inflating: Plants_2/train/Basil healthy (P8)/0008_0105.JPG  \n",
            "  inflating: Plants_2/train/Basil healthy (P8)/0008_0106.JPG  \n",
            "  inflating: Plants_2/train/Basil healthy (P8)/0008_0107.JPG  \n",
            "  inflating: Plants_2/train/Basil healthy (P8)/0008_0108.JPG  \n",
            "  inflating: Plants_2/train/Basil healthy (P8)/0008_0109.JPG  \n",
            "  inflating: Plants_2/train/Basil healthy (P8)/0008_0110.JPG  \n",
            "  inflating: Plants_2/train/Basil healthy (P8)/0008_0111.JPG  \n",
            "  inflating: Plants_2/train/Basil healthy (P8)/0008_0112.JPG  \n",
            "  inflating: Plants_2/train/Basil healthy (P8)/0008_0113.JPG  \n",
            "  inflating: Plants_2/train/Basil healthy (P8)/0008_0114.JPG  \n",
            "  inflating: Plants_2/train/Basil healthy (P8)/0008_0115.JPG  \n",
            "  inflating: Plants_2/train/Basil healthy (P8)/0008_0116.JPG  \n",
            "  inflating: Plants_2/train/Basil healthy (P8)/0008_0117.JPG  \n",
            "  inflating: Plants_2/train/Basil healthy (P8)/0008_0118.JPG  \n",
            "  inflating: Plants_2/train/Basil healthy (P8)/0008_0119.JPG  \n",
            "  inflating: Plants_2/train/Basil healthy (P8)/0008_0120.JPG  \n",
            "  inflating: Plants_2/train/Basil healthy (P8)/0008_0121.JPG  \n",
            "  inflating: Plants_2/train/Basil healthy (P8)/0008_0122.JPG  \n",
            "  inflating: Plants_2/train/Basil healthy (P8)/0008_0123.JPG  \n",
            "  inflating: Plants_2/train/Basil healthy (P8)/0008_0124.JPG  \n",
            "  inflating: Plants_2/train/Basil healthy (P8)/0008_0125.JPG  \n",
            "  inflating: Plants_2/train/Basil healthy (P8)/0008_0126.JPG  \n",
            "  inflating: Plants_2/train/Basil healthy (P8)/0008_0127.JPG  \n",
            "  inflating: Plants_2/train/Basil healthy (P8)/0008_0128.JPG  \n",
            "  inflating: Plants_2/train/Basil healthy (P8)/0008_0129.JPG  \n",
            "  inflating: Plants_2/train/Basil healthy (P8)/0008_0130.JPG  \n",
            "  inflating: Plants_2/train/Basil healthy (P8)/0008_0131.JPG  \n",
            "  inflating: Plants_2/train/Basil healthy (P8)/0008_0132.JPG  \n",
            "  inflating: Plants_2/train/Basil healthy (P8)/0008_0133.JPG  \n",
            "  inflating: Plants_2/train/Basil healthy (P8)/0008_0134.JPG  \n",
            "  inflating: Plants_2/train/Basil healthy (P8)/0008_0135.JPG  \n",
            "  inflating: Plants_2/train/Basil healthy (P8)/0008_0136.JPG  \n",
            "  inflating: Plants_2/train/Basil healthy (P8)/0008_0137.JPG  \n",
            "  inflating: Plants_2/train/Basil healthy (P8)/0008_0138.JPG  \n",
            "  inflating: Plants_2/train/Basil healthy (P8)/0008_0139.JPG  \n",
            "  inflating: Plants_2/train/Basil healthy (P8)/0008_0140.JPG  \n",
            "  inflating: Plants_2/train/Basil healthy (P8)/0008_0141.JPG  \n",
            "  inflating: Plants_2/train/Basil healthy (P8)/0008_0142.JPG  \n",
            "  inflating: Plants_2/train/Basil healthy (P8)/0008_0143.JPG  \n",
            "  inflating: Plants_2/train/Basil healthy (P8)/0008_0144.JPG  \n",
            "  inflating: Plants_2/train/Basil healthy (P8)/0008_0145.JPG  \n",
            "  inflating: Plants_2/train/Basil healthy (P8)/0008_0146.JPG  \n",
            "  inflating: Plants_2/train/Basil healthy (P8)/0008_0147.JPG  \n",
            "  inflating: Plants_2/train/Chinar diseased (P11b)/0022_0011.JPG  \n",
            "  inflating: Plants_2/train/Chinar diseased (P11b)/0022_0012.JPG  \n",
            "  inflating: Plants_2/train/Chinar diseased (P11b)/0022_0013.JPG  \n",
            "  inflating: Plants_2/train/Chinar diseased (P11b)/0022_0014.JPG  \n",
            "  inflating: Plants_2/train/Chinar diseased (P11b)/0022_0015.JPG  \n",
            "  inflating: Plants_2/train/Chinar diseased (P11b)/0022_0016.JPG  \n",
            "  inflating: Plants_2/train/Chinar diseased (P11b)/0022_0017.JPG  \n",
            "  inflating: Plants_2/train/Chinar diseased (P11b)/0022_0018.JPG  \n",
            "  inflating: Plants_2/train/Chinar diseased (P11b)/0022_0019.JPG  \n",
            "  inflating: Plants_2/train/Chinar diseased (P11b)/0022_0020.JPG  \n",
            "  inflating: Plants_2/train/Chinar diseased (P11b)/0022_0021.JPG  \n",
            "  inflating: Plants_2/train/Chinar diseased (P11b)/0022_0022.JPG  \n",
            "  inflating: Plants_2/train/Chinar diseased (P11b)/0022_0023.JPG  \n",
            "  inflating: Plants_2/train/Chinar diseased (P11b)/0022_0024.JPG  \n",
            "  inflating: Plants_2/train/Chinar diseased (P11b)/0022_0025.JPG  \n",
            "  inflating: Plants_2/train/Chinar diseased (P11b)/0022_0026.JPG  \n",
            "  inflating: Plants_2/train/Chinar diseased (P11b)/0022_0027.JPG  \n",
            "  inflating: Plants_2/train/Chinar diseased (P11b)/0022_0028.JPG  \n",
            "  inflating: Plants_2/train/Chinar diseased (P11b)/0022_0029.JPG  \n",
            "  inflating: Plants_2/train/Chinar diseased (P11b)/0022_0030.JPG  \n",
            "  inflating: Plants_2/train/Chinar diseased (P11b)/0022_0031.JPG  \n",
            "  inflating: Plants_2/train/Chinar diseased (P11b)/0022_0032.JPG  \n",
            "  inflating: Plants_2/train/Chinar diseased (P11b)/0022_0033.JPG  \n",
            "  inflating: Plants_2/train/Chinar diseased (P11b)/0022_0034.JPG  \n",
            "  inflating: Plants_2/train/Chinar diseased (P11b)/0022_0035.JPG  \n",
            "  inflating: Plants_2/train/Chinar diseased (P11b)/0022_0036.JPG  \n",
            "  inflating: Plants_2/train/Chinar diseased (P11b)/0022_0037.JPG  \n",
            "  inflating: Plants_2/train/Chinar diseased (P11b)/0022_0038.JPG  \n",
            "  inflating: Plants_2/train/Chinar diseased (P11b)/0022_0039.JPG  \n",
            "  inflating: Plants_2/train/Chinar diseased (P11b)/0022_0040.JPG  \n",
            "  inflating: Plants_2/train/Chinar diseased (P11b)/0022_0041.JPG  \n",
            "  inflating: Plants_2/train/Chinar diseased (P11b)/0022_0042.JPG  \n",
            "  inflating: Plants_2/train/Chinar diseased (P11b)/0022_0043.JPG  \n",
            "  inflating: Plants_2/train/Chinar diseased (P11b)/0022_0044.JPG  \n",
            "  inflating: Plants_2/train/Chinar diseased (P11b)/0022_0045.JPG  \n",
            "  inflating: Plants_2/train/Chinar diseased (P11b)/0022_0046.JPG  \n",
            "  inflating: Plants_2/train/Chinar diseased (P11b)/0022_0047.JPG  \n",
            "  inflating: Plants_2/train/Chinar diseased (P11b)/0022_0048.JPG  \n",
            "  inflating: Plants_2/train/Chinar diseased (P11b)/0022_0049.JPG  \n",
            "  inflating: Plants_2/train/Chinar diseased (P11b)/0022_0050.JPG  \n",
            "  inflating: Plants_2/train/Chinar diseased (P11b)/0022_0051.JPG  \n",
            "  inflating: Plants_2/train/Chinar diseased (P11b)/0022_0052.JPG  \n",
            "  inflating: Plants_2/train/Chinar diseased (P11b)/0022_0053.JPG  \n",
            "  inflating: Plants_2/train/Chinar diseased (P11b)/0022_0054.JPG  \n",
            "  inflating: Plants_2/train/Chinar diseased (P11b)/0022_0055.JPG  \n",
            "  inflating: Plants_2/train/Chinar diseased (P11b)/0022_0056.JPG  \n",
            "  inflating: Plants_2/train/Chinar diseased (P11b)/0022_0057.JPG  \n",
            "  inflating: Plants_2/train/Chinar diseased (P11b)/0022_0058.JPG  \n",
            "  inflating: Plants_2/train/Chinar diseased (P11b)/0022_0059.JPG  \n",
            "  inflating: Plants_2/train/Chinar diseased (P11b)/0022_0060.JPG  \n",
            "  inflating: Plants_2/train/Chinar diseased (P11b)/0022_0061.JPG  \n",
            "  inflating: Plants_2/train/Chinar diseased (P11b)/0022_0062.JPG  \n",
            "  inflating: Plants_2/train/Chinar diseased (P11b)/0022_0063.JPG  \n",
            "  inflating: Plants_2/train/Chinar diseased (P11b)/0022_0064.JPG  \n",
            "  inflating: Plants_2/train/Chinar diseased (P11b)/0022_0065.JPG  \n",
            "  inflating: Plants_2/train/Chinar diseased (P11b)/0022_0066.JPG  \n",
            "  inflating: Plants_2/train/Chinar diseased (P11b)/0022_0067.JPG  \n",
            "  inflating: Plants_2/train/Chinar diseased (P11b)/0022_0068.JPG  \n",
            "  inflating: Plants_2/train/Chinar diseased (P11b)/0022_0069.JPG  \n",
            "  inflating: Plants_2/train/Chinar diseased (P11b)/0022_0070.JPG  \n",
            "  inflating: Plants_2/train/Chinar diseased (P11b)/0022_0071.JPG  \n",
            "  inflating: Plants_2/train/Chinar diseased (P11b)/0022_0072.JPG  \n",
            "  inflating: Plants_2/train/Chinar diseased (P11b)/0022_0073.JPG  \n",
            "  inflating: Plants_2/train/Chinar diseased (P11b)/0022_0074.JPG  \n",
            "  inflating: Plants_2/train/Chinar diseased (P11b)/0022_0075.JPG  \n",
            "  inflating: Plants_2/train/Chinar diseased (P11b)/0022_0076.JPG  \n",
            "  inflating: Plants_2/train/Chinar diseased (P11b)/0022_0077.JPG  \n",
            "  inflating: Plants_2/train/Chinar diseased (P11b)/0022_0078.JPG  \n",
            "  inflating: Plants_2/train/Chinar diseased (P11b)/0022_0079.JPG  \n",
            "  inflating: Plants_2/train/Chinar diseased (P11b)/0022_0080.JPG  \n",
            "  inflating: Plants_2/train/Chinar diseased (P11b)/0022_0081.JPG  \n",
            "  inflating: Plants_2/train/Chinar diseased (P11b)/0022_0082.JPG  \n",
            "  inflating: Plants_2/train/Chinar diseased (P11b)/0022_0083.JPG  \n",
            "  inflating: Plants_2/train/Chinar diseased (P11b)/0022_0084.JPG  \n",
            "  inflating: Plants_2/train/Chinar diseased (P11b)/0022_0085.JPG  \n",
            "  inflating: Plants_2/train/Chinar diseased (P11b)/0022_0086.JPG  \n",
            "  inflating: Plants_2/train/Chinar diseased (P11b)/0022_0087.JPG  \n",
            "  inflating: Plants_2/train/Chinar diseased (P11b)/0022_0088.JPG  \n",
            "  inflating: Plants_2/train/Chinar diseased (P11b)/0022_0089.JPG  \n",
            "  inflating: Plants_2/train/Chinar diseased (P11b)/0022_0090.JPG  \n",
            "  inflating: Plants_2/train/Chinar diseased (P11b)/0022_0091.JPG  \n",
            "  inflating: Plants_2/train/Chinar diseased (P11b)/0022_0092.JPG  \n",
            "  inflating: Plants_2/train/Chinar diseased (P11b)/0022_0093.JPG  \n",
            "  inflating: Plants_2/train/Chinar diseased (P11b)/0022_0094.JPG  \n",
            "  inflating: Plants_2/train/Chinar diseased (P11b)/0022_0095.JPG  \n",
            "  inflating: Plants_2/train/Chinar diseased (P11b)/0022_0096.JPG  \n",
            "  inflating: Plants_2/train/Chinar diseased (P11b)/0022_0097.JPG  \n",
            "  inflating: Plants_2/train/Chinar diseased (P11b)/0022_0098.JPG  \n",
            "  inflating: Plants_2/train/Chinar diseased (P11b)/0022_0099.JPG  \n",
            "  inflating: Plants_2/train/Chinar diseased (P11b)/0022_0100.JPG  \n",
            "  inflating: Plants_2/train/Chinar diseased (P11b)/0022_0101.JPG  \n",
            "  inflating: Plants_2/train/Chinar diseased (P11b)/0022_0102.JPG  \n",
            "  inflating: Plants_2/train/Chinar diseased (P11b)/0022_0103.JPG  \n",
            "  inflating: Plants_2/train/Chinar diseased (P11b)/0022_0104.JPG  \n",
            "  inflating: Plants_2/train/Chinar diseased (P11b)/0022_0105.JPG  \n",
            "  inflating: Plants_2/train/Chinar diseased (P11b)/0022_0106.JPG  \n",
            "  inflating: Plants_2/train/Chinar diseased (P11b)/0022_0107.JPG  \n",
            "  inflating: Plants_2/train/Chinar diseased (P11b)/0022_0108.JPG  \n",
            "  inflating: Plants_2/train/Chinar diseased (P11b)/0022_0109.JPG  \n",
            "  inflating: Plants_2/train/Chinar diseased (P11b)/0022_0110.JPG  \n",
            "  inflating: Plants_2/train/Chinar diseased (P11b)/0022_0111.JPG  \n",
            "  inflating: Plants_2/train/Chinar diseased (P11b)/0022_0112.JPG  \n",
            "  inflating: Plants_2/train/Chinar diseased (P11b)/0022_0113.JPG  \n",
            "  inflating: Plants_2/train/Chinar diseased (P11b)/0022_0114.JPG  \n",
            "  inflating: Plants_2/train/Chinar diseased (P11b)/0022_0115.JPG  \n",
            "  inflating: Plants_2/train/Chinar diseased (P11b)/0022_0116.JPG  \n",
            "  inflating: Plants_2/train/Chinar diseased (P11b)/0022_0117.JPG  \n",
            "  inflating: Plants_2/train/Chinar diseased (P11b)/0022_0118.JPG  \n",
            "  inflating: Plants_2/train/Chinar diseased (P11b)/0022_0119.JPG  \n",
            "  inflating: Plants_2/train/Chinar diseased (P11b)/0022_0120.JPG  \n",
            "  inflating: Plants_2/train/Chinar healthy (P11a)/0011_0011.JPG  \n",
            "  inflating: Plants_2/train/Chinar healthy (P11a)/0011_0012.JPG  \n",
            "  inflating: Plants_2/train/Chinar healthy (P11a)/0011_0013.JPG  \n",
            "  inflating: Plants_2/train/Chinar healthy (P11a)/0011_0014.JPG  \n",
            "  inflating: Plants_2/train/Chinar healthy (P11a)/0011_0015.JPG  \n",
            "  inflating: Plants_2/train/Chinar healthy (P11a)/0011_0016.JPG  \n",
            "  inflating: Plants_2/train/Chinar healthy (P11a)/0011_0017.JPG  \n",
            "  inflating: Plants_2/train/Chinar healthy (P11a)/0011_0018.JPG  \n",
            "  inflating: Plants_2/train/Chinar healthy (P11a)/0011_0019.JPG  \n",
            "  inflating: Plants_2/train/Chinar healthy (P11a)/0011_0020.JPG  \n",
            "  inflating: Plants_2/train/Chinar healthy (P11a)/0011_0021.JPG  \n",
            "  inflating: Plants_2/train/Chinar healthy (P11a)/0011_0022.JPG  \n",
            "  inflating: Plants_2/train/Chinar healthy (P11a)/0011_0023.JPG  \n",
            "  inflating: Plants_2/train/Chinar healthy (P11a)/0011_0024.JPG  \n",
            "  inflating: Plants_2/train/Chinar healthy (P11a)/0011_0025.JPG  \n",
            "  inflating: Plants_2/train/Chinar healthy (P11a)/0011_0026.JPG  \n",
            "  inflating: Plants_2/train/Chinar healthy (P11a)/0011_0027.JPG  \n",
            "  inflating: Plants_2/train/Chinar healthy (P11a)/0011_0028.JPG  \n",
            "  inflating: Plants_2/train/Chinar healthy (P11a)/0011_0029.JPG  \n",
            "  inflating: Plants_2/train/Chinar healthy (P11a)/0011_0030.JPG  \n",
            "  inflating: Plants_2/train/Chinar healthy (P11a)/0011_0031.JPG  \n",
            "  inflating: Plants_2/train/Chinar healthy (P11a)/0011_0032.JPG  \n",
            "  inflating: Plants_2/train/Chinar healthy (P11a)/0011_0033.JPG  \n",
            "  inflating: Plants_2/train/Chinar healthy (P11a)/0011_0034.JPG  \n",
            "  inflating: Plants_2/train/Chinar healthy (P11a)/0011_0035.JPG  \n",
            "  inflating: Plants_2/train/Chinar healthy (P11a)/0011_0036.JPG  \n",
            "  inflating: Plants_2/train/Chinar healthy (P11a)/0011_0037.JPG  \n",
            "  inflating: Plants_2/train/Chinar healthy (P11a)/0011_0038.JPG  \n",
            "  inflating: Plants_2/train/Chinar healthy (P11a)/0011_0039.JPG  \n",
            "  inflating: Plants_2/train/Chinar healthy (P11a)/0011_0040.JPG  \n",
            "  inflating: Plants_2/train/Chinar healthy (P11a)/0011_0041.JPG  \n",
            "  inflating: Plants_2/train/Chinar healthy (P11a)/0011_0042.JPG  \n",
            "  inflating: Plants_2/train/Chinar healthy (P11a)/0011_0043.JPG  \n",
            "  inflating: Plants_2/train/Chinar healthy (P11a)/0011_0044.JPG  \n",
            "  inflating: Plants_2/train/Chinar healthy (P11a)/0011_0045.JPG  \n",
            "  inflating: Plants_2/train/Chinar healthy (P11a)/0011_0046.JPG  \n",
            "  inflating: Plants_2/train/Chinar healthy (P11a)/0011_0047.JPG  \n",
            "  inflating: Plants_2/train/Chinar healthy (P11a)/0011_0048.JPG  \n",
            "  inflating: Plants_2/train/Chinar healthy (P11a)/0011_0049.JPG  \n",
            "  inflating: Plants_2/train/Chinar healthy (P11a)/0011_0050.JPG  \n",
            "  inflating: Plants_2/train/Chinar healthy (P11a)/0011_0051.JPG  \n",
            "  inflating: Plants_2/train/Chinar healthy (P11a)/0011_0052.JPG  \n",
            "  inflating: Plants_2/train/Chinar healthy (P11a)/0011_0053.JPG  \n",
            "  inflating: Plants_2/train/Chinar healthy (P11a)/0011_0054.JPG  \n",
            "  inflating: Plants_2/train/Chinar healthy (P11a)/0011_0055.JPG  \n",
            "  inflating: Plants_2/train/Chinar healthy (P11a)/0011_0056.JPG  \n",
            "  inflating: Plants_2/train/Chinar healthy (P11a)/0011_0057.JPG  \n",
            "  inflating: Plants_2/train/Chinar healthy (P11a)/0011_0058.JPG  \n",
            "  inflating: Plants_2/train/Chinar healthy (P11a)/0011_0059.JPG  \n",
            "  inflating: Plants_2/train/Chinar healthy (P11a)/0011_0060.JPG  \n",
            "  inflating: Plants_2/train/Chinar healthy (P11a)/0011_0061.JPG  \n",
            "  inflating: Plants_2/train/Chinar healthy (P11a)/0011_0062.JPG  \n",
            "  inflating: Plants_2/train/Chinar healthy (P11a)/0011_0063.JPG  \n",
            "  inflating: Plants_2/train/Chinar healthy (P11a)/0011_0064.JPG  \n",
            "  inflating: Plants_2/train/Chinar healthy (P11a)/0011_0065.JPG  \n",
            "  inflating: Plants_2/train/Chinar healthy (P11a)/0011_0066.JPG  \n",
            "  inflating: Plants_2/train/Chinar healthy (P11a)/0011_0067.JPG  \n",
            "  inflating: Plants_2/train/Chinar healthy (P11a)/0011_0068.JPG  \n",
            "  inflating: Plants_2/train/Chinar healthy (P11a)/0011_0069.JPG  \n",
            "  inflating: Plants_2/train/Chinar healthy (P11a)/0011_0070.JPG  \n",
            "  inflating: Plants_2/train/Chinar healthy (P11a)/0011_0071.JPG  \n",
            "  inflating: Plants_2/train/Chinar healthy (P11a)/0011_0072.JPG  \n",
            "  inflating: Plants_2/train/Chinar healthy (P11a)/0011_0073.JPG  \n",
            "  inflating: Plants_2/train/Chinar healthy (P11a)/0011_0074.JPG  \n",
            "  inflating: Plants_2/train/Chinar healthy (P11a)/0011_0075.JPG  \n",
            "  inflating: Plants_2/train/Chinar healthy (P11a)/0011_0076.JPG  \n",
            "  inflating: Plants_2/train/Chinar healthy (P11a)/0011_0077.JPG  \n",
            "  inflating: Plants_2/train/Chinar healthy (P11a)/0011_0078.JPG  \n",
            "  inflating: Plants_2/train/Chinar healthy (P11a)/0011_0079.JPG  \n",
            "  inflating: Plants_2/train/Chinar healthy (P11a)/0011_0080.JPG  \n",
            "  inflating: Plants_2/train/Chinar healthy (P11a)/0011_0081.JPG  \n",
            "  inflating: Plants_2/train/Chinar healthy (P11a)/0011_0082.JPG  \n",
            "  inflating: Plants_2/train/Chinar healthy (P11a)/0011_0083.JPG  \n",
            "  inflating: Plants_2/train/Chinar healthy (P11a)/0011_0084.JPG  \n",
            "  inflating: Plants_2/train/Chinar healthy (P11a)/0011_0085.JPG  \n",
            "  inflating: Plants_2/train/Chinar healthy (P11a)/0011_0086.JPG  \n",
            "  inflating: Plants_2/train/Chinar healthy (P11a)/0011_0087.JPG  \n",
            "  inflating: Plants_2/train/Chinar healthy (P11a)/0011_0088.JPG  \n",
            "  inflating: Plants_2/train/Chinar healthy (P11a)/0011_0089.JPG  \n",
            "  inflating: Plants_2/train/Chinar healthy (P11a)/0011_0090.JPG  \n",
            "  inflating: Plants_2/train/Chinar healthy (P11a)/0011_0091.JPG  \n",
            "  inflating: Plants_2/train/Chinar healthy (P11a)/0011_0092.JPG  \n",
            "  inflating: Plants_2/train/Chinar healthy (P11a)/0011_0093.JPG  \n",
            "  inflating: Plants_2/train/Chinar healthy (P11a)/0011_0094.JPG  \n",
            "  inflating: Plants_2/train/Chinar healthy (P11a)/0011_0095.JPG  \n",
            "  inflating: Plants_2/train/Chinar healthy (P11a)/0011_0096.JPG  \n",
            "  inflating: Plants_2/train/Chinar healthy (P11a)/0011_0097.JPG  \n",
            "  inflating: Plants_2/train/Chinar healthy (P11a)/0011_0098.JPG  \n",
            "  inflating: Plants_2/train/Chinar healthy (P11a)/0011_0099.JPG  \n",
            "  inflating: Plants_2/train/Chinar healthy (P11a)/0011_0100.JPG  \n",
            "  inflating: Plants_2/train/Chinar healthy (P11a)/0011_0101.JPG  \n",
            "  inflating: Plants_2/train/Chinar healthy (P11a)/0011_0102.JPG  \n",
            "  inflating: Plants_2/train/Chinar healthy (P11a)/0011_0103.JPG  \n",
            "  inflating: Plants_2/train/Gauva diseased (P3b)/0015_0011.JPG  \n",
            "  inflating: Plants_2/train/Gauva diseased (P3b)/0015_0012.JPG  \n",
            "  inflating: Plants_2/train/Gauva diseased (P3b)/0015_0013.JPG  \n",
            "  inflating: Plants_2/train/Gauva diseased (P3b)/0015_0014.JPG  \n",
            "  inflating: Plants_2/train/Gauva diseased (P3b)/0015_0015.JPG  \n",
            "  inflating: Plants_2/train/Gauva diseased (P3b)/0015_0016.JPG  \n",
            "  inflating: Plants_2/train/Gauva diseased (P3b)/0015_0017.JPG  \n",
            "  inflating: Plants_2/train/Gauva diseased (P3b)/0015_0018.JPG  \n",
            "  inflating: Plants_2/train/Gauva diseased (P3b)/0015_0019.JPG  \n",
            "  inflating: Plants_2/train/Gauva diseased (P3b)/0015_0020.JPG  \n",
            "  inflating: Plants_2/train/Gauva diseased (P3b)/0015_0021.JPG  \n",
            "  inflating: Plants_2/train/Gauva diseased (P3b)/0015_0022.JPG  \n",
            "  inflating: Plants_2/train/Gauva diseased (P3b)/0015_0023.JPG  \n",
            "  inflating: Plants_2/train/Gauva diseased (P3b)/0015_0024.JPG  \n",
            "  inflating: Plants_2/train/Gauva diseased (P3b)/0015_0025.JPG  \n",
            "  inflating: Plants_2/train/Gauva diseased (P3b)/0015_0026.JPG  \n",
            "  inflating: Plants_2/train/Gauva diseased (P3b)/0015_0027.JPG  \n",
            "  inflating: Plants_2/train/Gauva diseased (P3b)/0015_0028.JPG  \n",
            "  inflating: Plants_2/train/Gauva diseased (P3b)/0015_0029.JPG  \n",
            "  inflating: Plants_2/train/Gauva diseased (P3b)/0015_0030.JPG  \n",
            "  inflating: Plants_2/train/Gauva diseased (P3b)/0015_0031.JPG  \n",
            "  inflating: Plants_2/train/Gauva diseased (P3b)/0015_0032.JPG  \n",
            "  inflating: Plants_2/train/Gauva diseased (P3b)/0015_0033.JPG  \n",
            "  inflating: Plants_2/train/Gauva diseased (P3b)/0015_0034.JPG  \n",
            "  inflating: Plants_2/train/Gauva diseased (P3b)/0015_0035.JPG  \n",
            "  inflating: Plants_2/train/Gauva diseased (P3b)/0015_0036.JPG  \n",
            "  inflating: Plants_2/train/Gauva diseased (P3b)/0015_0037.JPG  \n",
            "  inflating: Plants_2/train/Gauva diseased (P3b)/0015_0038.JPG  \n",
            "  inflating: Plants_2/train/Gauva diseased (P3b)/0015_0039.JPG  \n",
            "  inflating: Plants_2/train/Gauva diseased (P3b)/0015_0040.JPG  \n",
            "  inflating: Plants_2/train/Gauva diseased (P3b)/0015_0041.JPG  \n",
            "  inflating: Plants_2/train/Gauva diseased (P3b)/0015_0042.JPG  \n",
            "  inflating: Plants_2/train/Gauva diseased (P3b)/0015_0043.JPG  \n",
            "  inflating: Plants_2/train/Gauva diseased (P3b)/0015_0044.JPG  \n",
            "  inflating: Plants_2/train/Gauva diseased (P3b)/0015_0045.JPG  \n",
            "  inflating: Plants_2/train/Gauva diseased (P3b)/0015_0046.JPG  \n",
            "  inflating: Plants_2/train/Gauva diseased (P3b)/0015_0047.JPG  \n",
            "  inflating: Plants_2/train/Gauva diseased (P3b)/0015_0048.JPG  \n",
            "  inflating: Plants_2/train/Gauva diseased (P3b)/0015_0049.JPG  \n",
            "  inflating: Plants_2/train/Gauva diseased (P3b)/0015_0050.JPG  \n",
            "  inflating: Plants_2/train/Gauva diseased (P3b)/0015_0051.JPG  \n",
            "  inflating: Plants_2/train/Gauva diseased (P3b)/0015_0052.JPG  \n",
            "  inflating: Plants_2/train/Gauva diseased (P3b)/0015_0053.JPG  \n",
            "  inflating: Plants_2/train/Gauva diseased (P3b)/0015_0054.JPG  \n",
            "  inflating: Plants_2/train/Gauva diseased (P3b)/0015_0055.JPG  \n",
            "  inflating: Plants_2/train/Gauva diseased (P3b)/0015_0056.JPG  \n",
            "  inflating: Plants_2/train/Gauva diseased (P3b)/0015_0057.JPG  \n",
            "  inflating: Plants_2/train/Gauva diseased (P3b)/0015_0058.JPG  \n",
            "  inflating: Plants_2/train/Gauva diseased (P3b)/0015_0059.JPG  \n",
            "  inflating: Plants_2/train/Gauva diseased (P3b)/0015_0060.JPG  \n",
            "  inflating: Plants_2/train/Gauva diseased (P3b)/0015_0061.JPG  \n",
            "  inflating: Plants_2/train/Gauva diseased (P3b)/0015_0062.JPG  \n",
            "  inflating: Plants_2/train/Gauva diseased (P3b)/0015_0063.JPG  \n",
            "  inflating: Plants_2/train/Gauva diseased (P3b)/0015_0064.JPG  \n",
            "  inflating: Plants_2/train/Gauva diseased (P3b)/0015_0065.JPG  \n",
            "  inflating: Plants_2/train/Gauva diseased (P3b)/0015_0066.JPG  \n",
            "  inflating: Plants_2/train/Gauva diseased (P3b)/0015_0067.JPG  \n",
            "  inflating: Plants_2/train/Gauva diseased (P3b)/0015_0068.JPG  \n",
            "  inflating: Plants_2/train/Gauva diseased (P3b)/0015_0069.JPG  \n",
            "  inflating: Plants_2/train/Gauva diseased (P3b)/0015_0070.JPG  \n",
            "  inflating: Plants_2/train/Gauva diseased (P3b)/0015_0071.JPG  \n",
            "  inflating: Plants_2/train/Gauva diseased (P3b)/0015_0072.JPG  \n",
            "  inflating: Plants_2/train/Gauva diseased (P3b)/0015_0073.JPG  \n",
            "  inflating: Plants_2/train/Gauva diseased (P3b)/0015_0074.JPG  \n",
            "  inflating: Plants_2/train/Gauva diseased (P3b)/0015_0075.JPG  \n",
            "  inflating: Plants_2/train/Gauva diseased (P3b)/0015_0076.JPG  \n",
            "  inflating: Plants_2/train/Gauva diseased (P3b)/0015_0077.JPG  \n",
            "  inflating: Plants_2/train/Gauva diseased (P3b)/0015_0078.JPG  \n",
            "  inflating: Plants_2/train/Gauva diseased (P3b)/0015_0079.JPG  \n",
            "  inflating: Plants_2/train/Gauva diseased (P3b)/0015_0080.JPG  \n",
            "  inflating: Plants_2/train/Gauva diseased (P3b)/0015_0081.JPG  \n",
            "  inflating: Plants_2/train/Gauva diseased (P3b)/0015_0082.JPG  \n",
            "  inflating: Plants_2/train/Gauva diseased (P3b)/0015_0083.JPG  \n",
            "  inflating: Plants_2/train/Gauva diseased (P3b)/0015_0084.JPG  \n",
            "  inflating: Plants_2/train/Gauva diseased (P3b)/0015_0085.JPG  \n",
            "  inflating: Plants_2/train/Gauva diseased (P3b)/0015_0086.JPG  \n",
            "  inflating: Plants_2/train/Gauva diseased (P3b)/0015_0087.JPG  \n",
            "  inflating: Plants_2/train/Gauva diseased (P3b)/0015_0088.JPG  \n",
            "  inflating: Plants_2/train/Gauva diseased (P3b)/0015_0089.JPG  \n",
            "  inflating: Plants_2/train/Gauva diseased (P3b)/0015_0090.JPG  \n",
            "  inflating: Plants_2/train/Gauva diseased (P3b)/0015_0091.JPG  \n",
            "  inflating: Plants_2/train/Gauva diseased (P3b)/0015_0092.JPG  \n",
            "  inflating: Plants_2/train/Gauva diseased (P3b)/0015_0093.JPG  \n",
            "  inflating: Plants_2/train/Gauva diseased (P3b)/0015_0094.JPG  \n",
            "  inflating: Plants_2/train/Gauva diseased (P3b)/0015_0095.JPG  \n",
            "  inflating: Plants_2/train/Gauva diseased (P3b)/0015_0096.JPG  \n",
            "  inflating: Plants_2/train/Gauva diseased (P3b)/0015_0097.JPG  \n",
            "  inflating: Plants_2/train/Gauva diseased (P3b)/0015_0098.JPG  \n",
            "  inflating: Plants_2/train/Gauva diseased (P3b)/0015_0099.JPG  \n",
            "  inflating: Plants_2/train/Gauva diseased (P3b)/0015_0100.JPG  \n",
            "  inflating: Plants_2/train/Gauva diseased (P3b)/0015_0101.JPG  \n",
            "  inflating: Plants_2/train/Gauva diseased (P3b)/0015_0102.JPG  \n",
            "  inflating: Plants_2/train/Gauva diseased (P3b)/0015_0103.JPG  \n",
            "  inflating: Plants_2/train/Gauva diseased (P3b)/0015_0104.JPG  \n",
            "  inflating: Plants_2/train/Gauva diseased (P3b)/0015_0105.JPG  \n",
            "  inflating: Plants_2/train/Gauva diseased (P3b)/0015_0106.JPG  \n",
            "  inflating: Plants_2/train/Gauva diseased (P3b)/0015_0107.JPG  \n",
            "  inflating: Plants_2/train/Gauva diseased (P3b)/0015_0108.JPG  \n",
            "  inflating: Plants_2/train/Gauva diseased (P3b)/0015_0109.JPG  \n",
            "  inflating: Plants_2/train/Gauva diseased (P3b)/0015_0110.JPG  \n",
            "  inflating: Plants_2/train/Gauva diseased (P3b)/0015_0111.JPG  \n",
            "  inflating: Plants_2/train/Gauva diseased (P3b)/0015_0112.JPG  \n",
            "  inflating: Plants_2/train/Gauva diseased (P3b)/0015_0113.JPG  \n",
            "  inflating: Plants_2/train/Gauva diseased (P3b)/0015_0114.JPG  \n",
            "  inflating: Plants_2/train/Gauva diseased (P3b)/0015_0115.JPG  \n",
            "  inflating: Plants_2/train/Gauva diseased (P3b)/0015_0116.JPG  \n",
            "  inflating: Plants_2/train/Gauva diseased (P3b)/0015_0117.JPG  \n",
            "  inflating: Plants_2/train/Gauva diseased (P3b)/0015_0118.JPG  \n",
            "  inflating: Plants_2/train/Gauva diseased (P3b)/0015_0119.JPG  \n",
            "  inflating: Plants_2/train/Gauva diseased (P3b)/0015_0120.JPG  \n",
            "  inflating: Plants_2/train/Gauva diseased (P3b)/0015_0121.JPG  \n",
            "  inflating: Plants_2/train/Gauva diseased (P3b)/0015_0122.JPG  \n",
            "  inflating: Plants_2/train/Gauva diseased (P3b)/0015_0124.JPG  \n",
            "  inflating: Plants_2/train/Gauva diseased (P3b)/0015_0125.JPG  \n",
            "  inflating: Plants_2/train/Gauva diseased (P3b)/0015_0126.JPG  \n",
            "  inflating: Plants_2/train/Gauva diseased (P3b)/0015_0127.JPG  \n",
            "  inflating: Plants_2/train/Gauva diseased (P3b)/0015_0128.JPG  \n",
            "  inflating: Plants_2/train/Gauva diseased (P3b)/0015_0129.JPG  \n",
            "  inflating: Plants_2/train/Gauva diseased (P3b)/0015_0130.JPG  \n",
            "  inflating: Plants_2/train/Gauva diseased (P3b)/0015_0131.JPG  \n",
            "  inflating: Plants_2/train/Gauva diseased (P3b)/0015_0132.JPG  \n",
            "  inflating: Plants_2/train/Gauva diseased (P3b)/0015_0133.JPG  \n",
            "  inflating: Plants_2/train/Gauva diseased (P3b)/0015_0134.JPG  \n",
            "  inflating: Plants_2/train/Gauva diseased (P3b)/0015_0135.JPG  \n",
            "  inflating: Plants_2/train/Gauva diseased (P3b)/0015_0136.JPG  \n",
            "  inflating: Plants_2/train/Gauva diseased (P3b)/0015_0137.JPG  \n",
            "  inflating: Plants_2/train/Gauva diseased (P3b)/0015_0138.JPG  \n",
            "  inflating: Plants_2/train/Gauva diseased (P3b)/0015_0139.JPG  \n",
            "  inflating: Plants_2/train/Gauva diseased (P3b)/0015_0140.JPG  \n",
            "  inflating: Plants_2/train/Gauva diseased (P3b)/0015_0141.JPG  \n",
            "  inflating: Plants_2/train/Gauva diseased (P3b)/0015_0142.JPG  \n",
            "  inflating: Plants_2/train/Gauva healthy (P3a)/0004_0011.JPG  \n",
            "  inflating: Plants_2/train/Gauva healthy (P3a)/0004_0012.JPG  \n",
            "  inflating: Plants_2/train/Gauva healthy (P3a)/0004_0013.JPG  \n",
            "  inflating: Plants_2/train/Gauva healthy (P3a)/0004_0014.JPG  \n",
            "  inflating: Plants_2/train/Gauva healthy (P3a)/0004_0015.JPG  \n",
            "  inflating: Plants_2/train/Gauva healthy (P3a)/0004_0016.JPG  \n",
            "  inflating: Plants_2/train/Gauva healthy (P3a)/0004_0017.JPG  \n",
            "  inflating: Plants_2/train/Gauva healthy (P3a)/0004_0018.JPG  \n",
            "  inflating: Plants_2/train/Gauva healthy (P3a)/0004_0019.JPG  \n",
            "  inflating: Plants_2/train/Gauva healthy (P3a)/0004_0020.JPG  \n",
            "  inflating: Plants_2/train/Gauva healthy (P3a)/0004_0021.JPG  \n",
            "  inflating: Plants_2/train/Gauva healthy (P3a)/0004_0022.JPG  \n",
            "  inflating: Plants_2/train/Gauva healthy (P3a)/0004_0023.JPG  \n",
            "  inflating: Plants_2/train/Gauva healthy (P3a)/0004_0024.JPG  \n",
            "  inflating: Plants_2/train/Gauva healthy (P3a)/0004_0025.JPG  \n",
            "  inflating: Plants_2/train/Gauva healthy (P3a)/0004_0026.JPG  \n",
            "  inflating: Plants_2/train/Gauva healthy (P3a)/0004_0027.JPG  \n",
            "  inflating: Plants_2/train/Gauva healthy (P3a)/0004_0028.JPG  \n",
            "  inflating: Plants_2/train/Gauva healthy (P3a)/0004_0029.JPG  \n",
            "  inflating: Plants_2/train/Gauva healthy (P3a)/0004_0030.JPG  \n",
            "  inflating: Plants_2/train/Gauva healthy (P3a)/0004_0031.JPG  \n",
            "  inflating: Plants_2/train/Gauva healthy (P3a)/0004_0032.JPG  \n",
            "  inflating: Plants_2/train/Gauva healthy (P3a)/0004_0033.JPG  \n",
            "  inflating: Plants_2/train/Gauva healthy (P3a)/0004_0034.JPG  \n",
            "  inflating: Plants_2/train/Gauva healthy (P3a)/0004_0035.JPG  \n",
            "  inflating: Plants_2/train/Gauva healthy (P3a)/0004_0036.JPG  \n",
            "  inflating: Plants_2/train/Gauva healthy (P3a)/0004_0037.JPG  \n",
            "  inflating: Plants_2/train/Gauva healthy (P3a)/0004_0038.JPG  \n",
            "  inflating: Plants_2/train/Gauva healthy (P3a)/0004_0039.JPG  \n",
            "  inflating: Plants_2/train/Gauva healthy (P3a)/0004_0040.JPG  \n",
            "  inflating: Plants_2/train/Gauva healthy (P3a)/0004_0041.JPG  \n",
            "  inflating: Plants_2/train/Gauva healthy (P3a)/0004_0042.JPG  \n",
            "  inflating: Plants_2/train/Gauva healthy (P3a)/0004_0043.JPG  \n",
            "  inflating: Plants_2/train/Gauva healthy (P3a)/0004_0044.JPG  \n",
            "  inflating: Plants_2/train/Gauva healthy (P3a)/0004_0045.JPG  \n",
            "  inflating: Plants_2/train/Gauva healthy (P3a)/0004_0046.JPG  \n",
            "  inflating: Plants_2/train/Gauva healthy (P3a)/0004_0047.JPG  \n",
            "  inflating: Plants_2/train/Gauva healthy (P3a)/0004_0048.JPG  \n",
            "  inflating: Plants_2/train/Gauva healthy (P3a)/0004_0049.JPG  \n",
            "  inflating: Plants_2/train/Gauva healthy (P3a)/0004_0050.JPG  \n",
            "  inflating: Plants_2/train/Gauva healthy (P3a)/0004_0051.JPG  \n",
            "  inflating: Plants_2/train/Gauva healthy (P3a)/0004_0052.JPG  \n",
            "  inflating: Plants_2/train/Gauva healthy (P3a)/0004_0053.JPG  \n",
            "  inflating: Plants_2/train/Gauva healthy (P3a)/0004_0054.JPG  \n",
            "  inflating: Plants_2/train/Gauva healthy (P3a)/0004_0055.JPG  \n",
            "  inflating: Plants_2/train/Gauva healthy (P3a)/0004_0056.JPG  \n",
            "  inflating: Plants_2/train/Gauva healthy (P3a)/0004_0057.JPG  \n",
            "  inflating: Plants_2/train/Gauva healthy (P3a)/0004_0058.JPG  \n",
            "  inflating: Plants_2/train/Gauva healthy (P3a)/0004_0059.JPG  \n",
            "  inflating: Plants_2/train/Gauva healthy (P3a)/0004_0060.JPG  \n",
            "  inflating: Plants_2/train/Gauva healthy (P3a)/0004_0061.JPG  \n",
            "  inflating: Plants_2/train/Gauva healthy (P3a)/0004_0062.JPG  \n",
            "  inflating: Plants_2/train/Gauva healthy (P3a)/0004_0063.JPG  \n",
            "  inflating: Plants_2/train/Gauva healthy (P3a)/0004_0064.JPG  \n",
            "  inflating: Plants_2/train/Gauva healthy (P3a)/0004_0065.JPG  \n",
            "  inflating: Plants_2/train/Gauva healthy (P3a)/0004_0066.JPG  \n",
            "  inflating: Plants_2/train/Gauva healthy (P3a)/0004_0067.JPG  \n",
            "  inflating: Plants_2/train/Gauva healthy (P3a)/0004_0068.JPG  \n",
            "  inflating: Plants_2/train/Gauva healthy (P3a)/0004_0069.JPG  \n",
            "  inflating: Plants_2/train/Gauva healthy (P3a)/0004_0070.JPG  \n",
            "  inflating: Plants_2/train/Gauva healthy (P3a)/0004_0071.JPG  \n",
            "  inflating: Plants_2/train/Gauva healthy (P3a)/0004_0072.JPG  \n",
            "  inflating: Plants_2/train/Gauva healthy (P3a)/0004_0073.JPG  \n",
            "  inflating: Plants_2/train/Gauva healthy (P3a)/0004_0074.JPG  \n",
            "  inflating: Plants_2/train/Gauva healthy (P3a)/0004_0075.JPG  \n",
            "  inflating: Plants_2/train/Gauva healthy (P3a)/0004_0076.JPG  \n",
            "  inflating: Plants_2/train/Gauva healthy (P3a)/0004_0077.JPG  \n",
            "  inflating: Plants_2/train/Gauva healthy (P3a)/0004_0078.JPG  \n",
            "  inflating: Plants_2/train/Gauva healthy (P3a)/0004_0079.JPG  \n",
            "  inflating: Plants_2/train/Gauva healthy (P3a)/0004_0080.JPG  \n",
            "  inflating: Plants_2/train/Gauva healthy (P3a)/0004_0081.JPG  \n",
            "  inflating: Plants_2/train/Gauva healthy (P3a)/0004_0082.JPG  \n",
            "  inflating: Plants_2/train/Gauva healthy (P3a)/0004_0083.JPG  \n",
            "  inflating: Plants_2/train/Gauva healthy (P3a)/0004_0084.JPG  \n",
            "  inflating: Plants_2/train/Gauva healthy (P3a)/0004_0085.JPG  \n",
            "  inflating: Plants_2/train/Gauva healthy (P3a)/0004_0086.JPG  \n",
            "  inflating: Plants_2/train/Gauva healthy (P3a)/0004_0087.JPG  \n",
            "  inflating: Plants_2/train/Gauva healthy (P3a)/0004_0088.JPG  \n",
            "  inflating: Plants_2/train/Gauva healthy (P3a)/0004_0089.JPG  \n",
            "  inflating: Plants_2/train/Gauva healthy (P3a)/0004_0090.JPG  \n",
            "  inflating: Plants_2/train/Gauva healthy (P3a)/0004_0091.JPG  \n",
            "  inflating: Plants_2/train/Gauva healthy (P3a)/0004_0092.JPG  \n",
            "  inflating: Plants_2/train/Gauva healthy (P3a)/0004_0093.JPG  \n",
            "  inflating: Plants_2/train/Gauva healthy (P3a)/0004_0094.JPG  \n",
            "  inflating: Plants_2/train/Gauva healthy (P3a)/0004_0095.JPG  \n",
            "  inflating: Plants_2/train/Gauva healthy (P3a)/0004_0096.JPG  \n",
            "  inflating: Plants_2/train/Gauva healthy (P3a)/0004_0097.JPG  \n",
            "  inflating: Plants_2/train/Gauva healthy (P3a)/0004_0098.JPG  \n",
            "  inflating: Plants_2/train/Gauva healthy (P3a)/0004_0099.JPG  \n",
            "  inflating: Plants_2/train/Gauva healthy (P3a)/0004_0100.JPG  \n",
            "  inflating: Plants_2/train/Gauva healthy (P3a)/0004_0101.JPG  \n",
            "  inflating: Plants_2/train/Gauva healthy (P3a)/0004_0102.JPG  \n",
            "  inflating: Plants_2/train/Gauva healthy (P3a)/0004_0103.JPG  \n",
            "  inflating: Plants_2/train/Gauva healthy (P3a)/0004_0104.JPG  \n",
            "  inflating: Plants_2/train/Gauva healthy (P3a)/0004_0105.JPG  \n",
            "  inflating: Plants_2/train/Gauva healthy (P3a)/0004_0106.JPG  \n",
            "  inflating: Plants_2/train/Gauva healthy (P3a)/0004_0107.JPG  \n",
            "  inflating: Plants_2/train/Gauva healthy (P3a)/0004_0108.JPG  \n",
            "  inflating: Plants_2/train/Gauva healthy (P3a)/0004_0109.JPG  \n",
            "  inflating: Plants_2/train/Gauva healthy (P3a)/0004_0110.JPG  \n",
            "  inflating: Plants_2/train/Gauva healthy (P3a)/0004_0111.JPG  \n",
            "  inflating: Plants_2/train/Gauva healthy (P3a)/0004_0112.JPG  \n",
            "  inflating: Plants_2/train/Gauva healthy (P3a)/0004_0113.JPG  \n",
            "  inflating: Plants_2/train/Gauva healthy (P3a)/0004_0114.JPG  \n",
            "  inflating: Plants_2/train/Gauva healthy (P3a)/0004_0115.JPG  \n",
            "  inflating: Plants_2/train/Gauva healthy (P3a)/0004_0116.JPG  \n",
            "  inflating: Plants_2/train/Gauva healthy (P3a)/0004_0117.JPG  \n",
            "  inflating: Plants_2/train/Gauva healthy (P3a)/0004_0118.JPG  \n",
            "  inflating: Plants_2/train/Gauva healthy (P3a)/0004_0119.JPG  \n",
            "  inflating: Plants_2/train/Gauva healthy (P3a)/0004_0120.JPG  \n",
            "  inflating: Plants_2/train/Gauva healthy (P3a)/0004_0121.JPG  \n",
            "  inflating: Plants_2/train/Gauva healthy (P3a)/0004_0122.JPG  \n",
            "  inflating: Plants_2/train/Gauva healthy (P3a)/0004_0123.JPG  \n",
            "  inflating: Plants_2/train/Gauva healthy (P3a)/0004_0124.JPG  \n",
            "  inflating: Plants_2/train/Gauva healthy (P3a)/0004_0125.JPG  \n",
            "  inflating: Plants_2/train/Gauva healthy (P3a)/0004_0126.JPG  \n",
            "  inflating: Plants_2/train/Gauva healthy (P3a)/0004_0127.JPG  \n",
            "  inflating: Plants_2/train/Gauva healthy (P3a)/0004_0128.JPG  \n",
            "  inflating: Plants_2/train/Gauva healthy (P3a)/0004_0129.JPG  \n",
            "  inflating: Plants_2/train/Gauva healthy (P3a)/0004_0130.JPG  \n",
            "  inflating: Plants_2/train/Gauva healthy (P3a)/0004_0131.JPG  \n",
            "  inflating: Plants_2/train/Gauva healthy (P3a)/0004_0132.JPG  \n",
            "  inflating: Plants_2/train/Gauva healthy (P3a)/0004_0133.JPG  \n",
            "  inflating: Plants_2/train/Gauva healthy (P3a)/0004_0134.JPG  \n",
            "  inflating: Plants_2/train/Gauva healthy (P3a)/0004_0135.JPG  \n",
            "  inflating: Plants_2/train/Gauva healthy (P3a)/0004_0136.JPG  \n",
            "  inflating: Plants_2/train/Gauva healthy (P3a)/0004_0137.JPG  \n",
            "  inflating: Plants_2/train/Gauva healthy (P3a)/0004_0138.JPG  \n",
            "  inflating: Plants_2/train/Gauva healthy (P3a)/0004_0139.JPG  \n",
            "  inflating: Plants_2/train/Gauva healthy (P3a)/0004_0140.JPG  \n",
            "  inflating: Plants_2/train/Gauva healthy (P3a)/0004_0141.JPG  \n",
            "  inflating: Plants_2/train/Gauva healthy (P3a)/0004_0142.JPG  \n",
            "  inflating: Plants_2/train/Gauva healthy (P3a)/0004_0143.JPG  \n",
            "  inflating: Plants_2/train/Gauva healthy (P3a)/0004_0144.JPG  \n",
            "  inflating: Plants_2/train/Gauva healthy (P3a)/0004_0145.JPG  \n",
            "  inflating: Plants_2/train/Gauva healthy (P3a)/0004_0146.JPG  \n",
            "  inflating: Plants_2/train/Gauva healthy (P3a)/0004_0147.JPG  \n",
            "  inflating: Plants_2/train/Gauva healthy (P3a)/0004_0148.JPG  \n",
            "  inflating: Plants_2/train/Gauva healthy (P3a)/0004_0149.JPG  \n",
            "  inflating: Plants_2/train/Gauva healthy (P3a)/0004_0150.JPG  \n",
            "  inflating: Plants_2/train/Gauva healthy (P3a)/0004_0151.JPG  \n",
            "  inflating: Plants_2/train/Gauva healthy (P3a)/0004_0152.JPG  \n",
            "  inflating: Plants_2/train/Gauva healthy (P3a)/0004_0153.JPG  \n",
            "  inflating: Plants_2/train/Gauva healthy (P3a)/0004_0154.JPG  \n",
            "  inflating: Plants_2/train/Gauva healthy (P3a)/0004_0155.JPG  \n",
            "  inflating: Plants_2/train/Gauva healthy (P3a)/0004_0156.JPG  \n",
            "  inflating: Plants_2/train/Gauva healthy (P3a)/0004_0157.JPG  \n",
            "  inflating: Plants_2/train/Gauva healthy (P3a)/0004_0158.JPG  \n",
            "  inflating: Plants_2/train/Gauva healthy (P3a)/0004_0159.JPG  \n",
            "  inflating: Plants_2/train/Gauva healthy (P3a)/0004_0160.JPG  \n",
            "  inflating: Plants_2/train/Gauva healthy (P3a)/0004_0161.JPG  \n",
            "  inflating: Plants_2/train/Gauva healthy (P3a)/0004_0162.JPG  \n",
            "  inflating: Plants_2/train/Gauva healthy (P3a)/0004_0163.JPG  \n",
            "  inflating: Plants_2/train/Gauva healthy (P3a)/0004_0164.JPG  \n",
            "  inflating: Plants_2/train/Gauva healthy (P3a)/0004_0165.JPG  \n",
            "  inflating: Plants_2/train/Gauva healthy (P3a)/0004_0166.JPG  \n",
            "  inflating: Plants_2/train/Gauva healthy (P3a)/0004_0167.JPG  \n",
            "  inflating: Plants_2/train/Gauva healthy (P3a)/0004_0168.JPG  \n",
            "  inflating: Plants_2/train/Gauva healthy (P3a)/0004_0169.JPG  \n",
            "  inflating: Plants_2/train/Gauva healthy (P3a)/0004_0170.JPG  \n",
            "  inflating: Plants_2/train/Gauva healthy (P3a)/0004_0171.JPG  \n",
            "  inflating: Plants_2/train/Gauva healthy (P3a)/0004_0172.JPG  \n",
            "  inflating: Plants_2/train/Gauva healthy (P3a)/0004_0173.JPG  \n",
            "  inflating: Plants_2/train/Gauva healthy (P3a)/0004_0174.JPG  \n",
            "  inflating: Plants_2/train/Gauva healthy (P3a)/0004_0175.JPG  \n",
            "  inflating: Plants_2/train/Gauva healthy (P3a)/0004_0176.JPG  \n",
            "  inflating: Plants_2/train/Gauva healthy (P3a)/0004_0177.JPG  \n",
            "  inflating: Plants_2/train/Gauva healthy (P3a)/0004_0178.JPG  \n",
            "  inflating: Plants_2/train/Gauva healthy (P3a)/0004_0179.JPG  \n",
            "  inflating: Plants_2/train/Gauva healthy (P3a)/0004_0180.JPG  \n",
            "  inflating: Plants_2/train/Gauva healthy (P3a)/0004_0181.JPG  \n",
            "  inflating: Plants_2/train/Gauva healthy (P3a)/0004_0182.JPG  \n",
            "  inflating: Plants_2/train/Gauva healthy (P3a)/0004_0183.JPG  \n",
            "  inflating: Plants_2/train/Gauva healthy (P3a)/0004_0184.JPG  \n",
            "  inflating: Plants_2/train/Gauva healthy (P3a)/0004_0185.JPG  \n",
            "  inflating: Plants_2/train/Gauva healthy (P3a)/0004_0186.JPG  \n",
            "  inflating: Plants_2/train/Gauva healthy (P3a)/0004_0187.JPG  \n",
            "  inflating: Plants_2/train/Gauva healthy (P3a)/0004_0188.JPG  \n",
            "  inflating: Plants_2/train/Gauva healthy (P3a)/0004_0189.JPG  \n",
            "  inflating: Plants_2/train/Gauva healthy (P3a)/0004_0190.JPG  \n",
            "  inflating: Plants_2/train/Gauva healthy (P3a)/0004_0191.JPG  \n",
            "  inflating: Plants_2/train/Gauva healthy (P3a)/0004_0192.JPG  \n",
            "  inflating: Plants_2/train/Gauva healthy (P3a)/0004_0193.JPG  \n",
            "  inflating: Plants_2/train/Gauva healthy (P3a)/0004_0194.JPG  \n",
            "  inflating: Plants_2/train/Gauva healthy (P3a)/0004_0195.JPG  \n",
            "  inflating: Plants_2/train/Gauva healthy (P3a)/0004_0196.JPG  \n",
            "  inflating: Plants_2/train/Gauva healthy (P3a)/0004_0197.JPG  \n",
            "  inflating: Plants_2/train/Gauva healthy (P3a)/0004_0198.JPG  \n",
            "  inflating: Plants_2/train/Gauva healthy (P3a)/0004_0199.JPG  \n",
            "  inflating: Plants_2/train/Gauva healthy (P3a)/0004_0200.JPG  \n",
            "  inflating: Plants_2/train/Gauva healthy (P3a)/0004_0201.JPG  \n",
            "  inflating: Plants_2/train/Gauva healthy (P3a)/0004_0202.JPG  \n",
            "  inflating: Plants_2/train/Gauva healthy (P3a)/0004_0203.JPG  \n",
            "  inflating: Plants_2/train/Gauva healthy (P3a)/0004_0204.JPG  \n",
            "  inflating: Plants_2/train/Gauva healthy (P3a)/0004_0205.JPG  \n",
            "  inflating: Plants_2/train/Gauva healthy (P3a)/0004_0206.JPG  \n",
            "  inflating: Plants_2/train/Gauva healthy (P3a)/0004_0207.JPG  \n",
            "  inflating: Plants_2/train/Gauva healthy (P3a)/0004_0208.JPG  \n",
            "  inflating: Plants_2/train/Gauva healthy (P3a)/0004_0209.JPG  \n",
            "  inflating: Plants_2/train/Gauva healthy (P3a)/0004_0210.JPG  \n",
            "  inflating: Plants_2/train/Gauva healthy (P3a)/0004_0211.JPG  \n",
            "  inflating: Plants_2/train/Gauva healthy (P3a)/0004_0212.JPG  \n",
            "  inflating: Plants_2/train/Gauva healthy (P3a)/0004_0213.JPG  \n",
            "  inflating: Plants_2/train/Gauva healthy (P3a)/0004_0214.JPG  \n",
            "  inflating: Plants_2/train/Gauva healthy (P3a)/0004_0215.JPG  \n",
            "  inflating: Plants_2/train/Gauva healthy (P3a)/0004_0216.JPG  \n",
            "  inflating: Plants_2/train/Gauva healthy (P3a)/0004_0217.JPG  \n",
            "  inflating: Plants_2/train/Gauva healthy (P3a)/0004_0218.JPG  \n",
            "  inflating: Plants_2/train/Gauva healthy (P3a)/0004_0219.JPG  \n",
            "  inflating: Plants_2/train/Gauva healthy (P3a)/0004_0220.JPG  \n",
            "  inflating: Plants_2/train/Gauva healthy (P3a)/0004_0221.JPG  \n",
            "  inflating: Plants_2/train/Gauva healthy (P3a)/0004_0222.JPG  \n",
            "  inflating: Plants_2/train/Gauva healthy (P3a)/0004_0223.JPG  \n",
            "  inflating: Plants_2/train/Gauva healthy (P3a)/0004_0224.JPG  \n",
            "  inflating: Plants_2/train/Gauva healthy (P3a)/0004_0225.JPG  \n",
            "  inflating: Plants_2/train/Gauva healthy (P3a)/0004_0226.JPG  \n",
            "  inflating: Plants_2/train/Gauva healthy (P3a)/0004_0227.JPG  \n",
            "  inflating: Plants_2/train/Gauva healthy (P3a)/0004_0228.JPG  \n",
            "  inflating: Plants_2/train/Gauva healthy (P3a)/0004_0229.JPG  \n",
            "  inflating: Plants_2/train/Gauva healthy (P3a)/0004_0230.JPG  \n",
            "  inflating: Plants_2/train/Gauva healthy (P3a)/0004_0231.JPG  \n",
            "  inflating: Plants_2/train/Gauva healthy (P3a)/0004_0232.JPG  \n",
            "  inflating: Plants_2/train/Gauva healthy (P3a)/0004_0233.JPG  \n",
            "  inflating: Plants_2/train/Gauva healthy (P3a)/0004_0234.JPG  \n",
            "  inflating: Plants_2/train/Gauva healthy (P3a)/0004_0235.JPG  \n",
            "  inflating: Plants_2/train/Gauva healthy (P3a)/0004_0236.JPG  \n",
            "  inflating: Plants_2/train/Gauva healthy (P3a)/0004_0237.JPG  \n",
            "  inflating: Plants_2/train/Gauva healthy (P3a)/0004_0238.JPG  \n",
            "  inflating: Plants_2/train/Gauva healthy (P3a)/0004_0239.JPG  \n",
            "  inflating: Plants_2/train/Gauva healthy (P3a)/0004_0240.JPG  \n",
            "  inflating: Plants_2/train/Gauva healthy (P3a)/0004_0241.JPG  \n",
            "  inflating: Plants_2/train/Gauva healthy (P3a)/0004_0242.JPG  \n",
            "  inflating: Plants_2/train/Gauva healthy (P3a)/0004_0243.JPG  \n",
            "  inflating: Plants_2/train/Gauva healthy (P3a)/0004_0244.JPG  \n",
            "  inflating: Plants_2/train/Gauva healthy (P3a)/0004_0245.JPG  \n",
            "  inflating: Plants_2/train/Gauva healthy (P3a)/0004_0246.JPG  \n",
            "  inflating: Plants_2/train/Gauva healthy (P3a)/0004_0247.JPG  \n",
            "  inflating: Plants_2/train/Gauva healthy (P3a)/0004_0248.JPG  \n",
            "  inflating: Plants_2/train/Gauva healthy (P3a)/0004_0249.JPG  \n",
            "  inflating: Plants_2/train/Gauva healthy (P3a)/0004_0250.JPG  \n",
            "  inflating: Plants_2/train/Gauva healthy (P3a)/0004_0251.JPG  \n",
            "  inflating: Plants_2/train/Gauva healthy (P3a)/0004_0252.JPG  \n",
            "  inflating: Plants_2/train/Gauva healthy (P3a)/0004_0253.JPG  \n",
            "  inflating: Plants_2/train/Gauva healthy (P3a)/0004_0254.JPG  \n",
            "  inflating: Plants_2/train/Gauva healthy (P3a)/0004_0255.JPG  \n",
            "  inflating: Plants_2/train/Gauva healthy (P3a)/0004_0256.JPG  \n",
            "  inflating: Plants_2/train/Gauva healthy (P3a)/0004_0257.JPG  \n",
            "  inflating: Plants_2/train/Gauva healthy (P3a)/0004_0258.JPG  \n",
            "  inflating: Plants_2/train/Gauva healthy (P3a)/0004_0259.JPG  \n",
            "  inflating: Plants_2/train/Gauva healthy (P3a)/0004_0260.JPG  \n",
            "  inflating: Plants_2/train/Gauva healthy (P3a)/0004_0261.JPG  \n",
            "  inflating: Plants_2/train/Gauva healthy (P3a)/0004_0262.JPG  \n",
            "  inflating: Plants_2/train/Gauva healthy (P3a)/0004_0263.JPG  \n",
            "  inflating: Plants_2/train/Gauva healthy (P3a)/0004_0264.JPG  \n",
            "  inflating: Plants_2/train/Gauva healthy (P3a)/0004_0265.JPG  \n",
            "  inflating: Plants_2/train/Gauva healthy (P3a)/0004_0266.JPG  \n",
            "  inflating: Plants_2/train/Gauva healthy (P3a)/0004_0267.JPG  \n",
            "  inflating: Plants_2/train/Gauva healthy (P3a)/0004_0268.JPG  \n",
            "  inflating: Plants_2/train/Gauva healthy (P3a)/0004_0269.JPG  \n",
            "  inflating: Plants_2/train/Gauva healthy (P3a)/0004_0270.JPG  \n",
            "  inflating: Plants_2/train/Gauva healthy (P3a)/0004_0271.JPG  \n",
            "  inflating: Plants_2/train/Gauva healthy (P3a)/0004_0272.JPG  \n",
            "  inflating: Plants_2/train/Gauva healthy (P3a)/0004_0273.JPG  \n",
            "  inflating: Plants_2/train/Gauva healthy (P3a)/0004_0274.JPG  \n",
            "  inflating: Plants_2/train/Gauva healthy (P3a)/0004_0275.JPG  \n",
            "  inflating: Plants_2/train/Gauva healthy (P3a)/0004_0276.JPG  \n",
            "  inflating: Plants_2/train/Gauva healthy (P3a)/0004_0277.JPG  \n",
            "  inflating: Plants_2/train/Jamun diseased (P5b)/0017_0011.JPG  \n",
            "  inflating: Plants_2/train/Jamun diseased (P5b)/0017_0012.JPG  \n",
            "  inflating: Plants_2/train/Jamun diseased (P5b)/0017_0013.JPG  \n",
            "  inflating: Plants_2/train/Jamun diseased (P5b)/0017_0014.JPG  \n",
            "  inflating: Plants_2/train/Jamun diseased (P5b)/0017_0015.JPG  \n",
            "  inflating: Plants_2/train/Jamun diseased (P5b)/0017_0016.JPG  \n",
            "  inflating: Plants_2/train/Jamun diseased (P5b)/0017_0017.JPG  \n",
            "  inflating: Plants_2/train/Jamun diseased (P5b)/0017_0018.JPG  \n",
            "  inflating: Plants_2/train/Jamun diseased (P5b)/0017_0019.JPG  \n",
            "  inflating: Plants_2/train/Jamun diseased (P5b)/0017_0020.JPG  \n",
            "  inflating: Plants_2/train/Jamun diseased (P5b)/0017_0021.JPG  \n",
            "  inflating: Plants_2/train/Jamun diseased (P5b)/0017_0022.JPG  \n",
            "  inflating: Plants_2/train/Jamun diseased (P5b)/0017_0023.JPG  \n",
            "  inflating: Plants_2/train/Jamun diseased (P5b)/0017_0024.JPG  \n",
            "  inflating: Plants_2/train/Jamun diseased (P5b)/0017_0025.JPG  \n",
            "  inflating: Plants_2/train/Jamun diseased (P5b)/0017_0026.JPG  \n",
            "  inflating: Plants_2/train/Jamun diseased (P5b)/0017_0027.JPG  \n",
            "  inflating: Plants_2/train/Jamun diseased (P5b)/0017_0028.JPG  \n",
            "  inflating: Plants_2/train/Jamun diseased (P5b)/0017_0029.JPG  \n",
            "  inflating: Plants_2/train/Jamun diseased (P5b)/0017_0030.JPG  \n",
            "  inflating: Plants_2/train/Jamun diseased (P5b)/0017_0031.JPG  \n",
            "  inflating: Plants_2/train/Jamun diseased (P5b)/0017_0032.JPG  \n",
            "  inflating: Plants_2/train/Jamun diseased (P5b)/0017_0033.JPG  \n",
            "  inflating: Plants_2/train/Jamun diseased (P5b)/0017_0034.JPG  \n",
            "  inflating: Plants_2/train/Jamun diseased (P5b)/0017_0035.JPG  \n",
            "  inflating: Plants_2/train/Jamun diseased (P5b)/0017_0036.JPG  \n",
            "  inflating: Plants_2/train/Jamun diseased (P5b)/0017_0037.JPG  \n",
            "  inflating: Plants_2/train/Jamun diseased (P5b)/0017_0038.JPG  \n",
            "  inflating: Plants_2/train/Jamun diseased (P5b)/0017_0039.JPG  \n",
            "  inflating: Plants_2/train/Jamun diseased (P5b)/0017_0040.JPG  \n",
            "  inflating: Plants_2/train/Jamun diseased (P5b)/0017_0041.JPG  \n",
            "  inflating: Plants_2/train/Jamun diseased (P5b)/0017_0042.JPG  \n",
            "  inflating: Plants_2/train/Jamun diseased (P5b)/0017_0043.JPG  \n",
            "  inflating: Plants_2/train/Jamun diseased (P5b)/0017_0044.JPG  \n",
            "  inflating: Plants_2/train/Jamun diseased (P5b)/0017_0045.JPG  \n",
            "  inflating: Plants_2/train/Jamun diseased (P5b)/0017_0046.JPG  \n",
            "  inflating: Plants_2/train/Jamun diseased (P5b)/0017_0047.JPG  \n",
            "  inflating: Plants_2/train/Jamun diseased (P5b)/0017_0048.JPG  \n",
            "  inflating: Plants_2/train/Jamun diseased (P5b)/0017_0049.JPG  \n",
            "  inflating: Plants_2/train/Jamun diseased (P5b)/0017_0050.JPG  \n",
            "  inflating: Plants_2/train/Jamun diseased (P5b)/0017_0051.JPG  \n",
            "  inflating: Plants_2/train/Jamun diseased (P5b)/0017_0052.JPG  \n",
            "  inflating: Plants_2/train/Jamun diseased (P5b)/0017_0053.JPG  \n",
            "  inflating: Plants_2/train/Jamun diseased (P5b)/0017_0054.JPG  \n",
            "  inflating: Plants_2/train/Jamun diseased (P5b)/0017_0055.JPG  \n",
            "  inflating: Plants_2/train/Jamun diseased (P5b)/0017_0056.JPG  \n",
            "  inflating: Plants_2/train/Jamun diseased (P5b)/0017_0057.JPG  \n",
            "  inflating: Plants_2/train/Jamun diseased (P5b)/0017_0058.JPG  \n",
            "  inflating: Plants_2/train/Jamun diseased (P5b)/0017_0059.JPG  \n",
            "  inflating: Plants_2/train/Jamun diseased (P5b)/0017_0060.JPG  \n",
            "  inflating: Plants_2/train/Jamun diseased (P5b)/0017_0061.JPG  \n",
            "  inflating: Plants_2/train/Jamun diseased (P5b)/0017_0062.JPG  \n",
            "  inflating: Plants_2/train/Jamun diseased (P5b)/0017_0063.JPG  \n",
            "  inflating: Plants_2/train/Jamun diseased (P5b)/0017_0064.JPG  \n",
            "  inflating: Plants_2/train/Jamun diseased (P5b)/0017_0065.JPG  \n",
            "  inflating: Plants_2/train/Jamun diseased (P5b)/0017_0066.JPG  \n",
            "  inflating: Plants_2/train/Jamun diseased (P5b)/0017_0067.JPG  \n",
            "  inflating: Plants_2/train/Jamun diseased (P5b)/0017_0068.JPG  \n",
            "  inflating: Plants_2/train/Jamun diseased (P5b)/0017_0069.JPG  \n",
            "  inflating: Plants_2/train/Jamun diseased (P5b)/0017_0070.JPG  \n",
            "  inflating: Plants_2/train/Jamun diseased (P5b)/0017_0071.JPG  \n",
            "  inflating: Plants_2/train/Jamun diseased (P5b)/0017_0072.JPG  \n",
            "  inflating: Plants_2/train/Jamun diseased (P5b)/0017_0073.JPG  \n",
            "  inflating: Plants_2/train/Jamun diseased (P5b)/0017_0074.JPG  \n",
            "  inflating: Plants_2/train/Jamun diseased (P5b)/0017_0075.JPG  \n",
            "  inflating: Plants_2/train/Jamun diseased (P5b)/0017_0076.JPG  \n",
            "  inflating: Plants_2/train/Jamun diseased (P5b)/0017_0077.JPG  \n",
            "  inflating: Plants_2/train/Jamun diseased (P5b)/0017_0078.JPG  \n",
            "  inflating: Plants_2/train/Jamun diseased (P5b)/0017_0079.JPG  \n",
            "  inflating: Plants_2/train/Jamun diseased (P5b)/0017_0080.JPG  \n",
            "  inflating: Plants_2/train/Jamun diseased (P5b)/0017_0081.JPG  \n",
            "  inflating: Plants_2/train/Jamun diseased (P5b)/0017_0082.JPG  \n",
            "  inflating: Plants_2/train/Jamun diseased (P5b)/0017_0083.JPG  \n",
            "  inflating: Plants_2/train/Jamun diseased (P5b)/0017_0084.JPG  \n",
            "  inflating: Plants_2/train/Jamun diseased (P5b)/0017_0085.JPG  \n",
            "  inflating: Plants_2/train/Jamun diseased (P5b)/0017_0086.JPG  \n",
            "  inflating: Plants_2/train/Jamun diseased (P5b)/0017_0087.JPG  \n",
            "  inflating: Plants_2/train/Jamun diseased (P5b)/0017_0088.JPG  \n",
            "  inflating: Plants_2/train/Jamun diseased (P5b)/0017_0089.JPG  \n",
            "  inflating: Plants_2/train/Jamun diseased (P5b)/0017_0090.JPG  \n",
            "  inflating: Plants_2/train/Jamun diseased (P5b)/0017_0091.JPG  \n",
            "  inflating: Plants_2/train/Jamun diseased (P5b)/0017_0092.JPG  \n",
            "  inflating: Plants_2/train/Jamun diseased (P5b)/0017_0093.JPG  \n",
            "  inflating: Plants_2/train/Jamun diseased (P5b)/0017_0094.JPG  \n",
            "  inflating: Plants_2/train/Jamun diseased (P5b)/0017_0095.JPG  \n",
            "  inflating: Plants_2/train/Jamun diseased (P5b)/0017_0096.JPG  \n",
            "  inflating: Plants_2/train/Jamun diseased (P5b)/0017_0097.JPG  \n",
            "  inflating: Plants_2/train/Jamun diseased (P5b)/0017_0098.JPG  \n",
            "  inflating: Plants_2/train/Jamun diseased (P5b)/0017_0099.JPG  \n",
            "  inflating: Plants_2/train/Jamun diseased (P5b)/0017_0100.JPG  \n",
            "  inflating: Plants_2/train/Jamun diseased (P5b)/0017_0101.JPG  \n",
            "  inflating: Plants_2/train/Jamun diseased (P5b)/0017_0102.JPG  \n",
            "  inflating: Plants_2/train/Jamun diseased (P5b)/0017_0103.JPG  \n",
            "  inflating: Plants_2/train/Jamun diseased (P5b)/0017_0104.JPG  \n",
            "  inflating: Plants_2/train/Jamun diseased (P5b)/0017_0105.JPG  \n",
            "  inflating: Plants_2/train/Jamun diseased (P5b)/0017_0106.JPG  \n",
            "  inflating: Plants_2/train/Jamun diseased (P5b)/0017_0107.JPG  \n",
            "  inflating: Plants_2/train/Jamun diseased (P5b)/0017_0108.JPG  \n",
            "  inflating: Plants_2/train/Jamun diseased (P5b)/0017_0109.JPG  \n",
            "  inflating: Plants_2/train/Jamun diseased (P5b)/0017_0110.JPG  \n",
            "  inflating: Plants_2/train/Jamun diseased (P5b)/0017_0111.JPG  \n",
            "  inflating: Plants_2/train/Jamun diseased (P5b)/0017_0112.JPG  \n",
            "  inflating: Plants_2/train/Jamun diseased (P5b)/0017_0113.JPG  \n",
            "  inflating: Plants_2/train/Jamun diseased (P5b)/0017_0114.JPG  \n",
            "  inflating: Plants_2/train/Jamun diseased (P5b)/0017_0115.JPG  \n",
            "  inflating: Plants_2/train/Jamun diseased (P5b)/0017_0116.JPG  \n",
            "  inflating: Plants_2/train/Jamun diseased (P5b)/0017_0117.JPG  \n",
            "  inflating: Plants_2/train/Jamun diseased (P5b)/0017_0118.JPG  \n",
            "  inflating: Plants_2/train/Jamun diseased (P5b)/0017_0119.JPG  \n",
            "  inflating: Plants_2/train/Jamun diseased (P5b)/0017_0120.JPG  \n",
            "  inflating: Plants_2/train/Jamun diseased (P5b)/0017_0121.JPG  \n",
            "  inflating: Plants_2/train/Jamun diseased (P5b)/0017_0122.JPG  \n",
            "  inflating: Plants_2/train/Jamun diseased (P5b)/0017_0123.JPG  \n",
            "  inflating: Plants_2/train/Jamun diseased (P5b)/0017_0124.JPG  \n",
            "  inflating: Plants_2/train/Jamun diseased (P5b)/0017_0125.JPG  \n",
            "  inflating: Plants_2/train/Jamun diseased (P5b)/0017_0126.JPG  \n",
            "  inflating: Plants_2/train/Jamun diseased (P5b)/0017_0127.JPG  \n",
            "  inflating: Plants_2/train/Jamun diseased (P5b)/0017_0128.JPG  \n",
            "  inflating: Plants_2/train/Jamun diseased (P5b)/0017_0129.JPG  \n",
            "  inflating: Plants_2/train/Jamun diseased (P5b)/0017_0130.JPG  \n",
            "  inflating: Plants_2/train/Jamun diseased (P5b)/0017_0131.JPG  \n",
            "  inflating: Plants_2/train/Jamun diseased (P5b)/0017_0132.JPG  \n",
            "  inflating: Plants_2/train/Jamun diseased (P5b)/0017_0133.JPG  \n",
            "  inflating: Plants_2/train/Jamun diseased (P5b)/0017_0134.JPG  \n",
            "  inflating: Plants_2/train/Jamun diseased (P5b)/0017_0135.JPG  \n",
            "  inflating: Plants_2/train/Jamun diseased (P5b)/0017_0136.JPG  \n",
            "  inflating: Plants_2/train/Jamun diseased (P5b)/0017_0137.JPG  \n",
            "  inflating: Plants_2/train/Jamun diseased (P5b)/0017_0138.JPG  \n",
            "  inflating: Plants_2/train/Jamun diseased (P5b)/0017_0139.JPG  \n",
            "  inflating: Plants_2/train/Jamun diseased (P5b)/0017_0140.JPG  \n",
            "  inflating: Plants_2/train/Jamun diseased (P5b)/0017_0141.JPG  \n",
            "  inflating: Plants_2/train/Jamun diseased (P5b)/0017_0142.JPG  \n",
            "  inflating: Plants_2/train/Jamun diseased (P5b)/0017_0143.JPG  \n",
            "  inflating: Plants_2/train/Jamun diseased (P5b)/0017_0144.JPG  \n",
            "  inflating: Plants_2/train/Jamun diseased (P5b)/0017_0145.JPG  \n",
            "  inflating: Plants_2/train/Jamun diseased (P5b)/0017_0146.JPG  \n",
            "  inflating: Plants_2/train/Jamun diseased (P5b)/0017_0147.JPG  \n",
            "  inflating: Plants_2/train/Jamun diseased (P5b)/0017_0148.JPG  \n",
            "  inflating: Plants_2/train/Jamun diseased (P5b)/0017_0149.JPG  \n",
            "  inflating: Plants_2/train/Jamun diseased (P5b)/0017_0150.JPG  \n",
            "  inflating: Plants_2/train/Jamun diseased (P5b)/0017_0151.JPG  \n",
            "  inflating: Plants_2/train/Jamun diseased (P5b)/0017_0152.JPG  \n",
            "  inflating: Plants_2/train/Jamun diseased (P5b)/0017_0153.JPG  \n",
            "  inflating: Plants_2/train/Jamun diseased (P5b)/0017_0154.JPG  \n",
            "  inflating: Plants_2/train/Jamun diseased (P5b)/0017_0155.JPG  \n",
            "  inflating: Plants_2/train/Jamun diseased (P5b)/0017_0156.JPG  \n",
            "  inflating: Plants_2/train/Jamun diseased (P5b)/0017_0157.JPG  \n",
            "  inflating: Plants_2/train/Jamun diseased (P5b)/0017_0158.JPG  \n",
            "  inflating: Plants_2/train/Jamun diseased (P5b)/0017_0159.JPG  \n",
            "  inflating: Plants_2/train/Jamun diseased (P5b)/0017_0160.JPG  \n",
            "  inflating: Plants_2/train/Jamun diseased (P5b)/0017_0161.JPG  \n",
            "  inflating: Plants_2/train/Jamun diseased (P5b)/0017_0162.JPG  \n",
            "  inflating: Plants_2/train/Jamun diseased (P5b)/0017_0163.JPG  \n",
            "  inflating: Plants_2/train/Jamun diseased (P5b)/0017_0164.JPG  \n",
            "  inflating: Plants_2/train/Jamun diseased (P5b)/0017_0165.JPG  \n",
            "  inflating: Plants_2/train/Jamun diseased (P5b)/0017_0166.JPG  \n",
            "  inflating: Plants_2/train/Jamun diseased (P5b)/0017_0167.JPG  \n",
            "  inflating: Plants_2/train/Jamun diseased (P5b)/0017_0168.JPG  \n",
            "  inflating: Plants_2/train/Jamun diseased (P5b)/0017_0169.JPG  \n",
            "  inflating: Plants_2/train/Jamun diseased (P5b)/0017_0170.JPG  \n",
            "  inflating: Plants_2/train/Jamun diseased (P5b)/0017_0171.JPG  \n",
            "  inflating: Plants_2/train/Jamun diseased (P5b)/0017_0172.JPG  \n",
            "  inflating: Plants_2/train/Jamun diseased (P5b)/0017_0173.JPG  \n",
            "  inflating: Plants_2/train/Jamun diseased (P5b)/0017_0174.JPG  \n",
            "  inflating: Plants_2/train/Jamun diseased (P5b)/0017_0175.JPG  \n",
            "  inflating: Plants_2/train/Jamun diseased (P5b)/0017_0176.JPG  \n",
            "  inflating: Plants_2/train/Jamun diseased (P5b)/0017_0177.JPG  \n",
            "  inflating: Plants_2/train/Jamun diseased (P5b)/0017_0178.JPG  \n",
            "  inflating: Plants_2/train/Jamun diseased (P5b)/0017_0179.JPG  \n",
            "  inflating: Plants_2/train/Jamun diseased (P5b)/0017_0180.JPG  \n",
            "  inflating: Plants_2/train/Jamun diseased (P5b)/0017_0181.JPG  \n",
            "  inflating: Plants_2/train/Jamun diseased (P5b)/0017_0182.JPG  \n",
            "  inflating: Plants_2/train/Jamun diseased (P5b)/0017_0183.JPG  \n",
            "  inflating: Plants_2/train/Jamun diseased (P5b)/0017_0184.JPG  \n",
            "  inflating: Plants_2/train/Jamun diseased (P5b)/0017_0185.JPG  \n",
            "  inflating: Plants_2/train/Jamun diseased (P5b)/0017_0186.JPG  \n",
            "  inflating: Plants_2/train/Jamun diseased (P5b)/0017_0187.JPG  \n",
            "  inflating: Plants_2/train/Jamun diseased (P5b)/0017_0188.JPG  \n",
            "  inflating: Plants_2/train/Jamun diseased (P5b)/0017_0189.JPG  \n",
            "  inflating: Plants_2/train/Jamun diseased (P5b)/0017_0190.JPG  \n",
            "  inflating: Plants_2/train/Jamun diseased (P5b)/0017_0191.JPG  \n",
            "  inflating: Plants_2/train/Jamun diseased (P5b)/0017_0192.JPG  \n",
            "  inflating: Plants_2/train/Jamun diseased (P5b)/0017_0193.JPG  \n",
            "  inflating: Plants_2/train/Jamun diseased (P5b)/0017_0194.JPG  \n",
            "  inflating: Plants_2/train/Jamun diseased (P5b)/0017_0195.JPG  \n",
            "  inflating: Plants_2/train/Jamun diseased (P5b)/0017_0196.JPG  \n",
            "  inflating: Plants_2/train/Jamun diseased (P5b)/0017_0197.JPG  \n",
            "  inflating: Plants_2/train/Jamun diseased (P5b)/0017_0198.JPG  \n",
            "  inflating: Plants_2/train/Jamun diseased (P5b)/0017_0199.JPG  \n",
            "  inflating: Plants_2/train/Jamun diseased (P5b)/0017_0200.JPG  \n",
            "  inflating: Plants_2/train/Jamun diseased (P5b)/0017_0201.JPG  \n",
            "  inflating: Plants_2/train/Jamun diseased (P5b)/0017_0202.JPG  \n",
            "  inflating: Plants_2/train/Jamun diseased (P5b)/0017_0203.JPG  \n",
            "  inflating: Plants_2/train/Jamun diseased (P5b)/0017_0204.JPG  \n",
            "  inflating: Plants_2/train/Jamun diseased (P5b)/0017_0205.JPG  \n",
            "  inflating: Plants_2/train/Jamun diseased (P5b)/0017_0206.JPG  \n",
            "  inflating: Plants_2/train/Jamun diseased (P5b)/0017_0207.JPG  \n",
            "  inflating: Plants_2/train/Jamun diseased (P5b)/0017_0208.JPG  \n",
            "  inflating: Plants_2/train/Jamun diseased (P5b)/0017_0209.JPG  \n",
            "  inflating: Plants_2/train/Jamun diseased (P5b)/0017_0210.JPG  \n",
            "  inflating: Plants_2/train/Jamun diseased (P5b)/0017_0211.JPG  \n",
            "  inflating: Plants_2/train/Jamun diseased (P5b)/0017_0212.JPG  \n",
            "  inflating: Plants_2/train/Jamun diseased (P5b)/0017_0213.JPG  \n",
            "  inflating: Plants_2/train/Jamun diseased (P5b)/0017_0214.JPG  \n",
            "  inflating: Plants_2/train/Jamun diseased (P5b)/0017_0215.JPG  \n",
            "  inflating: Plants_2/train/Jamun diseased (P5b)/0017_0216.JPG  \n",
            "  inflating: Plants_2/train/Jamun diseased (P5b)/0017_0217.JPG  \n",
            "  inflating: Plants_2/train/Jamun diseased (P5b)/0017_0218.JPG  \n",
            "  inflating: Plants_2/train/Jamun diseased (P5b)/0017_0219.JPG  \n",
            "  inflating: Plants_2/train/Jamun diseased (P5b)/0017_0220.JPG  \n",
            "  inflating: Plants_2/train/Jamun diseased (P5b)/0017_0221.JPG  \n",
            "  inflating: Plants_2/train/Jamun diseased (P5b)/0017_0222.JPG  \n",
            "  inflating: Plants_2/train/Jamun diseased (P5b)/0017_0223.JPG  \n",
            "  inflating: Plants_2/train/Jamun diseased (P5b)/0017_0224.JPG  \n",
            "  inflating: Plants_2/train/Jamun diseased (P5b)/0017_0225.JPG  \n",
            "  inflating: Plants_2/train/Jamun diseased (P5b)/0017_0226.JPG  \n",
            "  inflating: Plants_2/train/Jamun diseased (P5b)/0017_0227.JPG  \n",
            "  inflating: Plants_2/train/Jamun diseased (P5b)/0017_0228.JPG  \n",
            "  inflating: Plants_2/train/Jamun diseased (P5b)/0017_0229.JPG  \n",
            "  inflating: Plants_2/train/Jamun diseased (P5b)/0017_0230.JPG  \n",
            "  inflating: Plants_2/train/Jamun diseased (P5b)/0017_0231.JPG  \n",
            "  inflating: Plants_2/train/Jamun diseased (P5b)/0017_0232.JPG  \n",
            "  inflating: Plants_2/train/Jamun diseased (P5b)/0017_0233.JPG  \n",
            "  inflating: Plants_2/train/Jamun diseased (P5b)/0017_0234.JPG  \n",
            "  inflating: Plants_2/train/Jamun diseased (P5b)/0017_0235.JPG  \n",
            "  inflating: Plants_2/train/Jamun diseased (P5b)/0017_0236.JPG  \n",
            "  inflating: Plants_2/train/Jamun diseased (P5b)/0017_0237.JPG  \n",
            "  inflating: Plants_2/train/Jamun diseased (P5b)/0017_0238.JPG  \n",
            "  inflating: Plants_2/train/Jamun diseased (P5b)/0017_0239.JPG  \n",
            "  inflating: Plants_2/train/Jamun diseased (P5b)/0017_0240.JPG  \n",
            "  inflating: Plants_2/train/Jamun diseased (P5b)/0017_0241.JPG  \n",
            "  inflating: Plants_2/train/Jamun diseased (P5b)/0017_0242.JPG  \n",
            "  inflating: Plants_2/train/Jamun diseased (P5b)/0017_0243.JPG  \n",
            "  inflating: Plants_2/train/Jamun diseased (P5b)/0017_0244.JPG  \n",
            "  inflating: Plants_2/train/Jamun diseased (P5b)/0017_0245.JPG  \n",
            "  inflating: Plants_2/train/Jamun diseased (P5b)/0017_0246.JPG  \n",
            "  inflating: Plants_2/train/Jamun diseased (P5b)/0017_0247.JPG  \n",
            "  inflating: Plants_2/train/Jamun diseased (P5b)/0017_0248.JPG  \n",
            "  inflating: Plants_2/train/Jamun diseased (P5b)/0017_0249.JPG  \n",
            "  inflating: Plants_2/train/Jamun diseased (P5b)/0017_0250.JPG  \n",
            "  inflating: Plants_2/train/Jamun diseased (P5b)/0017_0251.JPG  \n",
            "  inflating: Plants_2/train/Jamun diseased (P5b)/0017_0252.JPG  \n",
            "  inflating: Plants_2/train/Jamun diseased (P5b)/0017_0253.JPG  \n",
            "  inflating: Plants_2/train/Jamun diseased (P5b)/0017_0254.JPG  \n",
            "  inflating: Plants_2/train/Jamun diseased (P5b)/0017_0255.JPG  \n",
            "  inflating: Plants_2/train/Jamun diseased (P5b)/0017_0256.JPG  \n",
            "  inflating: Plants_2/train/Jamun diseased (P5b)/0017_0257.JPG  \n",
            "  inflating: Plants_2/train/Jamun diseased (P5b)/0017_0258.JPG  \n",
            "  inflating: Plants_2/train/Jamun diseased (P5b)/0017_0259.JPG  \n",
            "  inflating: Plants_2/train/Jamun diseased (P5b)/0017_0260.JPG  \n",
            "  inflating: Plants_2/train/Jamun diseased (P5b)/0017_0261.JPG  \n",
            "  inflating: Plants_2/train/Jamun diseased (P5b)/0017_0262.JPG  \n",
            "  inflating: Plants_2/train/Jamun diseased (P5b)/0017_0263.JPG  \n",
            "  inflating: Plants_2/train/Jamun diseased (P5b)/0017_0264.JPG  \n",
            "  inflating: Plants_2/train/Jamun diseased (P5b)/0017_0265.JPG  \n",
            "  inflating: Plants_2/train/Jamun diseased (P5b)/0017_0266.JPG  \n",
            "  inflating: Plants_2/train/Jamun diseased (P5b)/0017_0267.JPG  \n",
            "  inflating: Plants_2/train/Jamun diseased (P5b)/0017_0268.JPG  \n",
            "  inflating: Plants_2/train/Jamun diseased (P5b)/0017_0269.JPG  \n",
            "  inflating: Plants_2/train/Jamun diseased (P5b)/0017_0270.JPG  \n",
            "  inflating: Plants_2/train/Jamun diseased (P5b)/0017_0271.JPG  \n",
            "  inflating: Plants_2/train/Jamun diseased (P5b)/0017_0272.JPG  \n",
            "  inflating: Plants_2/train/Jamun diseased (P5b)/0017_0273.JPG  \n",
            "  inflating: Plants_2/train/Jamun diseased (P5b)/0017_0274.JPG  \n",
            "  inflating: Plants_2/train/Jamun diseased (P5b)/0017_0275.JPG  \n",
            "  inflating: Plants_2/train/Jamun diseased (P5b)/0017_0276.JPG  \n",
            "  inflating: Plants_2/train/Jamun diseased (P5b)/0017_0277.JPG  \n",
            "  inflating: Plants_2/train/Jamun diseased (P5b)/0017_0278.JPG  \n",
            "  inflating: Plants_2/train/Jamun diseased (P5b)/0017_0279.JPG  \n",
            "  inflating: Plants_2/train/Jamun diseased (P5b)/0017_0280.JPG  \n",
            "  inflating: Plants_2/train/Jamun diseased (P5b)/0017_0281.JPG  \n",
            "  inflating: Plants_2/train/Jamun diseased (P5b)/0017_0282.JPG  \n",
            "  inflating: Plants_2/train/Jamun diseased (P5b)/0017_0283.JPG  \n",
            "  inflating: Plants_2/train/Jamun diseased (P5b)/0017_0284.JPG  \n",
            "  inflating: Plants_2/train/Jamun diseased (P5b)/0017_0285.JPG  \n",
            "  inflating: Plants_2/train/Jamun diseased (P5b)/0017_0286.JPG  \n",
            "  inflating: Plants_2/train/Jamun diseased (P5b)/0017_0287.JPG  \n",
            "  inflating: Plants_2/train/Jamun diseased (P5b)/0017_0288.JPG  \n",
            "  inflating: Plants_2/train/Jamun diseased (P5b)/0017_0289.JPG  \n",
            "  inflating: Plants_2/train/Jamun diseased (P5b)/0017_0290.JPG  \n",
            "  inflating: Plants_2/train/Jamun diseased (P5b)/0017_0291.JPG  \n",
            "  inflating: Plants_2/train/Jamun diseased (P5b)/0017_0292.JPG  \n",
            "  inflating: Plants_2/train/Jamun diseased (P5b)/0017_0293.JPG  \n",
            "  inflating: Plants_2/train/Jamun diseased (P5b)/0017_0294.JPG  \n",
            "  inflating: Plants_2/train/Jamun diseased (P5b)/0017_0295.JPG  \n",
            "  inflating: Plants_2/train/Jamun diseased (P5b)/0017_0296.JPG  \n",
            "  inflating: Plants_2/train/Jamun diseased (P5b)/0017_0297.JPG  \n",
            "  inflating: Plants_2/train/Jamun diseased (P5b)/0017_0298.JPG  \n",
            "  inflating: Plants_2/train/Jamun diseased (P5b)/0017_0299.JPG  \n",
            "  inflating: Plants_2/train/Jamun diseased (P5b)/0017_0300.JPG  \n",
            "  inflating: Plants_2/train/Jamun diseased (P5b)/0017_0301.JPG  \n",
            "  inflating: Plants_2/train/Jamun diseased (P5b)/0017_0302.JPG  \n",
            "  inflating: Plants_2/train/Jamun diseased (P5b)/0017_0303.JPG  \n",
            "  inflating: Plants_2/train/Jamun diseased (P5b)/0017_0304.JPG  \n",
            "  inflating: Plants_2/train/Jamun diseased (P5b)/0017_0305.JPG  \n",
            "  inflating: Plants_2/train/Jamun diseased (P5b)/0017_0306.JPG  \n",
            "  inflating: Plants_2/train/Jamun diseased (P5b)/0017_0307.JPG  \n",
            "  inflating: Plants_2/train/Jamun diseased (P5b)/0017_0308.JPG  \n",
            "  inflating: Plants_2/train/Jamun diseased (P5b)/0017_0309.JPG  \n",
            "  inflating: Plants_2/train/Jamun diseased (P5b)/0017_0310.JPG  \n",
            "  inflating: Plants_2/train/Jamun diseased (P5b)/0017_0311.JPG  \n",
            "  inflating: Plants_2/train/Jamun diseased (P5b)/0017_0312.JPG  \n",
            "  inflating: Plants_2/train/Jamun diseased (P5b)/0017_0313.JPG  \n",
            "  inflating: Plants_2/train/Jamun diseased (P5b)/0017_0314.JPG  \n",
            "  inflating: Plants_2/train/Jamun diseased (P5b)/0017_0315.JPG  \n",
            "  inflating: Plants_2/train/Jamun diseased (P5b)/0017_0316.JPG  \n",
            "  inflating: Plants_2/train/Jamun diseased (P5b)/0017_0317.JPG  \n",
            "  inflating: Plants_2/train/Jamun diseased (P5b)/0017_0318.JPG  \n",
            "  inflating: Plants_2/train/Jamun diseased (P5b)/0017_0319.JPG  \n",
            "  inflating: Plants_2/train/Jamun diseased (P5b)/0017_0320.JPG  \n",
            "  inflating: Plants_2/train/Jamun diseased (P5b)/0017_0321.JPG  \n",
            "  inflating: Plants_2/train/Jamun diseased (P5b)/0017_0322.JPG  \n",
            "  inflating: Plants_2/train/Jamun diseased (P5b)/0017_0323.JPG  \n",
            "  inflating: Plants_2/train/Jamun diseased (P5b)/0017_0324.JPG  \n",
            "  inflating: Plants_2/train/Jamun diseased (P5b)/0017_0325.JPG  \n",
            "  inflating: Plants_2/train/Jamun diseased (P5b)/0017_0326.JPG  \n",
            "  inflating: Plants_2/train/Jamun diseased (P5b)/0017_0327.JPG  \n",
            "  inflating: Plants_2/train/Jamun diseased (P5b)/0017_0328.JPG  \n",
            "  inflating: Plants_2/train/Jamun diseased (P5b)/0017_0329.JPG  \n",
            "  inflating: Plants_2/train/Jamun diseased (P5b)/0017_0330.JPG  \n",
            "  inflating: Plants_2/train/Jamun diseased (P5b)/0017_0331.JPG  \n",
            "  inflating: Plants_2/train/Jamun diseased (P5b)/0017_0332.JPG  \n",
            "  inflating: Plants_2/train/Jamun diseased (P5b)/0017_0333.JPG  \n",
            "  inflating: Plants_2/train/Jamun diseased (P5b)/0017_0334.JPG  \n",
            "  inflating: Plants_2/train/Jamun diseased (P5b)/0017_0335.JPG  \n",
            "  inflating: Plants_2/train/Jamun diseased (P5b)/0017_0336.JPG  \n",
            "  inflating: Plants_2/train/Jamun diseased (P5b)/0017_0337.JPG  \n",
            "  inflating: Plants_2/train/Jamun diseased (P5b)/0017_0338.JPG  \n",
            "  inflating: Plants_2/train/Jamun diseased (P5b)/0017_0339.JPG  \n",
            "  inflating: Plants_2/train/Jamun diseased (P5b)/0017_0340.JPG  \n",
            "  inflating: Plants_2/train/Jamun diseased (P5b)/0017_0341.JPG  \n",
            "  inflating: Plants_2/train/Jamun diseased (P5b)/0017_0342.JPG  \n",
            "  inflating: Plants_2/train/Jamun diseased (P5b)/0017_0343.JPG  \n",
            "  inflating: Plants_2/train/Jamun diseased (P5b)/0017_0344.JPG  \n",
            "  inflating: Plants_2/train/Jamun diseased (P5b)/0017_0345.JPG  \n",
            "  inflating: Plants_2/train/Jamun healthy (P5a)/0005_0011.JPG  \n",
            "  inflating: Plants_2/train/Jamun healthy (P5a)/0005_0012.JPG  \n",
            "  inflating: Plants_2/train/Jamun healthy (P5a)/0005_0013.JPG  \n",
            "  inflating: Plants_2/train/Jamun healthy (P5a)/0005_0014.JPG  \n",
            "  inflating: Plants_2/train/Jamun healthy (P5a)/0005_0015.JPG  \n",
            "  inflating: Plants_2/train/Jamun healthy (P5a)/0005_0016.JPG  \n",
            "  inflating: Plants_2/train/Jamun healthy (P5a)/0005_0017.JPG  \n",
            "  inflating: Plants_2/train/Jamun healthy (P5a)/0005_0018.JPG  \n",
            "  inflating: Plants_2/train/Jamun healthy (P5a)/0005_0019.JPG  \n",
            "  inflating: Plants_2/train/Jamun healthy (P5a)/0005_0020.JPG  \n",
            "  inflating: Plants_2/train/Jamun healthy (P5a)/0005_0021.JPG  \n",
            "  inflating: Plants_2/train/Jamun healthy (P5a)/0005_0022.JPG  \n",
            "  inflating: Plants_2/train/Jamun healthy (P5a)/0005_0023.JPG  \n",
            "  inflating: Plants_2/train/Jamun healthy (P5a)/0005_0024.JPG  \n",
            "  inflating: Plants_2/train/Jamun healthy (P5a)/0005_0025.JPG  \n",
            "  inflating: Plants_2/train/Jamun healthy (P5a)/0005_0026.JPG  \n",
            "  inflating: Plants_2/train/Jamun healthy (P5a)/0005_0027.JPG  \n",
            "  inflating: Plants_2/train/Jamun healthy (P5a)/0005_0028.JPG  \n",
            "  inflating: Plants_2/train/Jamun healthy (P5a)/0005_0029.JPG  \n",
            "  inflating: Plants_2/train/Jamun healthy (P5a)/0005_0030.JPG  \n",
            "  inflating: Plants_2/train/Jamun healthy (P5a)/0005_0031.JPG  \n",
            "  inflating: Plants_2/train/Jamun healthy (P5a)/0005_0032.JPG  \n",
            "  inflating: Plants_2/train/Jamun healthy (P5a)/0005_0033.JPG  \n",
            "  inflating: Plants_2/train/Jamun healthy (P5a)/0005_0034.JPG  \n",
            "  inflating: Plants_2/train/Jamun healthy (P5a)/0005_0035.JPG  \n",
            "  inflating: Plants_2/train/Jamun healthy (P5a)/0005_0036.JPG  \n",
            "  inflating: Plants_2/train/Jamun healthy (P5a)/0005_0037.JPG  \n",
            "  inflating: Plants_2/train/Jamun healthy (P5a)/0005_0038.JPG  \n",
            "  inflating: Plants_2/train/Jamun healthy (P5a)/0005_0039.JPG  \n",
            "  inflating: Plants_2/train/Jamun healthy (P5a)/0005_0040.JPG  \n",
            "  inflating: Plants_2/train/Jamun healthy (P5a)/0005_0041.JPG  \n",
            "  inflating: Plants_2/train/Jamun healthy (P5a)/0005_0042.JPG  \n",
            "  inflating: Plants_2/train/Jamun healthy (P5a)/0005_0043.JPG  \n",
            "  inflating: Plants_2/train/Jamun healthy (P5a)/0005_0044.JPG  \n",
            "  inflating: Plants_2/train/Jamun healthy (P5a)/0005_0045.JPG  \n",
            "  inflating: Plants_2/train/Jamun healthy (P5a)/0005_0046.JPG  \n",
            "  inflating: Plants_2/train/Jamun healthy (P5a)/0005_0047.JPG  \n",
            "  inflating: Plants_2/train/Jamun healthy (P5a)/0005_0048.JPG  \n",
            "  inflating: Plants_2/train/Jamun healthy (P5a)/0005_0049.JPG  \n",
            "  inflating: Plants_2/train/Jamun healthy (P5a)/0005_0050.JPG  \n",
            "  inflating: Plants_2/train/Jamun healthy (P5a)/0005_0051.JPG  \n",
            "  inflating: Plants_2/train/Jamun healthy (P5a)/0005_0052.JPG  \n",
            "  inflating: Plants_2/train/Jamun healthy (P5a)/0005_0053.JPG  \n",
            "  inflating: Plants_2/train/Jamun healthy (P5a)/0005_0054.JPG  \n",
            "  inflating: Plants_2/train/Jamun healthy (P5a)/0005_0055.JPG  \n",
            "  inflating: Plants_2/train/Jamun healthy (P5a)/0005_0056.JPG  \n",
            "  inflating: Plants_2/train/Jamun healthy (P5a)/0005_0057.JPG  \n",
            "  inflating: Plants_2/train/Jamun healthy (P5a)/0005_0058.JPG  \n",
            "  inflating: Plants_2/train/Jamun healthy (P5a)/0005_0059.JPG  \n",
            "  inflating: Plants_2/train/Jamun healthy (P5a)/0005_0060.JPG  \n",
            "  inflating: Plants_2/train/Jamun healthy (P5a)/0005_0061.JPG  \n",
            "  inflating: Plants_2/train/Jamun healthy (P5a)/0005_0062.JPG  \n",
            "  inflating: Plants_2/train/Jamun healthy (P5a)/0005_0063.JPG  \n",
            "  inflating: Plants_2/train/Jamun healthy (P5a)/0005_0064.JPG  \n",
            "  inflating: Plants_2/train/Jamun healthy (P5a)/0005_0065.JPG  \n",
            "  inflating: Plants_2/train/Jamun healthy (P5a)/0005_0066.JPG  \n",
            "  inflating: Plants_2/train/Jamun healthy (P5a)/0005_0067.JPG  \n",
            "  inflating: Plants_2/train/Jamun healthy (P5a)/0005_0068.JPG  \n",
            "  inflating: Plants_2/train/Jamun healthy (P5a)/0005_0069.JPG  \n",
            "  inflating: Plants_2/train/Jamun healthy (P5a)/0005_0070.JPG  \n",
            "  inflating: Plants_2/train/Jamun healthy (P5a)/0005_0071.JPG  \n",
            "  inflating: Plants_2/train/Jamun healthy (P5a)/0005_0072.JPG  \n",
            "  inflating: Plants_2/train/Jamun healthy (P5a)/0005_0073.JPG  \n",
            "  inflating: Plants_2/train/Jamun healthy (P5a)/0005_0074.JPG  \n",
            "  inflating: Plants_2/train/Jamun healthy (P5a)/0005_0075.JPG  \n",
            "  inflating: Plants_2/train/Jamun healthy (P5a)/0005_0076.JPG  \n",
            "  inflating: Plants_2/train/Jamun healthy (P5a)/0005_0077.JPG  \n",
            "  inflating: Plants_2/train/Jamun healthy (P5a)/0005_0078.JPG  \n",
            "  inflating: Plants_2/train/Jamun healthy (P5a)/0005_0079.JPG  \n",
            "  inflating: Plants_2/train/Jamun healthy (P5a)/0005_0080.JPG  \n",
            "  inflating: Plants_2/train/Jamun healthy (P5a)/0005_0081.JPG  \n",
            "  inflating: Plants_2/train/Jamun healthy (P5a)/0005_0082.JPG  \n",
            "  inflating: Plants_2/train/Jamun healthy (P5a)/0005_0083.JPG  \n",
            "  inflating: Plants_2/train/Jamun healthy (P5a)/0005_0084.JPG  \n",
            "  inflating: Plants_2/train/Jamun healthy (P5a)/0005_0085.JPG  \n",
            "  inflating: Plants_2/train/Jamun healthy (P5a)/0005_0086.JPG  \n",
            "  inflating: Plants_2/train/Jamun healthy (P5a)/0005_0087.JPG  \n",
            "  inflating: Plants_2/train/Jamun healthy (P5a)/0005_0088.JPG  \n",
            "  inflating: Plants_2/train/Jamun healthy (P5a)/0005_0089.JPG  \n",
            "  inflating: Plants_2/train/Jamun healthy (P5a)/0005_0090.JPG  \n",
            "  inflating: Plants_2/train/Jamun healthy (P5a)/0005_0091.JPG  \n",
            "  inflating: Plants_2/train/Jamun healthy (P5a)/0005_0092.JPG  \n",
            "  inflating: Plants_2/train/Jamun healthy (P5a)/0005_0093.JPG  \n",
            "  inflating: Plants_2/train/Jamun healthy (P5a)/0005_0094.JPG  \n",
            "  inflating: Plants_2/train/Jamun healthy (P5a)/0005_0095.JPG  \n",
            "  inflating: Plants_2/train/Jamun healthy (P5a)/0005_0096.JPG  \n",
            "  inflating: Plants_2/train/Jamun healthy (P5a)/0005_0097.JPG  \n",
            "  inflating: Plants_2/train/Jamun healthy (P5a)/0005_0098.JPG  \n",
            "  inflating: Plants_2/train/Jamun healthy (P5a)/0005_0099.JPG  \n",
            "  inflating: Plants_2/train/Jamun healthy (P5a)/0005_0100.JPG  \n",
            "  inflating: Plants_2/train/Jamun healthy (P5a)/0005_0101.JPG  \n",
            "  inflating: Plants_2/train/Jamun healthy (P5a)/0005_0102.JPG  \n",
            "  inflating: Plants_2/train/Jamun healthy (P5a)/0005_0103.JPG  \n",
            "  inflating: Plants_2/train/Jamun healthy (P5a)/0005_0104.JPG  \n",
            "  inflating: Plants_2/train/Jamun healthy (P5a)/0005_0105.JPG  \n",
            "  inflating: Plants_2/train/Jamun healthy (P5a)/0005_0106.JPG  \n",
            "  inflating: Plants_2/train/Jamun healthy (P5a)/0005_0107.JPG  \n",
            "  inflating: Plants_2/train/Jamun healthy (P5a)/0005_0108.JPG  \n",
            "  inflating: Plants_2/train/Jamun healthy (P5a)/0005_0109.JPG  \n",
            "  inflating: Plants_2/train/Jamun healthy (P5a)/0005_0110.JPG  \n",
            "  inflating: Plants_2/train/Jamun healthy (P5a)/0005_0111.JPG  \n",
            "  inflating: Plants_2/train/Jamun healthy (P5a)/0005_0112.JPG  \n",
            "  inflating: Plants_2/train/Jamun healthy (P5a)/0005_0113.JPG  \n",
            "  inflating: Plants_2/train/Jamun healthy (P5a)/0005_0114.JPG  \n",
            "  inflating: Plants_2/train/Jamun healthy (P5a)/0005_0115.JPG  \n",
            "  inflating: Plants_2/train/Jamun healthy (P5a)/0005_0116.JPG  \n",
            "  inflating: Plants_2/train/Jamun healthy (P5a)/0005_0117.JPG  \n",
            "  inflating: Plants_2/train/Jamun healthy (P5a)/0005_0118.JPG  \n",
            "  inflating: Plants_2/train/Jamun healthy (P5a)/0005_0119.JPG  \n",
            "  inflating: Plants_2/train/Jamun healthy (P5a)/0005_0120.JPG  \n",
            "  inflating: Plants_2/train/Jamun healthy (P5a)/0005_0121.JPG  \n",
            "  inflating: Plants_2/train/Jamun healthy (P5a)/0005_0122.JPG  \n",
            "  inflating: Plants_2/train/Jamun healthy (P5a)/0005_0123.JPG  \n",
            "  inflating: Plants_2/train/Jamun healthy (P5a)/0005_0124.JPG  \n",
            "  inflating: Plants_2/train/Jamun healthy (P5a)/0005_0125.JPG  \n",
            "  inflating: Plants_2/train/Jamun healthy (P5a)/0005_0126.JPG  \n",
            "  inflating: Plants_2/train/Jamun healthy (P5a)/0005_0127.JPG  \n",
            "  inflating: Plants_2/train/Jamun healthy (P5a)/0005_0128.JPG  \n",
            "  inflating: Plants_2/train/Jamun healthy (P5a)/0005_0129.JPG  \n",
            "  inflating: Plants_2/train/Jamun healthy (P5a)/0005_0130.JPG  \n",
            "  inflating: Plants_2/train/Jamun healthy (P5a)/0005_0131.JPG  \n",
            "  inflating: Plants_2/train/Jamun healthy (P5a)/0005_0132.JPG  \n",
            "  inflating: Plants_2/train/Jamun healthy (P5a)/0005_0133.JPG  \n",
            "  inflating: Plants_2/train/Jamun healthy (P5a)/0005_0134.JPG  \n",
            "  inflating: Plants_2/train/Jamun healthy (P5a)/0005_0135.JPG  \n",
            "  inflating: Plants_2/train/Jamun healthy (P5a)/0005_0136.JPG  \n",
            "  inflating: Plants_2/train/Jamun healthy (P5a)/0005_0137.JPG  \n",
            "  inflating: Plants_2/train/Jamun healthy (P5a)/0005_0138.JPG  \n",
            "  inflating: Plants_2/train/Jamun healthy (P5a)/0005_0139.JPG  \n",
            "  inflating: Plants_2/train/Jamun healthy (P5a)/0005_0140.JPG  \n",
            "  inflating: Plants_2/train/Jamun healthy (P5a)/0005_0141.JPG  \n",
            "  inflating: Plants_2/train/Jamun healthy (P5a)/0005_0142.JPG  \n",
            "  inflating: Plants_2/train/Jamun healthy (P5a)/0005_0143.JPG  \n",
            "  inflating: Plants_2/train/Jamun healthy (P5a)/0005_0144.JPG  \n",
            "  inflating: Plants_2/train/Jamun healthy (P5a)/0005_0145.JPG  \n",
            "  inflating: Plants_2/train/Jamun healthy (P5a)/0005_0146.JPG  \n",
            "  inflating: Plants_2/train/Jamun healthy (P5a)/0005_0147.JPG  \n",
            "  inflating: Plants_2/train/Jamun healthy (P5a)/0005_0148.JPG  \n",
            "  inflating: Plants_2/train/Jamun healthy (P5a)/0005_0149.JPG  \n",
            "  inflating: Plants_2/train/Jamun healthy (P5a)/0005_0150.JPG  \n",
            "  inflating: Plants_2/train/Jamun healthy (P5a)/0005_0151.JPG  \n",
            "  inflating: Plants_2/train/Jamun healthy (P5a)/0005_0152.JPG  \n",
            "  inflating: Plants_2/train/Jamun healthy (P5a)/0005_0153.JPG  \n",
            "  inflating: Plants_2/train/Jamun healthy (P5a)/0005_0154.JPG  \n",
            "  inflating: Plants_2/train/Jamun healthy (P5a)/0005_0155.JPG  \n",
            "  inflating: Plants_2/train/Jamun healthy (P5a)/0005_0156.JPG  \n",
            "  inflating: Plants_2/train/Jamun healthy (P5a)/0005_0157.JPG  \n",
            "  inflating: Plants_2/train/Jamun healthy (P5a)/0005_0158.JPG  \n",
            "  inflating: Plants_2/train/Jamun healthy (P5a)/0005_0159.JPG  \n",
            "  inflating: Plants_2/train/Jamun healthy (P5a)/0005_0160.JPG  \n",
            "  inflating: Plants_2/train/Jamun healthy (P5a)/0005_0161.JPG  \n",
            "  inflating: Plants_2/train/Jamun healthy (P5a)/0005_0162.JPG  \n",
            "  inflating: Plants_2/train/Jamun healthy (P5a)/0005_0163.JPG  \n",
            "  inflating: Plants_2/train/Jamun healthy (P5a)/0005_0164.JPG  \n",
            "  inflating: Plants_2/train/Jamun healthy (P5a)/0005_0165.JPG  \n",
            "  inflating: Plants_2/train/Jamun healthy (P5a)/0005_0166.JPG  \n",
            "  inflating: Plants_2/train/Jamun healthy (P5a)/0005_0167.JPG  \n",
            "  inflating: Plants_2/train/Jamun healthy (P5a)/0005_0168.JPG  \n",
            "  inflating: Plants_2/train/Jamun healthy (P5a)/0005_0169.JPG  \n",
            "  inflating: Plants_2/train/Jamun healthy (P5a)/0005_0170.JPG  \n",
            "  inflating: Plants_2/train/Jamun healthy (P5a)/0005_0171.JPG  \n",
            "  inflating: Plants_2/train/Jamun healthy (P5a)/0005_0172.JPG  \n",
            "  inflating: Plants_2/train/Jamun healthy (P5a)/0005_0173.JPG  \n",
            "  inflating: Plants_2/train/Jamun healthy (P5a)/0005_0174.JPG  \n",
            "  inflating: Plants_2/train/Jamun healthy (P5a)/0005_0175.JPG  \n",
            "  inflating: Plants_2/train/Jamun healthy (P5a)/0005_0176.JPG  \n",
            "  inflating: Plants_2/train/Jamun healthy (P5a)/0005_0177.JPG  \n",
            "  inflating: Plants_2/train/Jamun healthy (P5a)/0005_0178.JPG  \n",
            "  inflating: Plants_2/train/Jamun healthy (P5a)/0005_0179.JPG  \n",
            "  inflating: Plants_2/train/Jamun healthy (P5a)/0005_0180.JPG  \n",
            "  inflating: Plants_2/train/Jamun healthy (P5a)/0005_0181.JPG  \n",
            "  inflating: Plants_2/train/Jamun healthy (P5a)/0005_0182.JPG  \n",
            "  inflating: Plants_2/train/Jamun healthy (P5a)/0005_0183.JPG  \n",
            "  inflating: Plants_2/train/Jamun healthy (P5a)/0005_0184.JPG  \n",
            "  inflating: Plants_2/train/Jamun healthy (P5a)/0005_0185.JPG  \n",
            "  inflating: Plants_2/train/Jamun healthy (P5a)/0005_0186.JPG  \n",
            "  inflating: Plants_2/train/Jamun healthy (P5a)/0005_0187.JPG  \n",
            "  inflating: Plants_2/train/Jamun healthy (P5a)/0005_0188.JPG  \n",
            "  inflating: Plants_2/train/Jamun healthy (P5a)/0005_0189.JPG  \n",
            "  inflating: Plants_2/train/Jamun healthy (P5a)/0005_0190.JPG  \n",
            "  inflating: Plants_2/train/Jamun healthy (P5a)/0005_0191.JPG  \n",
            "  inflating: Plants_2/train/Jamun healthy (P5a)/0005_0192.JPG  \n",
            "  inflating: Plants_2/train/Jamun healthy (P5a)/0005_0193.JPG  \n",
            "  inflating: Plants_2/train/Jamun healthy (P5a)/0005_0194.JPG  \n",
            "  inflating: Plants_2/train/Jamun healthy (P5a)/0005_0195.JPG  \n",
            "  inflating: Plants_2/train/Jamun healthy (P5a)/0005_0196.JPG  \n",
            "  inflating: Plants_2/train/Jamun healthy (P5a)/0005_0197.JPG  \n",
            "  inflating: Plants_2/train/Jamun healthy (P5a)/0005_0198.JPG  \n",
            "  inflating: Plants_2/train/Jamun healthy (P5a)/0005_0199.JPG  \n",
            "  inflating: Plants_2/train/Jamun healthy (P5a)/0005_0200.JPG  \n",
            "  inflating: Plants_2/train/Jamun healthy (P5a)/0005_0201.JPG  \n",
            "  inflating: Plants_2/train/Jamun healthy (P5a)/0005_0202.JPG  \n",
            "  inflating: Plants_2/train/Jamun healthy (P5a)/0005_0203.JPG  \n",
            "  inflating: Plants_2/train/Jamun healthy (P5a)/0005_0204.JPG  \n",
            "  inflating: Plants_2/train/Jamun healthy (P5a)/0005_0205.JPG  \n",
            "  inflating: Plants_2/train/Jamun healthy (P5a)/0005_0206.JPG  \n",
            "  inflating: Plants_2/train/Jamun healthy (P5a)/0005_0207.JPG  \n",
            "  inflating: Plants_2/train/Jamun healthy (P5a)/0005_0208.JPG  \n",
            "  inflating: Plants_2/train/Jamun healthy (P5a)/0005_0209.JPG  \n",
            "  inflating: Plants_2/train/Jamun healthy (P5a)/0005_0210.JPG  \n",
            "  inflating: Plants_2/train/Jamun healthy (P5a)/0005_0211.JPG  \n",
            "  inflating: Plants_2/train/Jamun healthy (P5a)/0005_0212.JPG  \n",
            "  inflating: Plants_2/train/Jamun healthy (P5a)/0005_0213.JPG  \n",
            "  inflating: Plants_2/train/Jamun healthy (P5a)/0005_0214.JPG  \n",
            "  inflating: Plants_2/train/Jamun healthy (P5a)/0005_0215.JPG  \n",
            "  inflating: Plants_2/train/Jamun healthy (P5a)/0005_0216.JPG  \n",
            "  inflating: Plants_2/train/Jamun healthy (P5a)/0005_0217.JPG  \n",
            "  inflating: Plants_2/train/Jamun healthy (P5a)/0005_0218.JPG  \n",
            "  inflating: Plants_2/train/Jamun healthy (P5a)/0005_0219.JPG  \n",
            "  inflating: Plants_2/train/Jamun healthy (P5a)/0005_0220.JPG  \n",
            "  inflating: Plants_2/train/Jamun healthy (P5a)/0005_0221.JPG  \n",
            "  inflating: Plants_2/train/Jamun healthy (P5a)/0005_0222.JPG  \n",
            "  inflating: Plants_2/train/Jamun healthy (P5a)/0005_0223.JPG  \n",
            "  inflating: Plants_2/train/Jamun healthy (P5a)/0005_0224.JPG  \n",
            "  inflating: Plants_2/train/Jamun healthy (P5a)/0005_0225.JPG  \n",
            "  inflating: Plants_2/train/Jamun healthy (P5a)/0005_0226.JPG  \n",
            "  inflating: Plants_2/train/Jamun healthy (P5a)/0005_0227.JPG  \n",
            "  inflating: Plants_2/train/Jamun healthy (P5a)/0005_0228.JPG  \n",
            "  inflating: Plants_2/train/Jamun healthy (P5a)/0005_0229.JPG  \n",
            "  inflating: Plants_2/train/Jamun healthy (P5a)/0005_0230.JPG  \n",
            "  inflating: Plants_2/train/Jamun healthy (P5a)/0005_0231.JPG  \n",
            "  inflating: Plants_2/train/Jamun healthy (P5a)/0005_0232.JPG  \n",
            "  inflating: Plants_2/train/Jamun healthy (P5a)/0005_0233.JPG  \n",
            "  inflating: Plants_2/train/Jamun healthy (P5a)/0005_0234.JPG  \n",
            "  inflating: Plants_2/train/Jamun healthy (P5a)/0005_0235.JPG  \n",
            "  inflating: Plants_2/train/Jamun healthy (P5a)/0005_0236.JPG  \n",
            "  inflating: Plants_2/train/Jamun healthy (P5a)/0005_0237.JPG  \n",
            "  inflating: Plants_2/train/Jamun healthy (P5a)/0005_0238.JPG  \n",
            "  inflating: Plants_2/train/Jamun healthy (P5a)/0005_0239.JPG  \n",
            "  inflating: Plants_2/train/Jamun healthy (P5a)/0005_0240.JPG  \n",
            "  inflating: Plants_2/train/Jamun healthy (P5a)/0005_0241.JPG  \n",
            "  inflating: Plants_2/train/Jamun healthy (P5a)/0005_0242.JPG  \n",
            "  inflating: Plants_2/train/Jamun healthy (P5a)/0005_0243.JPG  \n",
            "  inflating: Plants_2/train/Jamun healthy (P5a)/0005_0244.JPG  \n",
            "  inflating: Plants_2/train/Jamun healthy (P5a)/0005_0245.JPG  \n",
            "  inflating: Plants_2/train/Jamun healthy (P5a)/0005_0246.JPG  \n",
            "  inflating: Plants_2/train/Jamun healthy (P5a)/0005_0247.JPG  \n",
            "  inflating: Plants_2/train/Jamun healthy (P5a)/0005_0248.JPG  \n",
            "  inflating: Plants_2/train/Jamun healthy (P5a)/0005_0249.JPG  \n",
            "  inflating: Plants_2/train/Jamun healthy (P5a)/0005_0250.JPG  \n",
            "  inflating: Plants_2/train/Jamun healthy (P5a)/0005_0251.JPG  \n",
            "  inflating: Plants_2/train/Jamun healthy (P5a)/0005_0252.JPG  \n",
            "  inflating: Plants_2/train/Jamun healthy (P5a)/0005_0253.JPG  \n",
            "  inflating: Plants_2/train/Jamun healthy (P5a)/0005_0254.JPG  \n",
            "  inflating: Plants_2/train/Jamun healthy (P5a)/0005_0255.JPG  \n",
            "  inflating: Plants_2/train/Jamun healthy (P5a)/0005_0256.JPG  \n",
            "  inflating: Plants_2/train/Jamun healthy (P5a)/0005_0257.JPG  \n",
            "  inflating: Plants_2/train/Jamun healthy (P5a)/0005_0258.JPG  \n",
            "  inflating: Plants_2/train/Jamun healthy (P5a)/0005_0259.JPG  \n",
            "  inflating: Plants_2/train/Jamun healthy (P5a)/0005_0260.JPG  \n",
            "  inflating: Plants_2/train/Jamun healthy (P5a)/0005_0261.JPG  \n",
            "  inflating: Plants_2/train/Jamun healthy (P5a)/0005_0262.JPG  \n",
            "  inflating: Plants_2/train/Jamun healthy (P5a)/0005_0263.JPG  \n",
            "  inflating: Plants_2/train/Jamun healthy (P5a)/0005_0264.JPG  \n",
            "  inflating: Plants_2/train/Jamun healthy (P5a)/0005_0265.JPG  \n",
            "  inflating: Plants_2/train/Jamun healthy (P5a)/0005_0266.JPG  \n",
            "  inflating: Plants_2/train/Jamun healthy (P5a)/0005_0267.JPG  \n",
            "  inflating: Plants_2/train/Jamun healthy (P5a)/0005_0269.JPG  \n",
            "  inflating: Plants_2/train/Jamun healthy (P5a)/0005_0270.JPG  \n",
            "  inflating: Plants_2/train/Jamun healthy (P5a)/0005_0271.JPG  \n",
            "  inflating: Plants_2/train/Jamun healthy (P5a)/0005_0272.JPG  \n",
            "  inflating: Plants_2/train/Jamun healthy (P5a)/0005_0273.JPG  \n",
            "  inflating: Plants_2/train/Jamun healthy (P5a)/0005_0274.JPG  \n",
            "  inflating: Plants_2/train/Jamun healthy (P5a)/0005_0275.JPG  \n",
            "  inflating: Plants_2/train/Jamun healthy (P5a)/0005_0276.JPG  \n",
            "  inflating: Plants_2/train/Jamun healthy (P5a)/0005_0277.JPG  \n",
            "  inflating: Plants_2/train/Jamun healthy (P5a)/0005_0278.JPG  \n",
            "  inflating: Plants_2/train/Jamun healthy (P5a)/0005_0279.JPG  \n",
            "  inflating: Plants_2/train/Jatropha diseased (P6b)/0018_0011.JPG  \n",
            "  inflating: Plants_2/train/Jatropha diseased (P6b)/0018_0012.JPG  \n",
            "  inflating: Plants_2/train/Jatropha diseased (P6b)/0018_0013.JPG  \n",
            "  inflating: Plants_2/train/Jatropha diseased (P6b)/0018_0014.JPG  \n",
            "  inflating: Plants_2/train/Jatropha diseased (P6b)/0018_0015.JPG  \n",
            "  inflating: Plants_2/train/Jatropha diseased (P6b)/0018_0016.JPG  \n",
            "  inflating: Plants_2/train/Jatropha diseased (P6b)/0018_0017.JPG  \n",
            "  inflating: Plants_2/train/Jatropha diseased (P6b)/0018_0018.JPG  \n",
            "  inflating: Plants_2/train/Jatropha diseased (P6b)/0018_0019.JPG  \n",
            "  inflating: Plants_2/train/Jatropha diseased (P6b)/0018_0020.JPG  \n",
            "  inflating: Plants_2/train/Jatropha diseased (P6b)/0018_0021.JPG  \n",
            "  inflating: Plants_2/train/Jatropha diseased (P6b)/0018_0022.JPG  \n",
            "  inflating: Plants_2/train/Jatropha diseased (P6b)/0018_0023.JPG  \n",
            "  inflating: Plants_2/train/Jatropha diseased (P6b)/0018_0024.JPG  \n",
            "  inflating: Plants_2/train/Jatropha diseased (P6b)/0018_0025.JPG  \n",
            "  inflating: Plants_2/train/Jatropha diseased (P6b)/0018_0026.JPG  \n",
            "  inflating: Plants_2/train/Jatropha diseased (P6b)/0018_0027.JPG  \n",
            "  inflating: Plants_2/train/Jatropha diseased (P6b)/0018_0028.JPG  \n",
            "  inflating: Plants_2/train/Jatropha diseased (P6b)/0018_0029.JPG  \n",
            "  inflating: Plants_2/train/Jatropha diseased (P6b)/0018_0030.JPG  \n",
            "  inflating: Plants_2/train/Jatropha diseased (P6b)/0018_0031.JPG  \n",
            "  inflating: Plants_2/train/Jatropha diseased (P6b)/0018_0032.JPG  \n",
            "  inflating: Plants_2/train/Jatropha diseased (P6b)/0018_0033.JPG  \n",
            "  inflating: Plants_2/train/Jatropha diseased (P6b)/0018_0034.JPG  \n",
            "  inflating: Plants_2/train/Jatropha diseased (P6b)/0018_0035.JPG  \n",
            "  inflating: Plants_2/train/Jatropha diseased (P6b)/0018_0036.JPG  \n",
            "  inflating: Plants_2/train/Jatropha diseased (P6b)/0018_0037.JPG  \n",
            "  inflating: Plants_2/train/Jatropha diseased (P6b)/0018_0038.JPG  \n",
            "  inflating: Plants_2/train/Jatropha diseased (P6b)/0018_0039.JPG  \n",
            "  inflating: Plants_2/train/Jatropha diseased (P6b)/0018_0040.JPG  \n",
            "  inflating: Plants_2/train/Jatropha diseased (P6b)/0018_0041.JPG  \n",
            "  inflating: Plants_2/train/Jatropha diseased (P6b)/0018_0042.JPG  \n",
            "  inflating: Plants_2/train/Jatropha diseased (P6b)/0018_0043.JPG  \n",
            "  inflating: Plants_2/train/Jatropha diseased (P6b)/0018_0044.JPG  \n",
            "  inflating: Plants_2/train/Jatropha diseased (P6b)/0018_0045.JPG  \n",
            "  inflating: Plants_2/train/Jatropha diseased (P6b)/0018_0046.JPG  \n",
            "  inflating: Plants_2/train/Jatropha diseased (P6b)/0018_0047.JPG  \n",
            "  inflating: Plants_2/train/Jatropha diseased (P6b)/0018_0048.JPG  \n",
            "  inflating: Plants_2/train/Jatropha diseased (P6b)/0018_0049.JPG  \n",
            "  inflating: Plants_2/train/Jatropha diseased (P6b)/0018_0050.JPG  \n",
            "  inflating: Plants_2/train/Jatropha diseased (P6b)/0018_0051.JPG  \n",
            "  inflating: Plants_2/train/Jatropha diseased (P6b)/0018_0052.JPG  \n",
            "  inflating: Plants_2/train/Jatropha diseased (P6b)/0018_0053.JPG  \n",
            "  inflating: Plants_2/train/Jatropha diseased (P6b)/0018_0054.JPG  \n",
            "  inflating: Plants_2/train/Jatropha diseased (P6b)/0018_0055.JPG  \n",
            "  inflating: Plants_2/train/Jatropha diseased (P6b)/0018_0056.JPG  \n",
            "  inflating: Plants_2/train/Jatropha diseased (P6b)/0018_0057.JPG  \n",
            "  inflating: Plants_2/train/Jatropha diseased (P6b)/0018_0058.JPG  \n",
            "  inflating: Plants_2/train/Jatropha diseased (P6b)/0018_0059.JPG  \n",
            "  inflating: Plants_2/train/Jatropha diseased (P6b)/0018_0060.JPG  \n",
            "  inflating: Plants_2/train/Jatropha diseased (P6b)/0018_0061.JPG  \n",
            "  inflating: Plants_2/train/Jatropha diseased (P6b)/0018_0062.JPG  \n",
            "  inflating: Plants_2/train/Jatropha diseased (P6b)/0018_0063.JPG  \n",
            "  inflating: Plants_2/train/Jatropha diseased (P6b)/0018_0064.JPG  \n",
            "  inflating: Plants_2/train/Jatropha diseased (P6b)/0018_0065.JPG  \n",
            "  inflating: Plants_2/train/Jatropha diseased (P6b)/0018_0066.JPG  \n",
            "  inflating: Plants_2/train/Jatropha diseased (P6b)/0018_0067.JPG  \n",
            "  inflating: Plants_2/train/Jatropha diseased (P6b)/0018_0068.JPG  \n",
            "  inflating: Plants_2/train/Jatropha diseased (P6b)/0018_0069.JPG  \n",
            "  inflating: Plants_2/train/Jatropha diseased (P6b)/0018_0070.JPG  \n",
            "  inflating: Plants_2/train/Jatropha diseased (P6b)/0018_0071.JPG  \n",
            "  inflating: Plants_2/train/Jatropha diseased (P6b)/0018_0072.JPG  \n",
            "  inflating: Plants_2/train/Jatropha diseased (P6b)/0018_0073.JPG  \n",
            "  inflating: Plants_2/train/Jatropha diseased (P6b)/0018_0074.JPG  \n",
            "  inflating: Plants_2/train/Jatropha diseased (P6b)/0018_0075.JPG  \n",
            "  inflating: Plants_2/train/Jatropha diseased (P6b)/0018_0076.JPG  \n",
            "  inflating: Plants_2/train/Jatropha diseased (P6b)/0018_0077.JPG  \n",
            "  inflating: Plants_2/train/Jatropha diseased (P6b)/0018_0078.JPG  \n",
            "  inflating: Plants_2/train/Jatropha diseased (P6b)/0018_0079.JPG  \n",
            "  inflating: Plants_2/train/Jatropha diseased (P6b)/0018_0080.JPG  \n",
            "  inflating: Plants_2/train/Jatropha diseased (P6b)/0018_0081.JPG  \n",
            "  inflating: Plants_2/train/Jatropha diseased (P6b)/0018_0082.JPG  \n",
            "  inflating: Plants_2/train/Jatropha diseased (P6b)/0018_0083.JPG  \n",
            "  inflating: Plants_2/train/Jatropha diseased (P6b)/0018_0084.JPG  \n",
            "  inflating: Plants_2/train/Jatropha diseased (P6b)/0018_0085.JPG  \n",
            "  inflating: Plants_2/train/Jatropha diseased (P6b)/0018_0086.JPG  \n",
            "  inflating: Plants_2/train/Jatropha diseased (P6b)/0018_0087.JPG  \n",
            "  inflating: Plants_2/train/Jatropha diseased (P6b)/0018_0088.JPG  \n",
            "  inflating: Plants_2/train/Jatropha diseased (P6b)/0018_0089.JPG  \n",
            "  inflating: Plants_2/train/Jatropha diseased (P6b)/0018_0090.JPG  \n",
            "  inflating: Plants_2/train/Jatropha diseased (P6b)/0018_0091.JPG  \n",
            "  inflating: Plants_2/train/Jatropha diseased (P6b)/0018_0092.JPG  \n",
            "  inflating: Plants_2/train/Jatropha diseased (P6b)/0018_0093.JPG  \n",
            "  inflating: Plants_2/train/Jatropha diseased (P6b)/0018_0094.JPG  \n",
            "  inflating: Plants_2/train/Jatropha diseased (P6b)/0018_0095.JPG  \n",
            "  inflating: Plants_2/train/Jatropha diseased (P6b)/0018_0096.JPG  \n",
            "  inflating: Plants_2/train/Jatropha diseased (P6b)/0018_0097.JPG  \n",
            "  inflating: Plants_2/train/Jatropha diseased (P6b)/0018_0098.JPG  \n",
            "  inflating: Plants_2/train/Jatropha diseased (P6b)/0018_0099.JPG  \n",
            "  inflating: Plants_2/train/Jatropha diseased (P6b)/0018_0100.JPG  \n",
            "  inflating: Plants_2/train/Jatropha diseased (P6b)/0018_0101.JPG  \n",
            "  inflating: Plants_2/train/Jatropha diseased (P6b)/0018_0102.JPG  \n",
            "  inflating: Plants_2/train/Jatropha diseased (P6b)/0018_0103.JPG  \n",
            "  inflating: Plants_2/train/Jatropha diseased (P6b)/0018_0104.JPG  \n",
            "  inflating: Plants_2/train/Jatropha diseased (P6b)/0018_0105.JPG  \n",
            "  inflating: Plants_2/train/Jatropha diseased (P6b)/0018_0106.JPG  \n",
            "  inflating: Plants_2/train/Jatropha diseased (P6b)/0018_0107.JPG  \n",
            "  inflating: Plants_2/train/Jatropha diseased (P6b)/0018_0108.JPG  \n",
            "  inflating: Plants_2/train/Jatropha diseased (P6b)/0018_0109.JPG  \n",
            "  inflating: Plants_2/train/Jatropha diseased (P6b)/0018_0110.JPG  \n",
            "  inflating: Plants_2/train/Jatropha diseased (P6b)/0018_0111.JPG  \n",
            "  inflating: Plants_2/train/Jatropha diseased (P6b)/0018_0112.JPG  \n",
            "  inflating: Plants_2/train/Jatropha diseased (P6b)/0018_0113.JPG  \n",
            "  inflating: Plants_2/train/Jatropha diseased (P6b)/0018_0114.JPG  \n",
            "  inflating: Plants_2/train/Jatropha diseased (P6b)/0018_0115.JPG  \n",
            "  inflating: Plants_2/train/Jatropha diseased (P6b)/0018_0116.JPG  \n",
            "  inflating: Plants_2/train/Jatropha diseased (P6b)/0018_0117.JPG  \n",
            "  inflating: Plants_2/train/Jatropha diseased (P6b)/0018_0118.JPG  \n",
            "  inflating: Plants_2/train/Jatropha diseased (P6b)/0018_0119.JPG  \n",
            "  inflating: Plants_2/train/Jatropha diseased (P6b)/0018_0120.JPG  \n",
            "  inflating: Plants_2/train/Jatropha diseased (P6b)/0018_0121.JPG  \n",
            "  inflating: Plants_2/train/Jatropha diseased (P6b)/0018_0122.JPG  \n",
            "  inflating: Plants_2/train/Jatropha diseased (P6b)/0018_0123.JPG  \n",
            "  inflating: Plants_2/train/Jatropha diseased (P6b)/0018_0124.JPG  \n",
            "  inflating: Plants_2/train/Jatropha healthy (P6a)/0006_0011.JPG  \n",
            "  inflating: Plants_2/train/Jatropha healthy (P6a)/0006_0012.JPG  \n",
            "  inflating: Plants_2/train/Jatropha healthy (P6a)/0006_0013.JPG  \n",
            "  inflating: Plants_2/train/Jatropha healthy (P6a)/0006_0014.JPG  \n",
            "  inflating: Plants_2/train/Jatropha healthy (P6a)/0006_0015.JPG  \n",
            "  inflating: Plants_2/train/Jatropha healthy (P6a)/0006_0016.JPG  \n",
            "  inflating: Plants_2/train/Jatropha healthy (P6a)/0006_0017.JPG  \n",
            "  inflating: Plants_2/train/Jatropha healthy (P6a)/0006_0018.JPG  \n",
            "  inflating: Plants_2/train/Jatropha healthy (P6a)/0006_0019.JPG  \n",
            "  inflating: Plants_2/train/Jatropha healthy (P6a)/0006_0020.JPG  \n",
            "  inflating: Plants_2/train/Jatropha healthy (P6a)/0006_0021.JPG  \n",
            "  inflating: Plants_2/train/Jatropha healthy (P6a)/0006_0022.JPG  \n",
            "  inflating: Plants_2/train/Jatropha healthy (P6a)/0006_0023.JPG  \n",
            "  inflating: Plants_2/train/Jatropha healthy (P6a)/0006_0024.JPG  \n",
            "  inflating: Plants_2/train/Jatropha healthy (P6a)/0006_0025.JPG  \n",
            "  inflating: Plants_2/train/Jatropha healthy (P6a)/0006_0026.JPG  \n",
            "  inflating: Plants_2/train/Jatropha healthy (P6a)/0006_0027.JPG  \n",
            "  inflating: Plants_2/train/Jatropha healthy (P6a)/0006_0028.JPG  \n",
            "  inflating: Plants_2/train/Jatropha healthy (P6a)/0006_0029.JPG  \n",
            "  inflating: Plants_2/train/Jatropha healthy (P6a)/0006_0030.JPG  \n",
            "  inflating: Plants_2/train/Jatropha healthy (P6a)/0006_0031.JPG  \n",
            "  inflating: Plants_2/train/Jatropha healthy (P6a)/0006_0032.JPG  \n",
            "  inflating: Plants_2/train/Jatropha healthy (P6a)/0006_0033.JPG  \n",
            "  inflating: Plants_2/train/Jatropha healthy (P6a)/0006_0034.JPG  \n",
            "  inflating: Plants_2/train/Jatropha healthy (P6a)/0006_0035.JPG  \n",
            "  inflating: Plants_2/train/Jatropha healthy (P6a)/0006_0036.JPG  \n",
            "  inflating: Plants_2/train/Jatropha healthy (P6a)/0006_0037.JPG  \n",
            "  inflating: Plants_2/train/Jatropha healthy (P6a)/0006_0038.JPG  \n",
            "  inflating: Plants_2/train/Jatropha healthy (P6a)/0006_0039.JPG  \n",
            "  inflating: Plants_2/train/Jatropha healthy (P6a)/0006_0040.JPG  \n",
            "  inflating: Plants_2/train/Jatropha healthy (P6a)/0006_0041.JPG  \n",
            "  inflating: Plants_2/train/Jatropha healthy (P6a)/0006_0042.JPG  \n",
            "  inflating: Plants_2/train/Jatropha healthy (P6a)/0006_0043.JPG  \n",
            "  inflating: Plants_2/train/Jatropha healthy (P6a)/0006_0044.JPG  \n",
            "  inflating: Plants_2/train/Jatropha healthy (P6a)/0006_0045.JPG  \n",
            "  inflating: Plants_2/train/Jatropha healthy (P6a)/0006_0046.JPG  \n",
            "  inflating: Plants_2/train/Jatropha healthy (P6a)/0006_0047.JPG  \n",
            "  inflating: Plants_2/train/Jatropha healthy (P6a)/0006_0048.JPG  \n",
            "  inflating: Plants_2/train/Jatropha healthy (P6a)/0006_0049.JPG  \n",
            "  inflating: Plants_2/train/Jatropha healthy (P6a)/0006_0050.JPG  \n",
            "  inflating: Plants_2/train/Jatropha healthy (P6a)/0006_0051.JPG  \n",
            "  inflating: Plants_2/train/Jatropha healthy (P6a)/0006_0052.JPG  \n",
            "  inflating: Plants_2/train/Jatropha healthy (P6a)/0006_0053.JPG  \n",
            "  inflating: Plants_2/train/Jatropha healthy (P6a)/0006_0054.JPG  \n",
            "  inflating: Plants_2/train/Jatropha healthy (P6a)/0006_0055.JPG  \n",
            "  inflating: Plants_2/train/Jatropha healthy (P6a)/0006_0056.JPG  \n",
            "  inflating: Plants_2/train/Jatropha healthy (P6a)/0006_0057.JPG  \n",
            "  inflating: Plants_2/train/Jatropha healthy (P6a)/0006_0058.JPG  \n",
            "  inflating: Plants_2/train/Jatropha healthy (P6a)/0006_0059.JPG  \n",
            "  inflating: Plants_2/train/Jatropha healthy (P6a)/0006_0060.JPG  \n",
            "  inflating: Plants_2/train/Jatropha healthy (P6a)/0006_0061.JPG  \n",
            "  inflating: Plants_2/train/Jatropha healthy (P6a)/0006_0062.JPG  \n",
            "  inflating: Plants_2/train/Jatropha healthy (P6a)/0006_0063.JPG  \n",
            "  inflating: Plants_2/train/Jatropha healthy (P6a)/0006_0064.JPG  \n",
            "  inflating: Plants_2/train/Jatropha healthy (P6a)/0006_0065.JPG  \n",
            "  inflating: Plants_2/train/Jatropha healthy (P6a)/0006_0066.JPG  \n",
            "  inflating: Plants_2/train/Jatropha healthy (P6a)/0006_0067.JPG  \n",
            "  inflating: Plants_2/train/Jatropha healthy (P6a)/0006_0068.JPG  \n",
            "  inflating: Plants_2/train/Jatropha healthy (P6a)/0006_0069.JPG  \n",
            "  inflating: Plants_2/train/Jatropha healthy (P6a)/0006_0070.JPG  \n",
            "  inflating: Plants_2/train/Jatropha healthy (P6a)/0006_0071.JPG  \n",
            "  inflating: Plants_2/train/Jatropha healthy (P6a)/0006_0072.JPG  \n",
            "  inflating: Plants_2/train/Jatropha healthy (P6a)/0006_0073.JPG  \n",
            "  inflating: Plants_2/train/Jatropha healthy (P6a)/0006_0074.JPG  \n",
            "  inflating: Plants_2/train/Jatropha healthy (P6a)/0006_0075.JPG  \n",
            "  inflating: Plants_2/train/Jatropha healthy (P6a)/0006_0076.JPG  \n",
            "  inflating: Plants_2/train/Jatropha healthy (P6a)/0006_0077.JPG  \n",
            "  inflating: Plants_2/train/Jatropha healthy (P6a)/0006_0078.JPG  \n",
            "  inflating: Plants_2/train/Jatropha healthy (P6a)/0006_0079.JPG  \n",
            "  inflating: Plants_2/train/Jatropha healthy (P6a)/0006_0080.JPG  \n",
            "  inflating: Plants_2/train/Jatropha healthy (P6a)/0006_0081.JPG  \n",
            "  inflating: Plants_2/train/Jatropha healthy (P6a)/0006_0082.JPG  \n",
            "  inflating: Plants_2/train/Jatropha healthy (P6a)/0006_0083.JPG  \n",
            "  inflating: Plants_2/train/Jatropha healthy (P6a)/0006_0084.JPG  \n",
            "  inflating: Plants_2/train/Jatropha healthy (P6a)/0006_0085.JPG  \n",
            "  inflating: Plants_2/train/Jatropha healthy (P6a)/0006_0086.JPG  \n",
            "  inflating: Plants_2/train/Jatropha healthy (P6a)/0006_0087.JPG  \n",
            "  inflating: Plants_2/train/Jatropha healthy (P6a)/0006_0088.JPG  \n",
            "  inflating: Plants_2/train/Jatropha healthy (P6a)/0006_0089.JPG  \n",
            "  inflating: Plants_2/train/Jatropha healthy (P6a)/0006_0090.JPG  \n",
            "  inflating: Plants_2/train/Jatropha healthy (P6a)/0006_0091.JPG  \n",
            "  inflating: Plants_2/train/Jatropha healthy (P6a)/0006_0092.JPG  \n",
            "  inflating: Plants_2/train/Jatropha healthy (P6a)/0006_0093.JPG  \n",
            "  inflating: Plants_2/train/Jatropha healthy (P6a)/0006_0094.JPG  \n",
            "  inflating: Plants_2/train/Jatropha healthy (P6a)/0006_0095.JPG  \n",
            "  inflating: Plants_2/train/Jatropha healthy (P6a)/0006_0096.JPG  \n",
            "  inflating: Plants_2/train/Jatropha healthy (P6a)/0006_0097.JPG  \n",
            "  inflating: Plants_2/train/Jatropha healthy (P6a)/0006_0098.JPG  \n",
            "  inflating: Plants_2/train/Jatropha healthy (P6a)/0006_0099.JPG  \n",
            "  inflating: Plants_2/train/Jatropha healthy (P6a)/0006_0100.JPG  \n",
            "  inflating: Plants_2/train/Jatropha healthy (P6a)/0006_0101.JPG  \n",
            "  inflating: Plants_2/train/Jatropha healthy (P6a)/0006_0102.JPG  \n",
            "  inflating: Plants_2/train/Jatropha healthy (P6a)/0006_0103.JPG  \n",
            "  inflating: Plants_2/train/Jatropha healthy (P6a)/0006_0104.JPG  \n",
            "  inflating: Plants_2/train/Jatropha healthy (P6a)/0006_0105.JPG  \n",
            "  inflating: Plants_2/train/Jatropha healthy (P6a)/0006_0106.JPG  \n",
            "  inflating: Plants_2/train/Jatropha healthy (P6a)/0006_0107.JPG  \n",
            "  inflating: Plants_2/train/Jatropha healthy (P6a)/0006_0108.JPG  \n",
            "  inflating: Plants_2/train/Jatropha healthy (P6a)/0006_0109.JPG  \n",
            "  inflating: Plants_2/train/Jatropha healthy (P6a)/0006_0110.JPG  \n",
            "  inflating: Plants_2/train/Jatropha healthy (P6a)/0006_0111.JPG  \n",
            "  inflating: Plants_2/train/Jatropha healthy (P6a)/0006_0112.JPG  \n",
            "  inflating: Plants_2/train/Jatropha healthy (P6a)/0006_0113.JPG  \n",
            "  inflating: Plants_2/train/Jatropha healthy (P6a)/0006_0114.JPG  \n",
            "  inflating: Plants_2/train/Jatropha healthy (P6a)/0006_0115.JPG  \n",
            "  inflating: Plants_2/train/Jatropha healthy (P6a)/0006_0116.JPG  \n",
            "  inflating: Plants_2/train/Jatropha healthy (P6a)/0006_0117.JPG  \n",
            "  inflating: Plants_2/train/Jatropha healthy (P6a)/0006_0118.JPG  \n",
            "  inflating: Plants_2/train/Jatropha healthy (P6a)/0006_0119.JPG  \n",
            "  inflating: Plants_2/train/Jatropha healthy (P6a)/0006_0120.JPG  \n",
            "  inflating: Plants_2/train/Jatropha healthy (P6a)/0006_0121.JPG  \n",
            "  inflating: Plants_2/train/Jatropha healthy (P6a)/0006_0122.JPG  \n",
            "  inflating: Plants_2/train/Jatropha healthy (P6a)/0006_0123.JPG  \n",
            "  inflating: Plants_2/train/Jatropha healthy (P6a)/0006_0124.JPG  \n",
            "  inflating: Plants_2/train/Jatropha healthy (P6a)/0006_0125.JPG  \n",
            "  inflating: Plants_2/train/Jatropha healthy (P6a)/0006_0126.JPG  \n",
            "  inflating: Plants_2/train/Jatropha healthy (P6a)/0006_0127.JPG  \n",
            "  inflating: Plants_2/train/Jatropha healthy (P6a)/0006_0128.JPG  \n",
            "  inflating: Plants_2/train/Jatropha healthy (P6a)/0006_0129.JPG  \n",
            "  inflating: Plants_2/train/Jatropha healthy (P6a)/0006_0130.JPG  \n",
            "  inflating: Plants_2/train/Jatropha healthy (P6a)/0006_0131.JPG  \n",
            "  inflating: Plants_2/train/Jatropha healthy (P6a)/0006_0132.JPG  \n",
            "  inflating: Plants_2/train/Jatropha healthy (P6a)/0006_0133.JPG  \n",
            "  inflating: Plants_2/train/Lemon diseased (P10b)/0021_0011.JPG  \n",
            "  inflating: Plants_2/train/Lemon diseased (P10b)/0021_0012.JPG  \n",
            "  inflating: Plants_2/train/Lemon diseased (P10b)/0021_0013.JPG  \n",
            "  inflating: Plants_2/train/Lemon diseased (P10b)/0021_0014.JPG  \n",
            "  inflating: Plants_2/train/Lemon diseased (P10b)/0021_0015.JPG  \n",
            "  inflating: Plants_2/train/Lemon diseased (P10b)/0021_0016.JPG  \n",
            "  inflating: Plants_2/train/Lemon diseased (P10b)/0021_0017.JPG  \n",
            "  inflating: Plants_2/train/Lemon diseased (P10b)/0021_0018.JPG  \n",
            "  inflating: Plants_2/train/Lemon diseased (P10b)/0021_0019.JPG  \n",
            "  inflating: Plants_2/train/Lemon diseased (P10b)/0021_0020.JPG  \n",
            "  inflating: Plants_2/train/Lemon diseased (P10b)/0021_0021.JPG  \n",
            "  inflating: Plants_2/train/Lemon diseased (P10b)/0021_0022.JPG  \n",
            "  inflating: Plants_2/train/Lemon diseased (P10b)/0021_0023.JPG  \n",
            "  inflating: Plants_2/train/Lemon diseased (P10b)/0021_0024.JPG  \n",
            "  inflating: Plants_2/train/Lemon diseased (P10b)/0021_0025.JPG  \n",
            "  inflating: Plants_2/train/Lemon diseased (P10b)/0021_0026.JPG  \n",
            "  inflating: Plants_2/train/Lemon diseased (P10b)/0021_0027.JPG  \n",
            "  inflating: Plants_2/train/Lemon diseased (P10b)/0021_0028.JPG  \n",
            "  inflating: Plants_2/train/Lemon diseased (P10b)/0021_0029.JPG  \n",
            "  inflating: Plants_2/train/Lemon diseased (P10b)/0021_0030.JPG  \n",
            "  inflating: Plants_2/train/Lemon diseased (P10b)/0021_0031.JPG  \n",
            "  inflating: Plants_2/train/Lemon diseased (P10b)/0021_0032.JPG  \n",
            "  inflating: Plants_2/train/Lemon diseased (P10b)/0021_0033.JPG  \n",
            "  inflating: Plants_2/train/Lemon diseased (P10b)/0021_0034.JPG  \n",
            "  inflating: Plants_2/train/Lemon diseased (P10b)/0021_0035.JPG  \n",
            "  inflating: Plants_2/train/Lemon diseased (P10b)/0021_0036.JPG  \n",
            "  inflating: Plants_2/train/Lemon diseased (P10b)/0021_0037.JPG  \n",
            "  inflating: Plants_2/train/Lemon diseased (P10b)/0021_0038.JPG  \n",
            "  inflating: Plants_2/train/Lemon diseased (P10b)/0021_0039.JPG  \n",
            "  inflating: Plants_2/train/Lemon diseased (P10b)/0021_0040.JPG  \n",
            "  inflating: Plants_2/train/Lemon diseased (P10b)/0021_0041.JPG  \n",
            "  inflating: Plants_2/train/Lemon diseased (P10b)/0021_0042.JPG  \n",
            "  inflating: Plants_2/train/Lemon diseased (P10b)/0021_0043.JPG  \n",
            "  inflating: Plants_2/train/Lemon diseased (P10b)/0021_0044.JPG  \n",
            "  inflating: Plants_2/train/Lemon diseased (P10b)/0021_0045.JPG  \n",
            "  inflating: Plants_2/train/Lemon diseased (P10b)/0021_0046.JPG  \n",
            "  inflating: Plants_2/train/Lemon diseased (P10b)/0021_0047.JPG  \n",
            "  inflating: Plants_2/train/Lemon diseased (P10b)/0021_0048.JPG  \n",
            "  inflating: Plants_2/train/Lemon diseased (P10b)/0021_0049.JPG  \n",
            "  inflating: Plants_2/train/Lemon diseased (P10b)/0021_0050.JPG  \n",
            "  inflating: Plants_2/train/Lemon diseased (P10b)/0021_0051.JPG  \n",
            "  inflating: Plants_2/train/Lemon diseased (P10b)/0021_0052.JPG  \n",
            "  inflating: Plants_2/train/Lemon diseased (P10b)/0021_0053.JPG  \n",
            "  inflating: Plants_2/train/Lemon diseased (P10b)/0021_0054.JPG  \n",
            "  inflating: Plants_2/train/Lemon diseased (P10b)/0021_0055.JPG  \n",
            "  inflating: Plants_2/train/Lemon diseased (P10b)/0021_0056.JPG  \n",
            "  inflating: Plants_2/train/Lemon diseased (P10b)/0021_0057.JPG  \n",
            "  inflating: Plants_2/train/Lemon diseased (P10b)/0021_0058.JPG  \n",
            "  inflating: Plants_2/train/Lemon diseased (P10b)/0021_0059.JPG  \n",
            "  inflating: Plants_2/train/Lemon diseased (P10b)/0021_0060.JPG  \n",
            "  inflating: Plants_2/train/Lemon diseased (P10b)/0021_0061.JPG  \n",
            "  inflating: Plants_2/train/Lemon diseased (P10b)/0021_0062.JPG  \n",
            "  inflating: Plants_2/train/Lemon diseased (P10b)/0021_0063.JPG  \n",
            "  inflating: Plants_2/train/Lemon diseased (P10b)/0021_0064.JPG  \n",
            "  inflating: Plants_2/train/Lemon diseased (P10b)/0021_0065.JPG  \n",
            "  inflating: Plants_2/train/Lemon diseased (P10b)/0021_0066.JPG  \n",
            "  inflating: Plants_2/train/Lemon diseased (P10b)/0021_0067.JPG  \n",
            "  inflating: Plants_2/train/Lemon diseased (P10b)/0021_0068.JPG  \n",
            "  inflating: Plants_2/train/Lemon diseased (P10b)/0021_0069.JPG  \n",
            "  inflating: Plants_2/train/Lemon diseased (P10b)/0021_0070.JPG  \n",
            "  inflating: Plants_2/train/Lemon diseased (P10b)/0021_0071.JPG  \n",
            "  inflating: Plants_2/train/Lemon diseased (P10b)/0021_0072.JPG  \n",
            "  inflating: Plants_2/train/Lemon diseased (P10b)/0021_0073.JPG  \n",
            "  inflating: Plants_2/train/Lemon diseased (P10b)/0021_0074.JPG  \n",
            "  inflating: Plants_2/train/Lemon diseased (P10b)/0021_0075.JPG  \n",
            "  inflating: Plants_2/train/Lemon diseased (P10b)/0021_0076.JPG  \n",
            "  inflating: Plants_2/train/Lemon diseased (P10b)/0021_0077.JPG  \n",
            "  inflating: Plants_2/train/Lemon healthy (P10a)/0010_0011.JPG  \n",
            "  inflating: Plants_2/train/Lemon healthy (P10a)/0010_0012.JPG  \n",
            "  inflating: Plants_2/train/Lemon healthy (P10a)/0010_0013.JPG  \n",
            "  inflating: Plants_2/train/Lemon healthy (P10a)/0010_0014.JPG  \n",
            "  inflating: Plants_2/train/Lemon healthy (P10a)/0010_0015.JPG  \n",
            "  inflating: Plants_2/train/Lemon healthy (P10a)/0010_0016.JPG  \n",
            "  inflating: Plants_2/train/Lemon healthy (P10a)/0010_0017.JPG  \n",
            "  inflating: Plants_2/train/Lemon healthy (P10a)/0010_0018.JPG  \n",
            "  inflating: Plants_2/train/Lemon healthy (P10a)/0010_0019.JPG  \n",
            "  inflating: Plants_2/train/Lemon healthy (P10a)/0010_0020.JPG  \n",
            "  inflating: Plants_2/train/Lemon healthy (P10a)/0010_0021.JPG  \n",
            "  inflating: Plants_2/train/Lemon healthy (P10a)/0010_0022.JPG  \n",
            "  inflating: Plants_2/train/Lemon healthy (P10a)/0010_0023.JPG  \n",
            "  inflating: Plants_2/train/Lemon healthy (P10a)/0010_0024.JPG  \n",
            "  inflating: Plants_2/train/Lemon healthy (P10a)/0010_0025.JPG  \n",
            "  inflating: Plants_2/train/Lemon healthy (P10a)/0010_0026.JPG  \n",
            "  inflating: Plants_2/train/Lemon healthy (P10a)/0010_0027.JPG  \n",
            "  inflating: Plants_2/train/Lemon healthy (P10a)/0010_0028.JPG  \n",
            "  inflating: Plants_2/train/Lemon healthy (P10a)/0010_0029.JPG  \n",
            "  inflating: Plants_2/train/Lemon healthy (P10a)/0010_0030.JPG  \n",
            "  inflating: Plants_2/train/Lemon healthy (P10a)/0010_0031.JPG  \n",
            "  inflating: Plants_2/train/Lemon healthy (P10a)/0010_0032.JPG  \n",
            "  inflating: Plants_2/train/Lemon healthy (P10a)/0010_0033.JPG  \n",
            "  inflating: Plants_2/train/Lemon healthy (P10a)/0010_0034.JPG  \n",
            "  inflating: Plants_2/train/Lemon healthy (P10a)/0010_0035.JPG  \n",
            "  inflating: Plants_2/train/Lemon healthy (P10a)/0010_0036.JPG  \n",
            "  inflating: Plants_2/train/Lemon healthy (P10a)/0010_0037.JPG  \n",
            "  inflating: Plants_2/train/Lemon healthy (P10a)/0010_0038.JPG  \n",
            "  inflating: Plants_2/train/Lemon healthy (P10a)/0010_0039.JPG  \n",
            "  inflating: Plants_2/train/Lemon healthy (P10a)/0010_0040.JPG  \n",
            "  inflating: Plants_2/train/Lemon healthy (P10a)/0010_0041.JPG  \n",
            "  inflating: Plants_2/train/Lemon healthy (P10a)/0010_0042.JPG  \n",
            "  inflating: Plants_2/train/Lemon healthy (P10a)/0010_0043.JPG  \n",
            "  inflating: Plants_2/train/Lemon healthy (P10a)/0010_0044.JPG  \n",
            "  inflating: Plants_2/train/Lemon healthy (P10a)/0010_0045.JPG  \n",
            "  inflating: Plants_2/train/Lemon healthy (P10a)/0010_0046.JPG  \n",
            "  inflating: Plants_2/train/Lemon healthy (P10a)/0010_0047.JPG  \n",
            "  inflating: Plants_2/train/Lemon healthy (P10a)/0010_0048.JPG  \n",
            "  inflating: Plants_2/train/Lemon healthy (P10a)/0010_0049.JPG  \n",
            "  inflating: Plants_2/train/Lemon healthy (P10a)/0010_0050.JPG  \n",
            "  inflating: Plants_2/train/Lemon healthy (P10a)/0010_0051.JPG  \n",
            "  inflating: Plants_2/train/Lemon healthy (P10a)/0010_0052.JPG  \n",
            "  inflating: Plants_2/train/Lemon healthy (P10a)/0010_0053.JPG  \n",
            "  inflating: Plants_2/train/Lemon healthy (P10a)/0010_0054.JPG  \n",
            "  inflating: Plants_2/train/Lemon healthy (P10a)/0010_0055.JPG  \n",
            "  inflating: Plants_2/train/Lemon healthy (P10a)/0010_0056.JPG  \n",
            "  inflating: Plants_2/train/Lemon healthy (P10a)/0010_0057.JPG  \n",
            "  inflating: Plants_2/train/Lemon healthy (P10a)/0010_0058.JPG  \n",
            "  inflating: Plants_2/train/Lemon healthy (P10a)/0010_0059.JPG  \n",
            "  inflating: Plants_2/train/Lemon healthy (P10a)/0010_0060.JPG  \n",
            "  inflating: Plants_2/train/Lemon healthy (P10a)/0010_0061.JPG  \n",
            "  inflating: Plants_2/train/Lemon healthy (P10a)/0010_0062.JPG  \n",
            "  inflating: Plants_2/train/Lemon healthy (P10a)/0010_0063.JPG  \n",
            "  inflating: Plants_2/train/Lemon healthy (P10a)/0010_0064.JPG  \n",
            "  inflating: Plants_2/train/Lemon healthy (P10a)/0010_0065.JPG  \n",
            "  inflating: Plants_2/train/Lemon healthy (P10a)/0010_0066.JPG  \n",
            "  inflating: Plants_2/train/Lemon healthy (P10a)/0010_0067.JPG  \n",
            "  inflating: Plants_2/train/Lemon healthy (P10a)/0010_0068.JPG  \n",
            "  inflating: Plants_2/train/Lemon healthy (P10a)/0010_0069.JPG  \n",
            "  inflating: Plants_2/train/Lemon healthy (P10a)/0010_0070.JPG  \n",
            "  inflating: Plants_2/train/Lemon healthy (P10a)/0010_0071.JPG  \n",
            "  inflating: Plants_2/train/Lemon healthy (P10a)/0010_0072.JPG  \n",
            "  inflating: Plants_2/train/Lemon healthy (P10a)/0010_0073.JPG  \n",
            "  inflating: Plants_2/train/Lemon healthy (P10a)/0010_0074.JPG  \n",
            "  inflating: Plants_2/train/Lemon healthy (P10a)/0010_0075.JPG  \n",
            "  inflating: Plants_2/train/Lemon healthy (P10a)/0010_0076.JPG  \n",
            "  inflating: Plants_2/train/Lemon healthy (P10a)/0010_0077.JPG  \n",
            "  inflating: Plants_2/train/Lemon healthy (P10a)/0010_0078.JPG  \n",
            "  inflating: Plants_2/train/Lemon healthy (P10a)/0010_0079.JPG  \n",
            "  inflating: Plants_2/train/Lemon healthy (P10a)/0010_0080.JPG  \n",
            "  inflating: Plants_2/train/Lemon healthy (P10a)/0010_0081.JPG  \n",
            "  inflating: Plants_2/train/Lemon healthy (P10a)/0010_0082.JPG  \n",
            "  inflating: Plants_2/train/Lemon healthy (P10a)/0010_0083.JPG  \n",
            "  inflating: Plants_2/train/Lemon healthy (P10a)/0010_0084.JPG  \n",
            "  inflating: Plants_2/train/Lemon healthy (P10a)/0010_0085.JPG  \n",
            "  inflating: Plants_2/train/Lemon healthy (P10a)/0010_0086.JPG  \n",
            "  inflating: Plants_2/train/Lemon healthy (P10a)/0010_0087.JPG  \n",
            "  inflating: Plants_2/train/Lemon healthy (P10a)/0010_0088.JPG  \n",
            "  inflating: Plants_2/train/Lemon healthy (P10a)/0010_0089.JPG  \n",
            "  inflating: Plants_2/train/Lemon healthy (P10a)/0010_0090.JPG  \n",
            "  inflating: Plants_2/train/Lemon healthy (P10a)/0010_0091.JPG  \n",
            "  inflating: Plants_2/train/Lemon healthy (P10a)/0010_0092.JPG  \n",
            "  inflating: Plants_2/train/Lemon healthy (P10a)/0010_0093.JPG  \n",
            "  inflating: Plants_2/train/Lemon healthy (P10a)/0010_0094.JPG  \n",
            "  inflating: Plants_2/train/Lemon healthy (P10a)/0010_0095.JPG  \n",
            "  inflating: Plants_2/train/Lemon healthy (P10a)/0010_0096.JPG  \n",
            "  inflating: Plants_2/train/Lemon healthy (P10a)/0010_0097.JPG  \n",
            "  inflating: Plants_2/train/Lemon healthy (P10a)/0010_0098.JPG  \n",
            "  inflating: Plants_2/train/Lemon healthy (P10a)/0010_0099.JPG  \n",
            "  inflating: Plants_2/train/Lemon healthy (P10a)/0010_0100.JPG  \n",
            "  inflating: Plants_2/train/Lemon healthy (P10a)/0010_0101.JPG  \n",
            "  inflating: Plants_2/train/Lemon healthy (P10a)/0010_0102.JPG  \n",
            "  inflating: Plants_2/train/Lemon healthy (P10a)/0010_0103.JPG  \n",
            "  inflating: Plants_2/train/Lemon healthy (P10a)/0010_0104.JPG  \n",
            "  inflating: Plants_2/train/Lemon healthy (P10a)/0010_0105.JPG  \n",
            "  inflating: Plants_2/train/Lemon healthy (P10a)/0010_0106.JPG  \n",
            "  inflating: Plants_2/train/Lemon healthy (P10a)/0010_0107.JPG  \n",
            "  inflating: Plants_2/train/Lemon healthy (P10a)/0010_0108.JPG  \n",
            "  inflating: Plants_2/train/Lemon healthy (P10a)/0010_0109.JPG  \n",
            "  inflating: Plants_2/train/Lemon healthy (P10a)/0010_0110.JPG  \n",
            "  inflating: Plants_2/train/Lemon healthy (P10a)/0010_0111.JPG  \n",
            "  inflating: Plants_2/train/Lemon healthy (P10a)/0010_0112.JPG  \n",
            "  inflating: Plants_2/train/Lemon healthy (P10a)/0010_0113.JPG  \n",
            "  inflating: Plants_2/train/Lemon healthy (P10a)/0010_0114.JPG  \n",
            "  inflating: Plants_2/train/Lemon healthy (P10a)/0010_0115.JPG  \n",
            "  inflating: Plants_2/train/Lemon healthy (P10a)/0010_0116.JPG  \n",
            "  inflating: Plants_2/train/Lemon healthy (P10a)/0010_0117.JPG  \n",
            "  inflating: Plants_2/train/Lemon healthy (P10a)/0010_0118.JPG  \n",
            "  inflating: Plants_2/train/Lemon healthy (P10a)/0010_0119.JPG  \n",
            "  inflating: Plants_2/train/Lemon healthy (P10a)/0010_0120.JPG  \n",
            "  inflating: Plants_2/train/Lemon healthy (P10a)/0010_0121.JPG  \n",
            "  inflating: Plants_2/train/Lemon healthy (P10a)/0010_0122.JPG  \n",
            "  inflating: Plants_2/train/Lemon healthy (P10a)/0010_0123.JPG  \n",
            "  inflating: Plants_2/train/Lemon healthy (P10a)/0010_0124.JPG  \n",
            "  inflating: Plants_2/train/Lemon healthy (P10a)/0010_0125.JPG  \n",
            "  inflating: Plants_2/train/Lemon healthy (P10a)/0010_0126.JPG  \n",
            "  inflating: Plants_2/train/Lemon healthy (P10a)/0010_0127.JPG  \n",
            "  inflating: Plants_2/train/Lemon healthy (P10a)/0010_0128.JPG  \n",
            "  inflating: Plants_2/train/Lemon healthy (P10a)/0010_0129.JPG  \n",
            "  inflating: Plants_2/train/Lemon healthy (P10a)/0010_0130.JPG  \n",
            "  inflating: Plants_2/train/Lemon healthy (P10a)/0010_0131.JPG  \n",
            "  inflating: Plants_2/train/Lemon healthy (P10a)/0010_0132.JPG  \n",
            "  inflating: Plants_2/train/Lemon healthy (P10a)/0010_0133.JPG  \n",
            "  inflating: Plants_2/train/Lemon healthy (P10a)/0010_0134.JPG  \n",
            "  inflating: Plants_2/train/Lemon healthy (P10a)/0010_0135.JPG  \n",
            "  inflating: Plants_2/train/Lemon healthy (P10a)/0010_0136.JPG  \n",
            "  inflating: Plants_2/train/Lemon healthy (P10a)/0010_0137.JPG  \n",
            "  inflating: Plants_2/train/Lemon healthy (P10a)/0010_0138.JPG  \n",
            "  inflating: Plants_2/train/Lemon healthy (P10a)/0010_0139.JPG  \n",
            "  inflating: Plants_2/train/Lemon healthy (P10a)/0010_0140.JPG  \n",
            "  inflating: Plants_2/train/Lemon healthy (P10a)/0010_0141.JPG  \n",
            "  inflating: Plants_2/train/Lemon healthy (P10a)/0010_0142.JPG  \n",
            "  inflating: Plants_2/train/Lemon healthy (P10a)/0010_0143.JPG  \n",
            "  inflating: Plants_2/train/Lemon healthy (P10a)/0010_0144.JPG  \n",
            "  inflating: Plants_2/train/Lemon healthy (P10a)/0010_0145.JPG  \n",
            "  inflating: Plants_2/train/Lemon healthy (P10a)/0010_0146.JPG  \n",
            "  inflating: Plants_2/train/Lemon healthy (P10a)/0010_0147.JPG  \n",
            "  inflating: Plants_2/train/Lemon healthy (P10a)/0010_0148.JPG  \n",
            "  inflating: Plants_2/train/Lemon healthy (P10a)/0010_0149.JPG  \n",
            "  inflating: Plants_2/train/Lemon healthy (P10a)/0010_0150.JPG  \n",
            "  inflating: Plants_2/train/Lemon healthy (P10a)/0010_0151.JPG  \n",
            "  inflating: Plants_2/train/Lemon healthy (P10a)/0010_0152.JPG  \n",
            "  inflating: Plants_2/train/Lemon healthy (P10a)/0010_0153.JPG  \n",
            "  inflating: Plants_2/train/Lemon healthy (P10a)/0010_0154.JPG  \n",
            "  inflating: Plants_2/train/Lemon healthy (P10a)/0010_0155.JPG  \n",
            "  inflating: Plants_2/train/Lemon healthy (P10a)/0010_0156.JPG  \n",
            "  inflating: Plants_2/train/Lemon healthy (P10a)/0010_0157.JPG  \n",
            "  inflating: Plants_2/train/Lemon healthy (P10a)/0010_0158.JPG  \n",
            "  inflating: Plants_2/train/Lemon healthy (P10a)/0010_0159.JPG  \n",
            "  inflating: Plants_2/train/Mango diseased (P0b)/0012_0011.JPG  \n",
            "  inflating: Plants_2/train/Mango diseased (P0b)/0012_0012.JPG  \n",
            "  inflating: Plants_2/train/Mango diseased (P0b)/0012_0013.JPG  \n",
            "  inflating: Plants_2/train/Mango diseased (P0b)/0012_0014.JPG  \n",
            "  inflating: Plants_2/train/Mango diseased (P0b)/0012_0015.JPG  \n",
            "  inflating: Plants_2/train/Mango diseased (P0b)/0012_0016.JPG  \n",
            "  inflating: Plants_2/train/Mango diseased (P0b)/0012_0017.JPG  \n",
            "  inflating: Plants_2/train/Mango diseased (P0b)/0012_0018.JPG  \n",
            "  inflating: Plants_2/train/Mango diseased (P0b)/0012_0019.JPG  \n",
            "  inflating: Plants_2/train/Mango diseased (P0b)/0012_0020.JPG  \n",
            "  inflating: Plants_2/train/Mango diseased (P0b)/0012_0021.JPG  \n",
            "  inflating: Plants_2/train/Mango diseased (P0b)/0012_0022.JPG  \n",
            "  inflating: Plants_2/train/Mango diseased (P0b)/0012_0023.JPG  \n",
            "  inflating: Plants_2/train/Mango diseased (P0b)/0012_0024.JPG  \n",
            "  inflating: Plants_2/train/Mango diseased (P0b)/0012_0025.JPG  \n",
            "  inflating: Plants_2/train/Mango diseased (P0b)/0012_0026.JPG  \n",
            "  inflating: Plants_2/train/Mango diseased (P0b)/0012_0027.JPG  \n",
            "  inflating: Plants_2/train/Mango diseased (P0b)/0012_0028.JPG  \n",
            "  inflating: Plants_2/train/Mango diseased (P0b)/0012_0029.JPG  \n",
            "  inflating: Plants_2/train/Mango diseased (P0b)/0012_0030.JPG  \n",
            "  inflating: Plants_2/train/Mango diseased (P0b)/0012_0031.JPG  \n",
            "  inflating: Plants_2/train/Mango diseased (P0b)/0012_0032.JPG  \n",
            "  inflating: Plants_2/train/Mango diseased (P0b)/0012_0033.JPG  \n",
            "  inflating: Plants_2/train/Mango diseased (P0b)/0012_0034.JPG  \n",
            "  inflating: Plants_2/train/Mango diseased (P0b)/0012_0035.JPG  \n",
            "  inflating: Plants_2/train/Mango diseased (P0b)/0012_0036.JPG  \n",
            "  inflating: Plants_2/train/Mango diseased (P0b)/0012_0037.JPG  \n",
            "  inflating: Plants_2/train/Mango diseased (P0b)/0012_0038.JPG  \n",
            "  inflating: Plants_2/train/Mango diseased (P0b)/0012_0039.JPG  \n",
            "  inflating: Plants_2/train/Mango diseased (P0b)/0012_0040.JPG  \n",
            "  inflating: Plants_2/train/Mango diseased (P0b)/0012_0041.JPG  \n",
            "  inflating: Plants_2/train/Mango diseased (P0b)/0012_0042.JPG  \n",
            "  inflating: Plants_2/train/Mango diseased (P0b)/0012_0043.JPG  \n",
            "  inflating: Plants_2/train/Mango diseased (P0b)/0012_0044.JPG  \n",
            "  inflating: Plants_2/train/Mango diseased (P0b)/0012_0045.JPG  \n",
            "  inflating: Plants_2/train/Mango diseased (P0b)/0012_0046.JPG  \n",
            "  inflating: Plants_2/train/Mango diseased (P0b)/0012_0047.JPG  \n",
            "  inflating: Plants_2/train/Mango diseased (P0b)/0012_0048.JPG  \n",
            "  inflating: Plants_2/train/Mango diseased (P0b)/0012_0049.JPG  \n",
            "  inflating: Plants_2/train/Mango diseased (P0b)/0012_0050.JPG  \n",
            "  inflating: Plants_2/train/Mango diseased (P0b)/0012_0051.JPG  \n",
            "  inflating: Plants_2/train/Mango diseased (P0b)/0012_0052.JPG  \n",
            "  inflating: Plants_2/train/Mango diseased (P0b)/0012_0053.JPG  \n",
            "  inflating: Plants_2/train/Mango diseased (P0b)/0012_0054.JPG  \n",
            "  inflating: Plants_2/train/Mango diseased (P0b)/0012_0055.JPG  \n",
            "  inflating: Plants_2/train/Mango diseased (P0b)/0012_0056.JPG  \n",
            "  inflating: Plants_2/train/Mango diseased (P0b)/0012_0057.JPG  \n",
            "  inflating: Plants_2/train/Mango diseased (P0b)/0012_0058.JPG  \n",
            "  inflating: Plants_2/train/Mango diseased (P0b)/0012_0059.JPG  \n",
            "  inflating: Plants_2/train/Mango diseased (P0b)/0012_0060.JPG  \n",
            "  inflating: Plants_2/train/Mango diseased (P0b)/0012_0061.JPG  \n",
            "  inflating: Plants_2/train/Mango diseased (P0b)/0012_0062.JPG  \n",
            "  inflating: Plants_2/train/Mango diseased (P0b)/0012_0063.JPG  \n",
            "  inflating: Plants_2/train/Mango diseased (P0b)/0012_0064.JPG  \n",
            "  inflating: Plants_2/train/Mango diseased (P0b)/0012_0065.JPG  \n",
            "  inflating: Plants_2/train/Mango diseased (P0b)/0012_0066.JPG  \n",
            "  inflating: Plants_2/train/Mango diseased (P0b)/0012_0067.JPG  \n",
            "  inflating: Plants_2/train/Mango diseased (P0b)/0012_0068.JPG  \n",
            "  inflating: Plants_2/train/Mango diseased (P0b)/0012_0069.JPG  \n",
            "  inflating: Plants_2/train/Mango diseased (P0b)/0012_0070.JPG  \n",
            "  inflating: Plants_2/train/Mango diseased (P0b)/0012_0071.JPG  \n",
            "  inflating: Plants_2/train/Mango diseased (P0b)/0012_0072.JPG  \n",
            "  inflating: Plants_2/train/Mango diseased (P0b)/0012_0073.JPG  \n",
            "  inflating: Plants_2/train/Mango diseased (P0b)/0012_0074.JPG  \n",
            "  inflating: Plants_2/train/Mango diseased (P0b)/0012_0075.JPG  \n",
            "  inflating: Plants_2/train/Mango diseased (P0b)/0012_0076.JPG  \n",
            "  inflating: Plants_2/train/Mango diseased (P0b)/0012_0077.JPG  \n",
            "  inflating: Plants_2/train/Mango diseased (P0b)/0012_0078.JPG  \n",
            "  inflating: Plants_2/train/Mango diseased (P0b)/0012_0079.JPG  \n",
            "  inflating: Plants_2/train/Mango diseased (P0b)/0012_0080.JPG  \n",
            "  inflating: Plants_2/train/Mango diseased (P0b)/0012_0081.JPG  \n",
            "  inflating: Plants_2/train/Mango diseased (P0b)/0012_0082.JPG  \n",
            "  inflating: Plants_2/train/Mango diseased (P0b)/0012_0083.JPG  \n",
            "  inflating: Plants_2/train/Mango diseased (P0b)/0012_0084.JPG  \n",
            "  inflating: Plants_2/train/Mango diseased (P0b)/0012_0085.JPG  \n",
            "  inflating: Plants_2/train/Mango diseased (P0b)/0012_0086.JPG  \n",
            "  inflating: Plants_2/train/Mango diseased (P0b)/0012_0087.JPG  \n",
            "  inflating: Plants_2/train/Mango diseased (P0b)/0012_0088.JPG  \n",
            "  inflating: Plants_2/train/Mango diseased (P0b)/0012_0089.JPG  \n",
            "  inflating: Plants_2/train/Mango diseased (P0b)/0012_0090.JPG  \n",
            "  inflating: Plants_2/train/Mango diseased (P0b)/0012_0091.JPG  \n",
            "  inflating: Plants_2/train/Mango diseased (P0b)/0012_0092.JPG  \n",
            "  inflating: Plants_2/train/Mango diseased (P0b)/0012_0093.JPG  \n",
            "  inflating: Plants_2/train/Mango diseased (P0b)/0012_0094.JPG  \n",
            "  inflating: Plants_2/train/Mango diseased (P0b)/0012_0095.JPG  \n",
            "  inflating: Plants_2/train/Mango diseased (P0b)/0012_0096.JPG  \n",
            "  inflating: Plants_2/train/Mango diseased (P0b)/0012_0097.JPG  \n",
            "  inflating: Plants_2/train/Mango diseased (P0b)/0012_0098.JPG  \n",
            "  inflating: Plants_2/train/Mango diseased (P0b)/0012_0099.JPG  \n",
            "  inflating: Plants_2/train/Mango diseased (P0b)/0012_0100.JPG  \n",
            "  inflating: Plants_2/train/Mango diseased (P0b)/0012_0101.JPG  \n",
            "  inflating: Plants_2/train/Mango diseased (P0b)/0012_0102.JPG  \n",
            "  inflating: Plants_2/train/Mango diseased (P0b)/0012_0103.JPG  \n",
            "  inflating: Plants_2/train/Mango diseased (P0b)/0012_0104.JPG  \n",
            "  inflating: Plants_2/train/Mango diseased (P0b)/0012_0105.JPG  \n",
            "  inflating: Plants_2/train/Mango diseased (P0b)/0012_0106.JPG  \n",
            "  inflating: Plants_2/train/Mango diseased (P0b)/0012_0107.JPG  \n",
            "  inflating: Plants_2/train/Mango diseased (P0b)/0012_0108.JPG  \n",
            "  inflating: Plants_2/train/Mango diseased (P0b)/0012_0109.JPG  \n",
            "  inflating: Plants_2/train/Mango diseased (P0b)/0012_0110.JPG  \n",
            "  inflating: Plants_2/train/Mango diseased (P0b)/0012_0111.JPG  \n",
            "  inflating: Plants_2/train/Mango diseased (P0b)/0012_0112.JPG  \n",
            "  inflating: Plants_2/train/Mango diseased (P0b)/0012_0113.JPG  \n",
            "  inflating: Plants_2/train/Mango diseased (P0b)/0012_0114.JPG  \n",
            "  inflating: Plants_2/train/Mango diseased (P0b)/0012_0115.JPG  \n",
            "  inflating: Plants_2/train/Mango diseased (P0b)/0012_0116.JPG  \n",
            "  inflating: Plants_2/train/Mango diseased (P0b)/0012_0117.JPG  \n",
            "  inflating: Plants_2/train/Mango diseased (P0b)/0012_0118.JPG  \n",
            "  inflating: Plants_2/train/Mango diseased (P0b)/0012_0119.JPG  \n",
            "  inflating: Plants_2/train/Mango diseased (P0b)/0012_0120.JPG  \n",
            "  inflating: Plants_2/train/Mango diseased (P0b)/0012_0121.JPG  \n",
            "  inflating: Plants_2/train/Mango diseased (P0b)/0012_0122.JPG  \n",
            "  inflating: Plants_2/train/Mango diseased (P0b)/0012_0123.JPG  \n",
            "  inflating: Plants_2/train/Mango diseased (P0b)/0012_0124.JPG  \n",
            "  inflating: Plants_2/train/Mango diseased (P0b)/0012_0125.JPG  \n",
            "  inflating: Plants_2/train/Mango diseased (P0b)/0012_0126.JPG  \n",
            "  inflating: Plants_2/train/Mango diseased (P0b)/0012_0127.JPG  \n",
            "  inflating: Plants_2/train/Mango diseased (P0b)/0012_0128.JPG  \n",
            "  inflating: Plants_2/train/Mango diseased (P0b)/0012_0129.JPG  \n",
            "  inflating: Plants_2/train/Mango diseased (P0b)/0012_0130.JPG  \n",
            "  inflating: Plants_2/train/Mango diseased (P0b)/0012_0131.JPG  \n",
            "  inflating: Plants_2/train/Mango diseased (P0b)/0012_0132.JPG  \n",
            "  inflating: Plants_2/train/Mango diseased (P0b)/0012_0133.JPG  \n",
            "  inflating: Plants_2/train/Mango diseased (P0b)/0012_0134.JPG  \n",
            "  inflating: Plants_2/train/Mango diseased (P0b)/0012_0135.JPG  \n",
            "  inflating: Plants_2/train/Mango diseased (P0b)/0012_0136.JPG  \n",
            "  inflating: Plants_2/train/Mango diseased (P0b)/0012_0137.JPG  \n",
            "  inflating: Plants_2/train/Mango diseased (P0b)/0012_0138.JPG  \n",
            "  inflating: Plants_2/train/Mango diseased (P0b)/0012_0139.JPG  \n",
            "  inflating: Plants_2/train/Mango diseased (P0b)/0012_0140.JPG  \n",
            "  inflating: Plants_2/train/Mango diseased (P0b)/0012_0141.JPG  \n",
            "  inflating: Plants_2/train/Mango diseased (P0b)/0012_0142.JPG  \n",
            "  inflating: Plants_2/train/Mango diseased (P0b)/0012_0143.JPG  \n",
            "  inflating: Plants_2/train/Mango diseased (P0b)/0012_0144.JPG  \n",
            "  inflating: Plants_2/train/Mango diseased (P0b)/0012_0145.JPG  \n",
            "  inflating: Plants_2/train/Mango diseased (P0b)/0012_0146.JPG  \n",
            "  inflating: Plants_2/train/Mango diseased (P0b)/0012_0147.JPG  \n",
            "  inflating: Plants_2/train/Mango diseased (P0b)/0012_0148.JPG  \n",
            "  inflating: Plants_2/train/Mango diseased (P0b)/0012_0149.JPG  \n",
            "  inflating: Plants_2/train/Mango diseased (P0b)/0012_0150.JPG  \n",
            "  inflating: Plants_2/train/Mango diseased (P0b)/0012_0151.JPG  \n",
            "  inflating: Plants_2/train/Mango diseased (P0b)/0012_0152.JPG  \n",
            "  inflating: Plants_2/train/Mango diseased (P0b)/0012_0153.JPG  \n",
            "  inflating: Plants_2/train/Mango diseased (P0b)/0012_0154.JPG  \n",
            "  inflating: Plants_2/train/Mango diseased (P0b)/0012_0155.JPG  \n",
            "  inflating: Plants_2/train/Mango diseased (P0b)/0012_0156.JPG  \n",
            "  inflating: Plants_2/train/Mango diseased (P0b)/0012_0157.JPG  \n",
            "  inflating: Plants_2/train/Mango diseased (P0b)/0012_0158.JPG  \n",
            "  inflating: Plants_2/train/Mango diseased (P0b)/0012_0159.JPG  \n",
            "  inflating: Plants_2/train/Mango diseased (P0b)/0012_0160.JPG  \n",
            "  inflating: Plants_2/train/Mango diseased (P0b)/0012_0161.JPG  \n",
            "  inflating: Plants_2/train/Mango diseased (P0b)/0012_0162.JPG  \n",
            "  inflating: Plants_2/train/Mango diseased (P0b)/0012_0163.JPG  \n",
            "  inflating: Plants_2/train/Mango diseased (P0b)/0012_0164.JPG  \n",
            "  inflating: Plants_2/train/Mango diseased (P0b)/0012_0165.JPG  \n",
            "  inflating: Plants_2/train/Mango diseased (P0b)/0012_0166.JPG  \n",
            "  inflating: Plants_2/train/Mango diseased (P0b)/0012_0167.JPG  \n",
            "  inflating: Plants_2/train/Mango diseased (P0b)/0012_0168.JPG  \n",
            "  inflating: Plants_2/train/Mango diseased (P0b)/0012_0169.JPG  \n",
            "  inflating: Plants_2/train/Mango diseased (P0b)/0012_0170.JPG  \n",
            "  inflating: Plants_2/train/Mango diseased (P0b)/0012_0171.JPG  \n",
            "  inflating: Plants_2/train/Mango diseased (P0b)/0012_0172.JPG  \n",
            "  inflating: Plants_2/train/Mango diseased (P0b)/0012_0173.JPG  \n",
            "  inflating: Plants_2/train/Mango diseased (P0b)/0012_0174.JPG  \n",
            "  inflating: Plants_2/train/Mango diseased (P0b)/0012_0175.JPG  \n",
            "  inflating: Plants_2/train/Mango diseased (P0b)/0012_0176.JPG  \n",
            "  inflating: Plants_2/train/Mango diseased (P0b)/0012_0177.JPG  \n",
            "  inflating: Plants_2/train/Mango diseased (P0b)/0012_0178.JPG  \n",
            "  inflating: Plants_2/train/Mango diseased (P0b)/0012_0179.JPG  \n",
            "  inflating: Plants_2/train/Mango diseased (P0b)/0012_0180.JPG  \n",
            "  inflating: Plants_2/train/Mango diseased (P0b)/0012_0181.JPG  \n",
            "  inflating: Plants_2/train/Mango diseased (P0b)/0012_0182.JPG  \n",
            "  inflating: Plants_2/train/Mango diseased (P0b)/0012_0183.JPG  \n",
            "  inflating: Plants_2/train/Mango diseased (P0b)/0012_0184.JPG  \n",
            "  inflating: Plants_2/train/Mango diseased (P0b)/0012_0185.JPG  \n",
            "  inflating: Plants_2/train/Mango diseased (P0b)/0012_0186.JPG  \n",
            "  inflating: Plants_2/train/Mango diseased (P0b)/0012_0187.JPG  \n",
            "  inflating: Plants_2/train/Mango diseased (P0b)/0012_0188.JPG  \n",
            "  inflating: Plants_2/train/Mango diseased (P0b)/0012_0189.JPG  \n",
            "  inflating: Plants_2/train/Mango diseased (P0b)/0012_0190.JPG  \n",
            "  inflating: Plants_2/train/Mango diseased (P0b)/0012_0191.JPG  \n",
            "  inflating: Plants_2/train/Mango diseased (P0b)/0012_0192.JPG  \n",
            "  inflating: Plants_2/train/Mango diseased (P0b)/0012_0193.JPG  \n",
            "  inflating: Plants_2/train/Mango diseased (P0b)/0012_0194.JPG  \n",
            "  inflating: Plants_2/train/Mango diseased (P0b)/0012_0195.JPG  \n",
            "  inflating: Plants_2/train/Mango diseased (P0b)/0012_0196.JPG  \n",
            "  inflating: Plants_2/train/Mango diseased (P0b)/0012_0197.JPG  \n",
            "  inflating: Plants_2/train/Mango diseased (P0b)/0012_0198.JPG  \n",
            "  inflating: Plants_2/train/Mango diseased (P0b)/0012_0199.JPG  \n",
            "  inflating: Plants_2/train/Mango diseased (P0b)/0012_0200.JPG  \n",
            "  inflating: Plants_2/train/Mango diseased (P0b)/0012_0201.JPG  \n",
            "  inflating: Plants_2/train/Mango diseased (P0b)/0012_0202.JPG  \n",
            "  inflating: Plants_2/train/Mango diseased (P0b)/0012_0203.JPG  \n",
            "  inflating: Plants_2/train/Mango diseased (P0b)/0012_0204.JPG  \n",
            "  inflating: Plants_2/train/Mango diseased (P0b)/0012_0205.JPG  \n",
            "  inflating: Plants_2/train/Mango diseased (P0b)/0012_0206.JPG  \n",
            "  inflating: Plants_2/train/Mango diseased (P0b)/0012_0207.JPG  \n",
            "  inflating: Plants_2/train/Mango diseased (P0b)/0012_0208.JPG  \n",
            "  inflating: Plants_2/train/Mango diseased (P0b)/0012_0209.JPG  \n",
            "  inflating: Plants_2/train/Mango diseased (P0b)/0012_0210.JPG  \n",
            "  inflating: Plants_2/train/Mango diseased (P0b)/0012_0211.JPG  \n",
            "  inflating: Plants_2/train/Mango diseased (P0b)/0012_0212.JPG  \n",
            "  inflating: Plants_2/train/Mango diseased (P0b)/0012_0213.JPG  \n",
            "  inflating: Plants_2/train/Mango diseased (P0b)/0012_0214.JPG  \n",
            "  inflating: Plants_2/train/Mango diseased (P0b)/0012_0215.JPG  \n",
            "  inflating: Plants_2/train/Mango diseased (P0b)/0012_0216.JPG  \n",
            "  inflating: Plants_2/train/Mango diseased (P0b)/0012_0217.JPG  \n",
            "  inflating: Plants_2/train/Mango diseased (P0b)/0012_0218.JPG  \n",
            "  inflating: Plants_2/train/Mango diseased (P0b)/0012_0219.JPG  \n",
            "  inflating: Plants_2/train/Mango diseased (P0b)/0012_0220.JPG  \n",
            "  inflating: Plants_2/train/Mango diseased (P0b)/0012_0221.JPG  \n",
            "  inflating: Plants_2/train/Mango diseased (P0b)/0012_0222.JPG  \n",
            "  inflating: Plants_2/train/Mango diseased (P0b)/0012_0223.JPG  \n",
            "  inflating: Plants_2/train/Mango diseased (P0b)/0012_0224.JPG  \n",
            "  inflating: Plants_2/train/Mango diseased (P0b)/0012_0225.JPG  \n",
            "  inflating: Plants_2/train/Mango diseased (P0b)/0012_0226.JPG  \n",
            "  inflating: Plants_2/train/Mango diseased (P0b)/0012_0227.JPG  \n",
            "  inflating: Plants_2/train/Mango diseased (P0b)/0012_0228.JPG  \n",
            "  inflating: Plants_2/train/Mango diseased (P0b)/0012_0229.JPG  \n",
            "  inflating: Plants_2/train/Mango diseased (P0b)/0012_0230.JPG  \n",
            "  inflating: Plants_2/train/Mango diseased (P0b)/0012_0231.JPG  \n",
            "  inflating: Plants_2/train/Mango diseased (P0b)/0012_0232.JPG  \n",
            "  inflating: Plants_2/train/Mango diseased (P0b)/0012_0233.JPG  \n",
            "  inflating: Plants_2/train/Mango diseased (P0b)/0012_0234.JPG  \n",
            "  inflating: Plants_2/train/Mango diseased (P0b)/0012_0235.JPG  \n",
            "  inflating: Plants_2/train/Mango diseased (P0b)/0012_0236.JPG  \n",
            "  inflating: Plants_2/train/Mango diseased (P0b)/0012_0237.JPG  \n",
            "  inflating: Plants_2/train/Mango diseased (P0b)/0012_0238.JPG  \n",
            "  inflating: Plants_2/train/Mango diseased (P0b)/0012_0239.JPG  \n",
            "  inflating: Plants_2/train/Mango diseased (P0b)/0012_0240.JPG  \n",
            "  inflating: Plants_2/train/Mango diseased (P0b)/0012_0241.JPG  \n",
            "  inflating: Plants_2/train/Mango diseased (P0b)/0012_0242.JPG  \n",
            "  inflating: Plants_2/train/Mango diseased (P0b)/0012_0243.JPG  \n",
            "  inflating: Plants_2/train/Mango diseased (P0b)/0012_0244.JPG  \n",
            "  inflating: Plants_2/train/Mango diseased (P0b)/0012_0245.JPG  \n",
            "  inflating: Plants_2/train/Mango diseased (P0b)/0012_0246.JPG  \n",
            "  inflating: Plants_2/train/Mango diseased (P0b)/0012_0247.JPG  \n",
            "  inflating: Plants_2/train/Mango diseased (P0b)/0012_0248.JPG  \n",
            "  inflating: Plants_2/train/Mango diseased (P0b)/0012_0249.JPG  \n",
            "  inflating: Plants_2/train/Mango diseased (P0b)/0012_0250.JPG  \n",
            "  inflating: Plants_2/train/Mango diseased (P0b)/0012_0251.JPG  \n",
            "  inflating: Plants_2/train/Mango diseased (P0b)/0012_0252.JPG  \n",
            "  inflating: Plants_2/train/Mango diseased (P0b)/0012_0253.JPG  \n",
            "  inflating: Plants_2/train/Mango diseased (P0b)/0012_0254.JPG  \n",
            "  inflating: Plants_2/train/Mango diseased (P0b)/0012_0255.JPG  \n",
            "  inflating: Plants_2/train/Mango diseased (P0b)/0012_0256.JPG  \n",
            "  inflating: Plants_2/train/Mango diseased (P0b)/0012_0257.JPG  \n",
            "  inflating: Plants_2/train/Mango diseased (P0b)/0012_0258.JPG  \n",
            "  inflating: Plants_2/train/Mango diseased (P0b)/0012_0259.JPG  \n",
            "  inflating: Plants_2/train/Mango diseased (P0b)/0012_0260.JPG  \n",
            "  inflating: Plants_2/train/Mango diseased (P0b)/0012_0261.JPG  \n",
            "  inflating: Plants_2/train/Mango diseased (P0b)/0012_0262.JPG  \n",
            "  inflating: Plants_2/train/Mango diseased (P0b)/0012_0263.JPG  \n",
            "  inflating: Plants_2/train/Mango diseased (P0b)/0012_0264.JPG  \n",
            "  inflating: Plants_2/train/Mango diseased (P0b)/0012_0265.JPG  \n",
            "  inflating: Plants_2/train/Mango healthy (P0a)/0001_0011.JPG  \n",
            "  inflating: Plants_2/train/Mango healthy (P0a)/0001_0012.JPG  \n",
            "  inflating: Plants_2/train/Mango healthy (P0a)/0001_0013.JPG  \n",
            "  inflating: Plants_2/train/Mango healthy (P0a)/0001_0014.JPG  \n",
            "  inflating: Plants_2/train/Mango healthy (P0a)/0001_0015.JPG  \n",
            "  inflating: Plants_2/train/Mango healthy (P0a)/0001_0016.JPG  \n",
            "  inflating: Plants_2/train/Mango healthy (P0a)/0001_0017.JPG  \n",
            "  inflating: Plants_2/train/Mango healthy (P0a)/0001_0018.JPG  \n",
            "  inflating: Plants_2/train/Mango healthy (P0a)/0001_0019.JPG  \n",
            "  inflating: Plants_2/train/Mango healthy (P0a)/0001_0020.JPG  \n",
            "  inflating: Plants_2/train/Mango healthy (P0a)/0001_0021.JPG  \n",
            "  inflating: Plants_2/train/Mango healthy (P0a)/0001_0022.JPG  \n",
            "  inflating: Plants_2/train/Mango healthy (P0a)/0001_0023.JPG  \n",
            "  inflating: Plants_2/train/Mango healthy (P0a)/0001_0024.JPG  \n",
            "  inflating: Plants_2/train/Mango healthy (P0a)/0001_0025.JPG  \n",
            "  inflating: Plants_2/train/Mango healthy (P0a)/0001_0026.JPG  \n",
            "  inflating: Plants_2/train/Mango healthy (P0a)/0001_0027.JPG  \n",
            "  inflating: Plants_2/train/Mango healthy (P0a)/0001_0028.JPG  \n",
            "  inflating: Plants_2/train/Mango healthy (P0a)/0001_0029.JPG  \n",
            "  inflating: Plants_2/train/Mango healthy (P0a)/0001_0030.JPG  \n",
            "  inflating: Plants_2/train/Mango healthy (P0a)/0001_0031.JPG  \n",
            "  inflating: Plants_2/train/Mango healthy (P0a)/0001_0032.JPG  \n",
            "  inflating: Plants_2/train/Mango healthy (P0a)/0001_0033.JPG  \n",
            "  inflating: Plants_2/train/Mango healthy (P0a)/0001_0034.JPG  \n",
            "  inflating: Plants_2/train/Mango healthy (P0a)/0001_0035.JPG  \n",
            "  inflating: Plants_2/train/Mango healthy (P0a)/0001_0036.JPG  \n",
            "  inflating: Plants_2/train/Mango healthy (P0a)/0001_0037.JPG  \n",
            "  inflating: Plants_2/train/Mango healthy (P0a)/0001_0038.JPG  \n",
            "  inflating: Plants_2/train/Mango healthy (P0a)/0001_0039.JPG  \n",
            "  inflating: Plants_2/train/Mango healthy (P0a)/0001_0040.JPG  \n",
            "  inflating: Plants_2/train/Mango healthy (P0a)/0001_0041.JPG  \n",
            "  inflating: Plants_2/train/Mango healthy (P0a)/0001_0042.JPG  \n",
            "  inflating: Plants_2/train/Mango healthy (P0a)/0001_0043.JPG  \n",
            "  inflating: Plants_2/train/Mango healthy (P0a)/0001_0044.JPG  \n",
            "  inflating: Plants_2/train/Mango healthy (P0a)/0001_0045.JPG  \n",
            "  inflating: Plants_2/train/Mango healthy (P0a)/0001_0046.JPG  \n",
            "  inflating: Plants_2/train/Mango healthy (P0a)/0001_0047.JPG  \n",
            "  inflating: Plants_2/train/Mango healthy (P0a)/0001_0048.JPG  \n",
            "  inflating: Plants_2/train/Mango healthy (P0a)/0001_0049.JPG  \n",
            "  inflating: Plants_2/train/Mango healthy (P0a)/0001_0050.JPG  \n",
            "  inflating: Plants_2/train/Mango healthy (P0a)/0001_0051.JPG  \n",
            "  inflating: Plants_2/train/Mango healthy (P0a)/0001_0052.JPG  \n",
            "  inflating: Plants_2/train/Mango healthy (P0a)/0001_0053.JPG  \n",
            "  inflating: Plants_2/train/Mango healthy (P0a)/0001_0054.JPG  \n",
            "  inflating: Plants_2/train/Mango healthy (P0a)/0001_0055.JPG  \n",
            "  inflating: Plants_2/train/Mango healthy (P0a)/0001_0056.JPG  \n",
            "  inflating: Plants_2/train/Mango healthy (P0a)/0001_0057.JPG  \n",
            "  inflating: Plants_2/train/Mango healthy (P0a)/0001_0058.JPG  \n",
            "  inflating: Plants_2/train/Mango healthy (P0a)/0001_0059.JPG  \n",
            "  inflating: Plants_2/train/Mango healthy (P0a)/0001_0060.JPG  \n",
            "  inflating: Plants_2/train/Mango healthy (P0a)/0001_0061.JPG  \n",
            "  inflating: Plants_2/train/Mango healthy (P0a)/0001_0062.JPG  \n",
            "  inflating: Plants_2/train/Mango healthy (P0a)/0001_0063.JPG  \n",
            "  inflating: Plants_2/train/Mango healthy (P0a)/0001_0064.JPG  \n",
            "  inflating: Plants_2/train/Mango healthy (P0a)/0001_0065.JPG  \n",
            "  inflating: Plants_2/train/Mango healthy (P0a)/0001_0066.JPG  \n",
            "  inflating: Plants_2/train/Mango healthy (P0a)/0001_0067.JPG  \n",
            "  inflating: Plants_2/train/Mango healthy (P0a)/0001_0068.JPG  \n",
            "  inflating: Plants_2/train/Mango healthy (P0a)/0001_0069.JPG  \n",
            "  inflating: Plants_2/train/Mango healthy (P0a)/0001_0070.JPG  \n",
            "  inflating: Plants_2/train/Mango healthy (P0a)/0001_0071.JPG  \n",
            "  inflating: Plants_2/train/Mango healthy (P0a)/0001_0072.JPG  \n",
            "  inflating: Plants_2/train/Mango healthy (P0a)/0001_0073.JPG  \n",
            "  inflating: Plants_2/train/Mango healthy (P0a)/0001_0074.JPG  \n",
            "  inflating: Plants_2/train/Mango healthy (P0a)/0001_0075.JPG  \n",
            "  inflating: Plants_2/train/Mango healthy (P0a)/0001_0076.JPG  \n",
            "  inflating: Plants_2/train/Mango healthy (P0a)/0001_0077.JPG  \n",
            "  inflating: Plants_2/train/Mango healthy (P0a)/0001_0078.JPG  \n",
            "  inflating: Plants_2/train/Mango healthy (P0a)/0001_0079.JPG  \n",
            "  inflating: Plants_2/train/Mango healthy (P0a)/0001_0080.JPG  \n",
            "  inflating: Plants_2/train/Mango healthy (P0a)/0001_0081.JPG  \n",
            "  inflating: Plants_2/train/Mango healthy (P0a)/0001_0082.JPG  \n",
            "  inflating: Plants_2/train/Mango healthy (P0a)/0001_0083.JPG  \n",
            "  inflating: Plants_2/train/Mango healthy (P0a)/0001_0084.JPG  \n",
            "  inflating: Plants_2/train/Mango healthy (P0a)/0001_0085.JPG  \n",
            "  inflating: Plants_2/train/Mango healthy (P0a)/0001_0086.JPG  \n",
            "  inflating: Plants_2/train/Mango healthy (P0a)/0001_0087.JPG  \n",
            "  inflating: Plants_2/train/Mango healthy (P0a)/0001_0088.JPG  \n",
            "  inflating: Plants_2/train/Mango healthy (P0a)/0001_0089.JPG  \n",
            "  inflating: Plants_2/train/Mango healthy (P0a)/0001_0090.JPG  \n",
            "  inflating: Plants_2/train/Mango healthy (P0a)/0001_0091.JPG  \n",
            "  inflating: Plants_2/train/Mango healthy (P0a)/0001_0092.JPG  \n",
            "  inflating: Plants_2/train/Mango healthy (P0a)/0001_0093.JPG  \n",
            "  inflating: Plants_2/train/Mango healthy (P0a)/0001_0094.JPG  \n",
            "  inflating: Plants_2/train/Mango healthy (P0a)/0001_0095.JPG  \n",
            "  inflating: Plants_2/train/Mango healthy (P0a)/0001_0096.JPG  \n",
            "  inflating: Plants_2/train/Mango healthy (P0a)/0001_0097.JPG  \n",
            "  inflating: Plants_2/train/Mango healthy (P0a)/0001_0098.JPG  \n",
            "  inflating: Plants_2/train/Mango healthy (P0a)/0001_0099.JPG  \n",
            "  inflating: Plants_2/train/Mango healthy (P0a)/0001_0100.JPG  \n",
            "  inflating: Plants_2/train/Mango healthy (P0a)/0001_0101.JPG  \n",
            "  inflating: Plants_2/train/Mango healthy (P0a)/0001_0102.JPG  \n",
            "  inflating: Plants_2/train/Mango healthy (P0a)/0001_0103.JPG  \n",
            "  inflating: Plants_2/train/Mango healthy (P0a)/0001_0104.JPG  \n",
            "  inflating: Plants_2/train/Mango healthy (P0a)/0001_0105.JPG  \n",
            "  inflating: Plants_2/train/Mango healthy (P0a)/0001_0106.JPG  \n",
            "  inflating: Plants_2/train/Mango healthy (P0a)/0001_0107.JPG  \n",
            "  inflating: Plants_2/train/Mango healthy (P0a)/0001_0108.JPG  \n",
            "  inflating: Plants_2/train/Mango healthy (P0a)/0001_0109.JPG  \n",
            "  inflating: Plants_2/train/Mango healthy (P0a)/0001_0110.JPG  \n",
            "  inflating: Plants_2/train/Mango healthy (P0a)/0001_0111.JPG  \n",
            "  inflating: Plants_2/train/Mango healthy (P0a)/0001_0112.JPG  \n",
            "  inflating: Plants_2/train/Mango healthy (P0a)/0001_0113.JPG  \n",
            "  inflating: Plants_2/train/Mango healthy (P0a)/0001_0114.JPG  \n",
            "  inflating: Plants_2/train/Mango healthy (P0a)/0001_0115.JPG  \n",
            "  inflating: Plants_2/train/Mango healthy (P0a)/0001_0116.JPG  \n",
            "  inflating: Plants_2/train/Mango healthy (P0a)/0001_0117.JPG  \n",
            "  inflating: Plants_2/train/Mango healthy (P0a)/0001_0118.JPG  \n",
            "  inflating: Plants_2/train/Mango healthy (P0a)/0001_0119.JPG  \n",
            "  inflating: Plants_2/train/Mango healthy (P0a)/0001_0120.JPG  \n",
            "  inflating: Plants_2/train/Mango healthy (P0a)/0001_0121.JPG  \n",
            "  inflating: Plants_2/train/Mango healthy (P0a)/0001_0122.JPG  \n",
            "  inflating: Plants_2/train/Mango healthy (P0a)/0001_0123.JPG  \n",
            "  inflating: Plants_2/train/Mango healthy (P0a)/0001_0124.JPG  \n",
            "  inflating: Plants_2/train/Mango healthy (P0a)/0001_0125.JPG  \n",
            "  inflating: Plants_2/train/Mango healthy (P0a)/0001_0126.JPG  \n",
            "  inflating: Plants_2/train/Mango healthy (P0a)/0001_0127.JPG  \n",
            "  inflating: Plants_2/train/Mango healthy (P0a)/0001_0128.JPG  \n",
            "  inflating: Plants_2/train/Mango healthy (P0a)/0001_0129.JPG  \n",
            "  inflating: Plants_2/train/Mango healthy (P0a)/0001_0130.JPG  \n",
            "  inflating: Plants_2/train/Mango healthy (P0a)/0001_0131.JPG  \n",
            "  inflating: Plants_2/train/Mango healthy (P0a)/0001_0132.JPG  \n",
            "  inflating: Plants_2/train/Mango healthy (P0a)/0001_0133.JPG  \n",
            "  inflating: Plants_2/train/Mango healthy (P0a)/0001_0134.JPG  \n",
            "  inflating: Plants_2/train/Mango healthy (P0a)/0001_0135.JPG  \n",
            "  inflating: Plants_2/train/Mango healthy (P0a)/0001_0136.JPG  \n",
            "  inflating: Plants_2/train/Mango healthy (P0a)/0001_0137.JPG  \n",
            "  inflating: Plants_2/train/Mango healthy (P0a)/0001_0138.JPG  \n",
            "  inflating: Plants_2/train/Mango healthy (P0a)/0001_0139.JPG  \n",
            "  inflating: Plants_2/train/Mango healthy (P0a)/0001_0140.JPG  \n",
            "  inflating: Plants_2/train/Mango healthy (P0a)/0001_0141.JPG  \n",
            "  inflating: Plants_2/train/Mango healthy (P0a)/0001_0142.JPG  \n",
            "  inflating: Plants_2/train/Mango healthy (P0a)/0001_0143.JPG  \n",
            "  inflating: Plants_2/train/Mango healthy (P0a)/0001_0144.JPG  \n",
            "  inflating: Plants_2/train/Mango healthy (P0a)/0001_0145.JPG  \n",
            "  inflating: Plants_2/train/Mango healthy (P0a)/0001_0146.JPG  \n",
            "  inflating: Plants_2/train/Mango healthy (P0a)/0001_0147.JPG  \n",
            "  inflating: Plants_2/train/Mango healthy (P0a)/0001_0148.JPG  \n",
            "  inflating: Plants_2/train/Mango healthy (P0a)/0001_0149.JPG  \n",
            "  inflating: Plants_2/train/Mango healthy (P0a)/0001_0150.JPG  \n",
            "  inflating: Plants_2/train/Mango healthy (P0a)/0001_0151.JPG  \n",
            "  inflating: Plants_2/train/Mango healthy (P0a)/0001_0152.JPG  \n",
            "  inflating: Plants_2/train/Mango healthy (P0a)/0001_0153.JPG  \n",
            "  inflating: Plants_2/train/Mango healthy (P0a)/0001_0154.JPG  \n",
            "  inflating: Plants_2/train/Mango healthy (P0a)/0001_0155.JPG  \n",
            "  inflating: Plants_2/train/Mango healthy (P0a)/0001_0156.JPG  \n",
            "  inflating: Plants_2/train/Mango healthy (P0a)/0001_0157.JPG  \n",
            "  inflating: Plants_2/train/Mango healthy (P0a)/0001_0158.JPG  \n",
            "  inflating: Plants_2/train/Mango healthy (P0a)/0001_0159.JPG  \n",
            "  inflating: Plants_2/train/Mango healthy (P0a)/0001_0160.JPG  \n",
            "  inflating: Plants_2/train/Mango healthy (P0a)/0001_0161.JPG  \n",
            "  inflating: Plants_2/train/Mango healthy (P0a)/0001_0162.JPG  \n",
            "  inflating: Plants_2/train/Mango healthy (P0a)/0001_0163.JPG  \n",
            "  inflating: Plants_2/train/Mango healthy (P0a)/0001_0164.JPG  \n",
            "  inflating: Plants_2/train/Mango healthy (P0a)/0001_0165.JPG  \n",
            "  inflating: Plants_2/train/Mango healthy (P0a)/0001_0166.JPG  \n",
            "  inflating: Plants_2/train/Mango healthy (P0a)/0001_0167.JPG  \n",
            "  inflating: Plants_2/train/Mango healthy (P0a)/0001_0168.JPG  \n",
            "  inflating: Plants_2/train/Mango healthy (P0a)/0001_0169.JPG  \n",
            "  inflating: Plants_2/train/Pomegranate diseased (P9b)/0020_0011.JPG  \n",
            "  inflating: Plants_2/train/Pomegranate diseased (P9b)/0020_0012.JPG  \n",
            "  inflating: Plants_2/train/Pomegranate diseased (P9b)/0020_0013.JPG  \n",
            "  inflating: Plants_2/train/Pomegranate diseased (P9b)/0020_0014.JPG  \n",
            "  inflating: Plants_2/train/Pomegranate diseased (P9b)/0020_0015.JPG  \n",
            "  inflating: Plants_2/train/Pomegranate diseased (P9b)/0020_0016.JPG  \n",
            "  inflating: Plants_2/train/Pomegranate diseased (P9b)/0020_0017.JPG  \n",
            "  inflating: Plants_2/train/Pomegranate diseased (P9b)/0020_0018.JPG  \n",
            "  inflating: Plants_2/train/Pomegranate diseased (P9b)/0020_0019.JPG  \n",
            "  inflating: Plants_2/train/Pomegranate diseased (P9b)/0020_0020.JPG  \n",
            "  inflating: Plants_2/train/Pomegranate diseased (P9b)/0020_0021.JPG  \n",
            "  inflating: Plants_2/train/Pomegranate diseased (P9b)/0020_0022.JPG  \n",
            "  inflating: Plants_2/train/Pomegranate diseased (P9b)/0020_0023.JPG  \n",
            "  inflating: Plants_2/train/Pomegranate diseased (P9b)/0020_0024.JPG  \n",
            "  inflating: Plants_2/train/Pomegranate diseased (P9b)/0020_0025.JPG  \n",
            "  inflating: Plants_2/train/Pomegranate diseased (P9b)/0020_0026.JPG  \n",
            "  inflating: Plants_2/train/Pomegranate diseased (P9b)/0020_0027.JPG  \n",
            "  inflating: Plants_2/train/Pomegranate diseased (P9b)/0020_0028.JPG  \n",
            "  inflating: Plants_2/train/Pomegranate diseased (P9b)/0020_0029.JPG  \n",
            "  inflating: Plants_2/train/Pomegranate diseased (P9b)/0020_0030.JPG  \n",
            "  inflating: Plants_2/train/Pomegranate diseased (P9b)/0020_0031.JPG  \n",
            "  inflating: Plants_2/train/Pomegranate diseased (P9b)/0020_0032.JPG  \n",
            "  inflating: Plants_2/train/Pomegranate diseased (P9b)/0020_0033.JPG  \n",
            "  inflating: Plants_2/train/Pomegranate diseased (P9b)/0020_0034.JPG  \n",
            "  inflating: Plants_2/train/Pomegranate diseased (P9b)/0020_0035.JPG  \n",
            "  inflating: Plants_2/train/Pomegranate diseased (P9b)/0020_0036.JPG  \n",
            "  inflating: Plants_2/train/Pomegranate diseased (P9b)/0020_0037.JPG  \n",
            "  inflating: Plants_2/train/Pomegranate diseased (P9b)/0020_0038.JPG  \n",
            "  inflating: Plants_2/train/Pomegranate diseased (P9b)/0020_0039.JPG  \n",
            "  inflating: Plants_2/train/Pomegranate diseased (P9b)/0020_0040.JPG  \n",
            "  inflating: Plants_2/train/Pomegranate diseased (P9b)/0020_0041.JPG  \n",
            "  inflating: Plants_2/train/Pomegranate diseased (P9b)/0020_0042.JPG  \n",
            "  inflating: Plants_2/train/Pomegranate diseased (P9b)/0020_0043.JPG  \n",
            "  inflating: Plants_2/train/Pomegranate diseased (P9b)/0020_0044.JPG  \n",
            "  inflating: Plants_2/train/Pomegranate diseased (P9b)/0020_0045.JPG  \n",
            "  inflating: Plants_2/train/Pomegranate diseased (P9b)/0020_0046.JPG  \n",
            "  inflating: Plants_2/train/Pomegranate diseased (P9b)/0020_0047.JPG  \n",
            "  inflating: Plants_2/train/Pomegranate diseased (P9b)/0020_0048.JPG  \n",
            "  inflating: Plants_2/train/Pomegranate diseased (P9b)/0020_0049.JPG  \n",
            "  inflating: Plants_2/train/Pomegranate diseased (P9b)/0020_0050.JPG  \n",
            "  inflating: Plants_2/train/Pomegranate diseased (P9b)/0020_0051.JPG  \n",
            "  inflating: Plants_2/train/Pomegranate diseased (P9b)/0020_0052.JPG  \n",
            "  inflating: Plants_2/train/Pomegranate diseased (P9b)/0020_0053.JPG  \n",
            "  inflating: Plants_2/train/Pomegranate diseased (P9b)/0020_0054.JPG  \n",
            "  inflating: Plants_2/train/Pomegranate diseased (P9b)/0020_0055.JPG  \n",
            "  inflating: Plants_2/train/Pomegranate diseased (P9b)/0020_0056.JPG  \n",
            "  inflating: Plants_2/train/Pomegranate diseased (P9b)/0020_0057.JPG  \n",
            "  inflating: Plants_2/train/Pomegranate diseased (P9b)/0020_0058.JPG  \n",
            "  inflating: Plants_2/train/Pomegranate diseased (P9b)/0020_0059.JPG  \n",
            "  inflating: Plants_2/train/Pomegranate diseased (P9b)/0020_0060.JPG  \n",
            "  inflating: Plants_2/train/Pomegranate diseased (P9b)/0020_0061.JPG  \n",
            "  inflating: Plants_2/train/Pomegranate diseased (P9b)/0020_0062.JPG  \n",
            "  inflating: Plants_2/train/Pomegranate diseased (P9b)/0020_0063.JPG  \n",
            "  inflating: Plants_2/train/Pomegranate diseased (P9b)/0020_0064.JPG  \n",
            "  inflating: Plants_2/train/Pomegranate diseased (P9b)/0020_0065.JPG  \n",
            "  inflating: Plants_2/train/Pomegranate diseased (P9b)/0020_0066.JPG  \n",
            "  inflating: Plants_2/train/Pomegranate diseased (P9b)/0020_0067.JPG  \n",
            "  inflating: Plants_2/train/Pomegranate diseased (P9b)/0020_0068.JPG  \n",
            "  inflating: Plants_2/train/Pomegranate diseased (P9b)/0020_0069.JPG  \n",
            "  inflating: Plants_2/train/Pomegranate diseased (P9b)/0020_0070.JPG  \n",
            "  inflating: Plants_2/train/Pomegranate diseased (P9b)/0020_0071.JPG  \n",
            "  inflating: Plants_2/train/Pomegranate diseased (P9b)/0020_0072.JPG  \n",
            "  inflating: Plants_2/train/Pomegranate diseased (P9b)/0020_0073.JPG  \n",
            "  inflating: Plants_2/train/Pomegranate diseased (P9b)/0020_0074.JPG  \n",
            "  inflating: Plants_2/train/Pomegranate diseased (P9b)/0020_0075.JPG  \n",
            "  inflating: Plants_2/train/Pomegranate diseased (P9b)/0020_0076.JPG  \n",
            "  inflating: Plants_2/train/Pomegranate diseased (P9b)/0020_0077.JPG  \n",
            "  inflating: Plants_2/train/Pomegranate diseased (P9b)/0020_0078.JPG  \n",
            "  inflating: Plants_2/train/Pomegranate diseased (P9b)/0020_0079.JPG  \n",
            "  inflating: Plants_2/train/Pomegranate diseased (P9b)/0020_0080.JPG  \n",
            "  inflating: Plants_2/train/Pomegranate diseased (P9b)/0020_0081.JPG  \n",
            "  inflating: Plants_2/train/Pomegranate diseased (P9b)/0020_0082.JPG  \n",
            "  inflating: Plants_2/train/Pomegranate diseased (P9b)/0020_0083.JPG  \n",
            "  inflating: Plants_2/train/Pomegranate diseased (P9b)/0020_0084.JPG  \n",
            "  inflating: Plants_2/train/Pomegranate diseased (P9b)/0020_0085.JPG  \n",
            "  inflating: Plants_2/train/Pomegranate diseased (P9b)/0020_0086.JPG  \n",
            "  inflating: Plants_2/train/Pomegranate diseased (P9b)/0020_0087.JPG  \n",
            "  inflating: Plants_2/train/Pomegranate diseased (P9b)/0020_0088.JPG  \n",
            "  inflating: Plants_2/train/Pomegranate diseased (P9b)/0020_0089.JPG  \n",
            "  inflating: Plants_2/train/Pomegranate diseased (P9b)/0020_0090.JPG  \n",
            "  inflating: Plants_2/train/Pomegranate diseased (P9b)/0020_0091.JPG  \n",
            "  inflating: Plants_2/train/Pomegranate diseased (P9b)/0020_0092.JPG  \n",
            "  inflating: Plants_2/train/Pomegranate diseased (P9b)/0020_0093.JPG  \n",
            "  inflating: Plants_2/train/Pomegranate diseased (P9b)/0020_0094.JPG  \n",
            "  inflating: Plants_2/train/Pomegranate diseased (P9b)/0020_0095.JPG  \n",
            "  inflating: Plants_2/train/Pomegranate diseased (P9b)/0020_0096.JPG  \n",
            "  inflating: Plants_2/train/Pomegranate diseased (P9b)/0020_0097.JPG  \n",
            "  inflating: Plants_2/train/Pomegranate diseased (P9b)/0020_0098.JPG  \n",
            "  inflating: Plants_2/train/Pomegranate diseased (P9b)/0020_0099.JPG  \n",
            "  inflating: Plants_2/train/Pomegranate diseased (P9b)/0020_0100.JPG  \n",
            "  inflating: Plants_2/train/Pomegranate diseased (P9b)/0020_0101.JPG  \n",
            "  inflating: Plants_2/train/Pomegranate diseased (P9b)/0020_0102.JPG  \n",
            "  inflating: Plants_2/train/Pomegranate diseased (P9b)/0020_0103.JPG  \n",
            "  inflating: Plants_2/train/Pomegranate diseased (P9b)/0020_0104.JPG  \n",
            "  inflating: Plants_2/train/Pomegranate diseased (P9b)/0020_0105.JPG  \n",
            "  inflating: Plants_2/train/Pomegranate diseased (P9b)/0020_0106.JPG  \n",
            "  inflating: Plants_2/train/Pomegranate diseased (P9b)/0020_0107.JPG  \n",
            "  inflating: Plants_2/train/Pomegranate diseased (P9b)/0020_0108.JPG  \n",
            "  inflating: Plants_2/train/Pomegranate diseased (P9b)/0020_0109.JPG  \n",
            "  inflating: Plants_2/train/Pomegranate diseased (P9b)/0020_0110.JPG  \n",
            "  inflating: Plants_2/train/Pomegranate diseased (P9b)/0020_0111.JPG  \n",
            "  inflating: Plants_2/train/Pomegranate diseased (P9b)/0020_0112.JPG  \n",
            "  inflating: Plants_2/train/Pomegranate diseased (P9b)/0020_0113.JPG  \n",
            "  inflating: Plants_2/train/Pomegranate diseased (P9b)/0020_0114.JPG  \n",
            "  inflating: Plants_2/train/Pomegranate diseased (P9b)/0020_0115.JPG  \n",
            "  inflating: Plants_2/train/Pomegranate diseased (P9b)/0020_0116.JPG  \n",
            "  inflating: Plants_2/train/Pomegranate diseased (P9b)/0020_0117.JPG  \n",
            "  inflating: Plants_2/train/Pomegranate diseased (P9b)/0020_0118.JPG  \n",
            "  inflating: Plants_2/train/Pomegranate diseased (P9b)/0020_0119.JPG  \n",
            "  inflating: Plants_2/train/Pomegranate diseased (P9b)/0020_0120.JPG  \n",
            "  inflating: Plants_2/train/Pomegranate diseased (P9b)/0020_0121.JPG  \n",
            "  inflating: Plants_2/train/Pomegranate diseased (P9b)/0020_0122.JPG  \n",
            "  inflating: Plants_2/train/Pomegranate diseased (P9b)/0020_0123.JPG  \n",
            "  inflating: Plants_2/train/Pomegranate diseased (P9b)/0020_0124.JPG  \n",
            "  inflating: Plants_2/train/Pomegranate diseased (P9b)/0020_0125.JPG  \n",
            "  inflating: Plants_2/train/Pomegranate diseased (P9b)/0020_0126.JPG  \n",
            "  inflating: Plants_2/train/Pomegranate diseased (P9b)/0020_0127.JPG  \n",
            "  inflating: Plants_2/train/Pomegranate diseased (P9b)/0020_0128.JPG  \n",
            "  inflating: Plants_2/train/Pomegranate diseased (P9b)/0020_0129.JPG  \n",
            "  inflating: Plants_2/train/Pomegranate diseased (P9b)/0020_0130.JPG  \n",
            "  inflating: Plants_2/train/Pomegranate diseased (P9b)/0020_0131.JPG  \n",
            "  inflating: Plants_2/train/Pomegranate diseased (P9b)/0020_0132.JPG  \n",
            "  inflating: Plants_2/train/Pomegranate diseased (P9b)/0020_0133.JPG  \n",
            "  inflating: Plants_2/train/Pomegranate diseased (P9b)/0020_0134.JPG  \n",
            "  inflating: Plants_2/train/Pomegranate diseased (P9b)/0020_0135.JPG  \n",
            "  inflating: Plants_2/train/Pomegranate diseased (P9b)/0020_0136.JPG  \n",
            "  inflating: Plants_2/train/Pomegranate diseased (P9b)/0020_0137.JPG  \n",
            "  inflating: Plants_2/train/Pomegranate diseased (P9b)/0020_0138.JPG  \n",
            "  inflating: Plants_2/train/Pomegranate diseased (P9b)/0020_0139.JPG  \n",
            "  inflating: Plants_2/train/Pomegranate diseased (P9b)/0020_0140.JPG  \n",
            "  inflating: Plants_2/train/Pomegranate diseased (P9b)/0020_0141.JPG  \n",
            "  inflating: Plants_2/train/Pomegranate diseased (P9b)/0020_0142.JPG  \n",
            "  inflating: Plants_2/train/Pomegranate diseased (P9b)/0020_0143.JPG  \n",
            "  inflating: Plants_2/train/Pomegranate diseased (P9b)/0020_0144.JPG  \n",
            "  inflating: Plants_2/train/Pomegranate diseased (P9b)/0020_0145.JPG  \n",
            "  inflating: Plants_2/train/Pomegranate diseased (P9b)/0020_0146.JPG  \n",
            "  inflating: Plants_2/train/Pomegranate diseased (P9b)/0020_0147.JPG  \n",
            "  inflating: Plants_2/train/Pomegranate diseased (P9b)/0020_0148.JPG  \n",
            "  inflating: Plants_2/train/Pomegranate diseased (P9b)/0020_0149.JPG  \n",
            "  inflating: Plants_2/train/Pomegranate diseased (P9b)/0020_0150.JPG  \n",
            "  inflating: Plants_2/train/Pomegranate diseased (P9b)/0020_0151.JPG  \n",
            "  inflating: Plants_2/train/Pomegranate diseased (P9b)/0020_0152.JPG  \n",
            "  inflating: Plants_2/train/Pomegranate diseased (P9b)/0020_0153.JPG  \n",
            "  inflating: Plants_2/train/Pomegranate diseased (P9b)/0020_0154.JPG  \n",
            "  inflating: Plants_2/train/Pomegranate diseased (P9b)/0020_0155.JPG  \n",
            "  inflating: Plants_2/train/Pomegranate diseased (P9b)/0020_0156.JPG  \n",
            "  inflating: Plants_2/train/Pomegranate diseased (P9b)/0020_0157.JPG  \n",
            "  inflating: Plants_2/train/Pomegranate diseased (P9b)/0020_0158.JPG  \n",
            "  inflating: Plants_2/train/Pomegranate diseased (P9b)/0020_0159.JPG  \n",
            "  inflating: Plants_2/train/Pomegranate diseased (P9b)/0020_0160.JPG  \n",
            "  inflating: Plants_2/train/Pomegranate diseased (P9b)/0020_0161.JPG  \n",
            "  inflating: Plants_2/train/Pomegranate diseased (P9b)/0020_0162.JPG  \n",
            "  inflating: Plants_2/train/Pomegranate diseased (P9b)/0020_0163.JPG  \n",
            "  inflating: Plants_2/train/Pomegranate diseased (P9b)/0020_0164.JPG  \n",
            "  inflating: Plants_2/train/Pomegranate diseased (P9b)/0020_0165.JPG  \n",
            "  inflating: Plants_2/train/Pomegranate diseased (P9b)/0020_0166.JPG  \n",
            "  inflating: Plants_2/train/Pomegranate diseased (P9b)/0020_0167.JPG  \n",
            "  inflating: Plants_2/train/Pomegranate diseased (P9b)/0020_0168.JPG  \n",
            "  inflating: Plants_2/train/Pomegranate diseased (P9b)/0020_0169.JPG  \n",
            "  inflating: Plants_2/train/Pomegranate diseased (P9b)/0020_0170.JPG  \n",
            "  inflating: Plants_2/train/Pomegranate diseased (P9b)/0020_0171.JPG  \n",
            "  inflating: Plants_2/train/Pomegranate diseased (P9b)/0020_0172.JPG  \n",
            "  inflating: Plants_2/train/Pomegranate diseased (P9b)/0020_0173.JPG  \n",
            "  inflating: Plants_2/train/Pomegranate diseased (P9b)/0020_0174.JPG  \n",
            "  inflating: Plants_2/train/Pomegranate diseased (P9b)/0020_0175.JPG  \n",
            "  inflating: Plants_2/train/Pomegranate diseased (P9b)/0020_0176.JPG  \n",
            "  inflating: Plants_2/train/Pomegranate diseased (P9b)/0020_0177.JPG  \n",
            "  inflating: Plants_2/train/Pomegranate diseased (P9b)/0020_0178.JPG  \n",
            "  inflating: Plants_2/train/Pomegranate diseased (P9b)/0020_0179.JPG  \n",
            "  inflating: Plants_2/train/Pomegranate diseased (P9b)/0020_0180.JPG  \n",
            "  inflating: Plants_2/train/Pomegranate diseased (P9b)/0020_0181.JPG  \n",
            "  inflating: Plants_2/train/Pomegranate diseased (P9b)/0020_0182.JPG  \n",
            "  inflating: Plants_2/train/Pomegranate diseased (P9b)/0020_0183.JPG  \n",
            "  inflating: Plants_2/train/Pomegranate diseased (P9b)/0020_0184.JPG  \n",
            "  inflating: Plants_2/train/Pomegranate diseased (P9b)/0020_0185.JPG  \n",
            "  inflating: Plants_2/train/Pomegranate diseased (P9b)/0020_0186.JPG  \n",
            "  inflating: Plants_2/train/Pomegranate diseased (P9b)/0020_0187.JPG  \n",
            "  inflating: Plants_2/train/Pomegranate diseased (P9b)/0020_0188.JPG  \n",
            "  inflating: Plants_2/train/Pomegranate diseased (P9b)/0020_0189.JPG  \n",
            "  inflating: Plants_2/train/Pomegranate diseased (P9b)/0020_0190.JPG  \n",
            "  inflating: Plants_2/train/Pomegranate diseased (P9b)/0020_0191.JPG  \n",
            "  inflating: Plants_2/train/Pomegranate diseased (P9b)/0020_0192.JPG  \n",
            "  inflating: Plants_2/train/Pomegranate diseased (P9b)/0020_0193.JPG  \n",
            "  inflating: Plants_2/train/Pomegranate diseased (P9b)/0020_0194.JPG  \n",
            "  inflating: Plants_2/train/Pomegranate diseased (P9b)/0020_0195.JPG  \n",
            "  inflating: Plants_2/train/Pomegranate diseased (P9b)/0020_0196.JPG  \n",
            "  inflating: Plants_2/train/Pomegranate diseased (P9b)/0020_0197.JPG  \n",
            "  inflating: Plants_2/train/Pomegranate diseased (P9b)/0020_0198.JPG  \n",
            "  inflating: Plants_2/train/Pomegranate diseased (P9b)/0020_0199.JPG  \n",
            "  inflating: Plants_2/train/Pomegranate diseased (P9b)/0020_0200.JPG  \n",
            "  inflating: Plants_2/train/Pomegranate diseased (P9b)/0020_0201.JPG  \n",
            "  inflating: Plants_2/train/Pomegranate diseased (P9b)/0020_0202.JPG  \n",
            "  inflating: Plants_2/train/Pomegranate diseased (P9b)/0020_0203.JPG  \n",
            "  inflating: Plants_2/train/Pomegranate diseased (P9b)/0020_0204.JPG  \n",
            "  inflating: Plants_2/train/Pomegranate diseased (P9b)/0020_0205.JPG  \n",
            "  inflating: Plants_2/train/Pomegranate diseased (P9b)/0020_0206.JPG  \n",
            "  inflating: Plants_2/train/Pomegranate diseased (P9b)/0020_0207.JPG  \n",
            "  inflating: Plants_2/train/Pomegranate diseased (P9b)/0020_0208.JPG  \n",
            "  inflating: Plants_2/train/Pomegranate diseased (P9b)/0020_0209.JPG  \n",
            "  inflating: Plants_2/train/Pomegranate diseased (P9b)/0020_0210.JPG  \n",
            "  inflating: Plants_2/train/Pomegranate diseased (P9b)/0020_0211.JPG  \n",
            "  inflating: Plants_2/train/Pomegranate diseased (P9b)/0020_0212.JPG  \n",
            "  inflating: Plants_2/train/Pomegranate diseased (P9b)/0020_0213.JPG  \n",
            "  inflating: Plants_2/train/Pomegranate diseased (P9b)/0020_0214.JPG  \n",
            "  inflating: Plants_2/train/Pomegranate diseased (P9b)/0020_0215.JPG  \n",
            "  inflating: Plants_2/train/Pomegranate diseased (P9b)/0020_0216.JPG  \n",
            "  inflating: Plants_2/train/Pomegranate diseased (P9b)/0020_0217.JPG  \n",
            "  inflating: Plants_2/train/Pomegranate diseased (P9b)/0020_0218.JPG  \n",
            "  inflating: Plants_2/train/Pomegranate diseased (P9b)/0020_0219.JPG  \n",
            "  inflating: Plants_2/train/Pomegranate diseased (P9b)/0020_0220.JPG  \n",
            "  inflating: Plants_2/train/Pomegranate diseased (P9b)/0020_0221.JPG  \n",
            "  inflating: Plants_2/train/Pomegranate diseased (P9b)/0020_0222.JPG  \n",
            "  inflating: Plants_2/train/Pomegranate diseased (P9b)/0020_0223.JPG  \n",
            "  inflating: Plants_2/train/Pomegranate diseased (P9b)/0020_0224.JPG  \n",
            "  inflating: Plants_2/train/Pomegranate diseased (P9b)/0020_0225.JPG  \n",
            "  inflating: Plants_2/train/Pomegranate diseased (P9b)/0020_0226.JPG  \n",
            "  inflating: Plants_2/train/Pomegranate diseased (P9b)/0020_0227.JPG  \n",
            "  inflating: Plants_2/train/Pomegranate diseased (P9b)/0020_0228.JPG  \n",
            "  inflating: Plants_2/train/Pomegranate diseased (P9b)/0020_0229.JPG  \n",
            "  inflating: Plants_2/train/Pomegranate diseased (P9b)/0020_0230.JPG  \n",
            "  inflating: Plants_2/train/Pomegranate diseased (P9b)/0020_0231.JPG  \n",
            "  inflating: Plants_2/train/Pomegranate diseased (P9b)/0020_0232.JPG  \n",
            "  inflating: Plants_2/train/Pomegranate diseased (P9b)/0020_0233.JPG  \n",
            "  inflating: Plants_2/train/Pomegranate diseased (P9b)/0020_0234.JPG  \n",
            "  inflating: Plants_2/train/Pomegranate diseased (P9b)/0020_0235.JPG  \n",
            "  inflating: Plants_2/train/Pomegranate diseased (P9b)/0020_0236.JPG  \n",
            "  inflating: Plants_2/train/Pomegranate diseased (P9b)/0020_0237.JPG  \n",
            "  inflating: Plants_2/train/Pomegranate diseased (P9b)/0020_0238.JPG  \n",
            "  inflating: Plants_2/train/Pomegranate diseased (P9b)/0020_0239.JPG  \n",
            "  inflating: Plants_2/train/Pomegranate diseased (P9b)/0020_0240.JPG  \n",
            "  inflating: Plants_2/train/Pomegranate diseased (P9b)/0020_0241.JPG  \n",
            "  inflating: Plants_2/train/Pomegranate diseased (P9b)/0020_0242.JPG  \n",
            "  inflating: Plants_2/train/Pomegranate diseased (P9b)/0020_0243.JPG  \n",
            "  inflating: Plants_2/train/Pomegranate diseased (P9b)/0020_0244.JPG  \n",
            "  inflating: Plants_2/train/Pomegranate diseased (P9b)/0020_0245.JPG  \n",
            "  inflating: Plants_2/train/Pomegranate diseased (P9b)/0020_0246.JPG  \n",
            "  inflating: Plants_2/train/Pomegranate diseased (P9b)/0020_0247.JPG  \n",
            "  inflating: Plants_2/train/Pomegranate diseased (P9b)/0020_0248.JPG  \n",
            "  inflating: Plants_2/train/Pomegranate diseased (P9b)/0020_0249.JPG  \n",
            "  inflating: Plants_2/train/Pomegranate diseased (P9b)/0020_0250.JPG  \n",
            "  inflating: Plants_2/train/Pomegranate diseased (P9b)/0020_0251.JPG  \n",
            "  inflating: Plants_2/train/Pomegranate diseased (P9b)/0020_0252.JPG  \n",
            "  inflating: Plants_2/train/Pomegranate diseased (P9b)/0020_0253.JPG  \n",
            "  inflating: Plants_2/train/Pomegranate diseased (P9b)/0020_0254.JPG  \n",
            "  inflating: Plants_2/train/Pomegranate diseased (P9b)/0020_0255.JPG  \n",
            "  inflating: Plants_2/train/Pomegranate diseased (P9b)/0020_0256.JPG  \n",
            "  inflating: Plants_2/train/Pomegranate diseased (P9b)/0020_0257.JPG  \n",
            "  inflating: Plants_2/train/Pomegranate diseased (P9b)/0020_0258.JPG  \n",
            "  inflating: Plants_2/train/Pomegranate diseased (P9b)/0020_0259.JPG  \n",
            "  inflating: Plants_2/train/Pomegranate diseased (P9b)/0020_0260.JPG  \n",
            "  inflating: Plants_2/train/Pomegranate diseased (P9b)/0020_0261.JPG  \n",
            "  inflating: Plants_2/train/Pomegranate diseased (P9b)/0020_0262.JPG  \n",
            "  inflating: Plants_2/train/Pomegranate diseased (P9b)/0020_0263.JPG  \n",
            "  inflating: Plants_2/train/Pomegranate diseased (P9b)/0020_0264.JPG  \n",
            "  inflating: Plants_2/train/Pomegranate diseased (P9b)/0020_0265.JPG  \n",
            "  inflating: Plants_2/train/Pomegranate diseased (P9b)/0020_0266.JPG  \n",
            "  inflating: Plants_2/train/Pomegranate diseased (P9b)/0020_0267.JPG  \n",
            "  inflating: Plants_2/train/Pomegranate diseased (P9b)/0020_0268.JPG  \n",
            "  inflating: Plants_2/train/Pomegranate diseased (P9b)/0020_0269.JPG  \n",
            "  inflating: Plants_2/train/Pomegranate diseased (P9b)/0020_0270.JPG  \n",
            "  inflating: Plants_2/train/Pomegranate diseased (P9b)/0020_0272.JPG  \n",
            "  inflating: Plants_2/train/Pomegranate healthy (P9a)/0009_0011.JPG  \n",
            "  inflating: Plants_2/train/Pomegranate healthy (P9a)/0009_0012.JPG  \n",
            "  inflating: Plants_2/train/Pomegranate healthy (P9a)/0009_0013.JPG  \n",
            "  inflating: Plants_2/train/Pomegranate healthy (P9a)/0009_0014.JPG  \n",
            "  inflating: Plants_2/train/Pomegranate healthy (P9a)/0009_0015.JPG  \n",
            "  inflating: Plants_2/train/Pomegranate healthy (P9a)/0009_0016.JPG  \n",
            "  inflating: Plants_2/train/Pomegranate healthy (P9a)/0009_0017.JPG  \n",
            "  inflating: Plants_2/train/Pomegranate healthy (P9a)/0009_0018.JPG  \n",
            "  inflating: Plants_2/train/Pomegranate healthy (P9a)/0009_0019.JPG  \n",
            "  inflating: Plants_2/train/Pomegranate healthy (P9a)/0009_0020.JPG  \n",
            "  inflating: Plants_2/train/Pomegranate healthy (P9a)/0009_0021.JPG  \n",
            "  inflating: Plants_2/train/Pomegranate healthy (P9a)/0009_0022.JPG  \n",
            "  inflating: Plants_2/train/Pomegranate healthy (P9a)/0009_0023.JPG  \n",
            "  inflating: Plants_2/train/Pomegranate healthy (P9a)/0009_0024.JPG  \n",
            "  inflating: Plants_2/train/Pomegranate healthy (P9a)/0009_0025.JPG  \n",
            "  inflating: Plants_2/train/Pomegranate healthy (P9a)/0009_0026.JPG  \n",
            "  inflating: Plants_2/train/Pomegranate healthy (P9a)/0009_0027.JPG  \n",
            "  inflating: Plants_2/train/Pomegranate healthy (P9a)/0009_0028.JPG  \n",
            "  inflating: Plants_2/train/Pomegranate healthy (P9a)/0009_0029.JPG  \n",
            "  inflating: Plants_2/train/Pomegranate healthy (P9a)/0009_0030.JPG  \n",
            "  inflating: Plants_2/train/Pomegranate healthy (P9a)/0009_0031.JPG  \n",
            "  inflating: Plants_2/train/Pomegranate healthy (P9a)/0009_0032.JPG  \n",
            "  inflating: Plants_2/train/Pomegranate healthy (P9a)/0009_0033.JPG  \n",
            "  inflating: Plants_2/train/Pomegranate healthy (P9a)/0009_0034.JPG  \n",
            "  inflating: Plants_2/train/Pomegranate healthy (P9a)/0009_0035.JPG  \n",
            "  inflating: Plants_2/train/Pomegranate healthy (P9a)/0009_0036.JPG  \n",
            "  inflating: Plants_2/train/Pomegranate healthy (P9a)/0009_0037.JPG  \n",
            "  inflating: Plants_2/train/Pomegranate healthy (P9a)/0009_0038.JPG  \n",
            "  inflating: Plants_2/train/Pomegranate healthy (P9a)/0009_0039.JPG  \n",
            "  inflating: Plants_2/train/Pomegranate healthy (P9a)/0009_0040.JPG  \n",
            "  inflating: Plants_2/train/Pomegranate healthy (P9a)/0009_0041.JPG  \n",
            "  inflating: Plants_2/train/Pomegranate healthy (P9a)/0009_0042.JPG  \n",
            "  inflating: Plants_2/train/Pomegranate healthy (P9a)/0009_0043.JPG  \n",
            "  inflating: Plants_2/train/Pomegranate healthy (P9a)/0009_0044.JPG  \n",
            "  inflating: Plants_2/train/Pomegranate healthy (P9a)/0009_0045.JPG  \n",
            "  inflating: Plants_2/train/Pomegranate healthy (P9a)/0009_0046.JPG  \n",
            "  inflating: Plants_2/train/Pomegranate healthy (P9a)/0009_0047.JPG  \n",
            "  inflating: Plants_2/train/Pomegranate healthy (P9a)/0009_0048.JPG  \n",
            "  inflating: Plants_2/train/Pomegranate healthy (P9a)/0009_0049.JPG  \n",
            "  inflating: Plants_2/train/Pomegranate healthy (P9a)/0009_0050.JPG  \n",
            "  inflating: Plants_2/train/Pomegranate healthy (P9a)/0009_0051.JPG  \n",
            "  inflating: Plants_2/train/Pomegranate healthy (P9a)/0009_0052.JPG  \n",
            "  inflating: Plants_2/train/Pomegranate healthy (P9a)/0009_0053.JPG  \n",
            "  inflating: Plants_2/train/Pomegranate healthy (P9a)/0009_0054.JPG  \n",
            "  inflating: Plants_2/train/Pomegranate healthy (P9a)/0009_0055.JPG  \n",
            "  inflating: Plants_2/train/Pomegranate healthy (P9a)/0009_0056.JPG  \n",
            "  inflating: Plants_2/train/Pomegranate healthy (P9a)/0009_0057.JPG  \n",
            "  inflating: Plants_2/train/Pomegranate healthy (P9a)/0009_0058.JPG  \n",
            "  inflating: Plants_2/train/Pomegranate healthy (P9a)/0009_0059.JPG  \n",
            "  inflating: Plants_2/train/Pomegranate healthy (P9a)/0009_0060.JPG  \n",
            "  inflating: Plants_2/train/Pomegranate healthy (P9a)/0009_0061.JPG  \n",
            "  inflating: Plants_2/train/Pomegranate healthy (P9a)/0009_0062.JPG  \n",
            "  inflating: Plants_2/train/Pomegranate healthy (P9a)/0009_0063.JPG  \n",
            "  inflating: Plants_2/train/Pomegranate healthy (P9a)/0009_0064.JPG  \n",
            "  inflating: Plants_2/train/Pomegranate healthy (P9a)/0009_0065.JPG  \n",
            "  inflating: Plants_2/train/Pomegranate healthy (P9a)/0009_0066.JPG  \n",
            "  inflating: Plants_2/train/Pomegranate healthy (P9a)/0009_0067.JPG  \n",
            "  inflating: Plants_2/train/Pomegranate healthy (P9a)/0009_0068.JPG  \n",
            "  inflating: Plants_2/train/Pomegranate healthy (P9a)/0009_0069.JPG  \n",
            "  inflating: Plants_2/train/Pomegranate healthy (P9a)/0009_0070.JPG  \n",
            "  inflating: Plants_2/train/Pomegranate healthy (P9a)/0009_0071.JPG  \n",
            "  inflating: Plants_2/train/Pomegranate healthy (P9a)/0009_0072.JPG  \n",
            "  inflating: Plants_2/train/Pomegranate healthy (P9a)/0009_0073.JPG  \n",
            "  inflating: Plants_2/train/Pomegranate healthy (P9a)/0009_0074.JPG  \n",
            "  inflating: Plants_2/train/Pomegranate healthy (P9a)/0009_0075.JPG  \n",
            "  inflating: Plants_2/train/Pomegranate healthy (P9a)/0009_0076.JPG  \n",
            "  inflating: Plants_2/train/Pomegranate healthy (P9a)/0009_0077.JPG  \n",
            "  inflating: Plants_2/train/Pomegranate healthy (P9a)/0009_0078.JPG  \n",
            "  inflating: Plants_2/train/Pomegranate healthy (P9a)/0009_0079.JPG  \n",
            "  inflating: Plants_2/train/Pomegranate healthy (P9a)/0009_0080.JPG  \n",
            "  inflating: Plants_2/train/Pomegranate healthy (P9a)/0009_0081.JPG  \n",
            "  inflating: Plants_2/train/Pomegranate healthy (P9a)/0009_0082.JPG  \n",
            "  inflating: Plants_2/train/Pomegranate healthy (P9a)/0009_0083.JPG  \n",
            "  inflating: Plants_2/train/Pomegranate healthy (P9a)/0009_0084.JPG  \n",
            "  inflating: Plants_2/train/Pomegranate healthy (P9a)/0009_0085.JPG  \n",
            "  inflating: Plants_2/train/Pomegranate healthy (P9a)/0009_0086.JPG  \n",
            "  inflating: Plants_2/train/Pomegranate healthy (P9a)/0009_0087.JPG  \n",
            "  inflating: Plants_2/train/Pomegranate healthy (P9a)/0009_0088.JPG  \n",
            "  inflating: Plants_2/train/Pomegranate healthy (P9a)/0009_0089.JPG  \n",
            "  inflating: Plants_2/train/Pomegranate healthy (P9a)/0009_0090.JPG  \n",
            "  inflating: Plants_2/train/Pomegranate healthy (P9a)/0009_0091.JPG  \n",
            "  inflating: Plants_2/train/Pomegranate healthy (P9a)/0009_0092.JPG  \n",
            "  inflating: Plants_2/train/Pomegranate healthy (P9a)/0009_0093.JPG  \n",
            "  inflating: Plants_2/train/Pomegranate healthy (P9a)/0009_0094.JPG  \n",
            "  inflating: Plants_2/train/Pomegranate healthy (P9a)/0009_0095.JPG  \n",
            "  inflating: Plants_2/train/Pomegranate healthy (P9a)/0009_0096.JPG  \n",
            "  inflating: Plants_2/train/Pomegranate healthy (P9a)/0009_0097.JPG  \n",
            "  inflating: Plants_2/train/Pomegranate healthy (P9a)/0009_0098.JPG  \n",
            "  inflating: Plants_2/train/Pomegranate healthy (P9a)/0009_0099.JPG  \n",
            "  inflating: Plants_2/train/Pomegranate healthy (P9a)/0009_0100.JPG  \n",
            "  inflating: Plants_2/train/Pomegranate healthy (P9a)/0009_0101.JPG  \n",
            "  inflating: Plants_2/train/Pomegranate healthy (P9a)/0009_0102.JPG  \n",
            "  inflating: Plants_2/train/Pomegranate healthy (P9a)/0009_0103.JPG  \n",
            "  inflating: Plants_2/train/Pomegranate healthy (P9a)/0009_0104.JPG  \n",
            "  inflating: Plants_2/train/Pomegranate healthy (P9a)/0009_0105.JPG  \n",
            "  inflating: Plants_2/train/Pomegranate healthy (P9a)/0009_0106.JPG  \n",
            "  inflating: Plants_2/train/Pomegranate healthy (P9a)/0009_0107.JPG  \n",
            "  inflating: Plants_2/train/Pomegranate healthy (P9a)/0009_0108.JPG  \n",
            "  inflating: Plants_2/train/Pomegranate healthy (P9a)/0009_0109.JPG  \n",
            "  inflating: Plants_2/train/Pomegranate healthy (P9a)/0009_0110.JPG  \n",
            "  inflating: Plants_2/train/Pomegranate healthy (P9a)/0009_0111.JPG  \n",
            "  inflating: Plants_2/train/Pomegranate healthy (P9a)/0009_0112.JPG  \n",
            "  inflating: Plants_2/train/Pomegranate healthy (P9a)/0009_0113.JPG  \n",
            "  inflating: Plants_2/train/Pomegranate healthy (P9a)/0009_0114.JPG  \n",
            "  inflating: Plants_2/train/Pomegranate healthy (P9a)/0009_0115.JPG  \n",
            "  inflating: Plants_2/train/Pomegranate healthy (P9a)/0009_0116.JPG  \n",
            "  inflating: Plants_2/train/Pomegranate healthy (P9a)/0009_0117.JPG  \n",
            "  inflating: Plants_2/train/Pomegranate healthy (P9a)/0009_0118.JPG  \n",
            "  inflating: Plants_2/train/Pomegranate healthy (P9a)/0009_0119.JPG  \n",
            "  inflating: Plants_2/train/Pomegranate healthy (P9a)/0009_0120.JPG  \n",
            "  inflating: Plants_2/train/Pomegranate healthy (P9a)/0009_0121.JPG  \n",
            "  inflating: Plants_2/train/Pomegranate healthy (P9a)/0009_0122.JPG  \n",
            "  inflating: Plants_2/train/Pomegranate healthy (P9a)/0009_0123.JPG  \n",
            "  inflating: Plants_2/train/Pomegranate healthy (P9a)/0009_0124.JPG  \n",
            "  inflating: Plants_2/train/Pomegranate healthy (P9a)/0009_0125.JPG  \n",
            "  inflating: Plants_2/train/Pomegranate healthy (P9a)/0009_0126.JPG  \n",
            "  inflating: Plants_2/train/Pomegranate healthy (P9a)/0009_0127.JPG  \n",
            "  inflating: Plants_2/train/Pomegranate healthy (P9a)/0009_0128.JPG  \n",
            "  inflating: Plants_2/train/Pomegranate healthy (P9a)/0009_0129.JPG  \n",
            "  inflating: Plants_2/train/Pomegranate healthy (P9a)/0009_0130.JPG  \n",
            "  inflating: Plants_2/train/Pomegranate healthy (P9a)/0009_0131.JPG  \n",
            "  inflating: Plants_2/train/Pomegranate healthy (P9a)/0009_0132.JPG  \n",
            "  inflating: Plants_2/train/Pomegranate healthy (P9a)/0009_0133.JPG  \n",
            "  inflating: Plants_2/train/Pomegranate healthy (P9a)/0009_0134.JPG  \n",
            "  inflating: Plants_2/train/Pomegranate healthy (P9a)/0009_0135.JPG  \n",
            "  inflating: Plants_2/train/Pomegranate healthy (P9a)/0009_0136.JPG  \n",
            "  inflating: Plants_2/train/Pomegranate healthy (P9a)/0009_0137.JPG  \n",
            "  inflating: Plants_2/train/Pomegranate healthy (P9a)/0009_0138.JPG  \n",
            "  inflating: Plants_2/train/Pomegranate healthy (P9a)/0009_0139.JPG  \n",
            "  inflating: Plants_2/train/Pomegranate healthy (P9a)/0009_0140.JPG  \n",
            "  inflating: Plants_2/train/Pomegranate healthy (P9a)/0009_0141.JPG  \n",
            "  inflating: Plants_2/train/Pomegranate healthy (P9a)/0009_0142.JPG  \n",
            "  inflating: Plants_2/train/Pomegranate healthy (P9a)/0009_0143.JPG  \n",
            "  inflating: Plants_2/train/Pomegranate healthy (P9a)/0009_0144.JPG  \n",
            "  inflating: Plants_2/train/Pomegranate healthy (P9a)/0009_0145.JPG  \n",
            "  inflating: Plants_2/train/Pomegranate healthy (P9a)/0009_0146.JPG  \n",
            "  inflating: Plants_2/train/Pomegranate healthy (P9a)/0009_0147.JPG  \n",
            "  inflating: Plants_2/train/Pomegranate healthy (P9a)/0009_0148.JPG  \n",
            "  inflating: Plants_2/train/Pomegranate healthy (P9a)/0009_0149.JPG  \n",
            "  inflating: Plants_2/train/Pomegranate healthy (P9a)/0009_0150.JPG  \n",
            "  inflating: Plants_2/train/Pomegranate healthy (P9a)/0009_0151.JPG  \n",
            "  inflating: Plants_2/train/Pomegranate healthy (P9a)/0009_0152.JPG  \n",
            "  inflating: Plants_2/train/Pomegranate healthy (P9a)/0009_0153.JPG  \n",
            "  inflating: Plants_2/train/Pomegranate healthy (P9a)/0009_0154.JPG  \n",
            "  inflating: Plants_2/train/Pomegranate healthy (P9a)/0009_0155.JPG  \n",
            "  inflating: Plants_2/train/Pomegranate healthy (P9a)/0009_0156.JPG  \n",
            "  inflating: Plants_2/train/Pomegranate healthy (P9a)/0009_0157.JPG  \n",
            "  inflating: Plants_2/train/Pomegranate healthy (P9a)/0009_0158.JPG  \n",
            "  inflating: Plants_2/train/Pomegranate healthy (P9a)/0009_0159.JPG  \n",
            "  inflating: Plants_2/train/Pomegranate healthy (P9a)/0009_0160.JPG  \n",
            "  inflating: Plants_2/train/Pomegranate healthy (P9a)/0009_0161.JPG  \n",
            "  inflating: Plants_2/train/Pomegranate healthy (P9a)/0009_0162.JPG  \n",
            "  inflating: Plants_2/train/Pomegranate healthy (P9a)/0009_0163.JPG  \n",
            "  inflating: Plants_2/train/Pomegranate healthy (P9a)/0009_0164.JPG  \n",
            "  inflating: Plants_2/train/Pomegranate healthy (P9a)/0009_0165.JPG  \n",
            "  inflating: Plants_2/train/Pomegranate healthy (P9a)/0009_0166.JPG  \n",
            "  inflating: Plants_2/train/Pomegranate healthy (P9a)/0009_0167.JPG  \n",
            "  inflating: Plants_2/train/Pomegranate healthy (P9a)/0009_0168.JPG  \n",
            "  inflating: Plants_2/train/Pomegranate healthy (P9a)/0009_0169.JPG  \n",
            "  inflating: Plants_2/train/Pomegranate healthy (P9a)/0009_0170.JPG  \n",
            "  inflating: Plants_2/train/Pomegranate healthy (P9a)/0009_0171.JPG  \n",
            "  inflating: Plants_2/train/Pomegranate healthy (P9a)/0009_0172.JPG  \n",
            "  inflating: Plants_2/train/Pomegranate healthy (P9a)/0009_0173.JPG  \n",
            "  inflating: Plants_2/train/Pomegranate healthy (P9a)/0009_0174.JPG  \n",
            "  inflating: Plants_2/train/Pomegranate healthy (P9a)/0009_0175.JPG  \n",
            "  inflating: Plants_2/train/Pomegranate healthy (P9a)/0009_0176.JPG  \n",
            "  inflating: Plants_2/train/Pomegranate healthy (P9a)/0009_0177.JPG  \n",
            "  inflating: Plants_2/train/Pomegranate healthy (P9a)/0009_0178.JPG  \n",
            "  inflating: Plants_2/train/Pomegranate healthy (P9a)/0009_0179.JPG  \n",
            "  inflating: Plants_2/train/Pomegranate healthy (P9a)/0009_0180.JPG  \n",
            "  inflating: Plants_2/train/Pomegranate healthy (P9a)/0009_0181.JPG  \n",
            "  inflating: Plants_2/train/Pomegranate healthy (P9a)/0009_0182.JPG  \n",
            "  inflating: Plants_2/train/Pomegranate healthy (P9a)/0009_0183.JPG  \n",
            "  inflating: Plants_2/train/Pomegranate healthy (P9a)/0009_0184.JPG  \n",
            "  inflating: Plants_2/train/Pomegranate healthy (P9a)/0009_0185.JPG  \n",
            "  inflating: Plants_2/train/Pomegranate healthy (P9a)/0009_0186.JPG  \n",
            "  inflating: Plants_2/train/Pomegranate healthy (P9a)/0009_0187.JPG  \n",
            "  inflating: Plants_2/train/Pomegranate healthy (P9a)/0009_0188.JPG  \n",
            "  inflating: Plants_2/train/Pomegranate healthy (P9a)/0009_0189.JPG  \n",
            "  inflating: Plants_2/train/Pomegranate healthy (P9a)/0009_0190.JPG  \n",
            "  inflating: Plants_2/train/Pomegranate healthy (P9a)/0009_0191.JPG  \n",
            "  inflating: Plants_2/train/Pomegranate healthy (P9a)/0009_0192.JPG  \n",
            "  inflating: Plants_2/train/Pomegranate healthy (P9a)/0009_0193.JPG  \n",
            "  inflating: Plants_2/train/Pomegranate healthy (P9a)/0009_0194.JPG  \n",
            "  inflating: Plants_2/train/Pomegranate healthy (P9a)/0009_0195.JPG  \n",
            "  inflating: Plants_2/train/Pomegranate healthy (P9a)/0009_0196.JPG  \n",
            "  inflating: Plants_2/train/Pomegranate healthy (P9a)/0009_0197.JPG  \n",
            "  inflating: Plants_2/train/Pomegranate healthy (P9a)/0009_0198.JPG  \n",
            "  inflating: Plants_2/train/Pomegranate healthy (P9a)/0009_0199.JPG  \n",
            "  inflating: Plants_2/train/Pomegranate healthy (P9a)/0009_0200.JPG  \n",
            "  inflating: Plants_2/train/Pomegranate healthy (P9a)/0009_0201.JPG  \n",
            "  inflating: Plants_2/train/Pomegranate healthy (P9a)/0009_0202.JPG  \n",
            "  inflating: Plants_2/train/Pomegranate healthy (P9a)/0009_0203.JPG  \n",
            "  inflating: Plants_2/train/Pomegranate healthy (P9a)/0009_0204.JPG  \n",
            "  inflating: Plants_2/train/Pomegranate healthy (P9a)/0009_0205.JPG  \n",
            "  inflating: Plants_2/train/Pomegranate healthy (P9a)/0009_0206.JPG  \n",
            "  inflating: Plants_2/train/Pomegranate healthy (P9a)/0009_0207.JPG  \n",
            "  inflating: Plants_2/train/Pomegranate healthy (P9a)/0009_0208.JPG  \n",
            "  inflating: Plants_2/train/Pomegranate healthy (P9a)/0009_0209.JPG  \n",
            "  inflating: Plants_2/train/Pomegranate healthy (P9a)/0009_0210.JPG  \n",
            "  inflating: Plants_2/train/Pomegranate healthy (P9a)/0009_0211.JPG  \n",
            "  inflating: Plants_2/train/Pomegranate healthy (P9a)/0009_0212.JPG  \n",
            "  inflating: Plants_2/train/Pomegranate healthy (P9a)/0009_0213.JPG  \n",
            "  inflating: Plants_2/train/Pomegranate healthy (P9a)/0009_0214.JPG  \n",
            "  inflating: Plants_2/train/Pomegranate healthy (P9a)/0009_0215.JPG  \n",
            "  inflating: Plants_2/train/Pomegranate healthy (P9a)/0009_0216.JPG  \n",
            "  inflating: Plants_2/train/Pomegranate healthy (P9a)/0009_0217.JPG  \n",
            "  inflating: Plants_2/train/Pomegranate healthy (P9a)/0009_0218.JPG  \n",
            "  inflating: Plants_2/train/Pomegranate healthy (P9a)/0009_0219.JPG  \n",
            "  inflating: Plants_2/train/Pomegranate healthy (P9a)/0009_0220.JPG  \n",
            "  inflating: Plants_2/train/Pomegranate healthy (P9a)/0009_0221.JPG  \n",
            "  inflating: Plants_2/train/Pomegranate healthy (P9a)/0009_0222.JPG  \n",
            "  inflating: Plants_2/train/Pomegranate healthy (P9a)/0009_0223.JPG  \n",
            "  inflating: Plants_2/train/Pomegranate healthy (P9a)/0009_0224.JPG  \n",
            "  inflating: Plants_2/train/Pomegranate healthy (P9a)/0009_0225.JPG  \n",
            "  inflating: Plants_2/train/Pomegranate healthy (P9a)/0009_0226.JPG  \n",
            "  inflating: Plants_2/train/Pomegranate healthy (P9a)/0009_0227.JPG  \n",
            "  inflating: Plants_2/train/Pomegranate healthy (P9a)/0009_0228.JPG  \n",
            "  inflating: Plants_2/train/Pomegranate healthy (P9a)/0009_0229.JPG  \n",
            "  inflating: Plants_2/train/Pomegranate healthy (P9a)/0009_0230.JPG  \n",
            "  inflating: Plants_2/train/Pomegranate healthy (P9a)/0009_0231.JPG  \n",
            "  inflating: Plants_2/train/Pomegranate healthy (P9a)/0009_0232.JPG  \n",
            "  inflating: Plants_2/train/Pomegranate healthy (P9a)/0009_0233.JPG  \n",
            "  inflating: Plants_2/train/Pomegranate healthy (P9a)/0009_0234.JPG  \n",
            "  inflating: Plants_2/train/Pomegranate healthy (P9a)/0009_0235.JPG  \n",
            "  inflating: Plants_2/train/Pomegranate healthy (P9a)/0009_0236.JPG  \n",
            "  inflating: Plants_2/train/Pomegranate healthy (P9a)/0009_0237.JPG  \n",
            "  inflating: Plants_2/train/Pomegranate healthy (P9a)/0009_0238.JPG  \n",
            "  inflating: Plants_2/train/Pomegranate healthy (P9a)/0009_0239.JPG  \n",
            "  inflating: Plants_2/train/Pomegranate healthy (P9a)/0009_0240.JPG  \n",
            "  inflating: Plants_2/train/Pomegranate healthy (P9a)/0009_0241.JPG  \n",
            "  inflating: Plants_2/train/Pomegranate healthy (P9a)/0009_0242.JPG  \n",
            "  inflating: Plants_2/train/Pomegranate healthy (P9a)/0009_0243.JPG  \n",
            "  inflating: Plants_2/train/Pomegranate healthy (P9a)/0009_0244.JPG  \n",
            "  inflating: Plants_2/train/Pomegranate healthy (P9a)/0009_0245.JPG  \n",
            "  inflating: Plants_2/train/Pomegranate healthy (P9a)/0009_0246.JPG  \n",
            "  inflating: Plants_2/train/Pomegranate healthy (P9a)/0009_0247.JPG  \n",
            "  inflating: Plants_2/train/Pomegranate healthy (P9a)/0009_0248.JPG  \n",
            "  inflating: Plants_2/train/Pomegranate healthy (P9a)/0009_0249.JPG  \n",
            "  inflating: Plants_2/train/Pomegranate healthy (P9a)/0009_0250.JPG  \n",
            "  inflating: Plants_2/train/Pomegranate healthy (P9a)/0009_0251.JPG  \n",
            "  inflating: Plants_2/train/Pomegranate healthy (P9a)/0009_0252.JPG  \n",
            "  inflating: Plants_2/train/Pomegranate healthy (P9a)/0009_0253.JPG  \n",
            "  inflating: Plants_2/train/Pomegranate healthy (P9a)/0009_0254.JPG  \n",
            "  inflating: Plants_2/train/Pomegranate healthy (P9a)/0009_0255.JPG  \n",
            "  inflating: Plants_2/train/Pomegranate healthy (P9a)/0009_0256.JPG  \n",
            "  inflating: Plants_2/train/Pomegranate healthy (P9a)/0009_0257.JPG  \n",
            "  inflating: Plants_2/train/Pomegranate healthy (P9a)/0009_0258.JPG  \n",
            "  inflating: Plants_2/train/Pomegranate healthy (P9a)/0009_0259.JPG  \n",
            "  inflating: Plants_2/train/Pomegranate healthy (P9a)/0009_0260.JPG  \n",
            "  inflating: Plants_2/train/Pomegranate healthy (P9a)/0009_0261.JPG  \n",
            "  inflating: Plants_2/train/Pomegranate healthy (P9a)/0009_0262.JPG  \n",
            "  inflating: Plants_2/train/Pomegranate healthy (P9a)/0009_0263.JPG  \n",
            "  inflating: Plants_2/train/Pomegranate healthy (P9a)/0009_0264.JPG  \n",
            "  inflating: Plants_2/train/Pomegranate healthy (P9a)/0009_0265.JPG  \n",
            "  inflating: Plants_2/train/Pomegranate healthy (P9a)/0009_0266.JPG  \n",
            "  inflating: Plants_2/train/Pomegranate healthy (P9a)/0009_0267.JPG  \n",
            "  inflating: Plants_2/train/Pomegranate healthy (P9a)/0009_0268.JPG  \n",
            "  inflating: Plants_2/train/Pomegranate healthy (P9a)/0009_0269.JPG  \n",
            "  inflating: Plants_2/train/Pomegranate healthy (P9a)/0009_0270.JPG  \n",
            "  inflating: Plants_2/train/Pomegranate healthy (P9a)/0009_0271.JPG  \n",
            "  inflating: Plants_2/train/Pomegranate healthy (P9a)/0009_0272.JPG  \n",
            "  inflating: Plants_2/train/Pomegranate healthy (P9a)/0009_0273.JPG  \n",
            "  inflating: Plants_2/train/Pomegranate healthy (P9a)/0009_0274.JPG  \n",
            "  inflating: Plants_2/train/Pomegranate healthy (P9a)/0009_0275.JPG  \n",
            "  inflating: Plants_2/train/Pomegranate healthy (P9a)/0009_0276.JPG  \n",
            "  inflating: Plants_2/train/Pomegranate healthy (P9a)/0009_0277.JPG  \n",
            "  inflating: Plants_2/train/Pomegranate healthy (P9a)/0009_0278.JPG  \n",
            "  inflating: Plants_2/train/Pomegranate healthy (P9a)/0009_0279.JPG  \n",
            "  inflating: Plants_2/train/Pomegranate healthy (P9a)/0009_0280.JPG  \n",
            "  inflating: Plants_2/train/Pomegranate healthy (P9a)/0009_0281.JPG  \n",
            "  inflating: Plants_2/train/Pomegranate healthy (P9a)/0009_0282.JPG  \n",
            "  inflating: Plants_2/train/Pomegranate healthy (P9a)/0009_0283.JPG  \n",
            "  inflating: Plants_2/train/Pomegranate healthy (P9a)/0009_0284.JPG  \n",
            "  inflating: Plants_2/train/Pomegranate healthy (P9a)/0009_0285.JPG  \n",
            "  inflating: Plants_2/train/Pomegranate healthy (P9a)/0009_0286.JPG  \n",
            "  inflating: Plants_2/train/Pomegranate healthy (P9a)/0009_0287.JPG  \n",
            "  inflating: Plants_2/train/Pongamia Pinnata diseased (P7b)/0019_0011.JPG  \n",
            "  inflating: Plants_2/train/Pongamia Pinnata diseased (P7b)/0019_0012.JPG  \n",
            "  inflating: Plants_2/train/Pongamia Pinnata diseased (P7b)/0019_0013.JPG  \n",
            "  inflating: Plants_2/train/Pongamia Pinnata diseased (P7b)/0019_0014.JPG  \n",
            "  inflating: Plants_2/train/Pongamia Pinnata diseased (P7b)/0019_0015.JPG  \n",
            "  inflating: Plants_2/train/Pongamia Pinnata diseased (P7b)/0019_0016.JPG  \n",
            "  inflating: Plants_2/train/Pongamia Pinnata diseased (P7b)/0019_0017.JPG  \n",
            "  inflating: Plants_2/train/Pongamia Pinnata diseased (P7b)/0019_0018.JPG  \n",
            "  inflating: Plants_2/train/Pongamia Pinnata diseased (P7b)/0019_0019.JPG  \n",
            "  inflating: Plants_2/train/Pongamia Pinnata diseased (P7b)/0019_0020.JPG  \n",
            "  inflating: Plants_2/train/Pongamia Pinnata diseased (P7b)/0019_0021.JPG  \n",
            "  inflating: Plants_2/train/Pongamia Pinnata diseased (P7b)/0019_0022.JPG  \n",
            "  inflating: Plants_2/train/Pongamia Pinnata diseased (P7b)/0019_0023.JPG  \n",
            "  inflating: Plants_2/train/Pongamia Pinnata diseased (P7b)/0019_0024.JPG  \n",
            "  inflating: Plants_2/train/Pongamia Pinnata diseased (P7b)/0019_0025.JPG  \n",
            "  inflating: Plants_2/train/Pongamia Pinnata diseased (P7b)/0019_0026.JPG  \n",
            "  inflating: Plants_2/train/Pongamia Pinnata diseased (P7b)/0019_0027.JPG  \n",
            "  inflating: Plants_2/train/Pongamia Pinnata diseased (P7b)/0019_0028.JPG  \n",
            "  inflating: Plants_2/train/Pongamia Pinnata diseased (P7b)/0019_0029.JPG  \n",
            "  inflating: Plants_2/train/Pongamia Pinnata diseased (P7b)/0019_0030.JPG  \n",
            "  inflating: Plants_2/train/Pongamia Pinnata diseased (P7b)/0019_0031.JPG  \n",
            "  inflating: Plants_2/train/Pongamia Pinnata diseased (P7b)/0019_0032.JPG  \n",
            "  inflating: Plants_2/train/Pongamia Pinnata diseased (P7b)/0019_0033.JPG  \n",
            "  inflating: Plants_2/train/Pongamia Pinnata diseased (P7b)/0019_0034.JPG  \n",
            "  inflating: Plants_2/train/Pongamia Pinnata diseased (P7b)/0019_0035.JPG  \n",
            "  inflating: Plants_2/train/Pongamia Pinnata diseased (P7b)/0019_0036.JPG  \n",
            "  inflating: Plants_2/train/Pongamia Pinnata diseased (P7b)/0019_0037.JPG  \n",
            "  inflating: Plants_2/train/Pongamia Pinnata diseased (P7b)/0019_0038.JPG  \n",
            "  inflating: Plants_2/train/Pongamia Pinnata diseased (P7b)/0019_0039.JPG  \n",
            "  inflating: Plants_2/train/Pongamia Pinnata diseased (P7b)/0019_0040.JPG  \n",
            "  inflating: Plants_2/train/Pongamia Pinnata diseased (P7b)/0019_0041.JPG  \n",
            "  inflating: Plants_2/train/Pongamia Pinnata diseased (P7b)/0019_0042.JPG  \n",
            "  inflating: Plants_2/train/Pongamia Pinnata diseased (P7b)/0019_0043.JPG  \n",
            "  inflating: Plants_2/train/Pongamia Pinnata diseased (P7b)/0019_0044.JPG  \n",
            "  inflating: Plants_2/train/Pongamia Pinnata diseased (P7b)/0019_0045.JPG  \n",
            "  inflating: Plants_2/train/Pongamia Pinnata diseased (P7b)/0019_0046.JPG  \n",
            "  inflating: Plants_2/train/Pongamia Pinnata diseased (P7b)/0019_0047.JPG  \n",
            "  inflating: Plants_2/train/Pongamia Pinnata diseased (P7b)/0019_0048.JPG  \n",
            "  inflating: Plants_2/train/Pongamia Pinnata diseased (P7b)/0019_0049.JPG  \n",
            "  inflating: Plants_2/train/Pongamia Pinnata diseased (P7b)/0019_0050.JPG  \n",
            "  inflating: Plants_2/train/Pongamia Pinnata diseased (P7b)/0019_0051.JPG  \n",
            "  inflating: Plants_2/train/Pongamia Pinnata diseased (P7b)/0019_0052.JPG  \n",
            "  inflating: Plants_2/train/Pongamia Pinnata diseased (P7b)/0019_0053.JPG  \n",
            "  inflating: Plants_2/train/Pongamia Pinnata diseased (P7b)/0019_0054.JPG  \n",
            "  inflating: Plants_2/train/Pongamia Pinnata diseased (P7b)/0019_0055.JPG  \n",
            "  inflating: Plants_2/train/Pongamia Pinnata diseased (P7b)/0019_0056.JPG  \n",
            "  inflating: Plants_2/train/Pongamia Pinnata diseased (P7b)/0019_0057.JPG  \n",
            "  inflating: Plants_2/train/Pongamia Pinnata diseased (P7b)/0019_0058.JPG  \n",
            "  inflating: Plants_2/train/Pongamia Pinnata diseased (P7b)/0019_0059.JPG  \n",
            "  inflating: Plants_2/train/Pongamia Pinnata diseased (P7b)/0019_0060.JPG  \n",
            "  inflating: Plants_2/train/Pongamia Pinnata diseased (P7b)/0019_0061.JPG  \n",
            "  inflating: Plants_2/train/Pongamia Pinnata diseased (P7b)/0019_0062.JPG  \n",
            "  inflating: Plants_2/train/Pongamia Pinnata diseased (P7b)/0019_0063.JPG  \n",
            "  inflating: Plants_2/train/Pongamia Pinnata diseased (P7b)/0019_0064.JPG  \n",
            "  inflating: Plants_2/train/Pongamia Pinnata diseased (P7b)/0019_0065.JPG  \n",
            "  inflating: Plants_2/train/Pongamia Pinnata diseased (P7b)/0019_0066.JPG  \n",
            "  inflating: Plants_2/train/Pongamia Pinnata diseased (P7b)/0019_0067.JPG  \n",
            "  inflating: Plants_2/train/Pongamia Pinnata diseased (P7b)/0019_0068.JPG  \n",
            "  inflating: Plants_2/train/Pongamia Pinnata diseased (P7b)/0019_0069.JPG  \n",
            "  inflating: Plants_2/train/Pongamia Pinnata diseased (P7b)/0019_0070.JPG  \n",
            "  inflating: Plants_2/train/Pongamia Pinnata diseased (P7b)/0019_0071.JPG  \n",
            "  inflating: Plants_2/train/Pongamia Pinnata diseased (P7b)/0019_0072.JPG  \n",
            "  inflating: Plants_2/train/Pongamia Pinnata diseased (P7b)/0019_0073.JPG  \n",
            "  inflating: Plants_2/train/Pongamia Pinnata diseased (P7b)/0019_0074.JPG  \n",
            "  inflating: Plants_2/train/Pongamia Pinnata diseased (P7b)/0019_0075.JPG  \n",
            "  inflating: Plants_2/train/Pongamia Pinnata diseased (P7b)/0019_0076.JPG  \n",
            "  inflating: Plants_2/train/Pongamia Pinnata diseased (P7b)/0019_0077.JPG  \n",
            "  inflating: Plants_2/train/Pongamia Pinnata diseased (P7b)/0019_0078.JPG  \n",
            "  inflating: Plants_2/train/Pongamia Pinnata diseased (P7b)/0019_0079.JPG  \n",
            "  inflating: Plants_2/train/Pongamia Pinnata diseased (P7b)/0019_0080.JPG  \n",
            "  inflating: Plants_2/train/Pongamia Pinnata diseased (P7b)/0019_0081.JPG  \n",
            "  inflating: Plants_2/train/Pongamia Pinnata diseased (P7b)/0019_0082.JPG  \n",
            "  inflating: Plants_2/train/Pongamia Pinnata diseased (P7b)/0019_0083.JPG  \n",
            "  inflating: Plants_2/train/Pongamia Pinnata diseased (P7b)/0019_0084.JPG  \n",
            "  inflating: Plants_2/train/Pongamia Pinnata diseased (P7b)/0019_0085.JPG  \n",
            "  inflating: Plants_2/train/Pongamia Pinnata diseased (P7b)/0019_0086.JPG  \n",
            "  inflating: Plants_2/train/Pongamia Pinnata diseased (P7b)/0019_0087.JPG  \n",
            "  inflating: Plants_2/train/Pongamia Pinnata diseased (P7b)/0019_0088.JPG  \n",
            "  inflating: Plants_2/train/Pongamia Pinnata diseased (P7b)/0019_0089.JPG  \n",
            "  inflating: Plants_2/train/Pongamia Pinnata diseased (P7b)/0019_0090.JPG  \n",
            "  inflating: Plants_2/train/Pongamia Pinnata diseased (P7b)/0019_0091.JPG  \n",
            "  inflating: Plants_2/train/Pongamia Pinnata diseased (P7b)/0019_0092.JPG  \n",
            "  inflating: Plants_2/train/Pongamia Pinnata diseased (P7b)/0019_0093.JPG  \n",
            "  inflating: Plants_2/train/Pongamia Pinnata diseased (P7b)/0019_0094.JPG  \n",
            "  inflating: Plants_2/train/Pongamia Pinnata diseased (P7b)/0019_0095.JPG  \n",
            "  inflating: Plants_2/train/Pongamia Pinnata diseased (P7b)/0019_0096.JPG  \n",
            "  inflating: Plants_2/train/Pongamia Pinnata diseased (P7b)/0019_0097.JPG  \n",
            "  inflating: Plants_2/train/Pongamia Pinnata diseased (P7b)/0019_0098.JPG  \n",
            "  inflating: Plants_2/train/Pongamia Pinnata diseased (P7b)/0019_0099.JPG  \n",
            "  inflating: Plants_2/train/Pongamia Pinnata diseased (P7b)/0019_0100.JPG  \n",
            "  inflating: Plants_2/train/Pongamia Pinnata diseased (P7b)/0019_0101.JPG  \n",
            "  inflating: Plants_2/train/Pongamia Pinnata diseased (P7b)/0019_0102.JPG  \n",
            "  inflating: Plants_2/train/Pongamia Pinnata diseased (P7b)/0019_0103.JPG  \n",
            "  inflating: Plants_2/train/Pongamia Pinnata diseased (P7b)/0019_0104.JPG  \n",
            "  inflating: Plants_2/train/Pongamia Pinnata diseased (P7b)/0019_0105.JPG  \n",
            "  inflating: Plants_2/train/Pongamia Pinnata diseased (P7b)/0019_0106.JPG  \n",
            "  inflating: Plants_2/train/Pongamia Pinnata diseased (P7b)/0019_0107.JPG  \n",
            "  inflating: Plants_2/train/Pongamia Pinnata diseased (P7b)/0019_0108.JPG  \n",
            "  inflating: Plants_2/train/Pongamia Pinnata diseased (P7b)/0019_0109.JPG  \n",
            "  inflating: Plants_2/train/Pongamia Pinnata diseased (P7b)/0019_0110.JPG  \n",
            "  inflating: Plants_2/train/Pongamia Pinnata diseased (P7b)/0019_0111.JPG  \n",
            "  inflating: Plants_2/train/Pongamia Pinnata diseased (P7b)/0019_0112.JPG  \n",
            "  inflating: Plants_2/train/Pongamia Pinnata diseased (P7b)/0019_0113.JPG  \n",
            "  inflating: Plants_2/train/Pongamia Pinnata diseased (P7b)/0019_0114.JPG  \n",
            "  inflating: Plants_2/train/Pongamia Pinnata diseased (P7b)/0019_0115.JPG  \n",
            "  inflating: Plants_2/train/Pongamia Pinnata diseased (P7b)/0019_0116.JPG  \n",
            "  inflating: Plants_2/train/Pongamia Pinnata diseased (P7b)/0019_0117.JPG  \n",
            "  inflating: Plants_2/train/Pongamia Pinnata diseased (P7b)/0019_0118.JPG  \n",
            "  inflating: Plants_2/train/Pongamia Pinnata diseased (P7b)/0019_0119.JPG  \n",
            "  inflating: Plants_2/train/Pongamia Pinnata diseased (P7b)/0019_0120.JPG  \n",
            "  inflating: Plants_2/train/Pongamia Pinnata diseased (P7b)/0019_0121.JPG  \n",
            "  inflating: Plants_2/train/Pongamia Pinnata diseased (P7b)/0019_0122.JPG  \n",
            "  inflating: Plants_2/train/Pongamia Pinnata diseased (P7b)/0019_0123.JPG  \n",
            "  inflating: Plants_2/train/Pongamia Pinnata diseased (P7b)/0019_0124.JPG  \n",
            "  inflating: Plants_2/train/Pongamia Pinnata diseased (P7b)/0019_0125.JPG  \n",
            "  inflating: Plants_2/train/Pongamia Pinnata diseased (P7b)/0019_0126.JPG  \n",
            "  inflating: Plants_2/train/Pongamia Pinnata diseased (P7b)/0019_0127.JPG  \n",
            "  inflating: Plants_2/train/Pongamia Pinnata diseased (P7b)/0019_0128.JPG  \n",
            "  inflating: Plants_2/train/Pongamia Pinnata diseased (P7b)/0019_0129.JPG  \n",
            "  inflating: Plants_2/train/Pongamia Pinnata diseased (P7b)/0019_0130.JPG  \n",
            "  inflating: Plants_2/train/Pongamia Pinnata diseased (P7b)/0019_0131.JPG  \n",
            "  inflating: Plants_2/train/Pongamia Pinnata diseased (P7b)/0019_0132.JPG  \n",
            "  inflating: Plants_2/train/Pongamia Pinnata diseased (P7b)/0019_0133.JPG  \n",
            "  inflating: Plants_2/train/Pongamia Pinnata diseased (P7b)/0019_0134.JPG  \n",
            "  inflating: Plants_2/train/Pongamia Pinnata diseased (P7b)/0019_0135.JPG  \n",
            "  inflating: Plants_2/train/Pongamia Pinnata diseased (P7b)/0019_0136.JPG  \n",
            "  inflating: Plants_2/train/Pongamia Pinnata diseased (P7b)/0019_0137.JPG  \n",
            "  inflating: Plants_2/train/Pongamia Pinnata diseased (P7b)/0019_0138.JPG  \n",
            "  inflating: Plants_2/train/Pongamia Pinnata diseased (P7b)/0019_0139.JPG  \n",
            "  inflating: Plants_2/train/Pongamia Pinnata diseased (P7b)/0019_0140.JPG  \n",
            "  inflating: Plants_2/train/Pongamia Pinnata diseased (P7b)/0019_0141.JPG  \n",
            "  inflating: Plants_2/train/Pongamia Pinnata diseased (P7b)/0019_0142.JPG  \n",
            "  inflating: Plants_2/train/Pongamia Pinnata diseased (P7b)/0019_0143.JPG  \n",
            "  inflating: Plants_2/train/Pongamia Pinnata diseased (P7b)/0019_0144.JPG  \n",
            "  inflating: Plants_2/train/Pongamia Pinnata diseased (P7b)/0019_0145.JPG  \n",
            "  inflating: Plants_2/train/Pongamia Pinnata diseased (P7b)/0019_0146.JPG  \n",
            "  inflating: Plants_2/train/Pongamia Pinnata diseased (P7b)/0019_0147.JPG  \n",
            "  inflating: Plants_2/train/Pongamia Pinnata diseased (P7b)/0019_0148.JPG  \n",
            "  inflating: Plants_2/train/Pongamia Pinnata diseased (P7b)/0019_0149.JPG  \n",
            "  inflating: Plants_2/train/Pongamia Pinnata diseased (P7b)/0019_0150.JPG  \n",
            "  inflating: Plants_2/train/Pongamia Pinnata diseased (P7b)/0019_0151.JPG  \n",
            "  inflating: Plants_2/train/Pongamia Pinnata diseased (P7b)/0019_0152.JPG  \n",
            "  inflating: Plants_2/train/Pongamia Pinnata diseased (P7b)/0019_0153.JPG  \n",
            "  inflating: Plants_2/train/Pongamia Pinnata diseased (P7b)/0019_0154.JPG  \n",
            "  inflating: Plants_2/train/Pongamia Pinnata diseased (P7b)/0019_0155.JPG  \n",
            "  inflating: Plants_2/train/Pongamia Pinnata diseased (P7b)/0019_0156.JPG  \n",
            "  inflating: Plants_2/train/Pongamia Pinnata diseased (P7b)/0019_0157.JPG  \n",
            "  inflating: Plants_2/train/Pongamia Pinnata diseased (P7b)/0019_0158.JPG  \n",
            "  inflating: Plants_2/train/Pongamia Pinnata diseased (P7b)/0019_0159.JPG  \n",
            "  inflating: Plants_2/train/Pongamia Pinnata diseased (P7b)/0019_0160.JPG  \n",
            "  inflating: Plants_2/train/Pongamia Pinnata diseased (P7b)/0019_0161.JPG  \n",
            "  inflating: Plants_2/train/Pongamia Pinnata diseased (P7b)/0019_0162.JPG  \n",
            "  inflating: Plants_2/train/Pongamia Pinnata diseased (P7b)/0019_0163.JPG  \n",
            "  inflating: Plants_2/train/Pongamia Pinnata diseased (P7b)/0019_0164.JPG  \n",
            "  inflating: Plants_2/train/Pongamia Pinnata diseased (P7b)/0019_0165.JPG  \n",
            "  inflating: Plants_2/train/Pongamia Pinnata diseased (P7b)/0019_0166.JPG  \n",
            "  inflating: Plants_2/train/Pongamia Pinnata diseased (P7b)/0019_0167.JPG  \n",
            "  inflating: Plants_2/train/Pongamia Pinnata diseased (P7b)/0019_0168.JPG  \n",
            "  inflating: Plants_2/train/Pongamia Pinnata diseased (P7b)/0019_0169.JPG  \n",
            "  inflating: Plants_2/train/Pongamia Pinnata diseased (P7b)/0019_0170.JPG  \n",
            "  inflating: Plants_2/train/Pongamia Pinnata diseased (P7b)/0019_0171.JPG  \n",
            "  inflating: Plants_2/train/Pongamia Pinnata diseased (P7b)/0019_0172.JPG  \n",
            "  inflating: Plants_2/train/Pongamia Pinnata diseased (P7b)/0019_0173.JPG  \n",
            "  inflating: Plants_2/train/Pongamia Pinnata diseased (P7b)/0019_0174.JPG  \n",
            "  inflating: Plants_2/train/Pongamia Pinnata diseased (P7b)/0019_0175.JPG  \n",
            "  inflating: Plants_2/train/Pongamia Pinnata diseased (P7b)/0019_0176.JPG  \n",
            "  inflating: Plants_2/train/Pongamia Pinnata diseased (P7b)/0019_0177.JPG  \n",
            "  inflating: Plants_2/train/Pongamia Pinnata diseased (P7b)/0019_0178.JPG  \n",
            "  inflating: Plants_2/train/Pongamia Pinnata diseased (P7b)/0019_0179.JPG  \n",
            "  inflating: Plants_2/train/Pongamia Pinnata diseased (P7b)/0019_0180.JPG  \n",
            "  inflating: Plants_2/train/Pongamia Pinnata diseased (P7b)/0019_0181.JPG  \n",
            "  inflating: Plants_2/train/Pongamia Pinnata diseased (P7b)/0019_0182.JPG  \n",
            "  inflating: Plants_2/train/Pongamia Pinnata diseased (P7b)/0019_0183.JPG  \n",
            "  inflating: Plants_2/train/Pongamia Pinnata diseased (P7b)/0019_0184.JPG  \n",
            "  inflating: Plants_2/train/Pongamia Pinnata diseased (P7b)/0019_0185.JPG  \n",
            "  inflating: Plants_2/train/Pongamia Pinnata diseased (P7b)/0019_0186.JPG  \n",
            "  inflating: Plants_2/train/Pongamia Pinnata diseased (P7b)/0019_0187.JPG  \n",
            "  inflating: Plants_2/train/Pongamia Pinnata diseased (P7b)/0019_0188.JPG  \n",
            "  inflating: Plants_2/train/Pongamia Pinnata diseased (P7b)/0019_0189.JPG  \n",
            "  inflating: Plants_2/train/Pongamia Pinnata diseased (P7b)/0019_0190.JPG  \n",
            "  inflating: Plants_2/train/Pongamia Pinnata diseased (P7b)/0019_0191.JPG  \n",
            "  inflating: Plants_2/train/Pongamia Pinnata diseased (P7b)/0019_0192.JPG  \n",
            "  inflating: Plants_2/train/Pongamia Pinnata diseased (P7b)/0019_0193.JPG  \n",
            "  inflating: Plants_2/train/Pongamia Pinnata diseased (P7b)/0019_0194.JPG  \n",
            "  inflating: Plants_2/train/Pongamia Pinnata diseased (P7b)/0019_0195.JPG  \n",
            "  inflating: Plants_2/train/Pongamia Pinnata diseased (P7b)/0019_0196.JPG  \n",
            "  inflating: Plants_2/train/Pongamia Pinnata diseased (P7b)/0019_0197.JPG  \n",
            "  inflating: Plants_2/train/Pongamia Pinnata diseased (P7b)/0019_0198.JPG  \n",
            "  inflating: Plants_2/train/Pongamia Pinnata diseased (P7b)/0019_0199.JPG  \n",
            "  inflating: Plants_2/train/Pongamia Pinnata diseased (P7b)/0019_0200.JPG  \n",
            "  inflating: Plants_2/train/Pongamia Pinnata diseased (P7b)/0019_0201.JPG  \n",
            "  inflating: Plants_2/train/Pongamia Pinnata diseased (P7b)/0019_0202.JPG  \n",
            "  inflating: Plants_2/train/Pongamia Pinnata diseased (P7b)/0019_0203.JPG  \n",
            "  inflating: Plants_2/train/Pongamia Pinnata diseased (P7b)/0019_0204.JPG  \n",
            "  inflating: Plants_2/train/Pongamia Pinnata diseased (P7b)/0019_0205.JPG  \n",
            "  inflating: Plants_2/train/Pongamia Pinnata diseased (P7b)/0019_0206.JPG  \n",
            "  inflating: Plants_2/train/Pongamia Pinnata diseased (P7b)/0019_0207.JPG  \n",
            "  inflating: Plants_2/train/Pongamia Pinnata diseased (P7b)/0019_0208.JPG  \n",
            "  inflating: Plants_2/train/Pongamia Pinnata diseased (P7b)/0019_0209.JPG  \n",
            "  inflating: Plants_2/train/Pongamia Pinnata diseased (P7b)/0019_0210.JPG  \n",
            "  inflating: Plants_2/train/Pongamia Pinnata diseased (P7b)/0019_0211.JPG  \n",
            "  inflating: Plants_2/train/Pongamia Pinnata diseased (P7b)/0019_0212.JPG  \n",
            "  inflating: Plants_2/train/Pongamia Pinnata diseased (P7b)/0019_0213.JPG  \n",
            "  inflating: Plants_2/train/Pongamia Pinnata diseased (P7b)/0019_0214.JPG  \n",
            "  inflating: Plants_2/train/Pongamia Pinnata diseased (P7b)/0019_0215.JPG  \n",
            "  inflating: Plants_2/train/Pongamia Pinnata diseased (P7b)/0019_0216.JPG  \n",
            "  inflating: Plants_2/train/Pongamia Pinnata diseased (P7b)/0019_0217.JPG  \n",
            "  inflating: Plants_2/train/Pongamia Pinnata diseased (P7b)/0019_0218.JPG  \n",
            "  inflating: Plants_2/train/Pongamia Pinnata diseased (P7b)/0019_0219.JPG  \n",
            "  inflating: Plants_2/train/Pongamia Pinnata diseased (P7b)/0019_0220.JPG  \n",
            "  inflating: Plants_2/train/Pongamia Pinnata diseased (P7b)/0019_0221.JPG  \n",
            "  inflating: Plants_2/train/Pongamia Pinnata diseased (P7b)/0019_0222.JPG  \n",
            "  inflating: Plants_2/train/Pongamia Pinnata diseased (P7b)/0019_0223.JPG  \n",
            "  inflating: Plants_2/train/Pongamia Pinnata diseased (P7b)/0019_0224.JPG  \n",
            "  inflating: Plants_2/train/Pongamia Pinnata diseased (P7b)/0019_0225.JPG  \n",
            "  inflating: Plants_2/train/Pongamia Pinnata diseased (P7b)/0019_0226.JPG  \n",
            "  inflating: Plants_2/train/Pongamia Pinnata diseased (P7b)/0019_0227.JPG  \n",
            "  inflating: Plants_2/train/Pongamia Pinnata diseased (P7b)/0019_0228.JPG  \n",
            "  inflating: Plants_2/train/Pongamia Pinnata diseased (P7b)/0019_0229.JPG  \n",
            "  inflating: Plants_2/train/Pongamia Pinnata diseased (P7b)/0019_0230.JPG  \n",
            "  inflating: Plants_2/train/Pongamia Pinnata diseased (P7b)/0019_0231.JPG  \n",
            "  inflating: Plants_2/train/Pongamia Pinnata diseased (P7b)/0019_0232.JPG  \n",
            "  inflating: Plants_2/train/Pongamia Pinnata diseased (P7b)/0019_0233.JPG  \n",
            "  inflating: Plants_2/train/Pongamia Pinnata diseased (P7b)/0019_0234.JPG  \n",
            "  inflating: Plants_2/train/Pongamia Pinnata diseased (P7b)/0019_0235.JPG  \n",
            "  inflating: Plants_2/train/Pongamia Pinnata diseased (P7b)/0019_0236.JPG  \n",
            "  inflating: Plants_2/train/Pongamia Pinnata diseased (P7b)/0019_0237.JPG  \n",
            "  inflating: Plants_2/train/Pongamia Pinnata diseased (P7b)/0019_0238.JPG  \n",
            "  inflating: Plants_2/train/Pongamia Pinnata diseased (P7b)/0019_0239.JPG  \n",
            "  inflating: Plants_2/train/Pongamia Pinnata diseased (P7b)/0019_0240.JPG  \n",
            "  inflating: Plants_2/train/Pongamia Pinnata diseased (P7b)/0019_0241.JPG  \n",
            "  inflating: Plants_2/train/Pongamia Pinnata diseased (P7b)/0019_0242.JPG  \n",
            "  inflating: Plants_2/train/Pongamia Pinnata diseased (P7b)/0019_0243.JPG  \n",
            "  inflating: Plants_2/train/Pongamia Pinnata diseased (P7b)/0019_0244.JPG  \n",
            "  inflating: Plants_2/train/Pongamia Pinnata diseased (P7b)/0019_0245.JPG  \n",
            "  inflating: Plants_2/train/Pongamia Pinnata diseased (P7b)/0019_0246.JPG  \n",
            "  inflating: Plants_2/train/Pongamia Pinnata diseased (P7b)/0019_0247.JPG  \n",
            "  inflating: Plants_2/train/Pongamia Pinnata diseased (P7b)/0019_0248.JPG  \n",
            "  inflating: Plants_2/train/Pongamia Pinnata diseased (P7b)/0019_0249.JPG  \n",
            "  inflating: Plants_2/train/Pongamia Pinnata diseased (P7b)/0019_0250.JPG  \n",
            "  inflating: Plants_2/train/Pongamia Pinnata diseased (P7b)/0019_0251.JPG  \n",
            "  inflating: Plants_2/train/Pongamia Pinnata diseased (P7b)/0019_0252.JPG  \n",
            "  inflating: Plants_2/train/Pongamia Pinnata diseased (P7b)/0019_0253.JPG  \n",
            "  inflating: Plants_2/train/Pongamia Pinnata diseased (P7b)/0019_0254.JPG  \n",
            "  inflating: Plants_2/train/Pongamia Pinnata diseased (P7b)/0019_0255.JPG  \n",
            "  inflating: Plants_2/train/Pongamia Pinnata diseased (P7b)/0019_0256.JPG  \n",
            "  inflating: Plants_2/train/Pongamia Pinnata diseased (P7b)/0019_0257.JPG  \n",
            "  inflating: Plants_2/train/Pongamia Pinnata diseased (P7b)/0019_0258.JPG  \n",
            "  inflating: Plants_2/train/Pongamia Pinnata diseased (P7b)/0019_0259.JPG  \n",
            "  inflating: Plants_2/train/Pongamia Pinnata diseased (P7b)/0019_0260.JPG  \n",
            "  inflating: Plants_2/train/Pongamia Pinnata diseased (P7b)/0019_0261.JPG  \n",
            "  inflating: Plants_2/train/Pongamia Pinnata diseased (P7b)/0019_0262.JPG  \n",
            "  inflating: Plants_2/train/Pongamia Pinnata diseased (P7b)/0019_0263.JPG  \n",
            "  inflating: Plants_2/train/Pongamia Pinnata diseased (P7b)/0019_0264.JPG  \n",
            "  inflating: Plants_2/train/Pongamia Pinnata diseased (P7b)/0019_0265.JPG  \n",
            "  inflating: Plants_2/train/Pongamia Pinnata diseased (P7b)/0019_0266.JPG  \n",
            "  inflating: Plants_2/train/Pongamia Pinnata diseased (P7b)/0019_0267.JPG  \n",
            "  inflating: Plants_2/train/Pongamia Pinnata diseased (P7b)/0019_0268.JPG  \n",
            "  inflating: Plants_2/train/Pongamia Pinnata diseased (P7b)/0019_0269.JPG  \n",
            "  inflating: Plants_2/train/Pongamia Pinnata diseased (P7b)/0019_0270.JPG  \n",
            "  inflating: Plants_2/train/Pongamia Pinnata diseased (P7b)/0019_0271.JPG  \n",
            "  inflating: Plants_2/train/Pongamia Pinnata diseased (P7b)/0019_0272.JPG  \n",
            "  inflating: Plants_2/train/Pongamia Pinnata diseased (P7b)/0019_0273.JPG  \n",
            "  inflating: Plants_2/train/Pongamia Pinnata diseased (P7b)/0019_0274.JPG  \n",
            "  inflating: Plants_2/train/Pongamia Pinnata diseased (P7b)/0019_0275.JPG  \n",
            "  inflating: Plants_2/train/Pongamia Pinnata healthy (P7a)/0007_0011.JPG  \n",
            "  inflating: Plants_2/train/Pongamia Pinnata healthy (P7a)/0007_0012.JPG  \n",
            "  inflating: Plants_2/train/Pongamia Pinnata healthy (P7a)/0007_0013.JPG  \n",
            "  inflating: Plants_2/train/Pongamia Pinnata healthy (P7a)/0007_0014.JPG  \n",
            "  inflating: Plants_2/train/Pongamia Pinnata healthy (P7a)/0007_0015.JPG  \n",
            "  inflating: Plants_2/train/Pongamia Pinnata healthy (P7a)/0007_0016.JPG  \n",
            "  inflating: Plants_2/train/Pongamia Pinnata healthy (P7a)/0007_0017.JPG  \n",
            "  inflating: Plants_2/train/Pongamia Pinnata healthy (P7a)/0007_0018.JPG  \n",
            "  inflating: Plants_2/train/Pongamia Pinnata healthy (P7a)/0007_0019.JPG  \n",
            "  inflating: Plants_2/train/Pongamia Pinnata healthy (P7a)/0007_0020.JPG  \n",
            "  inflating: Plants_2/train/Pongamia Pinnata healthy (P7a)/0007_0021.JPG  \n",
            "  inflating: Plants_2/train/Pongamia Pinnata healthy (P7a)/0007_0022.JPG  \n",
            "  inflating: Plants_2/train/Pongamia Pinnata healthy (P7a)/0007_0023.JPG  \n",
            "  inflating: Plants_2/train/Pongamia Pinnata healthy (P7a)/0007_0024.JPG  \n",
            "  inflating: Plants_2/train/Pongamia Pinnata healthy (P7a)/0007_0025.JPG  \n",
            "  inflating: Plants_2/train/Pongamia Pinnata healthy (P7a)/0007_0026.JPG  \n",
            "  inflating: Plants_2/train/Pongamia Pinnata healthy (P7a)/0007_0027.JPG  \n",
            "  inflating: Plants_2/train/Pongamia Pinnata healthy (P7a)/0007_0028.JPG  \n",
            "  inflating: Plants_2/train/Pongamia Pinnata healthy (P7a)/0007_0029.JPG  \n",
            "  inflating: Plants_2/train/Pongamia Pinnata healthy (P7a)/0007_0030.JPG  \n",
            "  inflating: Plants_2/train/Pongamia Pinnata healthy (P7a)/0007_0031.JPG  \n",
            "  inflating: Plants_2/train/Pongamia Pinnata healthy (P7a)/0007_0032.JPG  \n",
            "  inflating: Plants_2/train/Pongamia Pinnata healthy (P7a)/0007_0033.JPG  \n",
            "  inflating: Plants_2/train/Pongamia Pinnata healthy (P7a)/0007_0034.JPG  \n",
            "  inflating: Plants_2/train/Pongamia Pinnata healthy (P7a)/0007_0035.JPG  \n",
            "  inflating: Plants_2/train/Pongamia Pinnata healthy (P7a)/0007_0036.JPG  \n",
            "  inflating: Plants_2/train/Pongamia Pinnata healthy (P7a)/0007_0037.JPG  \n",
            "  inflating: Plants_2/train/Pongamia Pinnata healthy (P7a)/0007_0038.JPG  \n",
            "  inflating: Plants_2/train/Pongamia Pinnata healthy (P7a)/0007_0039.JPG  \n",
            "  inflating: Plants_2/train/Pongamia Pinnata healthy (P7a)/0007_0040.JPG  \n",
            "  inflating: Plants_2/train/Pongamia Pinnata healthy (P7a)/0007_0041.JPG  \n",
            "  inflating: Plants_2/train/Pongamia Pinnata healthy (P7a)/0007_0042.JPG  \n",
            "  inflating: Plants_2/train/Pongamia Pinnata healthy (P7a)/0007_0043.JPG  \n",
            "  inflating: Plants_2/train/Pongamia Pinnata healthy (P7a)/0007_0044.JPG  \n",
            "  inflating: Plants_2/train/Pongamia Pinnata healthy (P7a)/0007_0045.JPG  \n",
            "  inflating: Plants_2/train/Pongamia Pinnata healthy (P7a)/0007_0046.JPG  \n",
            "  inflating: Plants_2/train/Pongamia Pinnata healthy (P7a)/0007_0047.JPG  \n",
            "  inflating: Plants_2/train/Pongamia Pinnata healthy (P7a)/0007_0048.JPG  \n",
            "  inflating: Plants_2/train/Pongamia Pinnata healthy (P7a)/0007_0049.JPG  \n",
            "  inflating: Plants_2/train/Pongamia Pinnata healthy (P7a)/0007_0050.JPG  \n",
            "  inflating: Plants_2/train/Pongamia Pinnata healthy (P7a)/0007_0051.JPG  \n",
            "  inflating: Plants_2/train/Pongamia Pinnata healthy (P7a)/0007_0052.JPG  \n",
            "  inflating: Plants_2/train/Pongamia Pinnata healthy (P7a)/0007_0053.JPG  \n",
            "  inflating: Plants_2/train/Pongamia Pinnata healthy (P7a)/0007_0054.JPG  \n",
            "  inflating: Plants_2/train/Pongamia Pinnata healthy (P7a)/0007_0055.JPG  \n",
            "  inflating: Plants_2/train/Pongamia Pinnata healthy (P7a)/0007_0056.JPG  \n",
            "  inflating: Plants_2/train/Pongamia Pinnata healthy (P7a)/0007_0057.JPG  \n",
            "  inflating: Plants_2/train/Pongamia Pinnata healthy (P7a)/0007_0058.JPG  \n",
            "  inflating: Plants_2/train/Pongamia Pinnata healthy (P7a)/0007_0059.JPG  \n",
            "  inflating: Plants_2/train/Pongamia Pinnata healthy (P7a)/0007_0060.JPG  \n",
            "  inflating: Plants_2/train/Pongamia Pinnata healthy (P7a)/0007_0061.JPG  \n",
            "  inflating: Plants_2/train/Pongamia Pinnata healthy (P7a)/0007_0062.JPG  \n",
            "  inflating: Plants_2/train/Pongamia Pinnata healthy (P7a)/0007_0063.JPG  \n",
            "  inflating: Plants_2/train/Pongamia Pinnata healthy (P7a)/0007_0064.JPG  \n",
            "  inflating: Plants_2/train/Pongamia Pinnata healthy (P7a)/0007_0065.JPG  \n",
            "  inflating: Plants_2/train/Pongamia Pinnata healthy (P7a)/0007_0066.JPG  \n",
            "  inflating: Plants_2/train/Pongamia Pinnata healthy (P7a)/0007_0067.JPG  \n",
            "  inflating: Plants_2/train/Pongamia Pinnata healthy (P7a)/0007_0068.JPG  \n",
            "  inflating: Plants_2/train/Pongamia Pinnata healthy (P7a)/0007_0069.JPG  \n",
            "  inflating: Plants_2/train/Pongamia Pinnata healthy (P7a)/0007_0070.JPG  \n",
            "  inflating: Plants_2/train/Pongamia Pinnata healthy (P7a)/0007_0071.JPG  \n",
            "  inflating: Plants_2/train/Pongamia Pinnata healthy (P7a)/0007_0072.JPG  \n",
            "  inflating: Plants_2/train/Pongamia Pinnata healthy (P7a)/0007_0073.JPG  \n",
            "  inflating: Plants_2/train/Pongamia Pinnata healthy (P7a)/0007_0074.JPG  \n",
            "  inflating: Plants_2/train/Pongamia Pinnata healthy (P7a)/0007_0075.JPG  \n",
            "  inflating: Plants_2/train/Pongamia Pinnata healthy (P7a)/0007_0076.JPG  \n",
            "  inflating: Plants_2/train/Pongamia Pinnata healthy (P7a)/0007_0077.JPG  \n",
            "  inflating: Plants_2/train/Pongamia Pinnata healthy (P7a)/0007_0078.JPG  \n",
            "  inflating: Plants_2/train/Pongamia Pinnata healthy (P7a)/0007_0079.JPG  \n",
            "  inflating: Plants_2/train/Pongamia Pinnata healthy (P7a)/0007_0080.JPG  \n",
            "  inflating: Plants_2/train/Pongamia Pinnata healthy (P7a)/0007_0091.JPG  \n",
            "  inflating: Plants_2/train/Pongamia Pinnata healthy (P7a)/0007_0092.JPG  \n",
            "  inflating: Plants_2/train/Pongamia Pinnata healthy (P7a)/0007_0093.JPG  \n",
            "  inflating: Plants_2/train/Pongamia Pinnata healthy (P7a)/0007_0094.JPG  \n",
            "  inflating: Plants_2/train/Pongamia Pinnata healthy (P7a)/0007_0095.JPG  \n",
            "  inflating: Plants_2/train/Pongamia Pinnata healthy (P7a)/0007_0096.JPG  \n",
            "  inflating: Plants_2/train/Pongamia Pinnata healthy (P7a)/0007_0097.JPG  \n",
            "  inflating: Plants_2/train/Pongamia Pinnata healthy (P7a)/0007_0098.JPG  \n",
            "  inflating: Plants_2/train/Pongamia Pinnata healthy (P7a)/0007_0099.JPG  \n",
            "  inflating: Plants_2/train/Pongamia Pinnata healthy (P7a)/0007_0100.JPG  \n",
            "  inflating: Plants_2/train/Pongamia Pinnata healthy (P7a)/0007_0101.JPG  \n",
            "  inflating: Plants_2/train/Pongamia Pinnata healthy (P7a)/0007_0102.JPG  \n",
            "  inflating: Plants_2/train/Pongamia Pinnata healthy (P7a)/0007_0103.JPG  \n",
            "  inflating: Plants_2/train/Pongamia Pinnata healthy (P7a)/0007_0104.JPG  \n",
            "  inflating: Plants_2/train/Pongamia Pinnata healthy (P7a)/0007_0105.JPG  \n",
            "  inflating: Plants_2/train/Pongamia Pinnata healthy (P7a)/0007_0106.JPG  \n",
            "  inflating: Plants_2/train/Pongamia Pinnata healthy (P7a)/0007_0107.JPG  \n",
            "  inflating: Plants_2/train/Pongamia Pinnata healthy (P7a)/0007_0108.JPG  \n",
            "  inflating: Plants_2/train/Pongamia Pinnata healthy (P7a)/0007_0109.JPG  \n",
            "  inflating: Plants_2/train/Pongamia Pinnata healthy (P7a)/0007_0110.JPG  \n",
            "  inflating: Plants_2/train/Pongamia Pinnata healthy (P7a)/0007_0111.JPG  \n",
            "  inflating: Plants_2/train/Pongamia Pinnata healthy (P7a)/0007_0112.JPG  \n",
            "  inflating: Plants_2/train/Pongamia Pinnata healthy (P7a)/0007_0113.JPG  \n",
            "  inflating: Plants_2/train/Pongamia Pinnata healthy (P7a)/0007_0114.JPG  \n",
            "  inflating: Plants_2/train/Pongamia Pinnata healthy (P7a)/0007_0115.JPG  \n",
            "  inflating: Plants_2/train/Pongamia Pinnata healthy (P7a)/0007_0116.JPG  \n",
            "  inflating: Plants_2/train/Pongamia Pinnata healthy (P7a)/0007_0117.JPG  \n",
            "  inflating: Plants_2/train/Pongamia Pinnata healthy (P7a)/0007_0118.JPG  \n",
            "  inflating: Plants_2/train/Pongamia Pinnata healthy (P7a)/0007_0119.JPG  \n",
            "  inflating: Plants_2/train/Pongamia Pinnata healthy (P7a)/0007_0120.JPG  \n",
            "  inflating: Plants_2/train/Pongamia Pinnata healthy (P7a)/0007_0121.JPG  \n",
            "  inflating: Plants_2/train/Pongamia Pinnata healthy (P7a)/0007_0122.JPG  \n",
            "  inflating: Plants_2/train/Pongamia Pinnata healthy (P7a)/0007_0123.JPG  \n",
            "  inflating: Plants_2/train/Pongamia Pinnata healthy (P7a)/0007_0124.JPG  \n",
            "  inflating: Plants_2/train/Pongamia Pinnata healthy (P7a)/0007_0125.JPG  \n",
            "  inflating: Plants_2/train/Pongamia Pinnata healthy (P7a)/0007_0126.JPG  \n",
            "  inflating: Plants_2/train/Pongamia Pinnata healthy (P7a)/0007_0127.JPG  \n",
            "  inflating: Plants_2/train/Pongamia Pinnata healthy (P7a)/0007_0128.JPG  \n",
            "  inflating: Plants_2/train/Pongamia Pinnata healthy (P7a)/0007_0129.JPG  \n",
            "  inflating: Plants_2/train/Pongamia Pinnata healthy (P7a)/0007_0130.JPG  \n",
            "  inflating: Plants_2/train/Pongamia Pinnata healthy (P7a)/0007_0131.JPG  \n",
            "  inflating: Plants_2/train/Pongamia Pinnata healthy (P7a)/0007_0132.JPG  \n",
            "  inflating: Plants_2/train/Pongamia Pinnata healthy (P7a)/0007_0133.JPG  \n",
            "  inflating: Plants_2/train/Pongamia Pinnata healthy (P7a)/0007_0134.JPG  \n",
            "  inflating: Plants_2/train/Pongamia Pinnata healthy (P7a)/0007_0135.JPG  \n",
            "  inflating: Plants_2/train/Pongamia Pinnata healthy (P7a)/0007_0136.JPG  \n",
            "  inflating: Plants_2/train/Pongamia Pinnata healthy (P7a)/0007_0137.JPG  \n",
            "  inflating: Plants_2/train/Pongamia Pinnata healthy (P7a)/0007_0138.JPG  \n",
            "  inflating: Plants_2/train/Pongamia Pinnata healthy (P7a)/0007_0139.JPG  \n",
            "  inflating: Plants_2/train/Pongamia Pinnata healthy (P7a)/0007_0140.JPG  \n",
            "  inflating: Plants_2/train/Pongamia Pinnata healthy (P7a)/0007_0141.JPG  \n",
            "  inflating: Plants_2/train/Pongamia Pinnata healthy (P7a)/0007_0142.JPG  \n",
            "  inflating: Plants_2/train/Pongamia Pinnata healthy (P7a)/0007_0143.JPG  \n",
            "  inflating: Plants_2/train/Pongamia Pinnata healthy (P7a)/0007_0144.JPG  \n",
            "  inflating: Plants_2/train/Pongamia Pinnata healthy (P7a)/0007_0145.JPG  \n",
            "  inflating: Plants_2/train/Pongamia Pinnata healthy (P7a)/0007_0146.JPG  \n",
            "  inflating: Plants_2/train/Pongamia Pinnata healthy (P7a)/0007_0147.JPG  \n",
            "  inflating: Plants_2/train/Pongamia Pinnata healthy (P7a)/0007_0148.JPG  \n",
            "  inflating: Plants_2/train/Pongamia Pinnata healthy (P7a)/0007_0149.JPG  \n",
            "  inflating: Plants_2/train/Pongamia Pinnata healthy (P7a)/0007_0150.JPG  \n",
            "  inflating: Plants_2/train/Pongamia Pinnata healthy (P7a)/0007_0151.JPG  \n",
            "  inflating: Plants_2/train/Pongamia Pinnata healthy (P7a)/0007_0152.JPG  \n",
            "  inflating: Plants_2/train/Pongamia Pinnata healthy (P7a)/0007_0153.JPG  \n",
            "  inflating: Plants_2/train/Pongamia Pinnata healthy (P7a)/0007_0154.JPG  \n",
            "  inflating: Plants_2/train/Pongamia Pinnata healthy (P7a)/0007_0155.JPG  \n",
            "  inflating: Plants_2/train/Pongamia Pinnata healthy (P7a)/0007_0156.JPG  \n",
            "  inflating: Plants_2/train/Pongamia Pinnata healthy (P7a)/0007_0157.JPG  \n",
            "  inflating: Plants_2/train/Pongamia Pinnata healthy (P7a)/0007_0158.JPG  \n",
            "  inflating: Plants_2/train/Pongamia Pinnata healthy (P7a)/0007_0159.JPG  \n",
            "  inflating: Plants_2/train/Pongamia Pinnata healthy (P7a)/0007_0160.JPG  \n",
            "  inflating: Plants_2/train/Pongamia Pinnata healthy (P7a)/0007_0161.JPG  \n",
            "  inflating: Plants_2/train/Pongamia Pinnata healthy (P7a)/0007_0162.JPG  \n",
            "  inflating: Plants_2/train/Pongamia Pinnata healthy (P7a)/0007_0163.JPG  \n",
            "  inflating: Plants_2/train/Pongamia Pinnata healthy (P7a)/0007_0164.JPG  \n",
            "  inflating: Plants_2/train/Pongamia Pinnata healthy (P7a)/0007_0165.JPG  \n",
            "  inflating: Plants_2/train/Pongamia Pinnata healthy (P7a)/0007_0166.JPG  \n",
            "  inflating: Plants_2/train/Pongamia Pinnata healthy (P7a)/0007_0167.JPG  \n",
            "  inflating: Plants_2/train/Pongamia Pinnata healthy (P7a)/0007_0168.JPG  \n",
            "  inflating: Plants_2/train/Pongamia Pinnata healthy (P7a)/0007_0169.JPG  \n",
            "  inflating: Plants_2/train/Pongamia Pinnata healthy (P7a)/0007_0170.JPG  \n",
            "  inflating: Plants_2/train/Pongamia Pinnata healthy (P7a)/0007_0171.JPG  \n",
            "  inflating: Plants_2/train/Pongamia Pinnata healthy (P7a)/0007_0172.JPG  \n",
            "  inflating: Plants_2/train/Pongamia Pinnata healthy (P7a)/0007_0173.JPG  \n",
            "  inflating: Plants_2/train/Pongamia Pinnata healthy (P7a)/0007_0174.JPG  \n",
            "  inflating: Plants_2/train/Pongamia Pinnata healthy (P7a)/0007_0175.JPG  \n",
            "  inflating: Plants_2/train/Pongamia Pinnata healthy (P7a)/0007_0176.JPG  \n",
            "  inflating: Plants_2/train/Pongamia Pinnata healthy (P7a)/0007_0177.JPG  \n",
            "  inflating: Plants_2/train/Pongamia Pinnata healthy (P7a)/0007_0178.JPG  \n",
            "  inflating: Plants_2/train/Pongamia Pinnata healthy (P7a)/0007_0179.JPG  \n",
            "  inflating: Plants_2/train/Pongamia Pinnata healthy (P7a)/0007_0180.JPG  \n",
            "  inflating: Plants_2/train/Pongamia Pinnata healthy (P7a)/0007_0181.JPG  \n",
            "  inflating: Plants_2/train/Pongamia Pinnata healthy (P7a)/0007_0182.JPG  \n",
            "  inflating: Plants_2/train/Pongamia Pinnata healthy (P7a)/0007_0183.JPG  \n",
            "  inflating: Plants_2/train/Pongamia Pinnata healthy (P7a)/0007_0184.JPG  \n",
            "  inflating: Plants_2/train/Pongamia Pinnata healthy (P7a)/0007_0185.JPG  \n",
            "  inflating: Plants_2/train/Pongamia Pinnata healthy (P7a)/0007_0186.JPG  \n",
            "  inflating: Plants_2/train/Pongamia Pinnata healthy (P7a)/0007_0187.JPG  \n",
            "  inflating: Plants_2/train/Pongamia Pinnata healthy (P7a)/0007_0188.JPG  \n",
            "  inflating: Plants_2/train/Pongamia Pinnata healthy (P7a)/0007_0189.JPG  \n",
            "  inflating: Plants_2/train/Pongamia Pinnata healthy (P7a)/0007_0190.JPG  \n",
            "  inflating: Plants_2/train/Pongamia Pinnata healthy (P7a)/0007_0191.JPG  \n",
            "  inflating: Plants_2/train/Pongamia Pinnata healthy (P7a)/0007_0192.JPG  \n",
            "  inflating: Plants_2/train/Pongamia Pinnata healthy (P7a)/0007_0193.JPG  \n",
            "  inflating: Plants_2/train/Pongamia Pinnata healthy (P7a)/0007_0194.JPG  \n",
            "  inflating: Plants_2/train/Pongamia Pinnata healthy (P7a)/0007_0195.JPG  \n",
            "  inflating: Plants_2/train/Pongamia Pinnata healthy (P7a)/0007_0196.JPG  \n",
            "  inflating: Plants_2/train/Pongamia Pinnata healthy (P7a)/0007_0197.JPG  \n",
            "  inflating: Plants_2/train/Pongamia Pinnata healthy (P7a)/0007_0198.JPG  \n",
            "  inflating: Plants_2/train/Pongamia Pinnata healthy (P7a)/0007_0199.JPG  \n",
            "  inflating: Plants_2/train/Pongamia Pinnata healthy (P7a)/0007_0200.JPG  \n",
            "  inflating: Plants_2/train/Pongamia Pinnata healthy (P7a)/0007_0201.JPG  \n",
            "  inflating: Plants_2/train/Pongamia Pinnata healthy (P7a)/0007_0202.JPG  \n",
            "  inflating: Plants_2/train/Pongamia Pinnata healthy (P7a)/0007_0203.JPG  \n",
            "  inflating: Plants_2/train/Pongamia Pinnata healthy (P7a)/0007_0204.JPG  \n",
            "  inflating: Plants_2/train/Pongamia Pinnata healthy (P7a)/0007_0205.JPG  \n",
            "  inflating: Plants_2/train/Pongamia Pinnata healthy (P7a)/0007_0206.JPG  \n",
            "  inflating: Plants_2/train/Pongamia Pinnata healthy (P7a)/0007_0207.JPG  \n",
            "  inflating: Plants_2/train/Pongamia Pinnata healthy (P7a)/0007_0208.JPG  \n",
            "  inflating: Plants_2/train/Pongamia Pinnata healthy (P7a)/0007_0209.JPG  \n",
            "  inflating: Plants_2/train/Pongamia Pinnata healthy (P7a)/0007_0210.JPG  \n",
            "  inflating: Plants_2/train/Pongamia Pinnata healthy (P7a)/0007_0211.JPG  \n",
            "  inflating: Plants_2/train/Pongamia Pinnata healthy (P7a)/0007_0212.JPG  \n",
            "  inflating: Plants_2/train/Pongamia Pinnata healthy (P7a)/0007_0213.JPG  \n",
            "  inflating: Plants_2/train/Pongamia Pinnata healthy (P7a)/0007_0214.JPG  \n",
            "  inflating: Plants_2/train/Pongamia Pinnata healthy (P7a)/0007_0215.JPG  \n",
            "  inflating: Plants_2/train/Pongamia Pinnata healthy (P7a)/0007_0216.JPG  \n",
            "  inflating: Plants_2/train/Pongamia Pinnata healthy (P7a)/0007_0217.JPG  \n",
            "  inflating: Plants_2/train/Pongamia Pinnata healthy (P7a)/0007_0218.JPG  \n",
            "  inflating: Plants_2/train/Pongamia Pinnata healthy (P7a)/0007_0219.JPG  \n",
            "  inflating: Plants_2/train/Pongamia Pinnata healthy (P7a)/0007_0220.JPG  \n",
            "  inflating: Plants_2/train/Pongamia Pinnata healthy (P7a)/0007_0221.JPG  \n",
            "  inflating: Plants_2/train/Pongamia Pinnata healthy (P7a)/0007_0222.JPG  \n",
            "  inflating: Plants_2/train/Pongamia Pinnata healthy (P7a)/0007_0223.JPG  \n",
            "  inflating: Plants_2/train/Pongamia Pinnata healthy (P7a)/0007_0224.JPG  \n",
            "  inflating: Plants_2/train/Pongamia Pinnata healthy (P7a)/0007_0225.JPG  \n",
            "  inflating: Plants_2/train/Pongamia Pinnata healthy (P7a)/0007_0226.JPG  \n",
            "  inflating: Plants_2/train/Pongamia Pinnata healthy (P7a)/0007_0227.JPG  \n",
            "  inflating: Plants_2/train/Pongamia Pinnata healthy (P7a)/0007_0228.JPG  \n",
            "  inflating: Plants_2/train/Pongamia Pinnata healthy (P7a)/0007_0229.JPG  \n",
            "  inflating: Plants_2/train/Pongamia Pinnata healthy (P7a)/0007_0230.JPG  \n",
            "  inflating: Plants_2/train/Pongamia Pinnata healthy (P7a)/0007_0231.JPG  \n",
            "  inflating: Plants_2/train/Pongamia Pinnata healthy (P7a)/0007_0232.JPG  \n",
            "  inflating: Plants_2/train/Pongamia Pinnata healthy (P7a)/0007_0233.JPG  \n",
            "  inflating: Plants_2/train/Pongamia Pinnata healthy (P7a)/0007_0234.JPG  \n",
            "  inflating: Plants_2/train/Pongamia Pinnata healthy (P7a)/0007_0235.JPG  \n",
            "  inflating: Plants_2/train/Pongamia Pinnata healthy (P7a)/0007_0236.JPG  \n",
            "  inflating: Plants_2/train/Pongamia Pinnata healthy (P7a)/0007_0237.JPG  \n",
            "  inflating: Plants_2/train/Pongamia Pinnata healthy (P7a)/0007_0238.JPG  \n",
            "  inflating: Plants_2/train/Pongamia Pinnata healthy (P7a)/0007_0239.JPG  \n",
            "  inflating: Plants_2/train/Pongamia Pinnata healthy (P7a)/0007_0240.JPG  \n",
            "  inflating: Plants_2/train/Pongamia Pinnata healthy (P7a)/0007_0241.JPG  \n",
            "  inflating: Plants_2/train/Pongamia Pinnata healthy (P7a)/0007_0242.JPG  \n",
            "  inflating: Plants_2/train/Pongamia Pinnata healthy (P7a)/0007_0243.JPG  \n",
            "  inflating: Plants_2/train/Pongamia Pinnata healthy (P7a)/0007_0244.JPG  \n",
            "  inflating: Plants_2/train/Pongamia Pinnata healthy (P7a)/0007_0245.JPG  \n",
            "  inflating: Plants_2/train/Pongamia Pinnata healthy (P7a)/0007_0246.JPG  \n",
            "  inflating: Plants_2/train/Pongamia Pinnata healthy (P7a)/0007_0247.JPG  \n",
            "  inflating: Plants_2/train/Pongamia Pinnata healthy (P7a)/0007_0248.JPG  \n",
            "  inflating: Plants_2/train/Pongamia Pinnata healthy (P7a)/0007_0249.JPG  \n",
            "  inflating: Plants_2/train/Pongamia Pinnata healthy (P7a)/0007_0250.JPG  \n",
            "  inflating: Plants_2/train/Pongamia Pinnata healthy (P7a)/0007_0251.JPG  \n",
            "  inflating: Plants_2/train/Pongamia Pinnata healthy (P7a)/0007_0252.JPG  \n",
            "  inflating: Plants_2/train/Pongamia Pinnata healthy (P7a)/0007_0253.JPG  \n",
            "  inflating: Plants_2/train/Pongamia Pinnata healthy (P7a)/0007_0254.JPG  \n",
            "  inflating: Plants_2/train/Pongamia Pinnata healthy (P7a)/0007_0255.JPG  \n",
            "  inflating: Plants_2/train/Pongamia Pinnata healthy (P7a)/0007_0256.JPG  \n",
            "  inflating: Plants_2/train/Pongamia Pinnata healthy (P7a)/0007_0257.JPG  \n",
            "  inflating: Plants_2/train/Pongamia Pinnata healthy (P7a)/0007_0258.JPG  \n",
            "  inflating: Plants_2/train/Pongamia Pinnata healthy (P7a)/0007_0259.JPG  \n",
            "  inflating: Plants_2/train/Pongamia Pinnata healthy (P7a)/0007_0260.JPG  \n",
            "  inflating: Plants_2/train/Pongamia Pinnata healthy (P7a)/0007_0261.JPG  \n",
            "  inflating: Plants_2/train/Pongamia Pinnata healthy (P7a)/0007_0262.JPG  \n",
            "  inflating: Plants_2/train/Pongamia Pinnata healthy (P7a)/0007_0263.JPG  \n",
            "  inflating: Plants_2/train/Pongamia Pinnata healthy (P7a)/0007_0264.JPG  \n",
            "  inflating: Plants_2/train/Pongamia Pinnata healthy (P7a)/0007_0265.JPG  \n",
            "  inflating: Plants_2/train/Pongamia Pinnata healthy (P7a)/0007_0266.JPG  \n",
            "  inflating: Plants_2/train/Pongamia Pinnata healthy (P7a)/0007_0267.JPG  \n",
            "  inflating: Plants_2/train/Pongamia Pinnata healthy (P7a)/0007_0268.JPG  \n",
            "  inflating: Plants_2/train/Pongamia Pinnata healthy (P7a)/0007_0269.JPG  \n",
            "  inflating: Plants_2/train/Pongamia Pinnata healthy (P7a)/0007_0270.JPG  \n",
            "  inflating: Plants_2/train/Pongamia Pinnata healthy (P7a)/0007_0271.JPG  \n",
            "  inflating: Plants_2/train/Pongamia Pinnata healthy (P7a)/0007_0272.JPG  \n",
            "  inflating: Plants_2/train/Pongamia Pinnata healthy (P7a)/0007_0273.JPG  \n",
            "  inflating: Plants_2/train/Pongamia Pinnata healthy (P7a)/0007_0274.JPG  \n",
            "  inflating: Plants_2/train/Pongamia Pinnata healthy (P7a)/0007_0275.JPG  \n",
            "  inflating: Plants_2/train/Pongamia Pinnata healthy (P7a)/0007_0276.JPG  \n",
            "  inflating: Plants_2/train/Pongamia Pinnata healthy (P7a)/0007_0277.JPG  \n",
            "  inflating: Plants_2/train/Pongamia Pinnata healthy (P7a)/0007_0278.JPG  \n",
            "  inflating: Plants_2/train/Pongamia Pinnata healthy (P7a)/0007_0279.JPG  \n",
            "  inflating: Plants_2/train/Pongamia Pinnata healthy (P7a)/0007_0280.JPG  \n",
            "  inflating: Plants_2/train/Pongamia Pinnata healthy (P7a)/0007_0281.JPG  \n",
            "  inflating: Plants_2/train/Pongamia Pinnata healthy (P7a)/0007_0282.JPG  \n",
            "  inflating: Plants_2/train/Pongamia Pinnata healthy (P7a)/0007_0283.JPG  \n",
            "  inflating: Plants_2/train/Pongamia Pinnata healthy (P7a)/0007_0284.JPG  \n",
            "  inflating: Plants_2/train/Pongamia Pinnata healthy (P7a)/0007_0285.JPG  \n",
            "  inflating: Plants_2/train/Pongamia Pinnata healthy (P7a)/0007_0286.JPG  \n",
            "  inflating: Plants_2/train/Pongamia Pinnata healthy (P7a)/0007_0287.JPG  \n",
            "  inflating: Plants_2/train/Pongamia Pinnata healthy (P7a)/0007_0288.JPG  \n",
            "  inflating: Plants_2/train/Pongamia Pinnata healthy (P7a)/0007_0289.JPG  \n",
            "  inflating: Plants_2/train/Pongamia Pinnata healthy (P7a)/0007_0290.JPG  \n",
            "  inflating: Plants_2/train/Pongamia Pinnata healthy (P7a)/0007_0291.JPG  \n",
            "  inflating: Plants_2/train/Pongamia Pinnata healthy (P7a)/0007_0292.JPG  \n",
            "  inflating: Plants_2/train/Pongamia Pinnata healthy (P7a)/0007_0293.JPG  \n",
            "  inflating: Plants_2/train/Pongamia Pinnata healthy (P7a)/0007_0294.JPG  \n",
            "  inflating: Plants_2/train/Pongamia Pinnata healthy (P7a)/0007_0295.JPG  \n",
            "  inflating: Plants_2/train/Pongamia Pinnata healthy (P7a)/0007_0296.JPG  \n",
            "  inflating: Plants_2/train/Pongamia Pinnata healthy (P7a)/0007_0297.JPG  \n",
            "  inflating: Plants_2/train/Pongamia Pinnata healthy (P7a)/0007_0298.JPG  \n",
            "  inflating: Plants_2/train/Pongamia Pinnata healthy (P7a)/0007_0299.JPG  \n",
            "  inflating: Plants_2/train/Pongamia Pinnata healthy (P7a)/0007_0300.JPG  \n",
            "  inflating: Plants_2/train/Pongamia Pinnata healthy (P7a)/0007_0301.JPG  \n",
            "  inflating: Plants_2/train/Pongamia Pinnata healthy (P7a)/0007_0302.JPG  \n",
            "  inflating: Plants_2/train/Pongamia Pinnata healthy (P7a)/0007_0303.JPG  \n",
            "  inflating: Plants_2/train/Pongamia Pinnata healthy (P7a)/0007_0304.JPG  \n",
            "  inflating: Plants_2/train/Pongamia Pinnata healthy (P7a)/0007_0305.JPG  \n",
            "  inflating: Plants_2/train/Pongamia Pinnata healthy (P7a)/0007_0306.JPG  \n",
            "  inflating: Plants_2/train/Pongamia Pinnata healthy (P7a)/0007_0307.JPG  \n",
            "  inflating: Plants_2/train/Pongamia Pinnata healthy (P7a)/0007_0308.JPG  \n",
            "  inflating: Plants_2/train/Pongamia Pinnata healthy (P7a)/0007_0309.JPG  \n",
            "  inflating: Plants_2/train/Pongamia Pinnata healthy (P7a)/0007_0310.JPG  \n",
            "  inflating: Plants_2/train/Pongamia Pinnata healthy (P7a)/0007_0311.JPG  \n",
            "  inflating: Plants_2/train/Pongamia Pinnata healthy (P7a)/0007_0312.JPG  \n",
            "  inflating: Plants_2/train/Pongamia Pinnata healthy (P7a)/0007_0313.JPG  \n",
            "  inflating: Plants_2/train/Pongamia Pinnata healthy (P7a)/0007_0314.JPG  \n",
            "  inflating: Plants_2/train/Pongamia Pinnata healthy (P7a)/0007_0315.JPG  \n",
            "  inflating: Plants_2/train/Pongamia Pinnata healthy (P7a)/0007_0316.JPG  \n",
            "  inflating: Plants_2/train/Pongamia Pinnata healthy (P7a)/0007_0317.JPG  \n",
            "  inflating: Plants_2/train/Pongamia Pinnata healthy (P7a)/0007_0318.JPG  \n",
            "  inflating: Plants_2/train/Pongamia Pinnata healthy (P7a)/0007_0319.JPG  \n",
            "  inflating: Plants_2/train/Pongamia Pinnata healthy (P7a)/0007_0320.JPG  \n",
            "  inflating: Plants_2/train/Pongamia Pinnata healthy (P7a)/0007_0321.JPG  \n",
            "  inflating: Plants_2/train/Pongamia Pinnata healthy (P7a)/0007_0322.JPG  \n",
            "  inflating: Plants_2/train/Pongamia Pinnata healthy (P7a)/0007_0323.JPG  \n",
            "  inflating: Plants_2/train/Pongamia Pinnata healthy (P7a)/0007_0324.JPG  \n",
            "  inflating: Plants_2/train/Pongamia Pinnata healthy (P7a)/0007_0325.JPG  \n",
            "  inflating: Plants_2/train/Pongamia Pinnata healthy (P7a)/0007_0326.JPG  \n",
            "  inflating: Plants_2/train/Pongamia Pinnata healthy (P7a)/0007_0327.JPG  \n",
            "  inflating: Plants_2/train/Pongamia Pinnata healthy (P7a)/0007_0328.JPG  \n",
            "  inflating: Plants_2/train/Pongamia Pinnata healthy (P7a)/0007_0329.JPG  \n",
            "  inflating: Plants_2/train/Pongamia Pinnata healthy (P7a)/0007_0330.JPG  \n",
            "  inflating: Plants_2/train/Pongamia Pinnata healthy (P7a)/0007_0331.JPG  \n",
            "  inflating: Plants_2/train/Pongamia Pinnata healthy (P7a)/0007_0332.JPG  \n",
            "  inflating: Plants_2/valid/Alstonia Scholaris diseased (P2a)/0014_0001.JPG  \n",
            "  inflating: Plants_2/valid/Alstonia Scholaris diseased (P2a)/0014_0002.JPG  \n",
            "  inflating: Plants_2/valid/Alstonia Scholaris diseased (P2a)/0014_0003.JPG  \n",
            "  inflating: Plants_2/valid/Alstonia Scholaris diseased (P2a)/0014_0004.JPG  \n",
            "  inflating: Plants_2/valid/Alstonia Scholaris diseased (P2a)/0014_0005.JPG  \n",
            "  inflating: Plants_2/valid/Alstonia Scholaris healthy (P2b)/0003_0001.JPG  \n",
            "  inflating: Plants_2/valid/Alstonia Scholaris healthy (P2b)/0003_0002.JPG  \n",
            "  inflating: Plants_2/valid/Alstonia Scholaris healthy (P2b)/0003_0003.JPG  \n",
            "  inflating: Plants_2/valid/Alstonia Scholaris healthy (P2b)/0003_0004.JPG  \n",
            "  inflating: Plants_2/valid/Alstonia Scholaris healthy (P2b)/0003_0005.JPG  \n",
            "  inflating: Plants_2/valid/Arjun diseased (P1a)/0013_0001.JPG  \n",
            "  inflating: Plants_2/valid/Arjun diseased (P1a)/0013_0002.JPG  \n",
            "  inflating: Plants_2/valid/Arjun diseased (P1a)/0013_0003.JPG  \n",
            "  inflating: Plants_2/valid/Arjun diseased (P1a)/0013_0004.JPG  \n",
            "  inflating: Plants_2/valid/Arjun diseased (P1a)/0013_0005.JPG  \n",
            "  inflating: Plants_2/valid/Arjun healthy (P1b)/0002_0001.JPG  \n",
            "  inflating: Plants_2/valid/Arjun healthy (P1b)/0002_0002.JPG  \n",
            "  inflating: Plants_2/valid/Arjun healthy (P1b)/0002_0003.JPG  \n",
            "  inflating: Plants_2/valid/Arjun healthy (P1b)/0002_0004.JPG  \n",
            "  inflating: Plants_2/valid/Arjun healthy (P1b)/0002_0005.JPG  \n",
            "  inflating: Plants_2/valid/Bael diseased (P4b)/0016_0001.JPG  \n",
            "  inflating: Plants_2/valid/Bael diseased (P4b)/0016_0002.JPG  \n",
            "  inflating: Plants_2/valid/Bael diseased (P4b)/0016_0003.JPG  \n",
            "  inflating: Plants_2/valid/Bael diseased (P4b)/0016_0004.JPG  \n",
            "  inflating: Plants_2/valid/Bael diseased (P4b)/0016_0005.JPG  \n",
            "  inflating: Plants_2/valid/Basil healthy (P8)/0008_0006.JPG  \n",
            "  inflating: Plants_2/valid/Basil healthy (P8)/0008_0007.JPG  \n",
            "  inflating: Plants_2/valid/Basil healthy (P8)/0008_0008.JPG  \n",
            "  inflating: Plants_2/valid/Basil healthy (P8)/0008_0009.JPG  \n",
            "  inflating: Plants_2/valid/Basil healthy (P8)/0008_0010.JPG  \n",
            "  inflating: Plants_2/valid/Chinar diseased (P11b)/0022_0001.JPG  \n",
            "  inflating: Plants_2/valid/Chinar diseased (P11b)/0022_0002.JPG  \n",
            "  inflating: Plants_2/valid/Chinar diseased (P11b)/0022_0003.JPG  \n",
            "  inflating: Plants_2/valid/Chinar diseased (P11b)/0022_0004.JPG  \n",
            "  inflating: Plants_2/valid/Chinar diseased (P11b)/0022_0005.JPG  \n",
            "  inflating: Plants_2/valid/Chinar healthy (P11a)/0011_0001.JPG  \n",
            "  inflating: Plants_2/valid/Chinar healthy (P11a)/0011_0002.JPG  \n",
            "  inflating: Plants_2/valid/Chinar healthy (P11a)/0011_0003.JPG  \n",
            "  inflating: Plants_2/valid/Chinar healthy (P11a)/0011_0004.JPG  \n",
            "  inflating: Plants_2/valid/Chinar healthy (P11a)/0011_0005.JPG  \n",
            "  inflating: Plants_2/valid/Gauva diseased (P3b)/0015_0006.JPG  \n",
            "  inflating: Plants_2/valid/Gauva diseased (P3b)/0015_0007.JPG  \n",
            "  inflating: Plants_2/valid/Gauva diseased (P3b)/0015_0008.JPG  \n",
            "  inflating: Plants_2/valid/Gauva diseased (P3b)/0015_0009.JPG  \n",
            "  inflating: Plants_2/valid/Gauva diseased (P3b)/0015_0010.JPG  \n",
            "  inflating: Plants_2/valid/Gauva healthy (P3a)/0004_0001.JPG  \n",
            "  inflating: Plants_2/valid/Gauva healthy (P3a)/0004_0002.JPG  \n",
            "  inflating: Plants_2/valid/Gauva healthy (P3a)/0004_0003.JPG  \n",
            "  inflating: Plants_2/valid/Gauva healthy (P3a)/0004_0004.JPG  \n",
            "  inflating: Plants_2/valid/Gauva healthy (P3a)/0004_0005.JPG  \n",
            "  inflating: Plants_2/valid/Jamun diseased (P5b)/0017_0001.JPG  \n",
            "  inflating: Plants_2/valid/Jamun diseased (P5b)/0017_0002.JPG  \n",
            "  inflating: Plants_2/valid/Jamun diseased (P5b)/0017_0003.JPG  \n",
            "  inflating: Plants_2/valid/Jamun diseased (P5b)/0017_0004.JPG  \n",
            "  inflating: Plants_2/valid/Jamun diseased (P5b)/0017_0005.JPG  \n",
            "  inflating: Plants_2/valid/Jamun healthy (P5a)/0005_0006.JPG  \n",
            "  inflating: Plants_2/valid/Jamun healthy (P5a)/0005_0007.JPG  \n",
            "  inflating: Plants_2/valid/Jamun healthy (P5a)/0005_0008.JPG  \n",
            "  inflating: Plants_2/valid/Jamun healthy (P5a)/0005_0009.JPG  \n",
            "  inflating: Plants_2/valid/Jamun healthy (P5a)/0005_0010.JPG  \n",
            "  inflating: Plants_2/valid/Jatropha diseased (P6b)/0018_0006.JPG  \n",
            "  inflating: Plants_2/valid/Jatropha diseased (P6b)/0018_0007.JPG  \n",
            "  inflating: Plants_2/valid/Jatropha diseased (P6b)/0018_0008.JPG  \n",
            "  inflating: Plants_2/valid/Jatropha diseased (P6b)/0018_0009.JPG  \n",
            "  inflating: Plants_2/valid/Jatropha diseased (P6b)/0018_0010.JPG  \n",
            "  inflating: Plants_2/valid/Jatropha healthy (P6a)/0006_0006.JPG  \n",
            "  inflating: Plants_2/valid/Jatropha healthy (P6a)/0006_0007.JPG  \n",
            "  inflating: Plants_2/valid/Jatropha healthy (P6a)/0006_0008.JPG  \n",
            "  inflating: Plants_2/valid/Jatropha healthy (P6a)/0006_0009.JPG  \n",
            "  inflating: Plants_2/valid/Jatropha healthy (P6a)/0006_0010.JPG  \n",
            "  inflating: Plants_2/valid/Lemon diseased (P10b)/0021_0006.JPG  \n",
            "  inflating: Plants_2/valid/Lemon diseased (P10b)/0021_0007.JPG  \n",
            "  inflating: Plants_2/valid/Lemon diseased (P10b)/0021_0008.JPG  \n",
            "  inflating: Plants_2/valid/Lemon diseased (P10b)/0021_0009.JPG  \n",
            "  inflating: Plants_2/valid/Lemon diseased (P10b)/0021_0010.JPG  \n",
            "  inflating: Plants_2/valid/Lemon healthy (P10a)/0010_0006.JPG  \n",
            "  inflating: Plants_2/valid/Lemon healthy (P10a)/0010_0007.JPG  \n",
            "  inflating: Plants_2/valid/Lemon healthy (P10a)/0010_0008.JPG  \n",
            "  inflating: Plants_2/valid/Lemon healthy (P10a)/0010_0009.JPG  \n",
            "  inflating: Plants_2/valid/Lemon healthy (P10a)/0010_0010.JPG  \n",
            "  inflating: Plants_2/valid/Mango diseased (P0b)/0012_0006.JPG  \n",
            "  inflating: Plants_2/valid/Mango diseased (P0b)/0012_0007.JPG  \n",
            "  inflating: Plants_2/valid/Mango diseased (P0b)/0012_0008.JPG  \n",
            "  inflating: Plants_2/valid/Mango diseased (P0b)/0012_0009.JPG  \n",
            "  inflating: Plants_2/valid/Mango diseased (P0b)/0012_0010.JPG  \n",
            "  inflating: Plants_2/valid/Mango healthy (P0a)/0001_0006.JPG  \n",
            "  inflating: Plants_2/valid/Mango healthy (P0a)/0001_0007.JPG  \n",
            "  inflating: Plants_2/valid/Mango healthy (P0a)/0001_0008.JPG  \n",
            "  inflating: Plants_2/valid/Mango healthy (P0a)/0001_0009.JPG  \n",
            "  inflating: Plants_2/valid/Mango healthy (P0a)/0001_0010.JPG  \n",
            "  inflating: Plants_2/valid/Pomegranate diseased (P9b)/0020_0006.JPG  \n",
            "  inflating: Plants_2/valid/Pomegranate diseased (P9b)/0020_0007.JPG  \n",
            "  inflating: Plants_2/valid/Pomegranate diseased (P9b)/0020_0008.JPG  \n",
            "  inflating: Plants_2/valid/Pomegranate diseased (P9b)/0020_0009.JPG  \n",
            "  inflating: Plants_2/valid/Pomegranate diseased (P9b)/0020_0010.JPG  \n",
            "  inflating: Plants_2/valid/Pomegranate healthy (P9a)/0009_0006.JPG  \n",
            "  inflating: Plants_2/valid/Pomegranate healthy (P9a)/0009_0007.JPG  \n",
            "  inflating: Plants_2/valid/Pomegranate healthy (P9a)/0009_0008.JPG  \n",
            "  inflating: Plants_2/valid/Pomegranate healthy (P9a)/0009_0009.JPG  \n",
            "  inflating: Plants_2/valid/Pomegranate healthy (P9a)/0009_0010.JPG  \n",
            "  inflating: Plants_2/valid/Pongamia Pinnata diseased (P7b)/0019_0006.JPG  \n",
            "  inflating: Plants_2/valid/Pongamia Pinnata diseased (P7b)/0019_0007.JPG  \n",
            "  inflating: Plants_2/valid/Pongamia Pinnata diseased (P7b)/0019_0008.JPG  \n",
            "  inflating: Plants_2/valid/Pongamia Pinnata diseased (P7b)/0019_0009.JPG  \n",
            "  inflating: Plants_2/valid/Pongamia Pinnata diseased (P7b)/0019_0010.JPG  \n",
            "  inflating: Plants_2/valid/Pongamia Pinnata healthy (P7a)/0007_0006.JPG  \n",
            "  inflating: Plants_2/valid/Pongamia Pinnata healthy (P7a)/0007_0007.JPG  \n",
            "  inflating: Plants_2/valid/Pongamia Pinnata healthy (P7a)/0007_0008.JPG  \n",
            "  inflating: Plants_2/valid/Pongamia Pinnata healthy (P7a)/0007_0009.JPG  \n",
            "  inflating: Plants_2/valid/Pongamia Pinnata healthy (P7a)/0007_0010.JPG  \n"
          ]
        }
      ]
    },
    {
      "cell_type": "markdown",
      "source": [
        "## Pre-processing"
      ],
      "metadata": {
        "id": "Rp_Xv8_fQ4sB"
      }
    },
    {
      "cell_type": "code",
      "source": [
        "from PIL import Image\n",
        "import matplotlib.pyplot as plt\n",
        "from skimage.transform import resize\n",
        "import numpy as np\n",
        "from tqdm import tqdm\n",
        "\n",
        "#access to the folder of imgs and labels\n",
        "img_names = np.array(list(glob('./Plants_2/*/*/*')))\n",
        "\n",
        "loaded_imgs = [] #images\n",
        "loaded_labels = [] #names of plants species\n",
        "loaded_modes = [] #train/valid/test\n",
        "print(f\"{len(img_names)=}\") #4494\n",
        "for img_name in tqdm(img_names):\n",
        "\n",
        "  img = np.array(\n",
        "      Image.open(img_name).convert('L') #grey scale from PIL library\n",
        "  )\n",
        "  resize_factor = 30\n",
        "  new_shape = (np.array(img.shape) / resize_factor).astype(int)\n",
        "  img_resized = resize(img, new_shape)\n",
        "  img_cropped = img_resized[\n",
        "      400// resize_factor:-400//resize_factor,\n",
        "      400//resize_factor:-400//resize_factor\n",
        "  ]\n",
        "  img = img_cropped\n",
        "  img = t.from_numpy(img) #convert img into tensor\n",
        "  \n",
        "  label = img_name.split('/')[-2].split(' ')[0] #plant name\n",
        "  mode = img_name.split('/')[2] #train/valid/test\n",
        "  loaded_imgs.append(img)\n",
        "  loaded_labels.append(label)\n",
        "  #if mode != 'train':\n",
        "    #print(mode)\n",
        "  loaded_modes.append(mode)\n",
        "\n",
        "print(f\"Train: {len([l for l in loaded_modes if l == 'train'])}\") #4274\n",
        "print(f\"Test: {len([l for l in loaded_modes if l == 'test'])}\") #110\n",
        "print(f\"Valid: {len([l for l in loaded_modes if l == 'valid'])}\") #110"
      ],
      "metadata": {
        "colab": {
          "base_uri": "https://localhost:8080/",
          "height": 432
        },
        "id": "6DAlRdYgNHk_",
        "outputId": "3a2a6131-d822-4dea-9ea9-f60b2dba8c4c"
      },
      "execution_count": null,
      "outputs": [
        {
          "output_type": "stream",
          "name": "stdout",
          "text": [
            "len(img_names)=4494\n"
          ]
        },
        {
          "output_type": "stream",
          "name": "stderr",
          "text": [
            "  0%|          | 9/4494 [00:53<7:21:17,  5.90s/it]\n"
          ]
        },
        {
          "output_type": "error",
          "ename": "KeyboardInterrupt",
          "evalue": "ignored",
          "traceback": [
            "\u001b[0;31m---------------------------------------------------------------------------\u001b[0m",
            "\u001b[0;31mKeyboardInterrupt\u001b[0m                         Traceback (most recent call last)",
            "\u001b[0;32m<ipython-input-6-f2790b111814>\u001b[0m in \u001b[0;36m<module>\u001b[0;34m\u001b[0m\n\u001b[1;32m     19\u001b[0m   \u001b[0mresize_factor\u001b[0m \u001b[0;34m=\u001b[0m \u001b[0;36m30\u001b[0m\u001b[0;34m\u001b[0m\u001b[0;34m\u001b[0m\u001b[0m\n\u001b[1;32m     20\u001b[0m   \u001b[0mnew_shape\u001b[0m \u001b[0;34m=\u001b[0m \u001b[0;34m(\u001b[0m\u001b[0mnp\u001b[0m\u001b[0;34m.\u001b[0m\u001b[0marray\u001b[0m\u001b[0;34m(\u001b[0m\u001b[0mimg\u001b[0m\u001b[0;34m.\u001b[0m\u001b[0mshape\u001b[0m\u001b[0;34m)\u001b[0m \u001b[0;34m/\u001b[0m \u001b[0mresize_factor\u001b[0m\u001b[0;34m)\u001b[0m\u001b[0;34m.\u001b[0m\u001b[0mastype\u001b[0m\u001b[0;34m(\u001b[0m\u001b[0mint\u001b[0m\u001b[0;34m)\u001b[0m\u001b[0;34m\u001b[0m\u001b[0;34m\u001b[0m\u001b[0m\n\u001b[0;32m---> 21\u001b[0;31m   \u001b[0mimg_resized\u001b[0m \u001b[0;34m=\u001b[0m \u001b[0mresize\u001b[0m\u001b[0;34m(\u001b[0m\u001b[0mimg\u001b[0m\u001b[0;34m,\u001b[0m \u001b[0mnew_shape\u001b[0m\u001b[0;34m)\u001b[0m\u001b[0;34m\u001b[0m\u001b[0;34m\u001b[0m\u001b[0m\n\u001b[0m\u001b[1;32m     22\u001b[0m   img_cropped = img_resized[\n\u001b[1;32m     23\u001b[0m       \u001b[0;36m400\u001b[0m\u001b[0;34m//\u001b[0m \u001b[0mresize_factor\u001b[0m\u001b[0;34m:\u001b[0m\u001b[0;34m-\u001b[0m\u001b[0;36m400\u001b[0m\u001b[0;34m//\u001b[0m\u001b[0mresize_factor\u001b[0m\u001b[0;34m,\u001b[0m\u001b[0;34m\u001b[0m\u001b[0;34m\u001b[0m\u001b[0m\n",
            "\u001b[0;32m/usr/local/lib/python3.9/dist-packages/skimage/transform/_warps.py\u001b[0m in \u001b[0;36mresize\u001b[0;34m(image, output_shape, order, mode, cval, clip, preserve_range, anti_aliasing, anti_aliasing_sigma)\u001b[0m\n\u001b[1;32m    179\u001b[0m                 warn(\"Anti-aliasing standard deviation greater than zero but \"\n\u001b[1;32m    180\u001b[0m                      \"not down-sampling along all axes\")\n\u001b[0;32m--> 181\u001b[0;31m         image = ndi.gaussian_filter(image, anti_aliasing_sigma,\n\u001b[0m\u001b[1;32m    182\u001b[0m                                     cval=cval, mode=ndi_mode)\n\u001b[1;32m    183\u001b[0m \u001b[0;34m\u001b[0m\u001b[0m\n",
            "\u001b[0;32m/usr/local/lib/python3.9/dist-packages/scipy/ndimage/_filters.py\u001b[0m in \u001b[0;36mgaussian_filter\u001b[0;34m(input, sigma, order, output, mode, cval, truncate, radius)\u001b[0m\n\u001b[1;32m    366\u001b[0m     \u001b[0;32mif\u001b[0m \u001b[0mlen\u001b[0m\u001b[0;34m(\u001b[0m\u001b[0maxes\u001b[0m\u001b[0;34m)\u001b[0m \u001b[0;34m>\u001b[0m \u001b[0;36m0\u001b[0m\u001b[0;34m:\u001b[0m\u001b[0;34m\u001b[0m\u001b[0;34m\u001b[0m\u001b[0m\n\u001b[1;32m    367\u001b[0m         \u001b[0;32mfor\u001b[0m \u001b[0maxis\u001b[0m\u001b[0;34m,\u001b[0m \u001b[0msigma\u001b[0m\u001b[0;34m,\u001b[0m \u001b[0morder\u001b[0m\u001b[0;34m,\u001b[0m \u001b[0mmode\u001b[0m\u001b[0;34m,\u001b[0m \u001b[0mradius\u001b[0m \u001b[0;32min\u001b[0m \u001b[0maxes\u001b[0m\u001b[0;34m:\u001b[0m\u001b[0;34m\u001b[0m\u001b[0;34m\u001b[0m\u001b[0m\n\u001b[0;32m--> 368\u001b[0;31m             gaussian_filter1d(input, sigma, axis, order, output,\n\u001b[0m\u001b[1;32m    369\u001b[0m                               mode, cval, truncate, radius=radius)\n\u001b[1;32m    370\u001b[0m             \u001b[0minput\u001b[0m \u001b[0;34m=\u001b[0m \u001b[0moutput\u001b[0m\u001b[0;34m\u001b[0m\u001b[0;34m\u001b[0m\u001b[0m\n",
            "\u001b[0;32m/usr/local/lib/python3.9/dist-packages/scipy/ndimage/_filters.py\u001b[0m in \u001b[0;36mgaussian_filter1d\u001b[0;34m(input, sigma, axis, order, output, mode, cval, truncate, radius)\u001b[0m\n\u001b[1;32m    274\u001b[0m     \u001b[0;31m# Since we are calling correlate, not convolve, revert the kernel\u001b[0m\u001b[0;34m\u001b[0m\u001b[0;34m\u001b[0m\u001b[0m\n\u001b[1;32m    275\u001b[0m     \u001b[0mweights\u001b[0m \u001b[0;34m=\u001b[0m \u001b[0m_gaussian_kernel1d\u001b[0m\u001b[0;34m(\u001b[0m\u001b[0msigma\u001b[0m\u001b[0;34m,\u001b[0m \u001b[0morder\u001b[0m\u001b[0;34m,\u001b[0m \u001b[0mlw\u001b[0m\u001b[0;34m)\u001b[0m\u001b[0;34m[\u001b[0m\u001b[0;34m:\u001b[0m\u001b[0;34m:\u001b[0m\u001b[0;34m-\u001b[0m\u001b[0;36m1\u001b[0m\u001b[0;34m]\u001b[0m\u001b[0;34m\u001b[0m\u001b[0;34m\u001b[0m\u001b[0m\n\u001b[0;32m--> 276\u001b[0;31m     \u001b[0;32mreturn\u001b[0m \u001b[0mcorrelate1d\u001b[0m\u001b[0;34m(\u001b[0m\u001b[0minput\u001b[0m\u001b[0;34m,\u001b[0m \u001b[0mweights\u001b[0m\u001b[0;34m,\u001b[0m \u001b[0maxis\u001b[0m\u001b[0;34m,\u001b[0m \u001b[0moutput\u001b[0m\u001b[0;34m,\u001b[0m \u001b[0mmode\u001b[0m\u001b[0;34m,\u001b[0m \u001b[0mcval\u001b[0m\u001b[0;34m,\u001b[0m \u001b[0;36m0\u001b[0m\u001b[0;34m)\u001b[0m\u001b[0;34m\u001b[0m\u001b[0;34m\u001b[0m\u001b[0m\n\u001b[0m\u001b[1;32m    277\u001b[0m \u001b[0;34m\u001b[0m\u001b[0m\n\u001b[1;32m    278\u001b[0m \u001b[0;34m\u001b[0m\u001b[0m\n",
            "\u001b[0;32m/usr/local/lib/python3.9/dist-packages/scipy/ndimage/_filters.py\u001b[0m in \u001b[0;36mcorrelate1d\u001b[0;34m(input, weights, axis, output, mode, cval, origin)\u001b[0m\n\u001b[1;32m    132\u001b[0m                          '(len(weights)-1) // 2')\n\u001b[1;32m    133\u001b[0m     \u001b[0mmode\u001b[0m \u001b[0;34m=\u001b[0m \u001b[0m_ni_support\u001b[0m\u001b[0;34m.\u001b[0m\u001b[0m_extend_mode_to_code\u001b[0m\u001b[0;34m(\u001b[0m\u001b[0mmode\u001b[0m\u001b[0;34m)\u001b[0m\u001b[0;34m\u001b[0m\u001b[0;34m\u001b[0m\u001b[0m\n\u001b[0;32m--> 134\u001b[0;31m     _nd_image.correlate1d(input, weights, axis, output, mode, cval,\n\u001b[0m\u001b[1;32m    135\u001b[0m                           origin)\n\u001b[1;32m    136\u001b[0m     \u001b[0;32mreturn\u001b[0m \u001b[0moutput\u001b[0m\u001b[0;34m\u001b[0m\u001b[0;34m\u001b[0m\u001b[0m\n",
            "\u001b[0;31mKeyboardInterrupt\u001b[0m: "
          ]
        }
      ]
    },
    {
      "cell_type": "code",
      "source": [
        "#divide each label and trasform from string into integer number \n",
        "unique_labels = list(set(loaded_labels))\n",
        "numerical_labels = []\n",
        "for label in loaded_labels:\n",
        "    numerical_labels.append(\n",
        "        unique_labels.index(label)\n",
        "    )\n",
        "numerical_labels = t.tensor(numerical_labels) #convert into tensor\n",
        "\n",
        "\n",
        "# separate in train/test/valid/images to predict\n",
        "unique_modes = list(set(loaded_modes))\n",
        "\n",
        "dataloaders = {}\n",
        "for mode in unique_modes:\n",
        "  mask = [m == mode for m in loaded_modes] # [True, False, ...]\n",
        "  labels = numerical_labels[mask]\n",
        "  imgs = loaded_imgs[mask]\n",
        "  # create dataset\n",
        "  dataset = t.utils.data.TensorDataset(imgs, labels)\n",
        "  # create dataloader + specify batch size + shuffle=True \n",
        "  dataloader = t.utils.data.DataLoader(dataset, batch_size=64, shuffle=True)\n",
        "  dataloaders[mode] = dataloader\n",
        "\n",
        "print(dataloaders)"
      ],
      "metadata": {
        "colab": {
          "base_uri": "https://localhost:8080/"
        },
        "id": "4lhEK1x4r2Cg",
        "outputId": "cb2a2ea6-567f-42d6-abd0-4314607f53e6"
      },
      "execution_count": null,
      "outputs": [
        {
          "output_type": "stream",
          "name": "stdout",
          "text": [
            "Train: 4274\n",
            "Test: 110\n",
            "Valid: 110\n",
            "{'test': <torch.utils.data.dataloader.DataLoader object at 0x7f13206dc370>, 'train': <torch.utils.data.dataloader.DataLoader object at 0x7f1310cf2dc0>, 'valid': <torch.utils.data.dataloader.DataLoader object at 0x7f1310cfb1c0>}\n"
          ]
        }
      ]
    },
    {
      "cell_type": "code",
      "source": [
        "train_dataloader = dataloaders['train']\n",
        "\n",
        "for batch_imgs, batch_labels in train_dataloader:\n",
        "  print(batch_imgs.shape) # shape = [64, 106, 173]\n",
        "  print(batch_labels.shape) # shape = [64]"
      ],
      "metadata": {
        "colab": {
          "base_uri": "https://localhost:8080/"
        },
        "id": "cDf3NQon5-hU",
        "outputId": "716677c3-9c1f-45cb-dac6-d88b54cf12f3"
      },
      "execution_count": null,
      "outputs": [
        {
          "output_type": "stream",
          "name": "stdout",
          "text": [
            "torch.Size([64, 106, 173])\n",
            "torch.Size([64])\n",
            "torch.Size([64, 106, 173])\n",
            "torch.Size([64])\n",
            "torch.Size([64, 106, 173])\n",
            "torch.Size([64])\n",
            "torch.Size([64, 106, 173])\n",
            "torch.Size([64])\n",
            "torch.Size([64, 106, 173])\n",
            "torch.Size([64])\n",
            "torch.Size([64, 106, 173])\n",
            "torch.Size([64])\n",
            "torch.Size([64, 106, 173])\n",
            "torch.Size([64])\n",
            "torch.Size([64, 106, 173])\n",
            "torch.Size([64])\n",
            "torch.Size([64, 106, 173])\n",
            "torch.Size([64])\n",
            "torch.Size([64, 106, 173])\n",
            "torch.Size([64])\n",
            "torch.Size([64, 106, 173])\n",
            "torch.Size([64])\n",
            "torch.Size([64, 106, 173])\n",
            "torch.Size([64])\n",
            "torch.Size([64, 106, 173])\n",
            "torch.Size([64])\n",
            "torch.Size([64, 106, 173])\n",
            "torch.Size([64])\n",
            "torch.Size([64, 106, 173])\n",
            "torch.Size([64])\n",
            "torch.Size([64, 106, 173])\n",
            "torch.Size([64])\n",
            "torch.Size([64, 106, 173])\n",
            "torch.Size([64])\n",
            "torch.Size([64, 106, 173])\n",
            "torch.Size([64])\n",
            "torch.Size([64, 106, 173])\n",
            "torch.Size([64])\n",
            "torch.Size([64, 106, 173])\n",
            "torch.Size([64])\n",
            "torch.Size([64, 106, 173])\n",
            "torch.Size([64])\n",
            "torch.Size([64, 106, 173])\n",
            "torch.Size([64])\n",
            "torch.Size([64, 106, 173])\n",
            "torch.Size([64])\n",
            "torch.Size([64, 106, 173])\n",
            "torch.Size([64])\n",
            "torch.Size([64, 106, 173])\n",
            "torch.Size([64])\n",
            "torch.Size([64, 106, 173])\n",
            "torch.Size([64])\n",
            "torch.Size([64, 106, 173])\n",
            "torch.Size([64])\n",
            "torch.Size([64, 106, 173])\n",
            "torch.Size([64])\n",
            "torch.Size([64, 106, 173])\n",
            "torch.Size([64])\n",
            "torch.Size([64, 106, 173])\n",
            "torch.Size([64])\n",
            "torch.Size([64, 106, 173])\n",
            "torch.Size([64])\n",
            "torch.Size([64, 106, 173])\n",
            "torch.Size([64])\n",
            "torch.Size([64, 106, 173])\n",
            "torch.Size([64])\n",
            "torch.Size([64, 106, 173])\n",
            "torch.Size([64])\n",
            "torch.Size([64, 106, 173])\n",
            "torch.Size([64])\n",
            "torch.Size([64, 106, 173])\n",
            "torch.Size([64])\n",
            "torch.Size([64, 106, 173])\n",
            "torch.Size([64])\n",
            "torch.Size([64, 106, 173])\n",
            "torch.Size([64])\n",
            "torch.Size([64, 106, 173])\n",
            "torch.Size([64])\n",
            "torch.Size([64, 106, 173])\n",
            "torch.Size([64])\n",
            "torch.Size([64, 106, 173])\n",
            "torch.Size([64])\n",
            "torch.Size([64, 106, 173])\n",
            "torch.Size([64])\n",
            "torch.Size([64, 106, 173])\n",
            "torch.Size([64])\n",
            "torch.Size([64, 106, 173])\n",
            "torch.Size([64])\n",
            "torch.Size([64, 106, 173])\n",
            "torch.Size([64])\n",
            "torch.Size([64, 106, 173])\n",
            "torch.Size([64])\n",
            "torch.Size([64, 106, 173])\n",
            "torch.Size([64])\n",
            "torch.Size([64, 106, 173])\n",
            "torch.Size([64])\n",
            "torch.Size([64, 106, 173])\n",
            "torch.Size([64])\n",
            "torch.Size([64, 106, 173])\n",
            "torch.Size([64])\n",
            "torch.Size([64, 106, 173])\n",
            "torch.Size([64])\n",
            "torch.Size([64, 106, 173])\n",
            "torch.Size([64])\n",
            "torch.Size([64, 106, 173])\n",
            "torch.Size([64])\n",
            "torch.Size([64, 106, 173])\n",
            "torch.Size([64])\n",
            "torch.Size([64, 106, 173])\n",
            "torch.Size([64])\n",
            "torch.Size([64, 106, 173])\n",
            "torch.Size([64])\n",
            "torch.Size([64, 106, 173])\n",
            "torch.Size([64])\n",
            "torch.Size([64, 106, 173])\n",
            "torch.Size([64])\n",
            "torch.Size([64, 106, 173])\n",
            "torch.Size([64])\n",
            "torch.Size([64, 106, 173])\n",
            "torch.Size([64])\n",
            "torch.Size([64, 106, 173])\n",
            "torch.Size([64])\n",
            "torch.Size([64, 106, 173])\n",
            "torch.Size([64])\n",
            "torch.Size([64, 106, 173])\n",
            "torch.Size([64])\n",
            "torch.Size([64, 106, 173])\n",
            "torch.Size([64])\n",
            "torch.Size([64, 106, 173])\n",
            "torch.Size([64])\n",
            "torch.Size([64, 106, 173])\n",
            "torch.Size([64])\n",
            "torch.Size([50, 106, 173])\n",
            "torch.Size([50])\n"
          ]
        }
      ]
    },
    {
      "cell_type": "code",
      "source": [
        "#show one img for each mode: train, test, valid\n",
        "plt.rcParams['figure.figsize'] = [20, 10]\n",
        "for imgs, labels in dataloaders['train']:\n",
        "  plt.imshow(imgs[0])\n",
        "  plt.show()\n",
        "  break\n",
        "\n",
        "for imgs, labels in dataloaders['test']:\n",
        "  plt.imshow(imgs[0])\n",
        "  plt.show()\n",
        "  break\n",
        "\n",
        "for imgs, labels in dataloaders['valid']:\n",
        "  plt.imshow(imgs[0])\n",
        "  plt.show()\n",
        "  break"
      ],
      "metadata": {
        "colab": {
          "base_uri": "https://localhost:8080/",
          "height": 734
        },
        "id": "5tyQH3EgtWZC",
        "outputId": "998ef707-289a-484b-8b07-fb3785b70065"
      },
      "execution_count": null,
      "outputs": [
        {
          "output_type": "display_data",
          "data": {
            "text/plain": [
              "<Figure size 432x288 with 1 Axes>"
            ],
            "image/png": "[encoded data removed]"
          },
          "metadata": {
            "needs_background": "light"
          }
        },
        {
          "output_type": "display_data",
          "data": {
            "text/plain": [
              "<Figure size 432x288 with 1 Axes>"
            ],
            "image/png": "[encoded data removed]"
          },
          "metadata": {
            "needs_background": "light"
          }
        },
        {
          "output_type": "display_data",
          "data": {
            "text/plain": [
              "<Figure size 432x288 with 1 Axes>"
            ],
            "image/png": "[encoded data removed]"
          },
          "metadata": {
            "needs_background": "light"
          }
        }
      ]
    },
    {
      "cell_type": "markdown",
      "source": [
        "## Model for my neural network"
      ],
      "metadata": {
        "id": "em2IS4S2VMJz"
      }
    },
    {
      "cell_type": "code",
      "source": [
        "#my neural model \n",
        "\n",
        "#general structure of my model\n",
        "def conv_block(in_c, out_c, k=3, pad=1):\n",
        "    return nn.Sequential(\n",
        "        nn.BatchNorm2d(in_c),\n",
        "        nn.Conv2d(\n",
        "            in_c,\n",
        "            out_c,\n",
        "            k,\n",
        "            padding=pad,\n",
        "            bias=False #no need with BatchNorm!\n",
        "        ), \n",
        "        nn.Dropout(0.2),\n",
        "        nn.MaxPool2d(2), # [B, out_c, (W - 1)/2, (H-1)/2]\n",
        "        nn.ReLU()\n",
        "    )\n",
        "\n",
        "model = nn.Sequential(\n",
        "      conv_block(1, 16), #->shape=[B, C=1, W, H]-> out shape = [B, 16, W-1, H-1]\n",
        "      conv_block(16, 32),\n",
        "      conv_block(32, 64),\n",
        "      conv_block(64, 128),\n",
        "      conv_block(128, 256),\n",
        "      conv_block(256, 512),\n",
        "      nn.Flatten(),  #y = y.view(batch_size, -1)->flattening (B, ???)\n",
        "      nn.Linear(1024, 256), # -> [B, 512, k, l] -> [B, 512*k*l] -> ? -> [B, 12]\n",
        "      nn.ReLU(),\n",
        "      nn.Linear(256, 12),\n",
        "      nn.Softmax(1)\n",
        ").to(device) #device=GPU\n",
        "\n",
        "total_params = 0\n",
        "#for each layer print the number of parameters\n",
        "for name, param in model.named_parameters():\n",
        "    num_params = param.numel()\n",
        "    print(f\"{name}: {num_params}\")\n",
        "    total_params += num_params\n",
        "\n",
        "print(f\"Total number of parameters\": {total_params}\")\n"
      ],
      "metadata": {
        "id": "fSlJkxdsVQ97"
      },
      "execution_count": null,
      "outputs": []
    },
    {
      "cell_type": "markdown",
      "source": [
        "## Training"
      ],
      "metadata": {
        "id": "CxQUidZeU6kU"
      }
    },
    {
      "cell_type": "code",
      "source": [
        "from tqdm import tqdm\n",
        "\n",
        "\n",
        "optim = t.optim.Adam(model.parameters(), lr=0.0001)\n",
        "loss_fn = t.nn.CrossEntropyLoss()\n",
        "n_epochs = 500\n",
        "\n",
        "def train_single_epoch():\n",
        "  tot_loss = 0\n",
        "  n_imgs = 0\n",
        "  for img, label in tqdm(dataloaders['train']):\n",
        "    label = label.to(device)\n",
        "    batch_size = img.shape[0]\n",
        "    img = img.to(device)\n",
        "    optim.zero_grad()\n",
        "    img = (img[:, None] / 255).float()\n",
        "    pred_label = model(img)\n",
        "    loss = loss_fn(pred_label, label) \n",
        "    loss.backward()\n",
        "    optim.step() \n",
        "    tot_loss += loss.item()\n",
        "    n_imgs += batch_size\n",
        "  return (tot_loss / n_imgs)\n",
        "  \n",
        "def test(dataloader):\n",
        "  with t.no_grad():\n",
        "    tot_loss = 0\n",
        "    n_imgs = 0\n",
        "    correct_preds = 0 \n",
        "    for batch_imgs, batch_labels in tqdm(dataloader):\n",
        "      batch_labels = batch_labels.to(device)\n",
        "      batch_imgs = batch_imgs.to(device)\n",
        "      batch_size = batch_imgs.shape[0]\n",
        "      batch_imgs = (\n",
        "          batch_imgs[:, None]/ 255 #normalization of imgs-> pixels 0-255\n",
        "      ).float()\n",
        "      pred_batch_labels = model(batch_imgs)\n",
        "      pred_batch_class = t.argmax(pred_batch_labels, dim=1)\n",
        "      correct_preds += (pred_batch_class == batch_labels).sum()\n",
        "      loss = loss_fn(pred_batch_labels, batch_labels)\n",
        "      tot_loss += loss.item()\n",
        "      n_imgs += batch_size\n",
        "\n",
        "    mean_loss = tot_loss / n_imgs\n",
        "    accuracy = correct_preds / n_imgs\n",
        "\n",
        "  return mean_loss, accuracy\n",
        "\n",
        "def train():\n",
        "  train_losses = []\n",
        "  val_losses = []\n",
        "  val_accs = []\n",
        "  for epoch in range(n_epochs):\n",
        "      train_loss = train_single_epoch()\n",
        "      val_loss, val_acc = test(dataloaders['test']) #testing\n",
        "      print(\n",
        "        f\"\\nEpoch: {epoch}, train_loss={train_loss:.4f} val_loss={val_loss:.4f} val_acc={val_acc:.4f}\"\n",
        "      )\n",
        "\n",
        "  #plotting\n",
        "  fig, axes = plt.subplots(2, 1)\n",
        "  axes[0].plot(t.arange(n_epochs), train_losses, label='train_loss')\n",
        "  axes[0].plot(t.arange(n_epochs), val_losses, label='val_loss')\n",
        "  axes[0].legend()\n",
        "  axes[1].plot(t.arange(n_epochs), val_accs, label='val_accuracy')\n",
        "  axes[1].legend()\n",
        "  plt.show()"
      ],
      "metadata": {
        "id": "hWo0UMl2U_hA"
      },
      "execution_count": null,
      "outputs": []
    },
    {
      "cell_type": "code",
      "source": [
        "train()"
      ],
      "metadata": {
        "colab": {
          "base_uri": "https://localhost:8080/"
        },
        "id": "xv3e9rmhuDWD",
        "outputId": "fad770d1-d277-4fd4-b61f-447e0a652bbf"
      },
      "execution_count": null,
      "outputs": [
        {
          "output_type": "stream",
          "name": "stderr",
          "text": [
            "100%|██████████| 67/67 [00:08<00:00,  7.66it/s]\n",
            "100%|██████████| 2/2 [00:00<00:00, 108.50it/s]\n"
          ]
        },
        {
          "output_type": "stream",
          "name": "stdout",
          "text": [
            "\n",
            "Epoch: 0, train_loss=0.0386 val_loss=0.0453 val_acc=0.0909\n"
          ]
        },
        {
          "output_type": "stream",
          "name": "stderr",
          "text": [
            "100%|██████████| 67/67 [00:01<00:00, 38.67it/s]\n",
            "100%|██████████| 2/2 [00:00<00:00, 107.26it/s]\n"
          ]
        },
        {
          "output_type": "stream",
          "name": "stdout",
          "text": [
            "\n",
            "Epoch: 1, train_loss=0.0384 val_loss=0.0453 val_acc=0.0909\n"
          ]
        },
        {
          "output_type": "stream",
          "name": "stderr",
          "text": [
            "100%|██████████| 67/67 [00:01<00:00, 38.79it/s]\n",
            "100%|██████████| 2/2 [00:00<00:00, 112.69it/s]\n"
          ]
        },
        {
          "output_type": "stream",
          "name": "stdout",
          "text": [
            "\n",
            "Epoch: 2, train_loss=0.0384 val_loss=0.0453 val_acc=0.0909\n"
          ]
        },
        {
          "output_type": "stream",
          "name": "stderr",
          "text": [
            "100%|██████████| 67/67 [00:01<00:00, 38.98it/s]\n",
            "100%|██████████| 2/2 [00:00<00:00, 110.12it/s]\n"
          ]
        },
        {
          "output_type": "stream",
          "name": "stdout",
          "text": [
            "\n",
            "Epoch: 3, train_loss=0.0384 val_loss=0.0453 val_acc=0.0909\n"
          ]
        },
        {
          "output_type": "stream",
          "name": "stderr",
          "text": [
            "100%|██████████| 67/67 [00:01<00:00, 38.69it/s]\n",
            "100%|██████████| 2/2 [00:00<00:00, 108.93it/s]\n"
          ]
        },
        {
          "output_type": "stream",
          "name": "stdout",
          "text": [
            "\n",
            "Epoch: 4, train_loss=0.0384 val_loss=0.0452 val_acc=0.0909\n"
          ]
        },
        {
          "output_type": "stream",
          "name": "stderr",
          "text": [
            "100%|██████████| 67/67 [00:01<00:00, 38.51it/s]\n",
            "100%|██████████| 2/2 [00:00<00:00, 107.77it/s]\n"
          ]
        },
        {
          "output_type": "stream",
          "name": "stdout",
          "text": [
            "\n",
            "Epoch: 5, train_loss=0.0384 val_loss=0.0452 val_acc=0.0909\n"
          ]
        },
        {
          "output_type": "stream",
          "name": "stderr",
          "text": [
            "100%|██████████| 67/67 [00:01<00:00, 37.40it/s]\n",
            "100%|██████████| 2/2 [00:00<00:00, 92.56it/s]\n"
          ]
        },
        {
          "output_type": "stream",
          "name": "stdout",
          "text": [
            "\n",
            "Epoch: 6, train_loss=0.0383 val_loss=0.0453 val_acc=0.0909\n"
          ]
        },
        {
          "output_type": "stream",
          "name": "stderr",
          "text": [
            "100%|██████████| 67/67 [00:01<00:00, 36.03it/s]\n",
            "100%|██████████| 2/2 [00:00<00:00, 95.40it/s]\n"
          ]
        },
        {
          "output_type": "stream",
          "name": "stdout",
          "text": [
            "\n",
            "Epoch: 7, train_loss=0.0384 val_loss=0.0452 val_acc=0.0909\n"
          ]
        },
        {
          "output_type": "stream",
          "name": "stderr",
          "text": [
            "100%|██████████| 67/67 [00:01<00:00, 37.15it/s]\n",
            "100%|██████████| 2/2 [00:00<00:00, 86.61it/s]\n"
          ]
        },
        {
          "output_type": "stream",
          "name": "stdout",
          "text": [
            "\n",
            "Epoch: 8, train_loss=0.0384 val_loss=0.0452 val_acc=0.0909\n"
          ]
        },
        {
          "output_type": "stream",
          "name": "stderr",
          "text": [
            "100%|██████████| 67/67 [00:01<00:00, 37.33it/s]\n",
            "100%|██████████| 2/2 [00:00<00:00, 92.23it/s]\n"
          ]
        },
        {
          "output_type": "stream",
          "name": "stdout",
          "text": [
            "\n",
            "Epoch: 9, train_loss=0.0383 val_loss=0.0454 val_acc=0.0909\n"
          ]
        },
        {
          "output_type": "stream",
          "name": "stderr",
          "text": [
            "100%|██████████| 67/67 [00:01<00:00, 38.40it/s]\n",
            "100%|██████████| 2/2 [00:00<00:00, 106.12it/s]\n"
          ]
        },
        {
          "output_type": "stream",
          "name": "stdout",
          "text": [
            "\n",
            "Epoch: 10, train_loss=0.0383 val_loss=0.0453 val_acc=0.0909\n"
          ]
        },
        {
          "output_type": "stream",
          "name": "stderr",
          "text": [
            "100%|██████████| 67/67 [00:01<00:00, 38.44it/s]\n",
            "100%|██████████| 2/2 [00:00<00:00, 104.46it/s]\n"
          ]
        },
        {
          "output_type": "stream",
          "name": "stdout",
          "text": [
            "\n",
            "Epoch: 11, train_loss=0.0383 val_loss=0.0453 val_acc=0.0909\n"
          ]
        },
        {
          "output_type": "stream",
          "name": "stderr",
          "text": [
            "100%|██████████| 67/67 [00:01<00:00, 38.37it/s]\n",
            "100%|██████████| 2/2 [00:00<00:00, 107.87it/s]\n"
          ]
        },
        {
          "output_type": "stream",
          "name": "stdout",
          "text": [
            "\n",
            "Epoch: 12, train_loss=0.0384 val_loss=0.0453 val_acc=0.0909\n"
          ]
        },
        {
          "output_type": "stream",
          "name": "stderr",
          "text": [
            "100%|██████████| 67/67 [00:01<00:00, 38.07it/s]\n",
            "100%|██████████| 2/2 [00:00<00:00, 108.75it/s]\n"
          ]
        },
        {
          "output_type": "stream",
          "name": "stdout",
          "text": [
            "\n",
            "Epoch: 13, train_loss=0.0383 val_loss=0.0451 val_acc=0.0909\n"
          ]
        },
        {
          "output_type": "stream",
          "name": "stderr",
          "text": [
            "100%|██████████| 67/67 [00:01<00:00, 37.99it/s]\n",
            "100%|██████████| 2/2 [00:00<00:00, 104.24it/s]\n"
          ]
        },
        {
          "output_type": "stream",
          "name": "stdout",
          "text": [
            "\n",
            "Epoch: 14, train_loss=0.0383 val_loss=0.0452 val_acc=0.0909\n"
          ]
        },
        {
          "output_type": "stream",
          "name": "stderr",
          "text": [
            "100%|██████████| 67/67 [00:01<00:00, 35.77it/s]\n",
            "100%|██████████| 2/2 [00:00<00:00, 104.06it/s]\n"
          ]
        },
        {
          "output_type": "stream",
          "name": "stdout",
          "text": [
            "\n",
            "Epoch: 15, train_loss=0.0383 val_loss=0.0453 val_acc=0.0909\n"
          ]
        },
        {
          "output_type": "stream",
          "name": "stderr",
          "text": [
            "100%|██████████| 67/67 [00:01<00:00, 37.31it/s]\n",
            "100%|██████████| 2/2 [00:00<00:00, 104.36it/s]\n"
          ]
        },
        {
          "output_type": "stream",
          "name": "stdout",
          "text": [
            "\n",
            "Epoch: 16, train_loss=0.0383 val_loss=0.0453 val_acc=0.0909\n"
          ]
        },
        {
          "output_type": "stream",
          "name": "stderr",
          "text": [
            "100%|██████████| 67/67 [00:01<00:00, 38.06it/s]\n",
            "100%|██████████| 2/2 [00:00<00:00, 105.31it/s]\n"
          ]
        },
        {
          "output_type": "stream",
          "name": "stdout",
          "text": [
            "\n",
            "Epoch: 17, train_loss=0.0384 val_loss=0.0452 val_acc=0.0909\n"
          ]
        },
        {
          "output_type": "stream",
          "name": "stderr",
          "text": [
            "100%|██████████| 67/67 [00:01<00:00, 38.17it/s]\n",
            "100%|██████████| 2/2 [00:00<00:00, 100.01it/s]\n"
          ]
        },
        {
          "output_type": "stream",
          "name": "stdout",
          "text": [
            "\n",
            "Epoch: 18, train_loss=0.0383 val_loss=0.0452 val_acc=0.0909\n"
          ]
        },
        {
          "output_type": "stream",
          "name": "stderr",
          "text": [
            "100%|██████████| 67/67 [00:01<00:00, 38.16it/s]\n",
            "100%|██████████| 2/2 [00:00<00:00, 101.18it/s]\n"
          ]
        },
        {
          "output_type": "stream",
          "name": "stdout",
          "text": [
            "\n",
            "Epoch: 19, train_loss=0.0383 val_loss=0.0452 val_acc=0.0909\n"
          ]
        },
        {
          "output_type": "stream",
          "name": "stderr",
          "text": [
            "100%|██████████| 67/67 [00:01<00:00, 38.08it/s]\n",
            "100%|██████████| 2/2 [00:00<00:00, 107.58it/s]\n"
          ]
        },
        {
          "output_type": "stream",
          "name": "stdout",
          "text": [
            "\n",
            "Epoch: 20, train_loss=0.0383 val_loss=0.0452 val_acc=0.0909\n"
          ]
        },
        {
          "output_type": "stream",
          "name": "stderr",
          "text": [
            "100%|██████████| 67/67 [00:01<00:00, 37.92it/s]\n",
            "100%|██████████| 2/2 [00:00<00:00, 106.86it/s]\n"
          ]
        },
        {
          "output_type": "stream",
          "name": "stdout",
          "text": [
            "\n",
            "Epoch: 21, train_loss=0.0383 val_loss=0.0452 val_acc=0.0909\n"
          ]
        },
        {
          "output_type": "stream",
          "name": "stderr",
          "text": [
            "100%|██████████| 67/67 [00:01<00:00, 36.92it/s]\n",
            "100%|██████████| 2/2 [00:00<00:00, 92.59it/s]\n"
          ]
        },
        {
          "output_type": "stream",
          "name": "stdout",
          "text": [
            "\n",
            "Epoch: 22, train_loss=0.0383 val_loss=0.0453 val_acc=0.0909\n"
          ]
        },
        {
          "output_type": "stream",
          "name": "stderr",
          "text": [
            "100%|██████████| 67/67 [00:01<00:00, 36.56it/s]\n",
            "100%|██████████| 2/2 [00:00<00:00, 104.82it/s]\n"
          ]
        },
        {
          "output_type": "stream",
          "name": "stdout",
          "text": [
            "\n",
            "Epoch: 23, train_loss=0.0384 val_loss=0.0452 val_acc=0.0909\n"
          ]
        },
        {
          "output_type": "stream",
          "name": "stderr",
          "text": [
            "100%|██████████| 67/67 [00:01<00:00, 37.50it/s]\n",
            "100%|██████████| 2/2 [00:00<00:00, 101.62it/s]\n"
          ]
        },
        {
          "output_type": "stream",
          "name": "stdout",
          "text": [
            "\n",
            "Epoch: 24, train_loss=0.0383 val_loss=0.0452 val_acc=0.0909\n"
          ]
        },
        {
          "output_type": "stream",
          "name": "stderr",
          "text": [
            "100%|██████████| 67/67 [00:01<00:00, 37.65it/s]\n",
            "100%|██████████| 2/2 [00:00<00:00, 110.25it/s]\n"
          ]
        },
        {
          "output_type": "stream",
          "name": "stdout",
          "text": [
            "\n",
            "Epoch: 25, train_loss=0.0383 val_loss=0.0453 val_acc=0.0909\n"
          ]
        },
        {
          "output_type": "stream",
          "name": "stderr",
          "text": [
            "100%|██████████| 67/67 [00:01<00:00, 37.88it/s]\n",
            "100%|██████████| 2/2 [00:00<00:00, 106.74it/s]\n"
          ]
        },
        {
          "output_type": "stream",
          "name": "stdout",
          "text": [
            "\n",
            "Epoch: 26, train_loss=0.0383 val_loss=0.0453 val_acc=0.0909\n"
          ]
        },
        {
          "output_type": "stream",
          "name": "stderr",
          "text": [
            "100%|██████████| 67/67 [00:01<00:00, 37.93it/s]\n",
            "100%|██████████| 2/2 [00:00<00:00, 105.33it/s]\n"
          ]
        },
        {
          "output_type": "stream",
          "name": "stdout",
          "text": [
            "\n",
            "Epoch: 27, train_loss=0.0383 val_loss=0.0452 val_acc=0.0909\n"
          ]
        },
        {
          "output_type": "stream",
          "name": "stderr",
          "text": [
            "100%|██████████| 67/67 [00:01<00:00, 37.78it/s]\n",
            "100%|██████████| 2/2 [00:00<00:00, 111.18it/s]\n"
          ]
        },
        {
          "output_type": "stream",
          "name": "stdout",
          "text": [
            "\n",
            "Epoch: 28, train_loss=0.0383 val_loss=0.0454 val_acc=0.0909\n"
          ]
        },
        {
          "output_type": "stream",
          "name": "stderr",
          "text": [
            "100%|██████████| 67/67 [00:01<00:00, 37.22it/s]\n",
            "100%|██████████| 2/2 [00:00<00:00, 102.56it/s]\n"
          ]
        },
        {
          "output_type": "stream",
          "name": "stdout",
          "text": [
            "\n",
            "Epoch: 29, train_loss=0.0383 val_loss=0.0453 val_acc=0.0909\n"
          ]
        },
        {
          "output_type": "stream",
          "name": "stderr",
          "text": [
            "100%|██████████| 67/67 [00:02<00:00, 27.16it/s]\n",
            "100%|██████████| 2/2 [00:00<00:00, 40.10it/s]\n"
          ]
        },
        {
          "output_type": "stream",
          "name": "stdout",
          "text": [
            "\n",
            "Epoch: 30, train_loss=0.0383 val_loss=0.0453 val_acc=0.0909\n"
          ]
        },
        {
          "output_type": "stream",
          "name": "stderr",
          "text": [
            "100%|██████████| 67/67 [00:01<00:00, 36.48it/s]\n",
            "100%|██████████| 2/2 [00:00<00:00, 105.31it/s]\n"
          ]
        },
        {
          "output_type": "stream",
          "name": "stdout",
          "text": [
            "\n",
            "Epoch: 31, train_loss=0.0383 val_loss=0.0453 val_acc=0.0909\n"
          ]
        },
        {
          "output_type": "stream",
          "name": "stderr",
          "text": [
            "100%|██████████| 67/67 [00:01<00:00, 36.18it/s]\n",
            "100%|██████████| 2/2 [00:00<00:00, 95.91it/s]\n"
          ]
        },
        {
          "output_type": "stream",
          "name": "stdout",
          "text": [
            "\n",
            "Epoch: 32, train_loss=0.0383 val_loss=0.0452 val_acc=0.0909\n"
          ]
        },
        {
          "output_type": "stream",
          "name": "stderr",
          "text": [
            "100%|██████████| 67/67 [00:01<00:00, 36.91it/s]\n",
            "100%|██████████| 2/2 [00:00<00:00, 108.62it/s]\n"
          ]
        },
        {
          "output_type": "stream",
          "name": "stdout",
          "text": [
            "\n",
            "Epoch: 33, train_loss=0.0383 val_loss=0.0452 val_acc=0.0909\n"
          ]
        },
        {
          "output_type": "stream",
          "name": "stderr",
          "text": [
            "100%|██████████| 67/67 [00:01<00:00, 37.52it/s]\n",
            "100%|██████████| 2/2 [00:00<00:00, 104.22it/s]\n"
          ]
        },
        {
          "output_type": "stream",
          "name": "stdout",
          "text": [
            "\n",
            "Epoch: 34, train_loss=0.0383 val_loss=0.0452 val_acc=0.0909\n"
          ]
        },
        {
          "output_type": "stream",
          "name": "stderr",
          "text": [
            "100%|██████████| 67/67 [00:01<00:00, 37.28it/s]\n",
            "100%|██████████| 2/2 [00:00<00:00, 106.65it/s]\n"
          ]
        },
        {
          "output_type": "stream",
          "name": "stdout",
          "text": [
            "\n",
            "Epoch: 35, train_loss=0.0383 val_loss=0.0452 val_acc=0.0909\n"
          ]
        },
        {
          "output_type": "stream",
          "name": "stderr",
          "text": [
            "100%|██████████| 67/67 [00:01<00:00, 37.27it/s]\n",
            "100%|██████████| 2/2 [00:00<00:00, 89.97it/s]\n"
          ]
        },
        {
          "output_type": "stream",
          "name": "stdout",
          "text": [
            "\n",
            "Epoch: 36, train_loss=0.0383 val_loss=0.0453 val_acc=0.0909\n"
          ]
        },
        {
          "output_type": "stream",
          "name": "stderr",
          "text": [
            "100%|██████████| 67/67 [00:01<00:00, 36.39it/s]\n",
            "100%|██████████| 2/2 [00:00<00:00, 102.06it/s]\n"
          ]
        },
        {
          "output_type": "stream",
          "name": "stdout",
          "text": [
            "\n",
            "Epoch: 37, train_loss=0.0383 val_loss=0.0452 val_acc=0.0909\n"
          ]
        },
        {
          "output_type": "stream",
          "name": "stderr",
          "text": [
            "100%|██████████| 67/67 [00:01<00:00, 36.71it/s]\n",
            "100%|██████████| 2/2 [00:00<00:00, 112.56it/s]\n"
          ]
        },
        {
          "output_type": "stream",
          "name": "stdout",
          "text": [
            "\n",
            "Epoch: 38, train_loss=0.0383 val_loss=0.0453 val_acc=0.0909\n"
          ]
        },
        {
          "output_type": "stream",
          "name": "stderr",
          "text": [
            "100%|██████████| 67/67 [00:01<00:00, 37.09it/s]\n",
            "100%|██████████| 2/2 [00:00<00:00, 106.00it/s]\n"
          ]
        },
        {
          "output_type": "stream",
          "name": "stdout",
          "text": [
            "\n",
            "Epoch: 39, train_loss=0.0383 val_loss=0.0453 val_acc=0.0909\n"
          ]
        },
        {
          "output_type": "stream",
          "name": "stderr",
          "text": [
            "100%|██████████| 67/67 [00:01<00:00, 37.22it/s]\n",
            "100%|██████████| 2/2 [00:00<00:00, 105.13it/s]\n"
          ]
        },
        {
          "output_type": "stream",
          "name": "stdout",
          "text": [
            "\n",
            "Epoch: 40, train_loss=0.0383 val_loss=0.0452 val_acc=0.0909\n"
          ]
        },
        {
          "output_type": "stream",
          "name": "stderr",
          "text": [
            "100%|██████████| 67/67 [00:01<00:00, 37.05it/s]\n",
            "100%|██████████| 2/2 [00:00<00:00, 89.99it/s]\n"
          ]
        },
        {
          "output_type": "stream",
          "name": "stdout",
          "text": [
            "\n",
            "Epoch: 41, train_loss=0.0383 val_loss=0.0452 val_acc=0.0909\n"
          ]
        },
        {
          "output_type": "stream",
          "name": "stderr",
          "text": [
            "100%|██████████| 67/67 [00:01<00:00, 37.07it/s]\n",
            "100%|██████████| 2/2 [00:00<00:00, 105.05it/s]\n"
          ]
        },
        {
          "output_type": "stream",
          "name": "stdout",
          "text": [
            "\n",
            "Epoch: 42, train_loss=0.0383 val_loss=0.0452 val_acc=0.0909\n"
          ]
        },
        {
          "output_type": "stream",
          "name": "stderr",
          "text": [
            "100%|██████████| 67/67 [00:01<00:00, 37.13it/s]\n",
            "100%|██████████| 2/2 [00:00<00:00, 106.70it/s]\n"
          ]
        },
        {
          "output_type": "stream",
          "name": "stdout",
          "text": [
            "\n",
            "Epoch: 43, train_loss=0.0383 val_loss=0.0453 val_acc=0.0909\n"
          ]
        },
        {
          "output_type": "stream",
          "name": "stderr",
          "text": [
            "100%|██████████| 67/67 [00:01<00:00, 36.35it/s]\n",
            "100%|██████████| 2/2 [00:00<00:00, 98.61it/s]\n"
          ]
        },
        {
          "output_type": "stream",
          "name": "stdout",
          "text": [
            "\n",
            "Epoch: 44, train_loss=0.0383 val_loss=0.0453 val_acc=0.0909\n"
          ]
        },
        {
          "output_type": "stream",
          "name": "stderr",
          "text": [
            "100%|██████████| 67/67 [00:01<00:00, 36.13it/s]\n",
            "100%|██████████| 2/2 [00:00<00:00, 106.69it/s]\n"
          ]
        },
        {
          "output_type": "stream",
          "name": "stdout",
          "text": [
            "\n",
            "Epoch: 45, train_loss=0.0383 val_loss=0.0452 val_acc=0.0909\n"
          ]
        },
        {
          "output_type": "stream",
          "name": "stderr",
          "text": [
            "100%|██████████| 67/67 [00:01<00:00, 37.23it/s]\n",
            "100%|██████████| 2/2 [00:00<00:00, 104.55it/s]\n"
          ]
        },
        {
          "output_type": "stream",
          "name": "stdout",
          "text": [
            "\n",
            "Epoch: 46, train_loss=0.0383 val_loss=0.0452 val_acc=0.0909\n"
          ]
        },
        {
          "output_type": "stream",
          "name": "stderr",
          "text": [
            "100%|██████████| 67/67 [00:01<00:00, 37.03it/s]\n",
            "100%|██████████| 2/2 [00:00<00:00, 111.64it/s]\n"
          ]
        },
        {
          "output_type": "stream",
          "name": "stdout",
          "text": [
            "\n",
            "Epoch: 47, train_loss=0.0383 val_loss=0.0452 val_acc=0.0909\n"
          ]
        },
        {
          "output_type": "stream",
          "name": "stderr",
          "text": [
            "100%|██████████| 67/67 [00:01<00:00, 36.97it/s]\n",
            "100%|██████████| 2/2 [00:00<00:00, 111.60it/s]\n"
          ]
        },
        {
          "output_type": "stream",
          "name": "stdout",
          "text": [
            "\n",
            "Epoch: 48, train_loss=0.0383 val_loss=0.0453 val_acc=0.0909\n"
          ]
        },
        {
          "output_type": "stream",
          "name": "stderr",
          "text": [
            "100%|██████████| 67/67 [00:01<00:00, 37.12it/s]\n",
            "100%|██████████| 2/2 [00:00<00:00, 108.59it/s]\n"
          ]
        },
        {
          "output_type": "stream",
          "name": "stdout",
          "text": [
            "\n",
            "Epoch: 49, train_loss=0.0383 val_loss=0.0453 val_acc=0.0909\n"
          ]
        },
        {
          "output_type": "stream",
          "name": "stderr",
          "text": [
            "100%|██████████| 67/67 [00:01<00:00, 37.24it/s]\n",
            "100%|██████████| 2/2 [00:00<00:00, 106.16it/s]\n"
          ]
        },
        {
          "output_type": "stream",
          "name": "stdout",
          "text": [
            "\n",
            "Epoch: 50, train_loss=0.0383 val_loss=0.0453 val_acc=0.0909\n"
          ]
        },
        {
          "output_type": "stream",
          "name": "stderr",
          "text": [
            "100%|██████████| 67/67 [00:01<00:00, 36.77it/s]\n",
            "100%|██████████| 2/2 [00:00<00:00, 82.04it/s]\n"
          ]
        },
        {
          "output_type": "stream",
          "name": "stdout",
          "text": [
            "\n",
            "Epoch: 51, train_loss=0.0383 val_loss=0.0453 val_acc=0.0909\n"
          ]
        },
        {
          "output_type": "stream",
          "name": "stderr",
          "text": [
            "100%|██████████| 67/67 [00:01<00:00, 36.14it/s]\n",
            "100%|██████████| 2/2 [00:00<00:00, 101.95it/s]\n"
          ]
        },
        {
          "output_type": "stream",
          "name": "stdout",
          "text": [
            "\n",
            "Epoch: 52, train_loss=0.0383 val_loss=0.0453 val_acc=0.0909\n"
          ]
        },
        {
          "output_type": "stream",
          "name": "stderr",
          "text": [
            "100%|██████████| 67/67 [00:01<00:00, 37.15it/s]\n",
            "100%|██████████| 2/2 [00:00<00:00, 105.67it/s]\n"
          ]
        },
        {
          "output_type": "stream",
          "name": "stdout",
          "text": [
            "\n",
            "Epoch: 53, train_loss=0.0383 val_loss=0.0452 val_acc=0.0909\n"
          ]
        },
        {
          "output_type": "stream",
          "name": "stderr",
          "text": [
            "100%|██████████| 67/67 [00:01<00:00, 37.43it/s]\n",
            "100%|██████████| 2/2 [00:00<00:00, 97.04it/s]\n"
          ]
        },
        {
          "output_type": "stream",
          "name": "stdout",
          "text": [
            "\n",
            "Epoch: 54, train_loss=0.0383 val_loss=0.0453 val_acc=0.0909\n"
          ]
        },
        {
          "output_type": "stream",
          "name": "stderr",
          "text": [
            "100%|██████████| 67/67 [00:01<00:00, 37.37it/s]\n",
            "100%|██████████| 2/2 [00:00<00:00, 108.00it/s]\n"
          ]
        },
        {
          "output_type": "stream",
          "name": "stdout",
          "text": [
            "\n",
            "Epoch: 55, train_loss=0.0383 val_loss=0.0453 val_acc=0.0909\n"
          ]
        },
        {
          "output_type": "stream",
          "name": "stderr",
          "text": [
            "100%|██████████| 67/67 [00:01<00:00, 37.37it/s]\n",
            "100%|██████████| 2/2 [00:00<00:00, 110.72it/s]\n"
          ]
        },
        {
          "output_type": "stream",
          "name": "stdout",
          "text": [
            "\n",
            "Epoch: 56, train_loss=0.0383 val_loss=0.0452 val_acc=0.0909\n"
          ]
        },
        {
          "output_type": "stream",
          "name": "stderr",
          "text": [
            "100%|██████████| 67/67 [00:01<00:00, 37.21it/s]\n",
            "100%|██████████| 2/2 [00:00<00:00, 97.15it/s]\n"
          ]
        },
        {
          "output_type": "stream",
          "name": "stdout",
          "text": [
            "\n",
            "Epoch: 57, train_loss=0.0383 val_loss=0.0452 val_acc=0.0909\n"
          ]
        },
        {
          "output_type": "stream",
          "name": "stderr",
          "text": [
            "100%|██████████| 67/67 [00:01<00:00, 35.83it/s]\n",
            "100%|██████████| 2/2 [00:00<00:00, 62.03it/s]\n"
          ]
        },
        {
          "output_type": "stream",
          "name": "stdout",
          "text": [
            "\n",
            "Epoch: 58, train_loss=0.0383 val_loss=0.0452 val_acc=0.0909\n"
          ]
        },
        {
          "output_type": "stream",
          "name": "stderr",
          "text": [
            "100%|██████████| 67/67 [00:01<00:00, 35.68it/s]\n",
            "100%|██████████| 2/2 [00:00<00:00, 89.74it/s]\n"
          ]
        },
        {
          "output_type": "stream",
          "name": "stdout",
          "text": [
            "\n",
            "Epoch: 59, train_loss=0.0383 val_loss=0.0452 val_acc=0.0909\n"
          ]
        },
        {
          "output_type": "stream",
          "name": "stderr",
          "text": [
            "100%|██████████| 67/67 [00:01<00:00, 36.00it/s]\n",
            "100%|██████████| 2/2 [00:00<00:00, 104.55it/s]\n"
          ]
        },
        {
          "output_type": "stream",
          "name": "stdout",
          "text": [
            "\n",
            "Epoch: 60, train_loss=0.0383 val_loss=0.0453 val_acc=0.0909\n"
          ]
        },
        {
          "output_type": "stream",
          "name": "stderr",
          "text": [
            "100%|██████████| 67/67 [00:01<00:00, 37.21it/s]\n",
            "100%|██████████| 2/2 [00:00<00:00, 108.18it/s]\n"
          ]
        },
        {
          "output_type": "stream",
          "name": "stdout",
          "text": [
            "\n",
            "Epoch: 61, train_loss=0.0382 val_loss=0.0451 val_acc=0.0909\n"
          ]
        },
        {
          "output_type": "stream",
          "name": "stderr",
          "text": [
            "100%|██████████| 67/67 [00:01<00:00, 37.66it/s]\n",
            "100%|██████████| 2/2 [00:00<00:00, 108.41it/s]\n"
          ]
        },
        {
          "output_type": "stream",
          "name": "stdout",
          "text": [
            "\n",
            "Epoch: 62, train_loss=0.0382 val_loss=0.0444 val_acc=0.1818\n"
          ]
        },
        {
          "output_type": "stream",
          "name": "stderr",
          "text": [
            "100%|██████████| 67/67 [00:01<00:00, 37.42it/s]\n",
            "100%|██████████| 2/2 [00:00<00:00, 109.64it/s]\n"
          ]
        },
        {
          "output_type": "stream",
          "name": "stdout",
          "text": [
            "\n",
            "Epoch: 63, train_loss=0.0370 val_loss=0.0436 val_acc=0.2091\n"
          ]
        },
        {
          "output_type": "stream",
          "name": "stderr",
          "text": [
            "100%|██████████| 67/67 [00:01<00:00, 37.69it/s]\n",
            "100%|██████████| 2/2 [00:00<00:00, 99.41it/s]\n"
          ]
        },
        {
          "output_type": "stream",
          "name": "stdout",
          "text": [
            "\n",
            "Epoch: 64, train_loss=0.0364 val_loss=0.0435 val_acc=0.2364\n"
          ]
        },
        {
          "output_type": "stream",
          "name": "stderr",
          "text": [
            "100%|██████████| 67/67 [00:01<00:00, 37.50it/s]\n",
            "100%|██████████| 2/2 [00:00<00:00, 112.63it/s]\n"
          ]
        },
        {
          "output_type": "stream",
          "name": "stdout",
          "text": [
            "\n",
            "Epoch: 65, train_loss=0.0365 val_loss=0.0435 val_acc=0.2182\n"
          ]
        },
        {
          "output_type": "stream",
          "name": "stderr",
          "text": [
            "100%|██████████| 67/67 [00:01<00:00, 37.38it/s]\n",
            "100%|██████████| 2/2 [00:00<00:00, 90.79it/s]\n"
          ]
        },
        {
          "output_type": "stream",
          "name": "stdout",
          "text": [
            "\n",
            "Epoch: 66, train_loss=0.0365 val_loss=0.0431 val_acc=0.2273\n"
          ]
        },
        {
          "output_type": "stream",
          "name": "stderr",
          "text": [
            "100%|██████████| 67/67 [00:01<00:00, 36.26it/s]\n",
            "100%|██████████| 2/2 [00:00<00:00, 105.25it/s]\n"
          ]
        },
        {
          "output_type": "stream",
          "name": "stdout",
          "text": [
            "\n",
            "Epoch: 67, train_loss=0.0358 val_loss=0.0434 val_acc=0.2273\n"
          ]
        },
        {
          "output_type": "stream",
          "name": "stderr",
          "text": [
            "100%|██████████| 67/67 [00:01<00:00, 36.38it/s]\n",
            "100%|██████████| 2/2 [00:00<00:00, 105.84it/s]\n"
          ]
        },
        {
          "output_type": "stream",
          "name": "stdout",
          "text": [
            "\n",
            "Epoch: 68, train_loss=0.0359 val_loss=0.0437 val_acc=0.2182\n"
          ]
        },
        {
          "output_type": "stream",
          "name": "stderr",
          "text": [
            "100%|██████████| 67/67 [00:01<00:00, 37.72it/s]\n",
            "100%|██████████| 2/2 [00:00<00:00, 106.43it/s]\n"
          ]
        },
        {
          "output_type": "stream",
          "name": "stdout",
          "text": [
            "\n",
            "Epoch: 69, train_loss=0.0357 val_loss=0.0426 val_acc=0.2727\n"
          ]
        },
        {
          "output_type": "stream",
          "name": "stderr",
          "text": [
            "100%|██████████| 67/67 [00:01<00:00, 37.74it/s]\n",
            "100%|██████████| 2/2 [00:00<00:00, 107.49it/s]\n"
          ]
        },
        {
          "output_type": "stream",
          "name": "stdout",
          "text": [
            "\n",
            "Epoch: 70, train_loss=0.0354 val_loss=0.0426 val_acc=0.2727\n"
          ]
        },
        {
          "output_type": "stream",
          "name": "stderr",
          "text": [
            "100%|██████████| 67/67 [00:01<00:00, 37.67it/s]\n",
            "100%|██████████| 2/2 [00:00<00:00, 106.32it/s]\n"
          ]
        },
        {
          "output_type": "stream",
          "name": "stdout",
          "text": [
            "\n",
            "Epoch: 71, train_loss=0.0351 val_loss=0.0423 val_acc=0.3091\n"
          ]
        },
        {
          "output_type": "stream",
          "name": "stderr",
          "text": [
            "100%|██████████| 67/67 [00:01<00:00, 37.70it/s]\n",
            "100%|██████████| 2/2 [00:00<00:00, 106.22it/s]\n"
          ]
        },
        {
          "output_type": "stream",
          "name": "stdout",
          "text": [
            "\n",
            "Epoch: 72, train_loss=0.0351 val_loss=0.0421 val_acc=0.3091\n"
          ]
        },
        {
          "output_type": "stream",
          "name": "stderr",
          "text": [
            "100%|██████████| 67/67 [00:01<00:00, 37.54it/s]\n",
            "100%|██████████| 2/2 [00:00<00:00, 106.85it/s]\n"
          ]
        },
        {
          "output_type": "stream",
          "name": "stdout",
          "text": [
            "\n",
            "Epoch: 73, train_loss=0.0350 val_loss=0.0424 val_acc=0.2727\n"
          ]
        },
        {
          "output_type": "stream",
          "name": "stderr",
          "text": [
            "100%|██████████| 67/67 [00:01<00:00, 37.11it/s]\n",
            "100%|██████████| 2/2 [00:00<00:00, 102.02it/s]\n"
          ]
        },
        {
          "output_type": "stream",
          "name": "stdout",
          "text": [
            "\n",
            "Epoch: 74, train_loss=0.0350 val_loss=0.0417 val_acc=0.3273\n"
          ]
        },
        {
          "output_type": "stream",
          "name": "stderr",
          "text": [
            "100%|██████████| 67/67 [00:01<00:00, 37.16it/s]\n",
            "100%|██████████| 2/2 [00:00<00:00, 89.14it/s]\n"
          ]
        },
        {
          "output_type": "stream",
          "name": "stdout",
          "text": [
            "\n",
            "Epoch: 75, train_loss=0.0349 val_loss=0.0420 val_acc=0.3182\n"
          ]
        },
        {
          "output_type": "stream",
          "name": "stderr",
          "text": [
            "100%|██████████| 67/67 [00:01<00:00, 37.47it/s]\n",
            "100%|██████████| 2/2 [00:00<00:00, 112.53it/s]\n"
          ]
        },
        {
          "output_type": "stream",
          "name": "stdout",
          "text": [
            "\n",
            "Epoch: 76, train_loss=0.0351 val_loss=0.0421 val_acc=0.2909\n"
          ]
        },
        {
          "output_type": "stream",
          "name": "stderr",
          "text": [
            "100%|██████████| 67/67 [00:01<00:00, 37.83it/s]\n",
            "100%|██████████| 2/2 [00:00<00:00, 114.58it/s]\n"
          ]
        },
        {
          "output_type": "stream",
          "name": "stdout",
          "text": [
            "\n",
            "Epoch: 77, train_loss=0.0346 val_loss=0.0412 val_acc=0.3364\n"
          ]
        },
        {
          "output_type": "stream",
          "name": "stderr",
          "text": [
            "100%|██████████| 67/67 [00:01<00:00, 37.74it/s]\n",
            "100%|██████████| 2/2 [00:00<00:00, 109.62it/s]\n"
          ]
        },
        {
          "output_type": "stream",
          "name": "stdout",
          "text": [
            "\n",
            "Epoch: 78, train_loss=0.0345 val_loss=0.0411 val_acc=0.3636\n"
          ]
        },
        {
          "output_type": "stream",
          "name": "stderr",
          "text": [
            "100%|██████████| 67/67 [00:01<00:00, 37.63it/s]\n",
            "100%|██████████| 2/2 [00:00<00:00, 107.42it/s]\n"
          ]
        },
        {
          "output_type": "stream",
          "name": "stdout",
          "text": [
            "\n",
            "Epoch: 79, train_loss=0.0343 val_loss=0.0412 val_acc=0.3818\n"
          ]
        },
        {
          "output_type": "stream",
          "name": "stderr",
          "text": [
            "100%|██████████| 67/67 [00:01<00:00, 37.47it/s]\n",
            "100%|██████████| 2/2 [00:00<00:00, 107.06it/s]\n"
          ]
        },
        {
          "output_type": "stream",
          "name": "stdout",
          "text": [
            "\n",
            "Epoch: 80, train_loss=0.0343 val_loss=0.0412 val_acc=0.3727\n"
          ]
        },
        {
          "output_type": "stream",
          "name": "stderr",
          "text": [
            "100%|██████████| 67/67 [00:01<00:00, 37.39it/s]\n",
            "100%|██████████| 2/2 [00:00<00:00, 99.74it/s]\n"
          ]
        },
        {
          "output_type": "stream",
          "name": "stdout",
          "text": [
            "\n",
            "Epoch: 81, train_loss=0.0341 val_loss=0.0404 val_acc=0.4091\n"
          ]
        },
        {
          "output_type": "stream",
          "name": "stderr",
          "text": [
            "100%|██████████| 67/67 [00:01<00:00, 36.85it/s]\n",
            "100%|██████████| 2/2 [00:00<00:00, 80.88it/s]\n"
          ]
        },
        {
          "output_type": "stream",
          "name": "stdout",
          "text": [
            "\n",
            "Epoch: 82, train_loss=0.0337 val_loss=0.0399 val_acc=0.4182\n"
          ]
        },
        {
          "output_type": "stream",
          "name": "stderr",
          "text": [
            "100%|██████████| 67/67 [00:01<00:00, 34.96it/s]\n",
            "100%|██████████| 2/2 [00:00<00:00, 84.28it/s]\n"
          ]
        },
        {
          "output_type": "stream",
          "name": "stdout",
          "text": [
            "\n",
            "Epoch: 83, train_loss=0.0336 val_loss=0.0402 val_acc=0.4091\n"
          ]
        },
        {
          "output_type": "stream",
          "name": "stderr",
          "text": [
            "100%|██████████| 67/67 [00:01<00:00, 35.99it/s]\n",
            "100%|██████████| 2/2 [00:00<00:00, 88.21it/s]\n"
          ]
        },
        {
          "output_type": "stream",
          "name": "stdout",
          "text": [
            "\n",
            "Epoch: 84, train_loss=0.0334 val_loss=0.0403 val_acc=0.4000\n"
          ]
        },
        {
          "output_type": "stream",
          "name": "stderr",
          "text": [
            "100%|██████████| 67/67 [00:01<00:00, 36.92it/s]\n",
            "100%|██████████| 2/2 [00:00<00:00, 109.84it/s]\n"
          ]
        },
        {
          "output_type": "stream",
          "name": "stdout",
          "text": [
            "\n",
            "Epoch: 85, train_loss=0.0336 val_loss=0.0405 val_acc=0.4000\n"
          ]
        },
        {
          "output_type": "stream",
          "name": "stderr",
          "text": [
            "100%|██████████| 67/67 [00:01<00:00, 37.79it/s]\n",
            "100%|██████████| 2/2 [00:00<00:00, 104.41it/s]\n"
          ]
        },
        {
          "output_type": "stream",
          "name": "stdout",
          "text": [
            "\n",
            "Epoch: 86, train_loss=0.0338 val_loss=0.0405 val_acc=0.4000\n"
          ]
        },
        {
          "output_type": "stream",
          "name": "stderr",
          "text": [
            "100%|██████████| 67/67 [00:01<00:00, 37.54it/s]\n",
            "100%|██████████| 2/2 [00:00<00:00, 103.49it/s]\n"
          ]
        },
        {
          "output_type": "stream",
          "name": "stdout",
          "text": [
            "\n",
            "Epoch: 87, train_loss=0.0331 val_loss=0.0397 val_acc=0.4364\n"
          ]
        },
        {
          "output_type": "stream",
          "name": "stderr",
          "text": [
            "100%|██████████| 67/67 [00:01<00:00, 37.60it/s]\n",
            "100%|██████████| 2/2 [00:00<00:00, 101.75it/s]\n"
          ]
        },
        {
          "output_type": "stream",
          "name": "stdout",
          "text": [
            "\n",
            "Epoch: 88, train_loss=0.0334 val_loss=0.0399 val_acc=0.4273\n"
          ]
        },
        {
          "output_type": "stream",
          "name": "stderr",
          "text": [
            "100%|██████████| 67/67 [00:01<00:00, 37.09it/s]\n",
            "100%|██████████| 2/2 [00:00<00:00, 80.38it/s]\n"
          ]
        },
        {
          "output_type": "stream",
          "name": "stdout",
          "text": [
            "\n",
            "Epoch: 89, train_loss=0.0339 val_loss=0.0413 val_acc=0.3636\n"
          ]
        },
        {
          "output_type": "stream",
          "name": "stderr",
          "text": [
            "100%|██████████| 67/67 [00:01<00:00, 36.31it/s]\n",
            "100%|██████████| 2/2 [00:00<00:00, 100.92it/s]\n"
          ]
        },
        {
          "output_type": "stream",
          "name": "stdout",
          "text": [
            "\n",
            "Epoch: 90, train_loss=0.0330 val_loss=0.0402 val_acc=0.4182\n"
          ]
        },
        {
          "output_type": "stream",
          "name": "stderr",
          "text": [
            "100%|██████████| 67/67 [00:01<00:00, 36.52it/s]\n",
            "100%|██████████| 2/2 [00:00<00:00, 105.71it/s]\n"
          ]
        },
        {
          "output_type": "stream",
          "name": "stdout",
          "text": [
            "\n",
            "Epoch: 91, train_loss=0.0332 val_loss=0.0397 val_acc=0.4364\n"
          ]
        },
        {
          "output_type": "stream",
          "name": "stderr",
          "text": [
            "100%|██████████| 67/67 [00:01<00:00, 37.37it/s]\n",
            "100%|██████████| 2/2 [00:00<00:00, 104.98it/s]\n"
          ]
        },
        {
          "output_type": "stream",
          "name": "stdout",
          "text": [
            "\n",
            "Epoch: 92, train_loss=0.0328 val_loss=0.0397 val_acc=0.4364\n"
          ]
        },
        {
          "output_type": "stream",
          "name": "stderr",
          "text": [
            "100%|██████████| 67/67 [00:01<00:00, 37.56it/s]\n",
            "100%|██████████| 2/2 [00:00<00:00, 108.58it/s]\n"
          ]
        },
        {
          "output_type": "stream",
          "name": "stdout",
          "text": [
            "\n",
            "Epoch: 93, train_loss=0.0340 val_loss=0.0434 val_acc=0.2364\n"
          ]
        },
        {
          "output_type": "stream",
          "name": "stderr",
          "text": [
            "100%|██████████| 67/67 [00:01<00:00, 37.58it/s]\n",
            "100%|██████████| 2/2 [00:00<00:00, 107.59it/s]\n"
          ]
        },
        {
          "output_type": "stream",
          "name": "stdout",
          "text": [
            "\n",
            "Epoch: 94, train_loss=0.0343 val_loss=0.0402 val_acc=0.4091\n"
          ]
        },
        {
          "output_type": "stream",
          "name": "stderr",
          "text": [
            "100%|██████████| 67/67 [00:01<00:00, 37.64it/s]\n",
            "100%|██████████| 2/2 [00:00<00:00, 111.38it/s]\n"
          ]
        },
        {
          "output_type": "stream",
          "name": "stdout",
          "text": [
            "\n",
            "Epoch: 95, train_loss=0.0328 val_loss=0.0394 val_acc=0.4273\n"
          ]
        },
        {
          "output_type": "stream",
          "name": "stderr",
          "text": [
            "100%|██████████| 67/67 [00:01<00:00, 37.70it/s]\n",
            "100%|██████████| 2/2 [00:00<00:00, 107.73it/s]\n"
          ]
        },
        {
          "output_type": "stream",
          "name": "stdout",
          "text": [
            "\n",
            "Epoch: 96, train_loss=0.0327 val_loss=0.0397 val_acc=0.4364\n"
          ]
        },
        {
          "output_type": "stream",
          "name": "stderr",
          "text": [
            "100%|██████████| 67/67 [00:01<00:00, 36.79it/s]\n",
            "100%|██████████| 2/2 [00:00<00:00, 84.87it/s]\n"
          ]
        },
        {
          "output_type": "stream",
          "name": "stdout",
          "text": [
            "\n",
            "Epoch: 97, train_loss=0.0326 val_loss=0.0393 val_acc=0.4545\n"
          ]
        },
        {
          "output_type": "stream",
          "name": "stderr",
          "text": [
            "100%|██████████| 67/67 [00:01<00:00, 36.24it/s]\n",
            "100%|██████████| 2/2 [00:00<00:00, 93.74it/s]\n"
          ]
        },
        {
          "output_type": "stream",
          "name": "stdout",
          "text": [
            "\n",
            "Epoch: 98, train_loss=0.0328 val_loss=0.0399 val_acc=0.4273\n"
          ]
        },
        {
          "output_type": "stream",
          "name": "stderr",
          "text": [
            "100%|██████████| 67/67 [00:01<00:00, 37.41it/s]\n",
            "100%|██████████| 2/2 [00:00<00:00, 111.53it/s]\n"
          ]
        },
        {
          "output_type": "stream",
          "name": "stdout",
          "text": [
            "\n",
            "Epoch: 99, train_loss=0.0328 val_loss=0.0398 val_acc=0.4455\n"
          ]
        },
        {
          "output_type": "stream",
          "name": "stderr",
          "text": [
            "100%|██████████| 67/67 [00:01<00:00, 37.49it/s]\n",
            "100%|██████████| 2/2 [00:00<00:00, 99.80it/s]\n"
          ]
        },
        {
          "output_type": "stream",
          "name": "stdout",
          "text": [
            "\n",
            "Epoch: 100, train_loss=0.0327 val_loss=0.0395 val_acc=0.4364\n"
          ]
        },
        {
          "output_type": "stream",
          "name": "stderr",
          "text": [
            "100%|██████████| 67/67 [00:01<00:00, 37.30it/s]\n",
            "100%|██████████| 2/2 [00:00<00:00, 104.36it/s]\n"
          ]
        },
        {
          "output_type": "stream",
          "name": "stdout",
          "text": [
            "\n",
            "Epoch: 101, train_loss=0.0323 val_loss=0.0397 val_acc=0.4455\n"
          ]
        },
        {
          "output_type": "stream",
          "name": "stderr",
          "text": [
            "100%|██████████| 67/67 [00:01<00:00, 37.40it/s]\n",
            "100%|██████████| 2/2 [00:00<00:00, 108.71it/s]\n"
          ]
        },
        {
          "output_type": "stream",
          "name": "stdout",
          "text": [
            "\n",
            "Epoch: 102, train_loss=0.0323 val_loss=0.0400 val_acc=0.4273\n"
          ]
        },
        {
          "output_type": "stream",
          "name": "stderr",
          "text": [
            "100%|██████████| 67/67 [00:01<00:00, 37.41it/s]\n",
            "100%|██████████| 2/2 [00:00<00:00, 111.91it/s]\n"
          ]
        },
        {
          "output_type": "stream",
          "name": "stdout",
          "text": [
            "\n",
            "Epoch: 103, train_loss=0.0321 val_loss=0.0395 val_acc=0.4455\n"
          ]
        },
        {
          "output_type": "stream",
          "name": "stderr",
          "text": [
            "100%|██████████| 67/67 [00:01<00:00, 37.15it/s]\n",
            "100%|██████████| 2/2 [00:00<00:00, 102.41it/s]\n"
          ]
        },
        {
          "output_type": "stream",
          "name": "stdout",
          "text": [
            "\n",
            "Epoch: 104, train_loss=0.0323 val_loss=0.0393 val_acc=0.4455\n"
          ]
        },
        {
          "output_type": "stream",
          "name": "stderr",
          "text": [
            "100%|██████████| 67/67 [00:01<00:00, 36.21it/s]\n",
            "100%|██████████| 2/2 [00:00<00:00, 103.91it/s]\n"
          ]
        },
        {
          "output_type": "stream",
          "name": "stdout",
          "text": [
            "\n",
            "Epoch: 105, train_loss=0.0321 val_loss=0.0395 val_acc=0.4364\n"
          ]
        },
        {
          "output_type": "stream",
          "name": "stderr",
          "text": [
            "100%|██████████| 67/67 [00:01<00:00, 37.00it/s]\n",
            "100%|██████████| 2/2 [00:00<00:00, 105.93it/s]\n"
          ]
        },
        {
          "output_type": "stream",
          "name": "stdout",
          "text": [
            "\n",
            "Epoch: 106, train_loss=0.0320 val_loss=0.0395 val_acc=0.4545\n"
          ]
        },
        {
          "output_type": "stream",
          "name": "stderr",
          "text": [
            "100%|██████████| 67/67 [00:01<00:00, 36.70it/s]\n",
            "100%|██████████| 2/2 [00:00<00:00, 91.89it/s]\n"
          ]
        },
        {
          "output_type": "stream",
          "name": "stdout",
          "text": [
            "\n",
            "Epoch: 107, train_loss=0.0322 val_loss=0.0393 val_acc=0.4545\n"
          ]
        },
        {
          "output_type": "stream",
          "name": "stderr",
          "text": [
            "100%|██████████| 67/67 [00:01<00:00, 36.72it/s]\n",
            "100%|██████████| 2/2 [00:00<00:00, 104.14it/s]\n"
          ]
        },
        {
          "output_type": "stream",
          "name": "stdout",
          "text": [
            "\n",
            "Epoch: 108, train_loss=0.0319 val_loss=0.0397 val_acc=0.4364\n"
          ]
        },
        {
          "output_type": "stream",
          "name": "stderr",
          "text": [
            "100%|██████████| 67/67 [00:01<00:00, 36.96it/s]\n",
            "100%|██████████| 2/2 [00:00<00:00, 99.62it/s]\n"
          ]
        },
        {
          "output_type": "stream",
          "name": "stdout",
          "text": [
            "\n",
            "Epoch: 109, train_loss=0.0324 val_loss=0.0395 val_acc=0.4364\n"
          ]
        },
        {
          "output_type": "stream",
          "name": "stderr",
          "text": [
            "100%|██████████| 67/67 [00:01<00:00, 37.64it/s]\n",
            "100%|██████████| 2/2 [00:00<00:00, 102.63it/s]\n"
          ]
        },
        {
          "output_type": "stream",
          "name": "stdout",
          "text": [
            "\n",
            "Epoch: 110, train_loss=0.0322 val_loss=0.0392 val_acc=0.4364\n"
          ]
        },
        {
          "output_type": "stream",
          "name": "stderr",
          "text": [
            "100%|██████████| 67/67 [00:01<00:00, 37.73it/s]\n",
            "100%|██████████| 2/2 [00:00<00:00, 108.72it/s]\n"
          ]
        },
        {
          "output_type": "stream",
          "name": "stdout",
          "text": [
            "\n",
            "Epoch: 111, train_loss=0.0321 val_loss=0.0394 val_acc=0.4364\n"
          ]
        },
        {
          "output_type": "stream",
          "name": "stderr",
          "text": [
            "100%|██████████| 67/67 [00:01<00:00, 36.39it/s]\n",
            "100%|██████████| 2/2 [00:00<00:00, 102.30it/s]\n"
          ]
        },
        {
          "output_type": "stream",
          "name": "stdout",
          "text": [
            "\n",
            "Epoch: 112, train_loss=0.0318 val_loss=0.0397 val_acc=0.4545\n"
          ]
        },
        {
          "output_type": "stream",
          "name": "stderr",
          "text": [
            "100%|██████████| 67/67 [00:01<00:00, 36.20it/s]\n",
            "100%|██████████| 2/2 [00:00<00:00, 100.54it/s]\n"
          ]
        },
        {
          "output_type": "stream",
          "name": "stdout",
          "text": [
            "\n",
            "Epoch: 113, train_loss=0.0317 val_loss=0.0394 val_acc=0.4636\n"
          ]
        },
        {
          "output_type": "stream",
          "name": "stderr",
          "text": [
            "100%|██████████| 67/67 [00:01<00:00, 37.68it/s]\n",
            "100%|██████████| 2/2 [00:00<00:00, 108.22it/s]\n"
          ]
        },
        {
          "output_type": "stream",
          "name": "stdout",
          "text": [
            "\n",
            "Epoch: 114, train_loss=0.0325 val_loss=0.0394 val_acc=0.4636\n"
          ]
        },
        {
          "output_type": "stream",
          "name": "stderr",
          "text": [
            "100%|██████████| 67/67 [00:01<00:00, 37.48it/s]\n",
            "100%|██████████| 2/2 [00:00<00:00, 112.06it/s]\n"
          ]
        },
        {
          "output_type": "stream",
          "name": "stdout",
          "text": [
            "\n",
            "Epoch: 115, train_loss=0.0317 val_loss=0.0392 val_acc=0.4545\n"
          ]
        },
        {
          "output_type": "stream",
          "name": "stderr",
          "text": [
            "100%|██████████| 67/67 [00:01<00:00, 37.48it/s]\n",
            "100%|██████████| 2/2 [00:00<00:00, 104.67it/s]\n"
          ]
        },
        {
          "output_type": "stream",
          "name": "stdout",
          "text": [
            "\n",
            "Epoch: 116, train_loss=0.0318 val_loss=0.0399 val_acc=0.4273\n"
          ]
        },
        {
          "output_type": "stream",
          "name": "stderr",
          "text": [
            "100%|██████████| 67/67 [00:01<00:00, 37.56it/s]\n",
            "100%|██████████| 2/2 [00:00<00:00, 106.68it/s]\n"
          ]
        },
        {
          "output_type": "stream",
          "name": "stdout",
          "text": [
            "\n",
            "Epoch: 117, train_loss=0.0319 val_loss=0.0395 val_acc=0.4455\n"
          ]
        },
        {
          "output_type": "stream",
          "name": "stderr",
          "text": [
            "100%|██████████| 67/67 [00:01<00:00, 37.66it/s]\n",
            "100%|██████████| 2/2 [00:00<00:00, 103.52it/s]\n"
          ]
        },
        {
          "output_type": "stream",
          "name": "stdout",
          "text": [
            "\n",
            "Epoch: 118, train_loss=0.0316 val_loss=0.0392 val_acc=0.4545\n"
          ]
        },
        {
          "output_type": "stream",
          "name": "stderr",
          "text": [
            "100%|██████████| 67/67 [00:01<00:00, 36.45it/s]\n",
            "100%|██████████| 2/2 [00:00<00:00, 87.59it/s]\n"
          ]
        },
        {
          "output_type": "stream",
          "name": "stdout",
          "text": [
            "\n",
            "Epoch: 119, train_loss=0.0317 val_loss=0.0395 val_acc=0.4545\n"
          ]
        },
        {
          "output_type": "stream",
          "name": "stderr",
          "text": [
            "100%|██████████| 67/67 [00:01<00:00, 35.97it/s]\n",
            "100%|██████████| 2/2 [00:00<00:00, 92.46it/s]\n"
          ]
        },
        {
          "output_type": "stream",
          "name": "stdout",
          "text": [
            "\n",
            "Epoch: 120, train_loss=0.0315 val_loss=0.0395 val_acc=0.4455\n"
          ]
        },
        {
          "output_type": "stream",
          "name": "stderr",
          "text": [
            "100%|██████████| 67/67 [00:01<00:00, 37.19it/s]\n",
            "100%|██████████| 2/2 [00:00<00:00, 83.33it/s]\n"
          ]
        },
        {
          "output_type": "stream",
          "name": "stdout",
          "text": [
            "\n",
            "Epoch: 121, train_loss=0.0315 val_loss=0.0391 val_acc=0.4636\n"
          ]
        },
        {
          "output_type": "stream",
          "name": "stderr",
          "text": [
            "100%|██████████| 67/67 [00:01<00:00, 37.53it/s]\n",
            "100%|██████████| 2/2 [00:00<00:00, 104.11it/s]\n"
          ]
        },
        {
          "output_type": "stream",
          "name": "stdout",
          "text": [
            "\n",
            "Epoch: 122, train_loss=0.0316 val_loss=0.0397 val_acc=0.4455\n"
          ]
        },
        {
          "output_type": "stream",
          "name": "stderr",
          "text": [
            "100%|██████████| 67/67 [00:01<00:00, 37.47it/s]\n",
            "100%|██████████| 2/2 [00:00<00:00, 104.91it/s]\n"
          ]
        },
        {
          "output_type": "stream",
          "name": "stdout",
          "text": [
            "\n",
            "Epoch: 123, train_loss=0.0318 val_loss=0.0392 val_acc=0.4545\n"
          ]
        },
        {
          "output_type": "stream",
          "name": "stderr",
          "text": [
            "100%|██████████| 67/67 [00:01<00:00, 37.61it/s]\n",
            "100%|██████████| 2/2 [00:00<00:00, 109.90it/s]\n"
          ]
        },
        {
          "output_type": "stream",
          "name": "stdout",
          "text": [
            "\n",
            "Epoch: 124, train_loss=0.0317 val_loss=0.0394 val_acc=0.4364\n"
          ]
        },
        {
          "output_type": "stream",
          "name": "stderr",
          "text": [
            "100%|██████████| 67/67 [00:01<00:00, 37.43it/s]\n",
            "100%|██████████| 2/2 [00:00<00:00, 106.13it/s]\n"
          ]
        },
        {
          "output_type": "stream",
          "name": "stdout",
          "text": [
            "\n",
            "Epoch: 125, train_loss=0.0325 val_loss=0.0397 val_acc=0.4182\n"
          ]
        },
        {
          "output_type": "stream",
          "name": "stderr",
          "text": [
            "100%|██████████| 67/67 [00:01<00:00, 37.36it/s]\n",
            "100%|██████████| 2/2 [00:00<00:00, 89.94it/s]\n"
          ]
        },
        {
          "output_type": "stream",
          "name": "stdout",
          "text": [
            "\n",
            "Epoch: 126, train_loss=0.0320 val_loss=0.0393 val_acc=0.4636\n"
          ]
        },
        {
          "output_type": "stream",
          "name": "stderr",
          "text": [
            "100%|██████████| 67/67 [00:01<00:00, 36.34it/s]\n",
            "100%|██████████| 2/2 [00:00<00:00, 107.46it/s]\n"
          ]
        },
        {
          "output_type": "stream",
          "name": "stdout",
          "text": [
            "\n",
            "Epoch: 127, train_loss=0.0314 val_loss=0.0393 val_acc=0.4636\n"
          ]
        },
        {
          "output_type": "stream",
          "name": "stderr",
          "text": [
            "100%|██████████| 67/67 [00:01<00:00, 36.60it/s]\n",
            "100%|██████████| 2/2 [00:00<00:00, 108.05it/s]\n"
          ]
        },
        {
          "output_type": "stream",
          "name": "stdout",
          "text": [
            "\n",
            "Epoch: 128, train_loss=0.0314 val_loss=0.0392 val_acc=0.4636\n"
          ]
        },
        {
          "output_type": "stream",
          "name": "stderr",
          "text": [
            "100%|██████████| 67/67 [00:01<00:00, 37.83it/s]\n",
            "100%|██████████| 2/2 [00:00<00:00, 107.57it/s]\n"
          ]
        },
        {
          "output_type": "stream",
          "name": "stdout",
          "text": [
            "\n",
            "Epoch: 129, train_loss=0.0315 val_loss=0.0389 val_acc=0.4545\n"
          ]
        },
        {
          "output_type": "stream",
          "name": "stderr",
          "text": [
            "100%|██████████| 67/67 [00:01<00:00, 37.54it/s]\n",
            "100%|██████████| 2/2 [00:00<00:00, 99.74it/s]\n"
          ]
        },
        {
          "output_type": "stream",
          "name": "stdout",
          "text": [
            "\n",
            "Epoch: 130, train_loss=0.0313 val_loss=0.0386 val_acc=0.4909\n"
          ]
        },
        {
          "output_type": "stream",
          "name": "stderr",
          "text": [
            "100%|██████████| 67/67 [00:01<00:00, 37.44it/s]\n",
            "100%|██████████| 2/2 [00:00<00:00, 104.09it/s]\n"
          ]
        },
        {
          "output_type": "stream",
          "name": "stdout",
          "text": [
            "\n",
            "Epoch: 131, train_loss=0.0315 val_loss=0.0388 val_acc=0.4727\n"
          ]
        },
        {
          "output_type": "stream",
          "name": "stderr",
          "text": [
            "100%|██████████| 67/67 [00:01<00:00, 37.42it/s]\n",
            "100%|██████████| 2/2 [00:00<00:00, 103.76it/s]\n"
          ]
        },
        {
          "output_type": "stream",
          "name": "stdout",
          "text": [
            "\n",
            "Epoch: 132, train_loss=0.0313 val_loss=0.0387 val_acc=0.4727\n"
          ]
        },
        {
          "output_type": "stream",
          "name": "stderr",
          "text": [
            "100%|██████████| 67/67 [00:01<00:00, 36.48it/s]\n",
            "100%|██████████| 2/2 [00:00<00:00, 101.31it/s]\n"
          ]
        },
        {
          "output_type": "stream",
          "name": "stdout",
          "text": [
            "\n",
            "Epoch: 133, train_loss=0.0312 val_loss=0.0387 val_acc=0.4909\n"
          ]
        },
        {
          "output_type": "stream",
          "name": "stderr",
          "text": [
            "100%|██████████| 67/67 [00:01<00:00, 35.91it/s]\n",
            "100%|██████████| 2/2 [00:00<00:00, 102.67it/s]\n"
          ]
        },
        {
          "output_type": "stream",
          "name": "stdout",
          "text": [
            "\n",
            "Epoch: 134, train_loss=0.0312 val_loss=0.0381 val_acc=0.5091\n"
          ]
        },
        {
          "output_type": "stream",
          "name": "stderr",
          "text": [
            "100%|██████████| 67/67 [00:01<00:00, 36.02it/s]\n",
            "100%|██████████| 2/2 [00:00<00:00, 100.99it/s]\n"
          ]
        },
        {
          "output_type": "stream",
          "name": "stdout",
          "text": [
            "\n",
            "Epoch: 135, train_loss=0.0314 val_loss=0.0389 val_acc=0.4818\n"
          ]
        },
        {
          "output_type": "stream",
          "name": "stderr",
          "text": [
            "100%|██████████| 67/67 [00:01<00:00, 36.44it/s]\n",
            "100%|██████████| 2/2 [00:00<00:00, 105.96it/s]\n"
          ]
        },
        {
          "output_type": "stream",
          "name": "stdout",
          "text": [
            "\n",
            "Epoch: 136, train_loss=0.0319 val_loss=0.0392 val_acc=0.4545\n"
          ]
        },
        {
          "output_type": "stream",
          "name": "stderr",
          "text": [
            "100%|██████████| 67/67 [00:01<00:00, 37.34it/s]\n",
            "100%|██████████| 2/2 [00:00<00:00, 105.81it/s]\n"
          ]
        },
        {
          "output_type": "stream",
          "name": "stdout",
          "text": [
            "\n",
            "Epoch: 137, train_loss=0.0315 val_loss=0.0389 val_acc=0.4727\n"
          ]
        },
        {
          "output_type": "stream",
          "name": "stderr",
          "text": [
            "100%|██████████| 67/67 [00:01<00:00, 37.40it/s]\n",
            "100%|██████████| 2/2 [00:00<00:00, 105.37it/s]\n"
          ]
        },
        {
          "output_type": "stream",
          "name": "stdout",
          "text": [
            "\n",
            "Epoch: 138, train_loss=0.0314 val_loss=0.0383 val_acc=0.4909\n"
          ]
        },
        {
          "output_type": "stream",
          "name": "stderr",
          "text": [
            "100%|██████████| 67/67 [00:01<00:00, 37.62it/s]\n",
            "100%|██████████| 2/2 [00:00<00:00, 103.18it/s]\n"
          ]
        },
        {
          "output_type": "stream",
          "name": "stdout",
          "text": [
            "\n",
            "Epoch: 139, train_loss=0.0314 val_loss=0.0387 val_acc=0.4818\n"
          ]
        },
        {
          "output_type": "stream",
          "name": "stderr",
          "text": [
            "100%|██████████| 67/67 [00:01<00:00, 37.36it/s]\n",
            "100%|██████████| 2/2 [00:00<00:00, 103.99it/s]\n"
          ]
        },
        {
          "output_type": "stream",
          "name": "stdout",
          "text": [
            "\n",
            "Epoch: 140, train_loss=0.0313 val_loss=0.0386 val_acc=0.5000\n"
          ]
        },
        {
          "output_type": "stream",
          "name": "stderr",
          "text": [
            "100%|██████████| 67/67 [00:01<00:00, 37.37it/s]\n",
            "100%|██████████| 2/2 [00:00<00:00, 107.83it/s]\n"
          ]
        },
        {
          "output_type": "stream",
          "name": "stdout",
          "text": [
            "\n",
            "Epoch: 141, train_loss=0.0312 val_loss=0.0380 val_acc=0.5273\n"
          ]
        },
        {
          "output_type": "stream",
          "name": "stderr",
          "text": [
            "100%|██████████| 67/67 [00:01<00:00, 36.59it/s]\n",
            "100%|██████████| 2/2 [00:00<00:00, 100.98it/s]\n"
          ]
        },
        {
          "output_type": "stream",
          "name": "stdout",
          "text": [
            "\n",
            "Epoch: 142, train_loss=0.0312 val_loss=0.0393 val_acc=0.4727\n"
          ]
        },
        {
          "output_type": "stream",
          "name": "stderr",
          "text": [
            "100%|██████████| 67/67 [00:01<00:00, 36.73it/s]\n",
            "100%|██████████| 2/2 [00:00<00:00, 96.04it/s]\n"
          ]
        },
        {
          "output_type": "stream",
          "name": "stdout",
          "text": [
            "\n",
            "Epoch: 143, train_loss=0.0313 val_loss=0.0387 val_acc=0.5000\n"
          ]
        },
        {
          "output_type": "stream",
          "name": "stderr",
          "text": [
            "100%|██████████| 67/67 [00:01<00:00, 37.08it/s]\n",
            "100%|██████████| 2/2 [00:00<00:00, 105.47it/s]\n"
          ]
        },
        {
          "output_type": "stream",
          "name": "stdout",
          "text": [
            "\n",
            "Epoch: 144, train_loss=0.0312 val_loss=0.0387 val_acc=0.5091\n"
          ]
        },
        {
          "output_type": "stream",
          "name": "stderr",
          "text": [
            "100%|██████████| 67/67 [00:01<00:00, 37.57it/s]\n",
            "100%|██████████| 2/2 [00:00<00:00, 107.98it/s]\n"
          ]
        },
        {
          "output_type": "stream",
          "name": "stdout",
          "text": [
            "\n",
            "Epoch: 145, train_loss=0.0313 val_loss=0.0386 val_acc=0.5000\n"
          ]
        },
        {
          "output_type": "stream",
          "name": "stderr",
          "text": [
            "100%|██████████| 67/67 [00:01<00:00, 37.34it/s]\n",
            "100%|██████████| 2/2 [00:00<00:00, 109.32it/s]\n"
          ]
        },
        {
          "output_type": "stream",
          "name": "stdout",
          "text": [
            "\n",
            "Epoch: 146, train_loss=0.0313 val_loss=0.0387 val_acc=0.5000\n"
          ]
        },
        {
          "output_type": "stream",
          "name": "stderr",
          "text": [
            "100%|██████████| 67/67 [00:01<00:00, 37.42it/s]\n",
            "100%|██████████| 2/2 [00:00<00:00, 108.76it/s]\n"
          ]
        },
        {
          "output_type": "stream",
          "name": "stdout",
          "text": [
            "\n",
            "Epoch: 147, train_loss=0.0312 val_loss=0.0389 val_acc=0.4636\n"
          ]
        },
        {
          "output_type": "stream",
          "name": "stderr",
          "text": [
            "100%|██████████| 67/67 [00:01<00:00, 37.43it/s]\n",
            "100%|██████████| 2/2 [00:00<00:00, 109.79it/s]\n"
          ]
        },
        {
          "output_type": "stream",
          "name": "stdout",
          "text": [
            "\n",
            "Epoch: 148, train_loss=0.0312 val_loss=0.0380 val_acc=0.5182\n"
          ]
        },
        {
          "output_type": "stream",
          "name": "stderr",
          "text": [
            "100%|██████████| 67/67 [00:01<00:00, 36.97it/s]\n",
            "100%|██████████| 2/2 [00:00<00:00, 88.71it/s]\n"
          ]
        },
        {
          "output_type": "stream",
          "name": "stdout",
          "text": [
            "\n",
            "Epoch: 149, train_loss=0.0311 val_loss=0.0383 val_acc=0.5182\n"
          ]
        },
        {
          "output_type": "stream",
          "name": "stderr",
          "text": [
            "100%|██████████| 67/67 [00:01<00:00, 36.27it/s]\n",
            "100%|██████████| 2/2 [00:00<00:00, 89.34it/s]\n"
          ]
        },
        {
          "output_type": "stream",
          "name": "stdout",
          "text": [
            "\n",
            "Epoch: 150, train_loss=0.0315 val_loss=0.0403 val_acc=0.4000\n"
          ]
        },
        {
          "output_type": "stream",
          "name": "stderr",
          "text": [
            "100%|██████████| 67/67 [00:01<00:00, 36.52it/s]\n",
            "100%|██████████| 2/2 [00:00<00:00, 105.21it/s]\n"
          ]
        },
        {
          "output_type": "stream",
          "name": "stdout",
          "text": [
            "\n",
            "Epoch: 151, train_loss=0.0326 val_loss=0.0390 val_acc=0.4818\n"
          ]
        },
        {
          "output_type": "stream",
          "name": "stderr",
          "text": [
            "100%|██████████| 67/67 [00:01<00:00, 37.51it/s]\n",
            "100%|██████████| 2/2 [00:00<00:00, 104.86it/s]\n"
          ]
        },
        {
          "output_type": "stream",
          "name": "stdout",
          "text": [
            "\n",
            "Epoch: 152, train_loss=0.0314 val_loss=0.0384 val_acc=0.5000\n"
          ]
        },
        {
          "output_type": "stream",
          "name": "stderr",
          "text": [
            "100%|██████████| 67/67 [00:01<00:00, 37.42it/s]\n",
            "100%|██████████| 2/2 [00:00<00:00, 107.99it/s]\n"
          ]
        },
        {
          "output_type": "stream",
          "name": "stdout",
          "text": [
            "\n",
            "Epoch: 153, train_loss=0.0312 val_loss=0.0377 val_acc=0.5273\n"
          ]
        },
        {
          "output_type": "stream",
          "name": "stderr",
          "text": [
            "100%|██████████| 67/67 [00:01<00:00, 37.28it/s]\n",
            "100%|██████████| 2/2 [00:00<00:00, 104.22it/s]\n"
          ]
        },
        {
          "output_type": "stream",
          "name": "stdout",
          "text": [
            "\n",
            "Epoch: 154, train_loss=0.0314 val_loss=0.0382 val_acc=0.5182\n"
          ]
        },
        {
          "output_type": "stream",
          "name": "stderr",
          "text": [
            "100%|██████████| 67/67 [00:01<00:00, 37.53it/s]\n",
            "100%|██████████| 2/2 [00:00<00:00, 102.21it/s]\n"
          ]
        },
        {
          "output_type": "stream",
          "name": "stdout",
          "text": [
            "\n",
            "Epoch: 155, train_loss=0.0311 val_loss=0.0384 val_acc=0.5091\n"
          ]
        },
        {
          "output_type": "stream",
          "name": "stderr",
          "text": [
            "100%|██████████| 67/67 [00:01<00:00, 37.58it/s]\n",
            "100%|██████████| 2/2 [00:00<00:00, 93.22it/s]\n"
          ]
        },
        {
          "output_type": "stream",
          "name": "stdout",
          "text": [
            "\n",
            "Epoch: 156, train_loss=0.0311 val_loss=0.0385 val_acc=0.5000\n"
          ]
        },
        {
          "output_type": "stream",
          "name": "stderr",
          "text": [
            "100%|██████████| 67/67 [00:01<00:00, 36.17it/s]\n",
            "100%|██████████| 2/2 [00:00<00:00, 95.77it/s]\n"
          ]
        },
        {
          "output_type": "stream",
          "name": "stdout",
          "text": [
            "\n",
            "Epoch: 157, train_loss=0.0312 val_loss=0.0389 val_acc=0.4818\n"
          ]
        },
        {
          "output_type": "stream",
          "name": "stderr",
          "text": [
            "100%|██████████| 67/67 [00:01<00:00, 34.55it/s]\n",
            "100%|██████████| 2/2 [00:00<00:00, 97.91it/s]\n"
          ]
        },
        {
          "output_type": "stream",
          "name": "stdout",
          "text": [
            "\n",
            "Epoch: 158, train_loss=0.0314 val_loss=0.0390 val_acc=0.4727\n"
          ]
        },
        {
          "output_type": "stream",
          "name": "stderr",
          "text": [
            "100%|██████████| 67/67 [00:01<00:00, 35.60it/s]\n",
            "100%|██████████| 2/2 [00:00<00:00, 85.18it/s]\n"
          ]
        },
        {
          "output_type": "stream",
          "name": "stdout",
          "text": [
            "\n",
            "Epoch: 159, train_loss=0.0313 val_loss=0.0381 val_acc=0.5182\n"
          ]
        },
        {
          "output_type": "stream",
          "name": "stderr",
          "text": [
            "100%|██████████| 67/67 [00:01<00:00, 36.67it/s]\n",
            "100%|██████████| 2/2 [00:00<00:00, 106.14it/s]\n"
          ]
        },
        {
          "output_type": "stream",
          "name": "stdout",
          "text": [
            "\n",
            "Epoch: 160, train_loss=0.0312 val_loss=0.0382 val_acc=0.5273\n"
          ]
        },
        {
          "output_type": "stream",
          "name": "stderr",
          "text": [
            "100%|██████████| 67/67 [00:01<00:00, 37.40it/s]\n",
            "100%|██████████| 2/2 [00:00<00:00, 105.59it/s]\n"
          ]
        },
        {
          "output_type": "stream",
          "name": "stdout",
          "text": [
            "\n",
            "Epoch: 161, train_loss=0.0311 val_loss=0.0388 val_acc=0.4909\n"
          ]
        },
        {
          "output_type": "stream",
          "name": "stderr",
          "text": [
            "100%|██████████| 67/67 [00:01<00:00, 37.62it/s]\n",
            "100%|██████████| 2/2 [00:00<00:00, 101.66it/s]\n"
          ]
        },
        {
          "output_type": "stream",
          "name": "stdout",
          "text": [
            "\n",
            "Epoch: 162, train_loss=0.0311 val_loss=0.0384 val_acc=0.5091\n"
          ]
        },
        {
          "output_type": "stream",
          "name": "stderr",
          "text": [
            "100%|██████████| 67/67 [00:01<00:00, 37.44it/s]\n",
            "100%|██████████| 2/2 [00:00<00:00, 100.11it/s]\n"
          ]
        },
        {
          "output_type": "stream",
          "name": "stdout",
          "text": [
            "\n",
            "Epoch: 163, train_loss=0.0312 val_loss=0.0382 val_acc=0.5091\n"
          ]
        },
        {
          "output_type": "stream",
          "name": "stderr",
          "text": [
            "100%|██████████| 67/67 [00:01<00:00, 37.38it/s]\n",
            "100%|██████████| 2/2 [00:00<00:00, 112.26it/s]\n"
          ]
        },
        {
          "output_type": "stream",
          "name": "stdout",
          "text": [
            "\n",
            "Epoch: 164, train_loss=0.0311 val_loss=0.0380 val_acc=0.5364\n"
          ]
        },
        {
          "output_type": "stream",
          "name": "stderr",
          "text": [
            "100%|██████████| 67/67 [00:01<00:00, 37.05it/s]\n",
            "100%|██████████| 2/2 [00:00<00:00, 98.90it/s]\n"
          ]
        },
        {
          "output_type": "stream",
          "name": "stdout",
          "text": [
            "\n",
            "Epoch: 165, train_loss=0.0313 val_loss=0.0397 val_acc=0.4091\n"
          ]
        },
        {
          "output_type": "stream",
          "name": "stderr",
          "text": [
            "100%|██████████| 67/67 [00:01<00:00, 36.75it/s]\n",
            "100%|██████████| 2/2 [00:00<00:00, 99.42it/s]\n"
          ]
        },
        {
          "output_type": "stream",
          "name": "stdout",
          "text": [
            "\n",
            "Epoch: 166, train_loss=0.0314 val_loss=0.0380 val_acc=0.5364\n"
          ]
        },
        {
          "output_type": "stream",
          "name": "stderr",
          "text": [
            "100%|██████████| 67/67 [00:01<00:00, 36.71it/s]\n",
            "100%|██████████| 2/2 [00:00<00:00, 106.06it/s]\n"
          ]
        },
        {
          "output_type": "stream",
          "name": "stdout",
          "text": [
            "\n",
            "Epoch: 167, train_loss=0.0313 val_loss=0.0378 val_acc=0.5364\n"
          ]
        },
        {
          "output_type": "stream",
          "name": "stderr",
          "text": [
            "100%|██████████| 67/67 [00:01<00:00, 37.23it/s]\n",
            "100%|██████████| 2/2 [00:00<00:00, 103.94it/s]\n"
          ]
        },
        {
          "output_type": "stream",
          "name": "stdout",
          "text": [
            "\n",
            "Epoch: 168, train_loss=0.0311 val_loss=0.0378 val_acc=0.5273\n"
          ]
        },
        {
          "output_type": "stream",
          "name": "stderr",
          "text": [
            "100%|██████████| 67/67 [00:01<00:00, 37.51it/s]\n",
            "100%|██████████| 2/2 [00:00<00:00, 104.30it/s]\n"
          ]
        },
        {
          "output_type": "stream",
          "name": "stdout",
          "text": [
            "\n",
            "Epoch: 169, train_loss=0.0311 val_loss=0.0378 val_acc=0.5364\n"
          ]
        },
        {
          "output_type": "stream",
          "name": "stderr",
          "text": [
            "100%|██████████| 67/67 [00:01<00:00, 37.44it/s]\n",
            "100%|██████████| 2/2 [00:00<00:00, 110.16it/s]\n"
          ]
        },
        {
          "output_type": "stream",
          "name": "stdout",
          "text": [
            "\n",
            "Epoch: 170, train_loss=0.0315 val_loss=0.0401 val_acc=0.4182\n"
          ]
        },
        {
          "output_type": "stream",
          "name": "stderr",
          "text": [
            "100%|██████████| 67/67 [00:01<00:00, 37.34it/s]\n",
            "100%|██████████| 2/2 [00:00<00:00, 104.18it/s]\n"
          ]
        },
        {
          "output_type": "stream",
          "name": "stdout",
          "text": [
            "\n",
            "Epoch: 171, train_loss=0.0316 val_loss=0.0377 val_acc=0.5545\n"
          ]
        },
        {
          "output_type": "stream",
          "name": "stderr",
          "text": [
            "100%|██████████| 67/67 [00:01<00:00, 37.52it/s]\n",
            "100%|██████████| 2/2 [00:00<00:00, 105.99it/s]\n"
          ]
        },
        {
          "output_type": "stream",
          "name": "stdout",
          "text": [
            "\n",
            "Epoch: 172, train_loss=0.0313 val_loss=0.0382 val_acc=0.5091\n"
          ]
        },
        {
          "output_type": "stream",
          "name": "stderr",
          "text": [
            "100%|██████████| 67/67 [00:01<00:00, 36.16it/s]\n",
            "100%|██████████| 2/2 [00:00<00:00, 88.94it/s]\n"
          ]
        },
        {
          "output_type": "stream",
          "name": "stdout",
          "text": [
            "\n",
            "Epoch: 173, train_loss=0.0313 val_loss=0.0379 val_acc=0.5455\n"
          ]
        },
        {
          "output_type": "stream",
          "name": "stderr",
          "text": [
            "100%|██████████| 67/67 [00:01<00:00, 36.66it/s]\n",
            "100%|██████████| 2/2 [00:00<00:00, 106.72it/s]\n"
          ]
        },
        {
          "output_type": "stream",
          "name": "stdout",
          "text": [
            "\n",
            "Epoch: 174, train_loss=0.0311 val_loss=0.0384 val_acc=0.5091\n"
          ]
        },
        {
          "output_type": "stream",
          "name": "stderr",
          "text": [
            "100%|██████████| 67/67 [00:01<00:00, 37.61it/s]\n",
            "100%|██████████| 2/2 [00:00<00:00, 105.22it/s]\n"
          ]
        },
        {
          "output_type": "stream",
          "name": "stdout",
          "text": [
            "\n",
            "Epoch: 175, train_loss=0.0318 val_loss=0.0388 val_acc=0.5000\n"
          ]
        },
        {
          "output_type": "stream",
          "name": "stderr",
          "text": [
            "100%|██████████| 67/67 [00:01<00:00, 37.53it/s]\n",
            "100%|██████████| 2/2 [00:00<00:00, 106.26it/s]\n"
          ]
        },
        {
          "output_type": "stream",
          "name": "stdout",
          "text": [
            "\n",
            "Epoch: 176, train_loss=0.0317 val_loss=0.0378 val_acc=0.5182\n"
          ]
        },
        {
          "output_type": "stream",
          "name": "stderr",
          "text": [
            "100%|██████████| 67/67 [00:01<00:00, 37.43it/s]\n",
            "100%|██████████| 2/2 [00:00<00:00, 108.43it/s]\n"
          ]
        },
        {
          "output_type": "stream",
          "name": "stdout",
          "text": [
            "\n",
            "Epoch: 177, train_loss=0.0312 val_loss=0.0377 val_acc=0.5455\n"
          ]
        },
        {
          "output_type": "stream",
          "name": "stderr",
          "text": [
            "100%|██████████| 67/67 [00:01<00:00, 37.46it/s]\n",
            "100%|██████████| 2/2 [00:00<00:00, 106.83it/s]\n"
          ]
        },
        {
          "output_type": "stream",
          "name": "stdout",
          "text": [
            "\n",
            "Epoch: 178, train_loss=0.0312 val_loss=0.0373 val_acc=0.5636\n"
          ]
        },
        {
          "output_type": "stream",
          "name": "stderr",
          "text": [
            "100%|██████████| 67/67 [00:01<00:00, 37.60it/s]\n",
            "100%|██████████| 2/2 [00:00<00:00, 105.09it/s]\n"
          ]
        },
        {
          "output_type": "stream",
          "name": "stdout",
          "text": [
            "\n",
            "Epoch: 179, train_loss=0.0309 val_loss=0.0383 val_acc=0.5455\n"
          ]
        },
        {
          "output_type": "stream",
          "name": "stderr",
          "text": [
            "100%|██████████| 67/67 [00:01<00:00, 36.71it/s]\n",
            "100%|██████████| 2/2 [00:00<00:00, 71.06it/s]\n"
          ]
        },
        {
          "output_type": "stream",
          "name": "stdout",
          "text": [
            "\n",
            "Epoch: 180, train_loss=0.0310 val_loss=0.0380 val_acc=0.5364\n"
          ]
        },
        {
          "output_type": "stream",
          "name": "stderr",
          "text": [
            "100%|██████████| 67/67 [00:01<00:00, 36.34it/s]\n",
            "100%|██████████| 2/2 [00:00<00:00, 88.76it/s]\n"
          ]
        },
        {
          "output_type": "stream",
          "name": "stdout",
          "text": [
            "\n",
            "Epoch: 181, train_loss=0.0310 val_loss=0.0383 val_acc=0.5091\n"
          ]
        },
        {
          "output_type": "stream",
          "name": "stderr",
          "text": [
            "100%|██████████| 67/67 [00:01<00:00, 36.36it/s]\n",
            "100%|██████████| 2/2 [00:00<00:00, 102.66it/s]\n"
          ]
        },
        {
          "output_type": "stream",
          "name": "stdout",
          "text": [
            "\n",
            "Epoch: 182, train_loss=0.0311 val_loss=0.0379 val_acc=0.5455\n"
          ]
        },
        {
          "output_type": "stream",
          "name": "stderr",
          "text": [
            "100%|██████████| 67/67 [00:01<00:00, 36.25it/s]\n",
            "100%|██████████| 2/2 [00:00<00:00, 76.64it/s]\n"
          ]
        },
        {
          "output_type": "stream",
          "name": "stdout",
          "text": [
            "\n",
            "Epoch: 183, train_loss=0.0311 val_loss=0.0373 val_acc=0.5545\n"
          ]
        },
        {
          "output_type": "stream",
          "name": "stderr",
          "text": [
            "100%|██████████| 67/67 [00:01<00:00, 36.74it/s]\n",
            "100%|██████████| 2/2 [00:00<00:00, 105.86it/s]\n"
          ]
        },
        {
          "output_type": "stream",
          "name": "stdout",
          "text": [
            "\n",
            "Epoch: 184, train_loss=0.0309 val_loss=0.0384 val_acc=0.5091\n"
          ]
        },
        {
          "output_type": "stream",
          "name": "stderr",
          "text": [
            "100%|██████████| 67/67 [00:01<00:00, 37.36it/s]\n",
            "100%|██████████| 2/2 [00:00<00:00, 105.62it/s]\n"
          ]
        },
        {
          "output_type": "stream",
          "name": "stdout",
          "text": [
            "\n",
            "Epoch: 185, train_loss=0.0311 val_loss=0.0381 val_acc=0.5182\n"
          ]
        },
        {
          "output_type": "stream",
          "name": "stderr",
          "text": [
            "100%|██████████| 67/67 [00:01<00:00, 37.46it/s]\n",
            "100%|██████████| 2/2 [00:00<00:00, 102.74it/s]\n"
          ]
        },
        {
          "output_type": "stream",
          "name": "stdout",
          "text": [
            "\n",
            "Epoch: 186, train_loss=0.0310 val_loss=0.0381 val_acc=0.5273\n"
          ]
        },
        {
          "output_type": "stream",
          "name": "stderr",
          "text": [
            "100%|██████████| 67/67 [00:01<00:00, 37.41it/s]\n",
            "100%|██████████| 2/2 [00:00<00:00, 106.08it/s]\n"
          ]
        },
        {
          "output_type": "stream",
          "name": "stdout",
          "text": [
            "\n",
            "Epoch: 187, train_loss=0.0310 val_loss=0.0380 val_acc=0.5182\n"
          ]
        },
        {
          "output_type": "stream",
          "name": "stderr",
          "text": [
            "100%|██████████| 67/67 [00:01<00:00, 36.36it/s]\n",
            "100%|██████████| 2/2 [00:00<00:00, 100.61it/s]\n"
          ]
        },
        {
          "output_type": "stream",
          "name": "stdout",
          "text": [
            "\n",
            "Epoch: 188, train_loss=0.0309 val_loss=0.0388 val_acc=0.5000\n"
          ]
        },
        {
          "output_type": "stream",
          "name": "stderr",
          "text": [
            "100%|██████████| 67/67 [00:01<00:00, 36.40it/s]\n",
            "100%|██████████| 2/2 [00:00<00:00, 106.74it/s]\n"
          ]
        },
        {
          "output_type": "stream",
          "name": "stdout",
          "text": [
            "\n",
            "Epoch: 189, train_loss=0.0311 val_loss=0.0379 val_acc=0.5273\n"
          ]
        },
        {
          "output_type": "stream",
          "name": "stderr",
          "text": [
            "100%|██████████| 67/67 [00:01<00:00, 37.47it/s]\n",
            "100%|██████████| 2/2 [00:00<00:00, 102.97it/s]\n"
          ]
        },
        {
          "output_type": "stream",
          "name": "stdout",
          "text": [
            "\n",
            "Epoch: 190, train_loss=0.0309 val_loss=0.0379 val_acc=0.5364\n"
          ]
        },
        {
          "output_type": "stream",
          "name": "stderr",
          "text": [
            "100%|██████████| 67/67 [00:01<00:00, 37.50it/s]\n",
            "100%|██████████| 2/2 [00:00<00:00, 105.79it/s]\n"
          ]
        },
        {
          "output_type": "stream",
          "name": "stdout",
          "text": [
            "\n",
            "Epoch: 191, train_loss=0.0309 val_loss=0.0376 val_acc=0.5364\n"
          ]
        },
        {
          "output_type": "stream",
          "name": "stderr",
          "text": [
            "100%|██████████| 67/67 [00:01<00:00, 37.31it/s]\n",
            "100%|██████████| 2/2 [00:00<00:00, 105.54it/s]\n"
          ]
        },
        {
          "output_type": "stream",
          "name": "stdout",
          "text": [
            "\n",
            "Epoch: 192, train_loss=0.0308 val_loss=0.0386 val_acc=0.4909\n"
          ]
        },
        {
          "output_type": "stream",
          "name": "stderr",
          "text": [
            "100%|██████████| 67/67 [00:01<00:00, 37.77it/s]\n",
            "100%|██████████| 2/2 [00:00<00:00, 99.39it/s]\n"
          ]
        },
        {
          "output_type": "stream",
          "name": "stdout",
          "text": [
            "\n",
            "Epoch: 193, train_loss=0.0310 val_loss=0.0376 val_acc=0.5364\n"
          ]
        },
        {
          "output_type": "stream",
          "name": "stderr",
          "text": [
            "100%|██████████| 67/67 [00:01<00:00, 37.47it/s]\n",
            "100%|██████████| 2/2 [00:00<00:00, 104.74it/s]\n"
          ]
        },
        {
          "output_type": "stream",
          "name": "stdout",
          "text": [
            "\n",
            "Epoch: 194, train_loss=0.0314 val_loss=0.0373 val_acc=0.5727\n"
          ]
        },
        {
          "output_type": "stream",
          "name": "stderr",
          "text": [
            "100%|██████████| 67/67 [00:01<00:00, 36.96it/s]\n",
            "100%|██████████| 2/2 [00:00<00:00, 100.66it/s]\n"
          ]
        },
        {
          "output_type": "stream",
          "name": "stdout",
          "text": [
            "\n",
            "Epoch: 195, train_loss=0.0309 val_loss=0.0379 val_acc=0.5455\n"
          ]
        },
        {
          "output_type": "stream",
          "name": "stderr",
          "text": [
            "100%|██████████| 67/67 [00:01<00:00, 36.44it/s]\n",
            "100%|██████████| 2/2 [00:00<00:00, 86.79it/s]\n"
          ]
        },
        {
          "output_type": "stream",
          "name": "stdout",
          "text": [
            "\n",
            "Epoch: 196, train_loss=0.0309 val_loss=0.0380 val_acc=0.5273\n"
          ]
        },
        {
          "output_type": "stream",
          "name": "stderr",
          "text": [
            "100%|██████████| 67/67 [00:01<00:00, 37.31it/s]\n",
            "100%|██████████| 2/2 [00:00<00:00, 108.57it/s]\n"
          ]
        },
        {
          "output_type": "stream",
          "name": "stdout",
          "text": [
            "\n",
            "Epoch: 197, train_loss=0.0315 val_loss=0.0380 val_acc=0.5455\n"
          ]
        },
        {
          "output_type": "stream",
          "name": "stderr",
          "text": [
            "100%|██████████| 67/67 [00:01<00:00, 37.29it/s]\n",
            "100%|██████████| 2/2 [00:00<00:00, 101.17it/s]\n"
          ]
        },
        {
          "output_type": "stream",
          "name": "stdout",
          "text": [
            "\n",
            "Epoch: 198, train_loss=0.0316 val_loss=0.0376 val_acc=0.5545\n"
          ]
        },
        {
          "output_type": "stream",
          "name": "stderr",
          "text": [
            "100%|██████████| 67/67 [00:01<00:00, 37.75it/s]\n",
            "100%|██████████| 2/2 [00:00<00:00, 104.12it/s]\n"
          ]
        },
        {
          "output_type": "stream",
          "name": "stdout",
          "text": [
            "\n",
            "Epoch: 199, train_loss=0.0312 val_loss=0.0379 val_acc=0.5273\n"
          ]
        },
        {
          "output_type": "stream",
          "name": "stderr",
          "text": [
            "100%|██████████| 67/67 [00:01<00:00, 37.46it/s]\n",
            "100%|██████████| 2/2 [00:00<00:00, 104.33it/s]\n"
          ]
        },
        {
          "output_type": "stream",
          "name": "stdout",
          "text": [
            "\n",
            "Epoch: 200, train_loss=0.0310 val_loss=0.0378 val_acc=0.5364\n"
          ]
        },
        {
          "output_type": "stream",
          "name": "stderr",
          "text": [
            "100%|██████████| 67/67 [00:01<00:00, 37.39it/s]\n",
            "100%|██████████| 2/2 [00:00<00:00, 103.13it/s]\n"
          ]
        },
        {
          "output_type": "stream",
          "name": "stdout",
          "text": [
            "\n",
            "Epoch: 201, train_loss=0.0308 val_loss=0.0374 val_acc=0.5455\n"
          ]
        },
        {
          "output_type": "stream",
          "name": "stderr",
          "text": [
            "100%|██████████| 67/67 [00:01<00:00, 36.99it/s]\n",
            "100%|██████████| 2/2 [00:00<00:00, 98.47it/s]\n"
          ]
        },
        {
          "output_type": "stream",
          "name": "stdout",
          "text": [
            "\n",
            "Epoch: 202, train_loss=0.0308 val_loss=0.0374 val_acc=0.5364\n"
          ]
        },
        {
          "output_type": "stream",
          "name": "stderr",
          "text": [
            "100%|██████████| 67/67 [00:01<00:00, 36.24it/s]\n",
            "100%|██████████| 2/2 [00:00<00:00, 101.50it/s]\n"
          ]
        },
        {
          "output_type": "stream",
          "name": "stdout",
          "text": [
            "\n",
            "Epoch: 203, train_loss=0.0310 val_loss=0.0377 val_acc=0.5364\n"
          ]
        },
        {
          "output_type": "stream",
          "name": "stderr",
          "text": [
            "100%|██████████| 67/67 [00:01<00:00, 36.76it/s]\n",
            "100%|██████████| 2/2 [00:00<00:00, 108.54it/s]\n"
          ]
        },
        {
          "output_type": "stream",
          "name": "stdout",
          "text": [
            "\n",
            "Epoch: 204, train_loss=0.0307 val_loss=0.0378 val_acc=0.5273\n"
          ]
        },
        {
          "output_type": "stream",
          "name": "stderr",
          "text": [
            "100%|██████████| 67/67 [00:01<00:00, 37.72it/s]\n",
            "100%|██████████| 2/2 [00:00<00:00, 105.85it/s]\n"
          ]
        },
        {
          "output_type": "stream",
          "name": "stdout",
          "text": [
            "\n",
            "Epoch: 205, train_loss=0.0309 val_loss=0.0381 val_acc=0.5364\n"
          ]
        },
        {
          "output_type": "stream",
          "name": "stderr",
          "text": [
            "100%|██████████| 67/67 [00:01<00:00, 37.49it/s]\n",
            "100%|██████████| 2/2 [00:00<00:00, 106.50it/s]\n"
          ]
        },
        {
          "output_type": "stream",
          "name": "stdout",
          "text": [
            "\n",
            "Epoch: 206, train_loss=0.0307 val_loss=0.0379 val_acc=0.5364\n"
          ]
        },
        {
          "output_type": "stream",
          "name": "stderr",
          "text": [
            "100%|██████████| 67/67 [00:01<00:00, 37.07it/s]\n",
            "100%|██████████| 2/2 [00:00<00:00, 102.14it/s]\n"
          ]
        },
        {
          "output_type": "stream",
          "name": "stdout",
          "text": [
            "\n",
            "Epoch: 207, train_loss=0.0307 val_loss=0.0374 val_acc=0.5545\n"
          ]
        },
        {
          "output_type": "stream",
          "name": "stderr",
          "text": [
            "100%|██████████| 67/67 [00:01<00:00, 36.41it/s]\n",
            "100%|██████████| 2/2 [00:00<00:00, 92.08it/s]\n"
          ]
        },
        {
          "output_type": "stream",
          "name": "stdout",
          "text": [
            "\n",
            "Epoch: 208, train_loss=0.0310 val_loss=0.0380 val_acc=0.5364\n"
          ]
        },
        {
          "output_type": "stream",
          "name": "stderr",
          "text": [
            "100%|██████████| 67/67 [00:01<00:00, 36.83it/s]\n",
            "100%|██████████| 2/2 [00:00<00:00, 105.40it/s]\n"
          ]
        },
        {
          "output_type": "stream",
          "name": "stdout",
          "text": [
            "\n",
            "Epoch: 209, train_loss=0.0307 val_loss=0.0378 val_acc=0.5455\n"
          ]
        },
        {
          "output_type": "stream",
          "name": "stderr",
          "text": [
            "100%|██████████| 67/67 [00:01<00:00, 36.80it/s]\n",
            "100%|██████████| 2/2 [00:00<00:00, 80.83it/s]\n"
          ]
        },
        {
          "output_type": "stream",
          "name": "stdout",
          "text": [
            "\n",
            "Epoch: 210, train_loss=0.0307 val_loss=0.0374 val_acc=0.5545\n"
          ]
        },
        {
          "output_type": "stream",
          "name": "stderr",
          "text": [
            "100%|██████████| 67/67 [00:01<00:00, 36.68it/s]\n",
            "100%|██████████| 2/2 [00:00<00:00, 103.66it/s]\n"
          ]
        },
        {
          "output_type": "stream",
          "name": "stdout",
          "text": [
            "\n",
            "Epoch: 211, train_loss=0.0309 val_loss=0.0378 val_acc=0.5273\n"
          ]
        },
        {
          "output_type": "stream",
          "name": "stderr",
          "text": [
            "100%|██████████| 67/67 [00:01<00:00, 37.38it/s]\n",
            "100%|██████████| 2/2 [00:00<00:00, 107.21it/s]\n"
          ]
        },
        {
          "output_type": "stream",
          "name": "stdout",
          "text": [
            "\n",
            "Epoch: 212, train_loss=0.0310 val_loss=0.0370 val_acc=0.5818\n"
          ]
        },
        {
          "output_type": "stream",
          "name": "stderr",
          "text": [
            "100%|██████████| 67/67 [00:01<00:00, 37.68it/s]\n",
            "100%|██████████| 2/2 [00:00<00:00, 105.97it/s]\n"
          ]
        },
        {
          "output_type": "stream",
          "name": "stdout",
          "text": [
            "\n",
            "Epoch: 213, train_loss=0.0307 val_loss=0.0377 val_acc=0.5364\n"
          ]
        },
        {
          "output_type": "stream",
          "name": "stderr",
          "text": [
            "100%|██████████| 67/67 [00:01<00:00, 37.61it/s]\n",
            "100%|██████████| 2/2 [00:00<00:00, 106.04it/s]\n"
          ]
        },
        {
          "output_type": "stream",
          "name": "stdout",
          "text": [
            "\n",
            "Epoch: 214, train_loss=0.0307 val_loss=0.0380 val_acc=0.5091\n"
          ]
        },
        {
          "output_type": "stream",
          "name": "stderr",
          "text": [
            "100%|██████████| 67/67 [00:01<00:00, 37.53it/s]\n",
            "100%|██████████| 2/2 [00:00<00:00, 88.72it/s]\n"
          ]
        },
        {
          "output_type": "stream",
          "name": "stdout",
          "text": [
            "\n",
            "Epoch: 215, train_loss=0.0309 val_loss=0.0374 val_acc=0.5455\n"
          ]
        },
        {
          "output_type": "stream",
          "name": "stderr",
          "text": [
            "100%|██████████| 67/67 [00:01<00:00, 37.57it/s]\n",
            "100%|██████████| 2/2 [00:00<00:00, 103.40it/s]\n"
          ]
        },
        {
          "output_type": "stream",
          "name": "stdout",
          "text": [
            "\n",
            "Epoch: 216, train_loss=0.0308 val_loss=0.0382 val_acc=0.5182\n"
          ]
        },
        {
          "output_type": "stream",
          "name": "stderr",
          "text": [
            "100%|██████████| 67/67 [00:01<00:00, 37.14it/s]\n",
            "100%|██████████| 2/2 [00:00<00:00, 98.85it/s]\n"
          ]
        },
        {
          "output_type": "stream",
          "name": "stdout",
          "text": [
            "\n",
            "Epoch: 217, train_loss=0.0308 val_loss=0.0376 val_acc=0.5364\n"
          ]
        },
        {
          "output_type": "stream",
          "name": "stderr",
          "text": [
            "100%|██████████| 67/67 [00:01<00:00, 36.33it/s]\n",
            "100%|██████████| 2/2 [00:00<00:00, 100.24it/s]\n"
          ]
        },
        {
          "output_type": "stream",
          "name": "stdout",
          "text": [
            "\n",
            "Epoch: 218, train_loss=0.0306 val_loss=0.0389 val_acc=0.4727\n"
          ]
        },
        {
          "output_type": "stream",
          "name": "stderr",
          "text": [
            "100%|██████████| 67/67 [00:01<00:00, 37.03it/s]\n",
            "100%|██████████| 2/2 [00:00<00:00, 105.69it/s]\n"
          ]
        },
        {
          "output_type": "stream",
          "name": "stdout",
          "text": [
            "\n",
            "Epoch: 219, train_loss=0.0312 val_loss=0.0379 val_acc=0.5364\n"
          ]
        },
        {
          "output_type": "stream",
          "name": "stderr",
          "text": [
            "100%|██████████| 67/67 [00:01<00:00, 37.27it/s]\n",
            "100%|██████████| 2/2 [00:00<00:00, 113.79it/s]\n"
          ]
        },
        {
          "output_type": "stream",
          "name": "stdout",
          "text": [
            "\n",
            "Epoch: 220, train_loss=0.0306 val_loss=0.0376 val_acc=0.5636\n"
          ]
        },
        {
          "output_type": "stream",
          "name": "stderr",
          "text": [
            "100%|██████████| 67/67 [00:01<00:00, 37.41it/s]\n",
            "100%|██████████| 2/2 [00:00<00:00, 106.02it/s]\n"
          ]
        },
        {
          "output_type": "stream",
          "name": "stdout",
          "text": [
            "\n",
            "Epoch: 221, train_loss=0.0305 val_loss=0.0373 val_acc=0.5818\n"
          ]
        },
        {
          "output_type": "stream",
          "name": "stderr",
          "text": [
            "100%|██████████| 67/67 [00:01<00:00, 37.44it/s]\n",
            "100%|██████████| 2/2 [00:00<00:00, 106.67it/s]\n"
          ]
        },
        {
          "output_type": "stream",
          "name": "stdout",
          "text": [
            "\n",
            "Epoch: 222, train_loss=0.0304 val_loss=0.0373 val_acc=0.5636\n"
          ]
        },
        {
          "output_type": "stream",
          "name": "stderr",
          "text": [
            "100%|██████████| 67/67 [00:01<00:00, 37.47it/s]\n",
            "100%|██████████| 2/2 [00:00<00:00, 106.10it/s]\n"
          ]
        },
        {
          "output_type": "stream",
          "name": "stdout",
          "text": [
            "\n",
            "Epoch: 223, train_loss=0.0307 val_loss=0.0378 val_acc=0.5364\n"
          ]
        },
        {
          "output_type": "stream",
          "name": "stderr",
          "text": [
            "100%|██████████| 67/67 [00:01<00:00, 37.69it/s]\n",
            "100%|██████████| 2/2 [00:00<00:00, 106.50it/s]\n"
          ]
        },
        {
          "output_type": "stream",
          "name": "stdout",
          "text": [
            "\n",
            "Epoch: 224, train_loss=0.0306 val_loss=0.0379 val_acc=0.5182\n"
          ]
        },
        {
          "output_type": "stream",
          "name": "stderr",
          "text": [
            "100%|██████████| 67/67 [00:01<00:00, 36.43it/s]\n",
            "100%|██████████| 2/2 [00:00<00:00, 101.01it/s]\n"
          ]
        },
        {
          "output_type": "stream",
          "name": "stdout",
          "text": [
            "\n",
            "Epoch: 225, train_loss=0.0302 val_loss=0.0370 val_acc=0.5818\n"
          ]
        },
        {
          "output_type": "stream",
          "name": "stderr",
          "text": [
            "100%|██████████| 67/67 [00:01<00:00, 36.57it/s]\n",
            "100%|██████████| 2/2 [00:00<00:00, 107.71it/s]\n"
          ]
        },
        {
          "output_type": "stream",
          "name": "stdout",
          "text": [
            "\n",
            "Epoch: 226, train_loss=0.0304 val_loss=0.0374 val_acc=0.5636\n"
          ]
        },
        {
          "output_type": "stream",
          "name": "stderr",
          "text": [
            "100%|██████████| 67/67 [00:01<00:00, 37.68it/s]\n",
            "100%|██████████| 2/2 [00:00<00:00, 107.42it/s]\n"
          ]
        },
        {
          "output_type": "stream",
          "name": "stdout",
          "text": [
            "\n",
            "Epoch: 227, train_loss=0.0302 val_loss=0.0373 val_acc=0.5818\n"
          ]
        },
        {
          "output_type": "stream",
          "name": "stderr",
          "text": [
            "100%|██████████| 67/67 [00:01<00:00, 37.67it/s]\n",
            "100%|██████████| 2/2 [00:00<00:00, 104.34it/s]\n"
          ]
        },
        {
          "output_type": "stream",
          "name": "stdout",
          "text": [
            "\n",
            "Epoch: 228, train_loss=0.0302 val_loss=0.0373 val_acc=0.5455\n"
          ]
        },
        {
          "output_type": "stream",
          "name": "stderr",
          "text": [
            "100%|██████████| 67/67 [00:01<00:00, 37.46it/s]\n",
            "100%|██████████| 2/2 [00:00<00:00, 103.41it/s]\n"
          ]
        },
        {
          "output_type": "stream",
          "name": "stdout",
          "text": [
            "\n",
            "Epoch: 229, train_loss=0.0301 val_loss=0.0375 val_acc=0.5545\n"
          ]
        },
        {
          "output_type": "stream",
          "name": "stderr",
          "text": [
            "100%|██████████| 67/67 [00:01<00:00, 37.58it/s]\n",
            "100%|██████████| 2/2 [00:00<00:00, 107.69it/s]\n"
          ]
        },
        {
          "output_type": "stream",
          "name": "stdout",
          "text": [
            "\n",
            "Epoch: 230, train_loss=0.0300 val_loss=0.0371 val_acc=0.5727\n"
          ]
        },
        {
          "output_type": "stream",
          "name": "stderr",
          "text": [
            "100%|██████████| 67/67 [00:01<00:00, 37.62it/s]\n",
            "100%|██████████| 2/2 [00:00<00:00, 88.73it/s]\n"
          ]
        },
        {
          "output_type": "stream",
          "name": "stdout",
          "text": [
            "\n",
            "Epoch: 231, train_loss=0.0302 val_loss=0.0371 val_acc=0.5727\n"
          ]
        },
        {
          "output_type": "stream",
          "name": "stderr",
          "text": [
            "100%|██████████| 67/67 [00:01<00:00, 36.19it/s]\n",
            "100%|██████████| 2/2 [00:00<00:00, 99.71it/s]\n"
          ]
        },
        {
          "output_type": "stream",
          "name": "stdout",
          "text": [
            "\n",
            "Epoch: 232, train_loss=0.0300 val_loss=0.0377 val_acc=0.5364\n"
          ]
        },
        {
          "output_type": "stream",
          "name": "stderr",
          "text": [
            "100%|██████████| 67/67 [00:01<00:00, 36.52it/s]\n",
            "100%|██████████| 2/2 [00:00<00:00, 88.96it/s]\n"
          ]
        },
        {
          "output_type": "stream",
          "name": "stdout",
          "text": [
            "\n",
            "Epoch: 233, train_loss=0.0301 val_loss=0.0378 val_acc=0.5273\n"
          ]
        },
        {
          "output_type": "stream",
          "name": "stderr",
          "text": [
            "100%|██████████| 67/67 [00:01<00:00, 35.37it/s]\n",
            "100%|██████████| 2/2 [00:00<00:00, 90.28it/s]\n"
          ]
        },
        {
          "output_type": "stream",
          "name": "stdout",
          "text": [
            "\n",
            "Epoch: 234, train_loss=0.0303 val_loss=0.0377 val_acc=0.5455\n"
          ]
        },
        {
          "output_type": "stream",
          "name": "stderr",
          "text": [
            "100%|██████████| 67/67 [00:01<00:00, 35.32it/s]\n",
            "100%|██████████| 2/2 [00:00<00:00, 89.05it/s]\n"
          ]
        },
        {
          "output_type": "stream",
          "name": "stdout",
          "text": [
            "\n",
            "Epoch: 235, train_loss=0.0300 val_loss=0.0375 val_acc=0.5636\n"
          ]
        },
        {
          "output_type": "stream",
          "name": "stderr",
          "text": [
            "100%|██████████| 67/67 [00:01<00:00, 37.35it/s]\n",
            "100%|██████████| 2/2 [00:00<00:00, 104.80it/s]\n"
          ]
        },
        {
          "output_type": "stream",
          "name": "stdout",
          "text": [
            "\n",
            "Epoch: 236, train_loss=0.0301 val_loss=0.0379 val_acc=0.5364\n"
          ]
        },
        {
          "output_type": "stream",
          "name": "stderr",
          "text": [
            "100%|██████████| 67/67 [00:01<00:00, 37.64it/s]\n",
            "100%|██████████| 2/2 [00:00<00:00, 109.73it/s]\n"
          ]
        },
        {
          "output_type": "stream",
          "name": "stdout",
          "text": [
            "\n",
            "Epoch: 237, train_loss=0.0307 val_loss=0.0371 val_acc=0.5727\n"
          ]
        },
        {
          "output_type": "stream",
          "name": "stderr",
          "text": [
            "100%|██████████| 67/67 [00:01<00:00, 37.75it/s]\n",
            "100%|██████████| 2/2 [00:00<00:00, 103.65it/s]\n"
          ]
        },
        {
          "output_type": "stream",
          "name": "stdout",
          "text": [
            "\n",
            "Epoch: 238, train_loss=0.0304 val_loss=0.0374 val_acc=0.5455\n"
          ]
        },
        {
          "output_type": "stream",
          "name": "stderr",
          "text": [
            "100%|██████████| 67/67 [00:01<00:00, 37.55it/s]\n",
            "100%|██████████| 2/2 [00:00<00:00, 106.10it/s]\n"
          ]
        },
        {
          "output_type": "stream",
          "name": "stdout",
          "text": [
            "\n",
            "Epoch: 239, train_loss=0.0301 val_loss=0.0375 val_acc=0.5545\n"
          ]
        },
        {
          "output_type": "stream",
          "name": "stderr",
          "text": [
            "100%|██████████| 67/67 [00:01<00:00, 37.76it/s]\n",
            "100%|██████████| 2/2 [00:00<00:00, 100.68it/s]\n"
          ]
        },
        {
          "output_type": "stream",
          "name": "stdout",
          "text": [
            "\n",
            "Epoch: 240, train_loss=0.0298 val_loss=0.0378 val_acc=0.5364\n"
          ]
        },
        {
          "output_type": "stream",
          "name": "stderr",
          "text": [
            "100%|██████████| 67/67 [00:01<00:00, 36.79it/s]\n",
            "100%|██████████| 2/2 [00:00<00:00, 99.74it/s]\n"
          ]
        },
        {
          "output_type": "stream",
          "name": "stdout",
          "text": [
            "\n",
            "Epoch: 241, train_loss=0.0303 val_loss=0.0371 val_acc=0.5909\n"
          ]
        },
        {
          "output_type": "stream",
          "name": "stderr",
          "text": [
            "100%|██████████| 67/67 [00:01<00:00, 36.75it/s]\n",
            "100%|██████████| 2/2 [00:00<00:00, 102.95it/s]\n"
          ]
        },
        {
          "output_type": "stream",
          "name": "stdout",
          "text": [
            "\n",
            "Epoch: 242, train_loss=0.0299 val_loss=0.0370 val_acc=0.5909\n"
          ]
        },
        {
          "output_type": "stream",
          "name": "stderr",
          "text": [
            "100%|██████████| 67/67 [00:01<00:00, 36.92it/s]\n",
            "100%|██████████| 2/2 [00:00<00:00, 99.67it/s]\n"
          ]
        },
        {
          "output_type": "stream",
          "name": "stdout",
          "text": [
            "\n",
            "Epoch: 243, train_loss=0.0298 val_loss=0.0378 val_acc=0.5364\n"
          ]
        },
        {
          "output_type": "stream",
          "name": "stderr",
          "text": [
            "100%|██████████| 67/67 [00:01<00:00, 37.73it/s]\n",
            "100%|██████████| 2/2 [00:00<00:00, 107.57it/s]\n"
          ]
        },
        {
          "output_type": "stream",
          "name": "stdout",
          "text": [
            "\n",
            "Epoch: 244, train_loss=0.0299 val_loss=0.0379 val_acc=0.5273\n"
          ]
        },
        {
          "output_type": "stream",
          "name": "stderr",
          "text": [
            "100%|██████████| 67/67 [00:01<00:00, 37.56it/s]\n",
            "100%|██████████| 2/2 [00:00<00:00, 105.01it/s]\n"
          ]
        },
        {
          "output_type": "stream",
          "name": "stdout",
          "text": [
            "\n",
            "Epoch: 245, train_loss=0.0300 val_loss=0.0375 val_acc=0.5545\n"
          ]
        },
        {
          "output_type": "stream",
          "name": "stderr",
          "text": [
            "100%|██████████| 67/67 [00:01<00:00, 37.69it/s]\n",
            "100%|██████████| 2/2 [00:00<00:00, 113.03it/s]\n"
          ]
        },
        {
          "output_type": "stream",
          "name": "stdout",
          "text": [
            "\n",
            "Epoch: 246, train_loss=0.0300 val_loss=0.0376 val_acc=0.5455\n"
          ]
        },
        {
          "output_type": "stream",
          "name": "stderr",
          "text": [
            "100%|██████████| 67/67 [00:01<00:00, 37.71it/s]\n",
            "100%|██████████| 2/2 [00:00<00:00, 102.97it/s]\n"
          ]
        },
        {
          "output_type": "stream",
          "name": "stdout",
          "text": [
            "\n",
            "Epoch: 247, train_loss=0.0298 val_loss=0.0373 val_acc=0.5727\n"
          ]
        },
        {
          "output_type": "stream",
          "name": "stderr",
          "text": [
            "100%|██████████| 67/67 [00:01<00:00, 37.56it/s]\n",
            "100%|██████████| 2/2 [00:00<00:00, 97.25it/s]\n"
          ]
        },
        {
          "output_type": "stream",
          "name": "stdout",
          "text": [
            "\n",
            "Epoch: 248, train_loss=0.0303 val_loss=0.0373 val_acc=0.5636\n"
          ]
        },
        {
          "output_type": "stream",
          "name": "stderr",
          "text": [
            "100%|██████████| 67/67 [00:01<00:00, 36.35it/s]\n",
            "100%|██████████| 2/2 [00:00<00:00, 102.54it/s]\n"
          ]
        },
        {
          "output_type": "stream",
          "name": "stdout",
          "text": [
            "\n",
            "Epoch: 249, train_loss=0.0298 val_loss=0.0373 val_acc=0.5364\n"
          ]
        },
        {
          "output_type": "stream",
          "name": "stderr",
          "text": [
            "100%|██████████| 67/67 [00:01<00:00, 36.70it/s]\n",
            "100%|██████████| 2/2 [00:00<00:00, 107.59it/s]\n"
          ]
        },
        {
          "output_type": "stream",
          "name": "stdout",
          "text": [
            "\n",
            "Epoch: 250, train_loss=0.0298 val_loss=0.0368 val_acc=0.5909\n"
          ]
        },
        {
          "output_type": "stream",
          "name": "stderr",
          "text": [
            "100%|██████████| 67/67 [00:01<00:00, 37.58it/s]\n",
            "100%|██████████| 2/2 [00:00<00:00, 107.42it/s]\n"
          ]
        },
        {
          "output_type": "stream",
          "name": "stdout",
          "text": [
            "\n",
            "Epoch: 251, train_loss=0.0299 val_loss=0.0374 val_acc=0.5455\n"
          ]
        },
        {
          "output_type": "stream",
          "name": "stderr",
          "text": [
            "100%|██████████| 67/67 [00:01<00:00, 37.41it/s]\n",
            "100%|██████████| 2/2 [00:00<00:00, 109.30it/s]\n"
          ]
        },
        {
          "output_type": "stream",
          "name": "stdout",
          "text": [
            "\n",
            "Epoch: 252, train_loss=0.0298 val_loss=0.0369 val_acc=0.5818\n"
          ]
        },
        {
          "output_type": "stream",
          "name": "stderr",
          "text": [
            "100%|██████████| 67/67 [00:01<00:00, 37.59it/s]\n",
            "100%|██████████| 2/2 [00:00<00:00, 106.15it/s]\n"
          ]
        },
        {
          "output_type": "stream",
          "name": "stdout",
          "text": [
            "\n",
            "Epoch: 253, train_loss=0.0299 val_loss=0.0369 val_acc=0.5909\n"
          ]
        },
        {
          "output_type": "stream",
          "name": "stderr",
          "text": [
            "100%|██████████| 67/67 [00:01<00:00, 37.46it/s]\n",
            "100%|██████████| 2/2 [00:00<00:00, 103.24it/s]\n"
          ]
        },
        {
          "output_type": "stream",
          "name": "stdout",
          "text": [
            "\n",
            "Epoch: 254, train_loss=0.0297 val_loss=0.0375 val_acc=0.5545\n"
          ]
        },
        {
          "output_type": "stream",
          "name": "stderr",
          "text": [
            "100%|██████████| 67/67 [00:01<00:00, 37.56it/s]\n",
            "100%|██████████| 2/2 [00:00<00:00, 109.68it/s]\n"
          ]
        },
        {
          "output_type": "stream",
          "name": "stdout",
          "text": [
            "\n",
            "Epoch: 255, train_loss=0.0298 val_loss=0.0373 val_acc=0.5727\n"
          ]
        },
        {
          "output_type": "stream",
          "name": "stderr",
          "text": [
            "100%|██████████| 67/67 [00:01<00:00, 36.57it/s]\n",
            "100%|██████████| 2/2 [00:00<00:00, 105.69it/s]\n"
          ]
        },
        {
          "output_type": "stream",
          "name": "stdout",
          "text": [
            "\n",
            "Epoch: 256, train_loss=0.0296 val_loss=0.0373 val_acc=0.5727\n"
          ]
        },
        {
          "output_type": "stream",
          "name": "stderr",
          "text": [
            "100%|██████████| 67/67 [00:01<00:00, 35.65it/s]\n",
            "100%|██████████| 2/2 [00:00<00:00, 83.45it/s]\n"
          ]
        },
        {
          "output_type": "stream",
          "name": "stdout",
          "text": [
            "\n",
            "Epoch: 257, train_loss=0.0297 val_loss=0.0371 val_acc=0.5909\n"
          ]
        },
        {
          "output_type": "stream",
          "name": "stderr",
          "text": [
            "100%|██████████| 67/67 [00:01<00:00, 35.58it/s]\n",
            "100%|██████████| 2/2 [00:00<00:00, 103.41it/s]\n"
          ]
        },
        {
          "output_type": "stream",
          "name": "stdout",
          "text": [
            "\n",
            "Epoch: 258, train_loss=0.0296 val_loss=0.0376 val_acc=0.5636\n"
          ]
        },
        {
          "output_type": "stream",
          "name": "stderr",
          "text": [
            "100%|██████████| 67/67 [00:01<00:00, 36.07it/s]\n",
            "100%|██████████| 2/2 [00:00<00:00, 82.49it/s]\n"
          ]
        },
        {
          "output_type": "stream",
          "name": "stdout",
          "text": [
            "\n",
            "Epoch: 259, train_loss=0.0297 val_loss=0.0372 val_acc=0.5727\n"
          ]
        },
        {
          "output_type": "stream",
          "name": "stderr",
          "text": [
            "100%|██████████| 67/67 [00:01<00:00, 37.30it/s]\n",
            "100%|██████████| 2/2 [00:00<00:00, 104.12it/s]\n"
          ]
        },
        {
          "output_type": "stream",
          "name": "stdout",
          "text": [
            "\n",
            "Epoch: 260, train_loss=0.0297 val_loss=0.0369 val_acc=0.5909\n"
          ]
        },
        {
          "output_type": "stream",
          "name": "stderr",
          "text": [
            "100%|██████████| 67/67 [00:01<00:00, 37.59it/s]\n",
            "100%|██████████| 2/2 [00:00<00:00, 107.85it/s]\n"
          ]
        },
        {
          "output_type": "stream",
          "name": "stdout",
          "text": [
            "\n",
            "Epoch: 261, train_loss=0.0298 val_loss=0.0366 val_acc=0.6000\n"
          ]
        },
        {
          "output_type": "stream",
          "name": "stderr",
          "text": [
            "100%|██████████| 67/67 [00:01<00:00, 37.70it/s]\n",
            "100%|██████████| 2/2 [00:00<00:00, 111.14it/s]\n"
          ]
        },
        {
          "output_type": "stream",
          "name": "stdout",
          "text": [
            "\n",
            "Epoch: 262, train_loss=0.0296 val_loss=0.0366 val_acc=0.5909\n"
          ]
        },
        {
          "output_type": "stream",
          "name": "stderr",
          "text": [
            "100%|██████████| 67/67 [00:01<00:00, 37.65it/s]\n",
            "100%|██████████| 2/2 [00:00<00:00, 106.61it/s]\n"
          ]
        },
        {
          "output_type": "stream",
          "name": "stdout",
          "text": [
            "\n",
            "Epoch: 263, train_loss=0.0295 val_loss=0.0366 val_acc=0.5909\n"
          ]
        },
        {
          "output_type": "stream",
          "name": "stderr",
          "text": [
            "100%|██████████| 67/67 [00:01<00:00, 37.34it/s]\n",
            "100%|██████████| 2/2 [00:00<00:00, 97.39it/s]\n"
          ]
        },
        {
          "output_type": "stream",
          "name": "stdout",
          "text": [
            "\n",
            "Epoch: 264, train_loss=0.0297 val_loss=0.0374 val_acc=0.5364\n"
          ]
        },
        {
          "output_type": "stream",
          "name": "stderr",
          "text": [
            "100%|██████████| 67/67 [00:01<00:00, 36.79it/s]\n",
            "100%|██████████| 2/2 [00:00<00:00, 95.05it/s]\n"
          ]
        },
        {
          "output_type": "stream",
          "name": "stdout",
          "text": [
            "\n",
            "Epoch: 265, train_loss=0.0299 val_loss=0.0367 val_acc=0.6000\n"
          ]
        },
        {
          "output_type": "stream",
          "name": "stderr",
          "text": [
            "100%|██████████| 67/67 [00:01<00:00, 36.88it/s]\n",
            "100%|██████████| 2/2 [00:00<00:00, 102.41it/s]\n"
          ]
        },
        {
          "output_type": "stream",
          "name": "stdout",
          "text": [
            "\n",
            "Epoch: 266, train_loss=0.0297 val_loss=0.0375 val_acc=0.5636\n"
          ]
        },
        {
          "output_type": "stream",
          "name": "stderr",
          "text": [
            "100%|██████████| 67/67 [00:01<00:00, 37.55it/s]\n",
            "100%|██████████| 2/2 [00:00<00:00, 107.03it/s]\n"
          ]
        },
        {
          "output_type": "stream",
          "name": "stdout",
          "text": [
            "\n",
            "Epoch: 267, train_loss=0.0297 val_loss=0.0367 val_acc=0.5909\n"
          ]
        },
        {
          "output_type": "stream",
          "name": "stderr",
          "text": [
            "100%|██████████| 67/67 [00:01<00:00, 37.55it/s]\n",
            "100%|██████████| 2/2 [00:00<00:00, 106.56it/s]\n"
          ]
        },
        {
          "output_type": "stream",
          "name": "stdout",
          "text": [
            "\n",
            "Epoch: 268, train_loss=0.0296 val_loss=0.0366 val_acc=0.5727\n"
          ]
        },
        {
          "output_type": "stream",
          "name": "stderr",
          "text": [
            "100%|██████████| 67/67 [00:01<00:00, 37.27it/s]\n",
            "100%|██████████| 2/2 [00:00<00:00, 107.18it/s]\n"
          ]
        },
        {
          "output_type": "stream",
          "name": "stdout",
          "text": [
            "\n",
            "Epoch: 269, train_loss=0.0295 val_loss=0.0370 val_acc=0.5818\n"
          ]
        },
        {
          "output_type": "stream",
          "name": "stderr",
          "text": [
            "100%|██████████| 67/67 [00:01<00:00, 37.62it/s]\n",
            "100%|██████████| 2/2 [00:00<00:00, 104.53it/s]\n"
          ]
        },
        {
          "output_type": "stream",
          "name": "stdout",
          "text": [
            "\n",
            "Epoch: 270, train_loss=0.0296 val_loss=0.0370 val_acc=0.5727\n"
          ]
        },
        {
          "output_type": "stream",
          "name": "stderr",
          "text": [
            "100%|██████████| 67/67 [00:01<00:00, 37.70it/s]\n",
            "100%|██████████| 2/2 [00:00<00:00, 105.35it/s]\n"
          ]
        },
        {
          "output_type": "stream",
          "name": "stdout",
          "text": [
            "\n",
            "Epoch: 271, train_loss=0.0296 val_loss=0.0367 val_acc=0.5818\n"
          ]
        },
        {
          "output_type": "stream",
          "name": "stderr",
          "text": [
            "100%|██████████| 67/67 [00:01<00:00, 37.12it/s]\n",
            "100%|██████████| 2/2 [00:00<00:00, 104.68it/s]\n"
          ]
        },
        {
          "output_type": "stream",
          "name": "stdout",
          "text": [
            "\n",
            "Epoch: 272, train_loss=0.0297 val_loss=0.0368 val_acc=0.5909\n"
          ]
        },
        {
          "output_type": "stream",
          "name": "stderr",
          "text": [
            "100%|██████████| 67/67 [00:01<00:00, 36.90it/s]\n",
            "100%|██████████| 2/2 [00:00<00:00, 102.77it/s]\n"
          ]
        },
        {
          "output_type": "stream",
          "name": "stdout",
          "text": [
            "\n",
            "Epoch: 273, train_loss=0.0296 val_loss=0.0368 val_acc=0.5727\n"
          ]
        },
        {
          "output_type": "stream",
          "name": "stderr",
          "text": [
            "100%|██████████| 67/67 [00:01<00:00, 37.42it/s]\n",
            "100%|██████████| 2/2 [00:00<00:00, 108.66it/s]\n"
          ]
        },
        {
          "output_type": "stream",
          "name": "stdout",
          "text": [
            "\n",
            "Epoch: 274, train_loss=0.0296 val_loss=0.0367 val_acc=0.6000\n"
          ]
        },
        {
          "output_type": "stream",
          "name": "stderr",
          "text": [
            "100%|██████████| 67/67 [00:01<00:00, 37.65it/s]\n",
            "100%|██████████| 2/2 [00:00<00:00, 110.79it/s]\n"
          ]
        },
        {
          "output_type": "stream",
          "name": "stdout",
          "text": [
            "\n",
            "Epoch: 275, train_loss=0.0295 val_loss=0.0373 val_acc=0.5818\n"
          ]
        },
        {
          "output_type": "stream",
          "name": "stderr",
          "text": [
            "100%|██████████| 67/67 [00:01<00:00, 37.44it/s]\n",
            "100%|██████████| 2/2 [00:00<00:00, 103.01it/s]\n"
          ]
        },
        {
          "output_type": "stream",
          "name": "stdout",
          "text": [
            "\n",
            "Epoch: 276, train_loss=0.0294 val_loss=0.0365 val_acc=0.6182\n"
          ]
        },
        {
          "output_type": "stream",
          "name": "stderr",
          "text": [
            "100%|██████████| 67/67 [00:01<00:00, 37.43it/s]\n",
            "100%|██████████| 2/2 [00:00<00:00, 109.91it/s]\n"
          ]
        },
        {
          "output_type": "stream",
          "name": "stdout",
          "text": [
            "\n",
            "Epoch: 277, train_loss=0.0295 val_loss=0.0372 val_acc=0.5636\n"
          ]
        },
        {
          "output_type": "stream",
          "name": "stderr",
          "text": [
            "100%|██████████| 67/67 [00:01<00:00, 37.63it/s]\n",
            "100%|██████████| 2/2 [00:00<00:00, 106.64it/s]\n"
          ]
        },
        {
          "output_type": "stream",
          "name": "stdout",
          "text": [
            "\n",
            "Epoch: 278, train_loss=0.0297 val_loss=0.0370 val_acc=0.5818\n"
          ]
        },
        {
          "output_type": "stream",
          "name": "stderr",
          "text": [
            "100%|██████████| 67/67 [00:01<00:00, 37.64it/s]\n",
            "100%|██████████| 2/2 [00:00<00:00, 101.80it/s]\n"
          ]
        },
        {
          "output_type": "stream",
          "name": "stdout",
          "text": [
            "\n",
            "Epoch: 279, train_loss=0.0297 val_loss=0.0365 val_acc=0.6182\n"
          ]
        },
        {
          "output_type": "stream",
          "name": "stderr",
          "text": [
            "100%|██████████| 67/67 [00:01<00:00, 36.84it/s]\n",
            "100%|██████████| 2/2 [00:00<00:00, 102.13it/s]\n"
          ]
        },
        {
          "output_type": "stream",
          "name": "stdout",
          "text": [
            "\n",
            "Epoch: 280, train_loss=0.0294 val_loss=0.0379 val_acc=0.5273\n"
          ]
        },
        {
          "output_type": "stream",
          "name": "stderr",
          "text": [
            "100%|██████████| 67/67 [00:01<00:00, 36.50it/s]\n",
            "100%|██████████| 2/2 [00:00<00:00, 103.91it/s]\n"
          ]
        },
        {
          "output_type": "stream",
          "name": "stdout",
          "text": [
            "\n",
            "Epoch: 281, train_loss=0.0294 val_loss=0.0366 val_acc=0.6000\n"
          ]
        },
        {
          "output_type": "stream",
          "name": "stderr",
          "text": [
            "100%|██████████| 67/67 [00:01<00:00, 36.61it/s]\n",
            "100%|██████████| 2/2 [00:00<00:00, 85.11it/s]\n"
          ]
        },
        {
          "output_type": "stream",
          "name": "stdout",
          "text": [
            "\n",
            "Epoch: 282, train_loss=0.0297 val_loss=0.0379 val_acc=0.5455\n"
          ]
        },
        {
          "output_type": "stream",
          "name": "stderr",
          "text": [
            "100%|██████████| 67/67 [00:01<00:00, 36.47it/s]\n",
            "100%|██████████| 2/2 [00:00<00:00, 86.92it/s]\n"
          ]
        },
        {
          "output_type": "stream",
          "name": "stdout",
          "text": [
            "\n",
            "Epoch: 283, train_loss=0.0295 val_loss=0.0373 val_acc=0.5727\n"
          ]
        },
        {
          "output_type": "stream",
          "name": "stderr",
          "text": [
            "100%|██████████| 67/67 [00:01<00:00, 37.04it/s]\n",
            "100%|██████████| 2/2 [00:00<00:00, 95.81it/s]\n"
          ]
        },
        {
          "output_type": "stream",
          "name": "stdout",
          "text": [
            "\n",
            "Epoch: 284, train_loss=0.0298 val_loss=0.0373 val_acc=0.5636\n"
          ]
        },
        {
          "output_type": "stream",
          "name": "stderr",
          "text": [
            "100%|██████████| 67/67 [00:01<00:00, 37.43it/s]\n",
            "100%|██████████| 2/2 [00:00<00:00, 112.30it/s]\n"
          ]
        },
        {
          "output_type": "stream",
          "name": "stdout",
          "text": [
            "\n",
            "Epoch: 285, train_loss=0.0295 val_loss=0.0370 val_acc=0.5727\n"
          ]
        },
        {
          "output_type": "stream",
          "name": "stderr",
          "text": [
            "100%|██████████| 67/67 [00:01<00:00, 37.33it/s]\n",
            "100%|██████████| 2/2 [00:00<00:00, 112.04it/s]\n"
          ]
        },
        {
          "output_type": "stream",
          "name": "stdout",
          "text": [
            "\n",
            "Epoch: 286, train_loss=0.0293 val_loss=0.0373 val_acc=0.5818\n"
          ]
        },
        {
          "output_type": "stream",
          "name": "stderr",
          "text": [
            "100%|██████████| 67/67 [00:01<00:00, 36.98it/s]\n",
            "100%|██████████| 2/2 [00:00<00:00, 92.83it/s]\n"
          ]
        },
        {
          "output_type": "stream",
          "name": "stdout",
          "text": [
            "\n",
            "Epoch: 287, train_loss=0.0296 val_loss=0.0368 val_acc=0.5909\n"
          ]
        },
        {
          "output_type": "stream",
          "name": "stderr",
          "text": [
            "100%|██████████| 67/67 [00:01<00:00, 36.52it/s]\n",
            "100%|██████████| 2/2 [00:00<00:00, 101.20it/s]\n"
          ]
        },
        {
          "output_type": "stream",
          "name": "stdout",
          "text": [
            "\n",
            "Epoch: 288, train_loss=0.0294 val_loss=0.0366 val_acc=0.5909\n"
          ]
        },
        {
          "output_type": "stream",
          "name": "stderr",
          "text": [
            "100%|██████████| 67/67 [00:01<00:00, 37.48it/s]\n",
            "100%|██████████| 2/2 [00:00<00:00, 98.38it/s]\n"
          ]
        },
        {
          "output_type": "stream",
          "name": "stdout",
          "text": [
            "\n",
            "Epoch: 289, train_loss=0.0296 val_loss=0.0368 val_acc=0.5909\n"
          ]
        },
        {
          "output_type": "stream",
          "name": "stderr",
          "text": [
            "100%|██████████| 67/67 [00:01<00:00, 37.51it/s]\n",
            "100%|██████████| 2/2 [00:00<00:00, 94.86it/s]\n"
          ]
        },
        {
          "output_type": "stream",
          "name": "stdout",
          "text": [
            "\n",
            "Epoch: 290, train_loss=0.0295 val_loss=0.0368 val_acc=0.6000\n"
          ]
        },
        {
          "output_type": "stream",
          "name": "stderr",
          "text": [
            "100%|██████████| 67/67 [00:01<00:00, 37.54it/s]\n",
            "100%|██████████| 2/2 [00:00<00:00, 113.84it/s]\n"
          ]
        },
        {
          "output_type": "stream",
          "name": "stdout",
          "text": [
            "\n",
            "Epoch: 291, train_loss=0.0293 val_loss=0.0367 val_acc=0.5909\n"
          ]
        },
        {
          "output_type": "stream",
          "name": "stderr",
          "text": [
            "100%|██████████| 67/67 [00:01<00:00, 37.72it/s]\n",
            "100%|██████████| 2/2 [00:00<00:00, 106.99it/s]\n"
          ]
        },
        {
          "output_type": "stream",
          "name": "stdout",
          "text": [
            "\n",
            "Epoch: 292, train_loss=0.0293 val_loss=0.0372 val_acc=0.5727\n"
          ]
        },
        {
          "output_type": "stream",
          "name": "stderr",
          "text": [
            "100%|██████████| 67/67 [00:01<00:00, 37.56it/s]\n",
            "100%|██████████| 2/2 [00:00<00:00, 110.21it/s]\n"
          ]
        },
        {
          "output_type": "stream",
          "name": "stdout",
          "text": [
            "\n",
            "Epoch: 293, train_loss=0.0294 val_loss=0.0369 val_acc=0.5818\n"
          ]
        },
        {
          "output_type": "stream",
          "name": "stderr",
          "text": [
            "100%|██████████| 67/67 [00:01<00:00, 37.40it/s]\n",
            "100%|██████████| 2/2 [00:00<00:00, 97.11it/s]\n"
          ]
        },
        {
          "output_type": "stream",
          "name": "stdout",
          "text": [
            "\n",
            "Epoch: 294, train_loss=0.0294 val_loss=0.0367 val_acc=0.5909\n"
          ]
        },
        {
          "output_type": "stream",
          "name": "stderr",
          "text": [
            "100%|██████████| 67/67 [00:01<00:00, 36.31it/s]\n",
            "100%|██████████| 2/2 [00:00<00:00, 100.62it/s]\n"
          ]
        },
        {
          "output_type": "stream",
          "name": "stdout",
          "text": [
            "\n",
            "Epoch: 295, train_loss=0.0294 val_loss=0.0371 val_acc=0.5818\n"
          ]
        },
        {
          "output_type": "stream",
          "name": "stderr",
          "text": [
            "100%|██████████| 67/67 [00:01<00:00, 36.94it/s]\n",
            "100%|██████████| 2/2 [00:00<00:00, 104.55it/s]\n"
          ]
        },
        {
          "output_type": "stream",
          "name": "stdout",
          "text": [
            "\n",
            "Epoch: 296, train_loss=0.0292 val_loss=0.0370 val_acc=0.5909\n"
          ]
        },
        {
          "output_type": "stream",
          "name": "stderr",
          "text": [
            "100%|██████████| 67/67 [00:01<00:00, 37.75it/s]\n",
            "100%|██████████| 2/2 [00:00<00:00, 109.04it/s]\n"
          ]
        },
        {
          "output_type": "stream",
          "name": "stdout",
          "text": [
            "\n",
            "Epoch: 297, train_loss=0.0292 val_loss=0.0360 val_acc=0.6182\n"
          ]
        },
        {
          "output_type": "stream",
          "name": "stderr",
          "text": [
            "100%|██████████| 67/67 [00:01<00:00, 37.62it/s]\n",
            "100%|██████████| 2/2 [00:00<00:00, 108.35it/s]\n"
          ]
        },
        {
          "output_type": "stream",
          "name": "stdout",
          "text": [
            "\n",
            "Epoch: 298, train_loss=0.0292 val_loss=0.0370 val_acc=0.5818\n"
          ]
        },
        {
          "output_type": "stream",
          "name": "stderr",
          "text": [
            "100%|██████████| 67/67 [00:01<00:00, 37.55it/s]\n",
            "100%|██████████| 2/2 [00:00<00:00, 95.45it/s]\n"
          ]
        },
        {
          "output_type": "stream",
          "name": "stdout",
          "text": [
            "\n",
            "Epoch: 299, train_loss=0.0292 val_loss=0.0370 val_acc=0.5727\n"
          ]
        },
        {
          "output_type": "stream",
          "name": "stderr",
          "text": [
            "100%|██████████| 67/67 [00:01<00:00, 37.62it/s]\n",
            "100%|██████████| 2/2 [00:00<00:00, 106.39it/s]\n"
          ]
        },
        {
          "output_type": "stream",
          "name": "stdout",
          "text": [
            "\n",
            "Epoch: 300, train_loss=0.0293 val_loss=0.0371 val_acc=0.5727\n"
          ]
        },
        {
          "output_type": "stream",
          "name": "stderr",
          "text": [
            "100%|██████████| 67/67 [00:01<00:00, 37.67it/s]\n",
            "100%|██████████| 2/2 [00:00<00:00, 107.96it/s]\n"
          ]
        },
        {
          "output_type": "stream",
          "name": "stdout",
          "text": [
            "\n",
            "Epoch: 301, train_loss=0.0292 val_loss=0.0374 val_acc=0.5818\n"
          ]
        },
        {
          "output_type": "stream",
          "name": "stderr",
          "text": [
            "100%|██████████| 67/67 [00:01<00:00, 36.73it/s]\n",
            "100%|██████████| 2/2 [00:00<00:00, 104.85it/s]\n"
          ]
        },
        {
          "output_type": "stream",
          "name": "stdout",
          "text": [
            "\n",
            "Epoch: 302, train_loss=0.0298 val_loss=0.0366 val_acc=0.6000\n"
          ]
        },
        {
          "output_type": "stream",
          "name": "stderr",
          "text": [
            "100%|██████████| 67/67 [00:01<00:00, 36.38it/s]\n",
            "100%|██████████| 2/2 [00:00<00:00, 103.17it/s]\n"
          ]
        },
        {
          "output_type": "stream",
          "name": "stdout",
          "text": [
            "\n",
            "Epoch: 303, train_loss=0.0293 val_loss=0.0367 val_acc=0.5909\n"
          ]
        },
        {
          "output_type": "stream",
          "name": "stderr",
          "text": [
            "100%|██████████| 67/67 [00:01<00:00, 37.34it/s]\n",
            "100%|██████████| 2/2 [00:00<00:00, 106.53it/s]\n"
          ]
        },
        {
          "output_type": "stream",
          "name": "stdout",
          "text": [
            "\n",
            "Epoch: 304, train_loss=0.0291 val_loss=0.0367 val_acc=0.5909\n"
          ]
        },
        {
          "output_type": "stream",
          "name": "stderr",
          "text": [
            "100%|██████████| 67/67 [00:01<00:00, 37.62it/s]\n",
            "100%|██████████| 2/2 [00:00<00:00, 112.09it/s]\n"
          ]
        },
        {
          "output_type": "stream",
          "name": "stdout",
          "text": [
            "\n",
            "Epoch: 305, train_loss=0.0294 val_loss=0.0368 val_acc=0.6000\n"
          ]
        },
        {
          "output_type": "stream",
          "name": "stderr",
          "text": [
            "100%|██████████| 67/67 [00:01<00:00, 37.59it/s]\n",
            "100%|██████████| 2/2 [00:00<00:00, 104.43it/s]\n"
          ]
        },
        {
          "output_type": "stream",
          "name": "stdout",
          "text": [
            "\n",
            "Epoch: 306, train_loss=0.0294 val_loss=0.0368 val_acc=0.5818\n"
          ]
        },
        {
          "output_type": "stream",
          "name": "stderr",
          "text": [
            "100%|██████████| 67/67 [00:01<00:00, 36.96it/s]\n",
            "100%|██████████| 2/2 [00:00<00:00, 93.07it/s]\n"
          ]
        },
        {
          "output_type": "stream",
          "name": "stdout",
          "text": [
            "\n",
            "Epoch: 307, train_loss=0.0293 val_loss=0.0369 val_acc=0.6000\n"
          ]
        },
        {
          "output_type": "stream",
          "name": "stderr",
          "text": [
            "100%|██████████| 67/67 [00:01<00:00, 36.46it/s]\n",
            "100%|██████████| 2/2 [00:00<00:00, 92.31it/s]\n"
          ]
        },
        {
          "output_type": "stream",
          "name": "stdout",
          "text": [
            "\n",
            "Epoch: 308, train_loss=0.0293 val_loss=0.0369 val_acc=0.6000\n"
          ]
        },
        {
          "output_type": "stream",
          "name": "stderr",
          "text": [
            "100%|██████████| 67/67 [00:01<00:00, 37.16it/s]\n",
            "100%|██████████| 2/2 [00:00<00:00, 99.24it/s]\n"
          ]
        },
        {
          "output_type": "stream",
          "name": "stdout",
          "text": [
            "\n",
            "Epoch: 309, train_loss=0.0292 val_loss=0.0363 val_acc=0.6273\n"
          ]
        },
        {
          "output_type": "stream",
          "name": "stderr",
          "text": [
            "100%|██████████| 67/67 [00:01<00:00, 36.37it/s]\n",
            "100%|██████████| 2/2 [00:00<00:00, 97.86it/s]\n"
          ]
        },
        {
          "output_type": "stream",
          "name": "stdout",
          "text": [
            "\n",
            "Epoch: 310, train_loss=0.0293 val_loss=0.0371 val_acc=0.5909\n"
          ]
        },
        {
          "output_type": "stream",
          "name": "stderr",
          "text": [
            "100%|██████████| 67/67 [00:01<00:00, 36.28it/s]\n",
            "100%|██████████| 2/2 [00:00<00:00, 104.78it/s]\n"
          ]
        },
        {
          "output_type": "stream",
          "name": "stdout",
          "text": [
            "\n",
            "Epoch: 311, train_loss=0.0294 val_loss=0.0363 val_acc=0.6273\n"
          ]
        },
        {
          "output_type": "stream",
          "name": "stderr",
          "text": [
            "100%|██████████| 67/67 [00:01<00:00, 37.71it/s]\n",
            "100%|██████████| 2/2 [00:00<00:00, 105.42it/s]\n"
          ]
        },
        {
          "output_type": "stream",
          "name": "stdout",
          "text": [
            "\n",
            "Epoch: 312, train_loss=0.0291 val_loss=0.0364 val_acc=0.6273\n"
          ]
        },
        {
          "output_type": "stream",
          "name": "stderr",
          "text": [
            "100%|██████████| 67/67 [00:01<00:00, 37.77it/s]\n",
            "100%|██████████| 2/2 [00:00<00:00, 106.29it/s]\n"
          ]
        },
        {
          "output_type": "stream",
          "name": "stdout",
          "text": [
            "\n",
            "Epoch: 313, train_loss=0.0294 val_loss=0.0376 val_acc=0.5545\n"
          ]
        },
        {
          "output_type": "stream",
          "name": "stderr",
          "text": [
            "100%|██████████| 67/67 [00:01<00:00, 37.54it/s]\n",
            "100%|██████████| 2/2 [00:00<00:00, 105.38it/s]\n"
          ]
        },
        {
          "output_type": "stream",
          "name": "stdout",
          "text": [
            "\n",
            "Epoch: 314, train_loss=0.0291 val_loss=0.0360 val_acc=0.6182\n"
          ]
        },
        {
          "output_type": "stream",
          "name": "stderr",
          "text": [
            "100%|██████████| 67/67 [00:01<00:00, 37.75it/s]\n",
            "100%|██████████| 2/2 [00:00<00:00, 99.98it/s]\n"
          ]
        },
        {
          "output_type": "stream",
          "name": "stdout",
          "text": [
            "\n",
            "Epoch: 315, train_loss=0.0288 val_loss=0.0358 val_acc=0.6545\n"
          ]
        },
        {
          "output_type": "stream",
          "name": "stderr",
          "text": [
            "100%|██████████| 67/67 [00:01<00:00, 37.32it/s]\n",
            "100%|██████████| 2/2 [00:00<00:00, 108.23it/s]\n"
          ]
        },
        {
          "output_type": "stream",
          "name": "stdout",
          "text": [
            "\n",
            "Epoch: 316, train_loss=0.0286 val_loss=0.0354 val_acc=0.6727\n"
          ]
        },
        {
          "output_type": "stream",
          "name": "stderr",
          "text": [
            "100%|██████████| 67/67 [00:01<00:00, 36.84it/s]\n",
            "100%|██████████| 2/2 [00:00<00:00, 101.68it/s]\n"
          ]
        },
        {
          "output_type": "stream",
          "name": "stdout",
          "text": [
            "\n",
            "Epoch: 317, train_loss=0.0286 val_loss=0.0354 val_acc=0.6818\n"
          ]
        },
        {
          "output_type": "stream",
          "name": "stderr",
          "text": [
            "100%|██████████| 67/67 [00:01<00:00, 36.60it/s]\n",
            "100%|██████████| 2/2 [00:00<00:00, 102.44it/s]\n"
          ]
        },
        {
          "output_type": "stream",
          "name": "stdout",
          "text": [
            "\n",
            "Epoch: 318, train_loss=0.0286 val_loss=0.0354 val_acc=0.6727\n"
          ]
        },
        {
          "output_type": "stream",
          "name": "stderr",
          "text": [
            "100%|██████████| 67/67 [00:01<00:00, 36.64it/s]\n",
            "100%|██████████| 2/2 [00:00<00:00, 104.27it/s]\n"
          ]
        },
        {
          "output_type": "stream",
          "name": "stdout",
          "text": [
            "\n",
            "Epoch: 319, train_loss=0.0284 val_loss=0.0353 val_acc=0.6636\n"
          ]
        },
        {
          "output_type": "stream",
          "name": "stderr",
          "text": [
            "100%|██████████| 67/67 [00:01<00:00, 37.39it/s]\n",
            "100%|██████████| 2/2 [00:00<00:00, 108.78it/s]\n"
          ]
        },
        {
          "output_type": "stream",
          "name": "stdout",
          "text": [
            "\n",
            "Epoch: 320, train_loss=0.0285 val_loss=0.0357 val_acc=0.6545\n"
          ]
        },
        {
          "output_type": "stream",
          "name": "stderr",
          "text": [
            "100%|██████████| 67/67 [00:01<00:00, 37.69it/s]\n",
            "100%|██████████| 2/2 [00:00<00:00, 110.22it/s]\n"
          ]
        },
        {
          "output_type": "stream",
          "name": "stdout",
          "text": [
            "\n",
            "Epoch: 321, train_loss=0.0285 val_loss=0.0356 val_acc=0.6636\n"
          ]
        },
        {
          "output_type": "stream",
          "name": "stderr",
          "text": [
            "100%|██████████| 67/67 [00:01<00:00, 37.61it/s]\n",
            "100%|██████████| 2/2 [00:00<00:00, 101.43it/s]\n"
          ]
        },
        {
          "output_type": "stream",
          "name": "stdout",
          "text": [
            "\n",
            "Epoch: 322, train_loss=0.0285 val_loss=0.0353 val_acc=0.6727\n"
          ]
        },
        {
          "output_type": "stream",
          "name": "stderr",
          "text": [
            "100%|██████████| 67/67 [00:01<00:00, 37.59it/s]\n",
            "100%|██████████| 2/2 [00:00<00:00, 110.88it/s]\n"
          ]
        },
        {
          "output_type": "stream",
          "name": "stdout",
          "text": [
            "\n",
            "Epoch: 323, train_loss=0.0284 val_loss=0.0355 val_acc=0.6727\n"
          ]
        },
        {
          "output_type": "stream",
          "name": "stderr",
          "text": [
            "100%|██████████| 67/67 [00:01<00:00, 37.51it/s]\n",
            "100%|██████████| 2/2 [00:00<00:00, 98.83it/s]\n"
          ]
        },
        {
          "output_type": "stream",
          "name": "stdout",
          "text": [
            "\n",
            "Epoch: 324, train_loss=0.0284 val_loss=0.0362 val_acc=0.6455\n"
          ]
        },
        {
          "output_type": "stream",
          "name": "stderr",
          "text": [
            "100%|██████████| 67/67 [00:01<00:00, 36.63it/s]\n",
            "100%|██████████| 2/2 [00:00<00:00, 98.75it/s]\n"
          ]
        },
        {
          "output_type": "stream",
          "name": "stdout",
          "text": [
            "\n",
            "Epoch: 325, train_loss=0.0283 val_loss=0.0363 val_acc=0.6182\n"
          ]
        },
        {
          "output_type": "stream",
          "name": "stderr",
          "text": [
            "100%|██████████| 67/67 [00:01<00:00, 36.30it/s]\n",
            "100%|██████████| 2/2 [00:00<00:00, 105.51it/s]\n"
          ]
        },
        {
          "output_type": "stream",
          "name": "stdout",
          "text": [
            "\n",
            "Epoch: 326, train_loss=0.0288 val_loss=0.0353 val_acc=0.6636\n"
          ]
        },
        {
          "output_type": "stream",
          "name": "stderr",
          "text": [
            "100%|██████████| 67/67 [00:01<00:00, 37.34it/s]\n",
            "100%|██████████| 2/2 [00:00<00:00, 100.71it/s]\n"
          ]
        },
        {
          "output_type": "stream",
          "name": "stdout",
          "text": [
            "\n",
            "Epoch: 327, train_loss=0.0285 val_loss=0.0358 val_acc=0.6455\n"
          ]
        },
        {
          "output_type": "stream",
          "name": "stderr",
          "text": [
            "100%|██████████| 67/67 [00:01<00:00, 37.57it/s]\n",
            "100%|██████████| 2/2 [00:00<00:00, 109.20it/s]\n"
          ]
        },
        {
          "output_type": "stream",
          "name": "stdout",
          "text": [
            "\n",
            "Epoch: 328, train_loss=0.0283 val_loss=0.0351 val_acc=0.6909\n"
          ]
        },
        {
          "output_type": "stream",
          "name": "stderr",
          "text": [
            "100%|██████████| 67/67 [00:01<00:00, 37.57it/s]\n",
            "100%|██████████| 2/2 [00:00<00:00, 110.02it/s]\n"
          ]
        },
        {
          "output_type": "stream",
          "name": "stdout",
          "text": [
            "\n",
            "Epoch: 329, train_loss=0.0284 val_loss=0.0359 val_acc=0.6455\n"
          ]
        },
        {
          "output_type": "stream",
          "name": "stderr",
          "text": [
            "100%|██████████| 67/67 [00:01<00:00, 37.31it/s]\n",
            "100%|██████████| 2/2 [00:00<00:00, 104.19it/s]\n"
          ]
        },
        {
          "output_type": "stream",
          "name": "stdout",
          "text": [
            "\n",
            "Epoch: 330, train_loss=0.0283 val_loss=0.0350 val_acc=0.7000\n"
          ]
        },
        {
          "output_type": "stream",
          "name": "stderr",
          "text": [
            "100%|██████████| 67/67 [00:01<00:00, 37.31it/s]\n",
            "100%|██████████| 2/2 [00:00<00:00, 86.15it/s]\n"
          ]
        },
        {
          "output_type": "stream",
          "name": "stdout",
          "text": [
            "\n",
            "Epoch: 331, train_loss=0.0282 val_loss=0.0352 val_acc=0.6727\n"
          ]
        },
        {
          "output_type": "stream",
          "name": "stderr",
          "text": [
            "100%|██████████| 67/67 [00:01<00:00, 36.38it/s]\n",
            "100%|██████████| 2/2 [00:00<00:00, 101.11it/s]\n"
          ]
        },
        {
          "output_type": "stream",
          "name": "stdout",
          "text": [
            "\n",
            "Epoch: 332, train_loss=0.0282 val_loss=0.0351 val_acc=0.6818\n"
          ]
        },
        {
          "output_type": "stream",
          "name": "stderr",
          "text": [
            "100%|██████████| 67/67 [00:01<00:00, 36.20it/s]\n",
            "100%|██████████| 2/2 [00:00<00:00, 85.13it/s]\n"
          ]
        },
        {
          "output_type": "stream",
          "name": "stdout",
          "text": [
            "\n",
            "Epoch: 333, train_loss=0.0285 val_loss=0.0358 val_acc=0.6545\n"
          ]
        },
        {
          "output_type": "stream",
          "name": "stderr",
          "text": [
            "100%|██████████| 67/67 [00:01<00:00, 35.06it/s]\n",
            "100%|██████████| 2/2 [00:00<00:00, 71.59it/s]\n"
          ]
        },
        {
          "output_type": "stream",
          "name": "stdout",
          "text": [
            "\n",
            "Epoch: 334, train_loss=0.0282 val_loss=0.0356 val_acc=0.6636\n"
          ]
        },
        {
          "output_type": "stream",
          "name": "stderr",
          "text": [
            "100%|██████████| 67/67 [00:01<00:00, 36.42it/s]\n",
            "100%|██████████| 2/2 [00:00<00:00, 105.34it/s]\n"
          ]
        },
        {
          "output_type": "stream",
          "name": "stdout",
          "text": [
            "\n",
            "Epoch: 335, train_loss=0.0283 val_loss=0.0352 val_acc=0.6818\n"
          ]
        },
        {
          "output_type": "stream",
          "name": "stderr",
          "text": [
            "100%|██████████| 67/67 [00:01<00:00, 37.47it/s]\n",
            "100%|██████████| 2/2 [00:00<00:00, 110.73it/s]\n"
          ]
        },
        {
          "output_type": "stream",
          "name": "stdout",
          "text": [
            "\n",
            "Epoch: 336, train_loss=0.0283 val_loss=0.0355 val_acc=0.6455\n"
          ]
        },
        {
          "output_type": "stream",
          "name": "stderr",
          "text": [
            "100%|██████████| 67/67 [00:01<00:00, 37.63it/s]\n",
            "100%|██████████| 2/2 [00:00<00:00, 110.41it/s]\n"
          ]
        },
        {
          "output_type": "stream",
          "name": "stdout",
          "text": [
            "\n",
            "Epoch: 337, train_loss=0.0285 val_loss=0.0346 val_acc=0.7000\n"
          ]
        },
        {
          "output_type": "stream",
          "name": "stderr",
          "text": [
            "100%|██████████| 67/67 [00:01<00:00, 37.64it/s]\n",
            "100%|██████████| 2/2 [00:00<00:00, 107.32it/s]\n"
          ]
        },
        {
          "output_type": "stream",
          "name": "stdout",
          "text": [
            "\n",
            "Epoch: 338, train_loss=0.0281 val_loss=0.0358 val_acc=0.6364\n"
          ]
        },
        {
          "output_type": "stream",
          "name": "stderr",
          "text": [
            "100%|██████████| 67/67 [00:01<00:00, 37.72it/s]\n",
            "100%|██████████| 2/2 [00:00<00:00, 109.33it/s]\n"
          ]
        },
        {
          "output_type": "stream",
          "name": "stdout",
          "text": [
            "\n",
            "Epoch: 339, train_loss=0.0280 val_loss=0.0355 val_acc=0.6727\n"
          ]
        },
        {
          "output_type": "stream",
          "name": "stderr",
          "text": [
            "100%|██████████| 67/67 [00:01<00:00, 37.49it/s]\n",
            "100%|██████████| 2/2 [00:00<00:00, 105.10it/s]\n"
          ]
        },
        {
          "output_type": "stream",
          "name": "stdout",
          "text": [
            "\n",
            "Epoch: 340, train_loss=0.0285 val_loss=0.0350 val_acc=0.6818\n"
          ]
        },
        {
          "output_type": "stream",
          "name": "stderr",
          "text": [
            "100%|██████████| 67/67 [00:01<00:00, 36.44it/s]\n",
            "100%|██████████| 2/2 [00:00<00:00, 103.57it/s]\n"
          ]
        },
        {
          "output_type": "stream",
          "name": "stdout",
          "text": [
            "\n",
            "Epoch: 341, train_loss=0.0282 val_loss=0.0355 val_acc=0.6636\n"
          ]
        },
        {
          "output_type": "stream",
          "name": "stderr",
          "text": [
            "100%|██████████| 67/67 [00:01<00:00, 36.69it/s]\n",
            "100%|██████████| 2/2 [00:00<00:00, 104.71it/s]\n"
          ]
        },
        {
          "output_type": "stream",
          "name": "stdout",
          "text": [
            "\n",
            "Epoch: 342, train_loss=0.0281 val_loss=0.0354 val_acc=0.6727\n"
          ]
        },
        {
          "output_type": "stream",
          "name": "stderr",
          "text": [
            "100%|██████████| 67/67 [00:01<00:00, 37.46it/s]\n",
            "100%|██████████| 2/2 [00:00<00:00, 101.84it/s]\n"
          ]
        },
        {
          "output_type": "stream",
          "name": "stdout",
          "text": [
            "\n",
            "Epoch: 343, train_loss=0.0284 val_loss=0.0352 val_acc=0.6818\n"
          ]
        },
        {
          "output_type": "stream",
          "name": "stderr",
          "text": [
            "100%|██████████| 67/67 [00:01<00:00, 37.61it/s]\n",
            "100%|██████████| 2/2 [00:00<00:00, 106.71it/s]\n"
          ]
        },
        {
          "output_type": "stream",
          "name": "stdout",
          "text": [
            "\n",
            "Epoch: 344, train_loss=0.0281 val_loss=0.0351 val_acc=0.6818\n"
          ]
        },
        {
          "output_type": "stream",
          "name": "stderr",
          "text": [
            "100%|██████████| 67/67 [00:01<00:00, 37.48it/s]\n",
            "100%|██████████| 2/2 [00:00<00:00, 99.91it/s]\n"
          ]
        },
        {
          "output_type": "stream",
          "name": "stdout",
          "text": [
            "\n",
            "Epoch: 345, train_loss=0.0281 val_loss=0.0351 val_acc=0.6909\n"
          ]
        },
        {
          "output_type": "stream",
          "name": "stderr",
          "text": [
            "100%|██████████| 67/67 [00:01<00:00, 37.67it/s]\n",
            "100%|██████████| 2/2 [00:00<00:00, 107.29it/s]\n"
          ]
        },
        {
          "output_type": "stream",
          "name": "stdout",
          "text": [
            "\n",
            "Epoch: 346, train_loss=0.0280 val_loss=0.0350 val_acc=0.7091\n"
          ]
        },
        {
          "output_type": "stream",
          "name": "stderr",
          "text": [
            "100%|██████████| 67/67 [00:01<00:00, 37.59it/s]\n",
            "100%|██████████| 2/2 [00:00<00:00, 108.89it/s]\n"
          ]
        },
        {
          "output_type": "stream",
          "name": "stdout",
          "text": [
            "\n",
            "Epoch: 347, train_loss=0.0280 val_loss=0.0356 val_acc=0.6545\n"
          ]
        },
        {
          "output_type": "stream",
          "name": "stderr",
          "text": [
            "100%|██████████| 67/67 [00:01<00:00, 37.25it/s]\n",
            "100%|██████████| 2/2 [00:00<00:00, 98.16it/s]\n"
          ]
        },
        {
          "output_type": "stream",
          "name": "stdout",
          "text": [
            "\n",
            "Epoch: 348, train_loss=0.0282 val_loss=0.0345 val_acc=0.7091\n"
          ]
        },
        {
          "output_type": "stream",
          "name": "stderr",
          "text": [
            "100%|██████████| 67/67 [00:01<00:00, 37.05it/s]\n",
            "100%|██████████| 2/2 [00:00<00:00, 98.37it/s]\n"
          ]
        },
        {
          "output_type": "stream",
          "name": "stdout",
          "text": [
            "\n",
            "Epoch: 349, train_loss=0.0280 val_loss=0.0345 val_acc=0.7182\n"
          ]
        },
        {
          "output_type": "stream",
          "name": "stderr",
          "text": [
            "100%|██████████| 67/67 [00:01<00:00, 37.01it/s]\n",
            "100%|██████████| 2/2 [00:00<00:00, 103.65it/s]\n"
          ]
        },
        {
          "output_type": "stream",
          "name": "stdout",
          "text": [
            "\n",
            "Epoch: 350, train_loss=0.0288 val_loss=0.0343 val_acc=0.7273\n"
          ]
        },
        {
          "output_type": "stream",
          "name": "stderr",
          "text": [
            "100%|██████████| 67/67 [00:01<00:00, 37.71it/s]\n",
            "100%|██████████| 2/2 [00:00<00:00, 105.31it/s]\n"
          ]
        },
        {
          "output_type": "stream",
          "name": "stdout",
          "text": [
            "\n",
            "Epoch: 351, train_loss=0.0283 val_loss=0.0352 val_acc=0.6909\n"
          ]
        },
        {
          "output_type": "stream",
          "name": "stderr",
          "text": [
            "100%|██████████| 67/67 [00:01<00:00, 37.81it/s]\n",
            "100%|██████████| 2/2 [00:00<00:00, 102.01it/s]\n"
          ]
        },
        {
          "output_type": "stream",
          "name": "stdout",
          "text": [
            "\n",
            "Epoch: 352, train_loss=0.0281 val_loss=0.0354 val_acc=0.6818\n"
          ]
        },
        {
          "output_type": "stream",
          "name": "stderr",
          "text": [
            "100%|██████████| 67/67 [00:01<00:00, 37.58it/s]\n",
            "100%|██████████| 2/2 [00:00<00:00, 114.01it/s]\n"
          ]
        },
        {
          "output_type": "stream",
          "name": "stdout",
          "text": [
            "\n",
            "Epoch: 353, train_loss=0.0279 val_loss=0.0351 val_acc=0.7091\n"
          ]
        },
        {
          "output_type": "stream",
          "name": "stderr",
          "text": [
            "100%|██████████| 67/67 [00:01<00:00, 37.71it/s]\n",
            "100%|██████████| 2/2 [00:00<00:00, 103.84it/s]\n"
          ]
        },
        {
          "output_type": "stream",
          "name": "stdout",
          "text": [
            "\n",
            "Epoch: 354, train_loss=0.0279 val_loss=0.0345 val_acc=0.7273\n"
          ]
        },
        {
          "output_type": "stream",
          "name": "stderr",
          "text": [
            "100%|██████████| 67/67 [00:01<00:00, 37.64it/s]\n",
            "100%|██████████| 2/2 [00:00<00:00, 105.90it/s]\n"
          ]
        },
        {
          "output_type": "stream",
          "name": "stdout",
          "text": [
            "\n",
            "Epoch: 355, train_loss=0.0280 val_loss=0.0352 val_acc=0.6909\n"
          ]
        },
        {
          "output_type": "stream",
          "name": "stderr",
          "text": [
            "100%|██████████| 67/67 [00:01<00:00, 36.50it/s]\n",
            "100%|██████████| 2/2 [00:00<00:00, 73.86it/s]\n"
          ]
        },
        {
          "output_type": "stream",
          "name": "stdout",
          "text": [
            "\n",
            "Epoch: 356, train_loss=0.0280 val_loss=0.0357 val_acc=0.6364\n"
          ]
        },
        {
          "output_type": "stream",
          "name": "stderr",
          "text": [
            "100%|██████████| 67/67 [00:01<00:00, 35.46it/s]\n",
            "100%|██████████| 2/2 [00:00<00:00, 82.16it/s]\n"
          ]
        },
        {
          "output_type": "stream",
          "name": "stdout",
          "text": [
            "\n",
            "Epoch: 357, train_loss=0.0280 val_loss=0.0350 val_acc=0.6818\n"
          ]
        },
        {
          "output_type": "stream",
          "name": "stderr",
          "text": [
            "100%|██████████| 67/67 [00:01<00:00, 35.55it/s]\n",
            "100%|██████████| 2/2 [00:00<00:00, 100.76it/s]\n"
          ]
        },
        {
          "output_type": "stream",
          "name": "stdout",
          "text": [
            "\n",
            "Epoch: 358, train_loss=0.0279 val_loss=0.0352 val_acc=0.6909\n"
          ]
        },
        {
          "output_type": "stream",
          "name": "stderr",
          "text": [
            "100%|██████████| 67/67 [00:01<00:00, 35.61it/s]\n",
            "100%|██████████| 2/2 [00:00<00:00, 85.54it/s]\n"
          ]
        },
        {
          "output_type": "stream",
          "name": "stdout",
          "text": [
            "\n",
            "Epoch: 359, train_loss=0.0280 val_loss=0.0342 val_acc=0.7364\n"
          ]
        },
        {
          "output_type": "stream",
          "name": "stderr",
          "text": [
            "100%|██████████| 67/67 [00:01<00:00, 37.54it/s]\n",
            "100%|██████████| 2/2 [00:00<00:00, 102.43it/s]\n"
          ]
        },
        {
          "output_type": "stream",
          "name": "stdout",
          "text": [
            "\n",
            "Epoch: 360, train_loss=0.0282 val_loss=0.0344 val_acc=0.7364\n"
          ]
        },
        {
          "output_type": "stream",
          "name": "stderr",
          "text": [
            "100%|██████████| 67/67 [00:01<00:00, 37.46it/s]\n",
            "100%|██████████| 2/2 [00:00<00:00, 97.02it/s]\n"
          ]
        },
        {
          "output_type": "stream",
          "name": "stdout",
          "text": [
            "\n",
            "Epoch: 361, train_loss=0.0279 val_loss=0.0344 val_acc=0.7182\n"
          ]
        },
        {
          "output_type": "stream",
          "name": "stderr",
          "text": [
            "100%|██████████| 67/67 [00:01<00:00, 37.75it/s]\n",
            "100%|██████████| 2/2 [00:00<00:00, 100.21it/s]\n"
          ]
        },
        {
          "output_type": "stream",
          "name": "stdout",
          "text": [
            "\n",
            "Epoch: 362, train_loss=0.0277 val_loss=0.0345 val_acc=0.7273\n"
          ]
        },
        {
          "output_type": "stream",
          "name": "stderr",
          "text": [
            "100%|██████████| 67/67 [00:01<00:00, 37.72it/s]\n",
            "100%|██████████| 2/2 [00:00<00:00, 105.51it/s]\n"
          ]
        },
        {
          "output_type": "stream",
          "name": "stdout",
          "text": [
            "\n",
            "Epoch: 363, train_loss=0.0281 val_loss=0.0340 val_acc=0.7636\n"
          ]
        },
        {
          "output_type": "stream",
          "name": "stderr",
          "text": [
            "100%|██████████| 67/67 [00:01<00:00, 37.24it/s]\n",
            "100%|██████████| 2/2 [00:00<00:00, 100.19it/s]\n"
          ]
        },
        {
          "output_type": "stream",
          "name": "stdout",
          "text": [
            "\n",
            "Epoch: 364, train_loss=0.0279 val_loss=0.0345 val_acc=0.7364\n"
          ]
        },
        {
          "output_type": "stream",
          "name": "stderr",
          "text": [
            "100%|██████████| 67/67 [00:01<00:00, 36.15it/s]\n",
            "100%|██████████| 2/2 [00:00<00:00, 98.36it/s]\n"
          ]
        },
        {
          "output_type": "stream",
          "name": "stdout",
          "text": [
            "\n",
            "Epoch: 365, train_loss=0.0281 val_loss=0.0344 val_acc=0.7364\n"
          ]
        },
        {
          "output_type": "stream",
          "name": "stderr",
          "text": [
            "100%|██████████| 67/67 [00:01<00:00, 35.98it/s]\n",
            "100%|██████████| 2/2 [00:00<00:00, 101.54it/s]\n"
          ]
        },
        {
          "output_type": "stream",
          "name": "stdout",
          "text": [
            "\n",
            "Epoch: 366, train_loss=0.0278 val_loss=0.0339 val_acc=0.7455\n"
          ]
        },
        {
          "output_type": "stream",
          "name": "stderr",
          "text": [
            "100%|██████████| 67/67 [00:01<00:00, 37.31it/s]\n",
            "100%|██████████| 2/2 [00:00<00:00, 108.17it/s]\n"
          ]
        },
        {
          "output_type": "stream",
          "name": "stdout",
          "text": [
            "\n",
            "Epoch: 367, train_loss=0.0279 val_loss=0.0351 val_acc=0.6909\n"
          ]
        },
        {
          "output_type": "stream",
          "name": "stderr",
          "text": [
            "100%|██████████| 67/67 [00:01<00:00, 37.41it/s]\n",
            "100%|██████████| 2/2 [00:00<00:00, 110.44it/s]\n"
          ]
        },
        {
          "output_type": "stream",
          "name": "stdout",
          "text": [
            "\n",
            "Epoch: 368, train_loss=0.0281 val_loss=0.0357 val_acc=0.6636\n"
          ]
        },
        {
          "output_type": "stream",
          "name": "stderr",
          "text": [
            "100%|██████████| 67/67 [00:01<00:00, 37.58it/s]\n",
            "100%|██████████| 2/2 [00:00<00:00, 102.78it/s]\n"
          ]
        },
        {
          "output_type": "stream",
          "name": "stdout",
          "text": [
            "\n",
            "Epoch: 369, train_loss=0.0284 val_loss=0.0347 val_acc=0.7000\n"
          ]
        },
        {
          "output_type": "stream",
          "name": "stderr",
          "text": [
            "100%|██████████| 67/67 [00:01<00:00, 37.42it/s]\n",
            "100%|██████████| 2/2 [00:00<00:00, 102.07it/s]\n"
          ]
        },
        {
          "output_type": "stream",
          "name": "stdout",
          "text": [
            "\n",
            "Epoch: 370, train_loss=0.0279 val_loss=0.0351 val_acc=0.6909\n"
          ]
        },
        {
          "output_type": "stream",
          "name": "stderr",
          "text": [
            "100%|██████████| 67/67 [00:01<00:00, 37.75it/s]\n",
            "100%|██████████| 2/2 [00:00<00:00, 106.13it/s]\n"
          ]
        },
        {
          "output_type": "stream",
          "name": "stdout",
          "text": [
            "\n",
            "Epoch: 371, train_loss=0.0280 val_loss=0.0346 val_acc=0.7091\n"
          ]
        },
        {
          "output_type": "stream",
          "name": "stderr",
          "text": [
            "100%|██████████| 67/67 [00:01<00:00, 36.86it/s]\n",
            "100%|██████████| 2/2 [00:00<00:00, 74.30it/s]\n"
          ]
        },
        {
          "output_type": "stream",
          "name": "stdout",
          "text": [
            "\n",
            "Epoch: 372, train_loss=0.0278 val_loss=0.0344 val_acc=0.7182\n"
          ]
        },
        {
          "output_type": "stream",
          "name": "stderr",
          "text": [
            "100%|██████████| 67/67 [00:01<00:00, 36.41it/s]\n",
            "100%|██████████| 2/2 [00:00<00:00, 98.65it/s]\n"
          ]
        },
        {
          "output_type": "stream",
          "name": "stdout",
          "text": [
            "\n",
            "Epoch: 373, train_loss=0.0277 val_loss=0.0348 val_acc=0.7091\n"
          ]
        },
        {
          "output_type": "stream",
          "name": "stderr",
          "text": [
            "100%|██████████| 67/67 [00:01<00:00, 36.67it/s]\n",
            "100%|██████████| 2/2 [00:00<00:00, 102.17it/s]\n"
          ]
        },
        {
          "output_type": "stream",
          "name": "stdout",
          "text": [
            "\n",
            "Epoch: 374, train_loss=0.0278 val_loss=0.0348 val_acc=0.7000\n"
          ]
        },
        {
          "output_type": "stream",
          "name": "stderr",
          "text": [
            "100%|██████████| 67/67 [00:01<00:00, 37.50it/s]\n",
            "100%|██████████| 2/2 [00:00<00:00, 106.42it/s]\n"
          ]
        },
        {
          "output_type": "stream",
          "name": "stdout",
          "text": [
            "\n",
            "Epoch: 375, train_loss=0.0277 val_loss=0.0348 val_acc=0.6909\n"
          ]
        },
        {
          "output_type": "stream",
          "name": "stderr",
          "text": [
            "100%|██████████| 67/67 [00:01<00:00, 37.38it/s]\n",
            "100%|██████████| 2/2 [00:00<00:00, 106.74it/s]\n"
          ]
        },
        {
          "output_type": "stream",
          "name": "stdout",
          "text": [
            "\n",
            "Epoch: 376, train_loss=0.0277 val_loss=0.0350 val_acc=0.6909\n"
          ]
        },
        {
          "output_type": "stream",
          "name": "stderr",
          "text": [
            "100%|██████████| 67/67 [00:01<00:00, 37.57it/s]\n",
            "100%|██████████| 2/2 [00:00<00:00, 106.37it/s]\n"
          ]
        },
        {
          "output_type": "stream",
          "name": "stdout",
          "text": [
            "\n",
            "Epoch: 377, train_loss=0.0277 val_loss=0.0343 val_acc=0.7455\n"
          ]
        },
        {
          "output_type": "stream",
          "name": "stderr",
          "text": [
            "100%|██████████| 67/67 [00:01<00:00, 37.45it/s]\n",
            "100%|██████████| 2/2 [00:00<00:00, 103.90it/s]\n"
          ]
        },
        {
          "output_type": "stream",
          "name": "stdout",
          "text": [
            "\n",
            "Epoch: 378, train_loss=0.0276 val_loss=0.0346 val_acc=0.7364\n"
          ]
        },
        {
          "output_type": "stream",
          "name": "stderr",
          "text": [
            "100%|██████████| 67/67 [00:01<00:00, 37.48it/s]\n",
            "100%|██████████| 2/2 [00:00<00:00, 109.13it/s]\n"
          ]
        },
        {
          "output_type": "stream",
          "name": "stdout",
          "text": [
            "\n",
            "Epoch: 379, train_loss=0.0277 val_loss=0.0345 val_acc=0.7182\n"
          ]
        },
        {
          "output_type": "stream",
          "name": "stderr",
          "text": [
            "100%|██████████| 67/67 [00:01<00:00, 35.97it/s]\n",
            "100%|██████████| 2/2 [00:00<00:00, 86.35it/s]\n"
          ]
        },
        {
          "output_type": "stream",
          "name": "stdout",
          "text": [
            "\n",
            "Epoch: 380, train_loss=0.0278 val_loss=0.0350 val_acc=0.7000\n"
          ]
        },
        {
          "output_type": "stream",
          "name": "stderr",
          "text": [
            "100%|██████████| 67/67 [00:01<00:00, 35.66it/s]\n",
            "100%|██████████| 2/2 [00:00<00:00, 82.03it/s]\n"
          ]
        },
        {
          "output_type": "stream",
          "name": "stdout",
          "text": [
            "\n",
            "Epoch: 381, train_loss=0.0279 val_loss=0.0347 val_acc=0.7273\n"
          ]
        },
        {
          "output_type": "stream",
          "name": "stderr",
          "text": [
            "100%|██████████| 67/67 [00:01<00:00, 35.84it/s]\n",
            "100%|██████████| 2/2 [00:00<00:00, 70.22it/s]\n"
          ]
        },
        {
          "output_type": "stream",
          "name": "stdout",
          "text": [
            "\n",
            "Epoch: 382, train_loss=0.0276 val_loss=0.0349 val_acc=0.7091\n"
          ]
        },
        {
          "output_type": "stream",
          "name": "stderr",
          "text": [
            "100%|██████████| 67/67 [00:01<00:00, 36.16it/s]\n",
            "100%|██████████| 2/2 [00:00<00:00, 106.44it/s]\n"
          ]
        },
        {
          "output_type": "stream",
          "name": "stdout",
          "text": [
            "\n",
            "Epoch: 383, train_loss=0.0277 val_loss=0.0347 val_acc=0.7091\n"
          ]
        },
        {
          "output_type": "stream",
          "name": "stderr",
          "text": [
            "100%|██████████| 67/67 [00:01<00:00, 37.48it/s]\n",
            "100%|██████████| 2/2 [00:00<00:00, 107.43it/s]\n"
          ]
        },
        {
          "output_type": "stream",
          "name": "stdout",
          "text": [
            "\n",
            "Epoch: 384, train_loss=0.0277 val_loss=0.0353 val_acc=0.6636\n"
          ]
        },
        {
          "output_type": "stream",
          "name": "stderr",
          "text": [
            "100%|██████████| 67/67 [00:01<00:00, 37.98it/s]\n",
            "100%|██████████| 2/2 [00:00<00:00, 106.78it/s]\n"
          ]
        },
        {
          "output_type": "stream",
          "name": "stdout",
          "text": [
            "\n",
            "Epoch: 385, train_loss=0.0280 val_loss=0.0346 val_acc=0.7364\n"
          ]
        },
        {
          "output_type": "stream",
          "name": "stderr",
          "text": [
            "100%|██████████| 67/67 [00:01<00:00, 37.88it/s]\n",
            "100%|██████████| 2/2 [00:00<00:00, 113.39it/s]\n"
          ]
        },
        {
          "output_type": "stream",
          "name": "stdout",
          "text": [
            "\n",
            "Epoch: 386, train_loss=0.0278 val_loss=0.0346 val_acc=0.7182\n"
          ]
        },
        {
          "output_type": "stream",
          "name": "stderr",
          "text": [
            "100%|██████████| 67/67 [00:01<00:00, 37.61it/s]\n",
            "100%|██████████| 2/2 [00:00<00:00, 106.97it/s]\n"
          ]
        },
        {
          "output_type": "stream",
          "name": "stdout",
          "text": [
            "\n",
            "Epoch: 387, train_loss=0.0278 val_loss=0.0342 val_acc=0.7273\n"
          ]
        },
        {
          "output_type": "stream",
          "name": "stderr",
          "text": [
            "100%|██████████| 67/67 [00:01<00:00, 36.82it/s]\n",
            "100%|██████████| 2/2 [00:00<00:00, 82.74it/s]\n"
          ]
        },
        {
          "output_type": "stream",
          "name": "stdout",
          "text": [
            "\n",
            "Epoch: 388, train_loss=0.0279 val_loss=0.0339 val_acc=0.7455\n"
          ]
        },
        {
          "output_type": "stream",
          "name": "stderr",
          "text": [
            "100%|██████████| 67/67 [00:01<00:00, 36.52it/s]\n",
            "100%|██████████| 2/2 [00:00<00:00, 101.12it/s]\n"
          ]
        },
        {
          "output_type": "stream",
          "name": "stdout",
          "text": [
            "\n",
            "Epoch: 389, train_loss=0.0277 val_loss=0.0347 val_acc=0.7182\n"
          ]
        },
        {
          "output_type": "stream",
          "name": "stderr",
          "text": [
            "100%|██████████| 67/67 [00:01<00:00, 37.06it/s]\n",
            "100%|██████████| 2/2 [00:00<00:00, 104.12it/s]\n"
          ]
        },
        {
          "output_type": "stream",
          "name": "stdout",
          "text": [
            "\n",
            "Epoch: 390, train_loss=0.0277 val_loss=0.0350 val_acc=0.6909\n"
          ]
        },
        {
          "output_type": "stream",
          "name": "stderr",
          "text": [
            "100%|██████████| 67/67 [00:01<00:00, 37.55it/s]\n",
            "100%|██████████| 2/2 [00:00<00:00, 100.00it/s]\n"
          ]
        },
        {
          "output_type": "stream",
          "name": "stdout",
          "text": [
            "\n",
            "Epoch: 391, train_loss=0.0278 val_loss=0.0345 val_acc=0.7273\n"
          ]
        },
        {
          "output_type": "stream",
          "name": "stderr",
          "text": [
            "100%|██████████| 67/67 [00:01<00:00, 37.65it/s]\n",
            "100%|██████████| 2/2 [00:00<00:00, 104.19it/s]\n"
          ]
        },
        {
          "output_type": "stream",
          "name": "stdout",
          "text": [
            "\n",
            "Epoch: 392, train_loss=0.0277 val_loss=0.0350 val_acc=0.7000\n"
          ]
        },
        {
          "output_type": "stream",
          "name": "stderr",
          "text": [
            "100%|██████████| 67/67 [00:01<00:00, 37.46it/s]\n",
            "100%|██████████| 2/2 [00:00<00:00, 107.46it/s]\n"
          ]
        },
        {
          "output_type": "stream",
          "name": "stdout",
          "text": [
            "\n",
            "Epoch: 393, train_loss=0.0277 val_loss=0.0343 val_acc=0.7364\n"
          ]
        },
        {
          "output_type": "stream",
          "name": "stderr",
          "text": [
            "100%|██████████| 67/67 [00:01<00:00, 37.62it/s]\n",
            "100%|██████████| 2/2 [00:00<00:00, 106.80it/s]\n"
          ]
        },
        {
          "output_type": "stream",
          "name": "stdout",
          "text": [
            "\n",
            "Epoch: 394, train_loss=0.0278 val_loss=0.0345 val_acc=0.7273\n"
          ]
        },
        {
          "output_type": "stream",
          "name": "stderr",
          "text": [
            "100%|██████████| 67/67 [00:01<00:00, 37.60it/s]\n",
            "100%|██████████| 2/2 [00:00<00:00, 101.56it/s]\n"
          ]
        },
        {
          "output_type": "stream",
          "name": "stdout",
          "text": [
            "\n",
            "Epoch: 395, train_loss=0.0276 val_loss=0.0346 val_acc=0.7273\n"
          ]
        },
        {
          "output_type": "stream",
          "name": "stderr",
          "text": [
            "100%|██████████| 67/67 [00:01<00:00, 36.80it/s]\n",
            "100%|██████████| 2/2 [00:00<00:00, 95.63it/s]\n"
          ]
        },
        {
          "output_type": "stream",
          "name": "stdout",
          "text": [
            "\n",
            "Epoch: 396, train_loss=0.0275 val_loss=0.0345 val_acc=0.7091\n"
          ]
        },
        {
          "output_type": "stream",
          "name": "stderr",
          "text": [
            "100%|██████████| 67/67 [00:01<00:00, 36.66it/s]\n",
            "100%|██████████| 2/2 [00:00<00:00, 100.60it/s]\n"
          ]
        },
        {
          "output_type": "stream",
          "name": "stdout",
          "text": [
            "\n",
            "Epoch: 397, train_loss=0.0278 val_loss=0.0343 val_acc=0.7273\n"
          ]
        },
        {
          "output_type": "stream",
          "name": "stderr",
          "text": [
            "100%|██████████| 67/67 [00:01<00:00, 37.42it/s]\n",
            "100%|██████████| 2/2 [00:00<00:00, 101.78it/s]\n"
          ]
        },
        {
          "output_type": "stream",
          "name": "stdout",
          "text": [
            "\n",
            "Epoch: 398, train_loss=0.0278 val_loss=0.0342 val_acc=0.7455\n"
          ]
        },
        {
          "output_type": "stream",
          "name": "stderr",
          "text": [
            "100%|██████████| 67/67 [00:01<00:00, 37.49it/s]\n",
            "100%|██████████| 2/2 [00:00<00:00, 104.15it/s]\n"
          ]
        },
        {
          "output_type": "stream",
          "name": "stdout",
          "text": [
            "\n",
            "Epoch: 399, train_loss=0.0275 val_loss=0.0343 val_acc=0.7273\n"
          ]
        },
        {
          "output_type": "stream",
          "name": "stderr",
          "text": [
            "100%|██████████| 67/67 [00:01<00:00, 37.42it/s]\n",
            "100%|██████████| 2/2 [00:00<00:00, 109.71it/s]\n"
          ]
        },
        {
          "output_type": "stream",
          "name": "stdout",
          "text": [
            "\n",
            "Epoch: 400, train_loss=0.0277 val_loss=0.0346 val_acc=0.7273\n"
          ]
        },
        {
          "output_type": "stream",
          "name": "stderr",
          "text": [
            "100%|██████████| 67/67 [00:01<00:00, 37.48it/s]\n",
            "100%|██████████| 2/2 [00:00<00:00, 108.22it/s]\n"
          ]
        },
        {
          "output_type": "stream",
          "name": "stdout",
          "text": [
            "\n",
            "Epoch: 401, train_loss=0.0277 val_loss=0.0347 val_acc=0.7182\n"
          ]
        },
        {
          "output_type": "stream",
          "name": "stderr",
          "text": [
            "100%|██████████| 67/67 [00:01<00:00, 37.72it/s]\n",
            "100%|██████████| 2/2 [00:00<00:00, 106.30it/s]\n"
          ]
        },
        {
          "output_type": "stream",
          "name": "stdout",
          "text": [
            "\n",
            "Epoch: 402, train_loss=0.0278 val_loss=0.0345 val_acc=0.7364\n"
          ]
        },
        {
          "output_type": "stream",
          "name": "stderr",
          "text": [
            "100%|██████████| 67/67 [00:01<00:00, 37.27it/s]\n",
            "100%|██████████| 2/2 [00:00<00:00, 92.97it/s]\n"
          ]
        },
        {
          "output_type": "stream",
          "name": "stdout",
          "text": [
            "\n",
            "Epoch: 403, train_loss=0.0276 val_loss=0.0346 val_acc=0.7091\n"
          ]
        },
        {
          "output_type": "stream",
          "name": "stderr",
          "text": [
            "100%|██████████| 67/67 [00:01<00:00, 36.75it/s]\n",
            "100%|██████████| 2/2 [00:00<00:00, 88.57it/s]\n"
          ]
        },
        {
          "output_type": "stream",
          "name": "stdout",
          "text": [
            "\n",
            "Epoch: 404, train_loss=0.0275 val_loss=0.0346 val_acc=0.6909\n"
          ]
        },
        {
          "output_type": "stream",
          "name": "stderr",
          "text": [
            "100%|██████████| 67/67 [00:01<00:00, 37.19it/s]\n",
            "100%|██████████| 2/2 [00:00<00:00, 104.73it/s]\n"
          ]
        },
        {
          "output_type": "stream",
          "name": "stdout",
          "text": [
            "\n",
            "Epoch: 405, train_loss=0.0283 val_loss=0.0353 val_acc=0.6909\n"
          ]
        },
        {
          "output_type": "stream",
          "name": "stderr",
          "text": [
            "100%|██████████| 67/67 [00:01<00:00, 36.53it/s]\n",
            "100%|██████████| 2/2 [00:00<00:00, 107.07it/s]\n"
          ]
        },
        {
          "output_type": "stream",
          "name": "stdout",
          "text": [
            "\n",
            "Epoch: 406, train_loss=0.0278 val_loss=0.0340 val_acc=0.7636\n"
          ]
        },
        {
          "output_type": "stream",
          "name": "stderr",
          "text": [
            "100%|██████████| 67/67 [00:01<00:00, 36.21it/s]\n",
            "100%|██████████| 2/2 [00:00<00:00, 76.43it/s]\n"
          ]
        },
        {
          "output_type": "stream",
          "name": "stdout",
          "text": [
            "\n",
            "Epoch: 407, train_loss=0.0276 val_loss=0.0355 val_acc=0.6636\n"
          ]
        },
        {
          "output_type": "stream",
          "name": "stderr",
          "text": [
            "100%|██████████| 67/67 [00:01<00:00, 37.30it/s]\n",
            "100%|██████████| 2/2 [00:00<00:00, 108.73it/s]\n"
          ]
        },
        {
          "output_type": "stream",
          "name": "stdout",
          "text": [
            "\n",
            "Epoch: 408, train_loss=0.0276 val_loss=0.0347 val_acc=0.7091\n"
          ]
        },
        {
          "output_type": "stream",
          "name": "stderr",
          "text": [
            "100%|██████████| 67/67 [00:01<00:00, 37.63it/s]\n",
            "100%|██████████| 2/2 [00:00<00:00, 104.14it/s]\n"
          ]
        },
        {
          "output_type": "stream",
          "name": "stdout",
          "text": [
            "\n",
            "Epoch: 409, train_loss=0.0276 val_loss=0.0346 val_acc=0.7182\n"
          ]
        },
        {
          "output_type": "stream",
          "name": "stderr",
          "text": [
            "100%|██████████| 67/67 [00:01<00:00, 37.72it/s]\n",
            "100%|██████████| 2/2 [00:00<00:00, 104.86it/s]\n"
          ]
        },
        {
          "output_type": "stream",
          "name": "stdout",
          "text": [
            "\n",
            "Epoch: 410, train_loss=0.0277 val_loss=0.0344 val_acc=0.7273\n"
          ]
        },
        {
          "output_type": "stream",
          "name": "stderr",
          "text": [
            "100%|██████████| 67/67 [00:01<00:00, 36.15it/s]\n",
            "100%|██████████| 2/2 [00:00<00:00, 103.61it/s]\n"
          ]
        },
        {
          "output_type": "stream",
          "name": "stdout",
          "text": [
            "\n",
            "Epoch: 411, train_loss=0.0276 val_loss=0.0339 val_acc=0.7545\n"
          ]
        },
        {
          "output_type": "stream",
          "name": "stderr",
          "text": [
            "100%|██████████| 67/67 [00:01<00:00, 36.58it/s]\n",
            "100%|██████████| 2/2 [00:00<00:00, 99.21it/s]\n"
          ]
        },
        {
          "output_type": "stream",
          "name": "stdout",
          "text": [
            "\n",
            "Epoch: 412, train_loss=0.0274 val_loss=0.0339 val_acc=0.7455\n"
          ]
        },
        {
          "output_type": "stream",
          "name": "stderr",
          "text": [
            "100%|██████████| 67/67 [00:01<00:00, 37.71it/s]\n",
            "100%|██████████| 2/2 [00:00<00:00, 105.37it/s]\n"
          ]
        },
        {
          "output_type": "stream",
          "name": "stdout",
          "text": [
            "\n",
            "Epoch: 413, train_loss=0.0277 val_loss=0.0343 val_acc=0.7364\n"
          ]
        },
        {
          "output_type": "stream",
          "name": "stderr",
          "text": [
            "100%|██████████| 67/67 [00:01<00:00, 37.67it/s]\n",
            "100%|██████████| 2/2 [00:00<00:00, 107.68it/s]\n"
          ]
        },
        {
          "output_type": "stream",
          "name": "stdout",
          "text": [
            "\n",
            "Epoch: 414, train_loss=0.0275 val_loss=0.0341 val_acc=0.7364\n"
          ]
        },
        {
          "output_type": "stream",
          "name": "stderr",
          "text": [
            "100%|██████████| 67/67 [00:01<00:00, 37.48it/s]\n",
            "100%|██████████| 2/2 [00:00<00:00, 101.17it/s]\n"
          ]
        },
        {
          "output_type": "stream",
          "name": "stdout",
          "text": [
            "\n",
            "Epoch: 415, train_loss=0.0275 val_loss=0.0344 val_acc=0.7000\n"
          ]
        },
        {
          "output_type": "stream",
          "name": "stderr",
          "text": [
            "100%|██████████| 67/67 [00:01<00:00, 37.63it/s]\n",
            "100%|██████████| 2/2 [00:00<00:00, 108.15it/s]\n"
          ]
        },
        {
          "output_type": "stream",
          "name": "stdout",
          "text": [
            "\n",
            "Epoch: 416, train_loss=0.0281 val_loss=0.0356 val_acc=0.6545\n"
          ]
        },
        {
          "output_type": "stream",
          "name": "stderr",
          "text": [
            "100%|██████████| 67/67 [00:01<00:00, 37.54it/s]\n",
            "100%|██████████| 2/2 [00:00<00:00, 110.09it/s]\n"
          ]
        },
        {
          "output_type": "stream",
          "name": "stdout",
          "text": [
            "\n",
            "Epoch: 417, train_loss=0.0275 val_loss=0.0339 val_acc=0.7545\n"
          ]
        },
        {
          "output_type": "stream",
          "name": "stderr",
          "text": [
            "100%|██████████| 67/67 [00:01<00:00, 37.14it/s]\n",
            "100%|██████████| 2/2 [00:00<00:00, 104.58it/s]\n"
          ]
        },
        {
          "output_type": "stream",
          "name": "stdout",
          "text": [
            "\n",
            "Epoch: 418, train_loss=0.0275 val_loss=0.0343 val_acc=0.7182\n"
          ]
        },
        {
          "output_type": "stream",
          "name": "stderr",
          "text": [
            "100%|██████████| 67/67 [00:01<00:00, 36.54it/s]\n",
            "100%|██████████| 2/2 [00:00<00:00, 104.39it/s]\n"
          ]
        },
        {
          "output_type": "stream",
          "name": "stdout",
          "text": [
            "\n",
            "Epoch: 419, train_loss=0.0276 val_loss=0.0343 val_acc=0.7273\n"
          ]
        },
        {
          "output_type": "stream",
          "name": "stderr",
          "text": [
            "100%|██████████| 67/67 [00:01<00:00, 37.43it/s]\n",
            "100%|██████████| 2/2 [00:00<00:00, 112.29it/s]\n"
          ]
        },
        {
          "output_type": "stream",
          "name": "stdout",
          "text": [
            "\n",
            "Epoch: 420, train_loss=0.0275 val_loss=0.0336 val_acc=0.7727\n"
          ]
        },
        {
          "output_type": "stream",
          "name": "stderr",
          "text": [
            "100%|██████████| 67/67 [00:01<00:00, 37.72it/s]\n",
            "100%|██████████| 2/2 [00:00<00:00, 110.72it/s]\n"
          ]
        },
        {
          "output_type": "stream",
          "name": "stdout",
          "text": [
            "\n",
            "Epoch: 421, train_loss=0.0277 val_loss=0.0349 val_acc=0.7000\n"
          ]
        },
        {
          "output_type": "stream",
          "name": "stderr",
          "text": [
            "100%|██████████| 67/67 [00:01<00:00, 37.57it/s]\n",
            "100%|██████████| 2/2 [00:00<00:00, 107.83it/s]\n"
          ]
        },
        {
          "output_type": "stream",
          "name": "stdout",
          "text": [
            "\n",
            "Epoch: 422, train_loss=0.0275 val_loss=0.0337 val_acc=0.7727\n"
          ]
        },
        {
          "output_type": "stream",
          "name": "stderr",
          "text": [
            "100%|██████████| 67/67 [00:01<00:00, 37.67it/s]\n",
            "100%|██████████| 2/2 [00:00<00:00, 106.36it/s]\n"
          ]
        },
        {
          "output_type": "stream",
          "name": "stdout",
          "text": [
            "\n",
            "Epoch: 423, train_loss=0.0274 val_loss=0.0344 val_acc=0.7273\n"
          ]
        },
        {
          "output_type": "stream",
          "name": "stderr",
          "text": [
            "100%|██████████| 67/67 [00:01<00:00, 37.70it/s]\n",
            "100%|██████████| 2/2 [00:00<00:00, 106.42it/s]\n"
          ]
        },
        {
          "output_type": "stream",
          "name": "stdout",
          "text": [
            "\n",
            "Epoch: 424, train_loss=0.0276 val_loss=0.0351 val_acc=0.7000\n"
          ]
        },
        {
          "output_type": "stream",
          "name": "stderr",
          "text": [
            "100%|██████████| 67/67 [00:01<00:00, 37.41it/s]\n",
            "100%|██████████| 2/2 [00:00<00:00, 102.74it/s]\n"
          ]
        },
        {
          "output_type": "stream",
          "name": "stdout",
          "text": [
            "\n",
            "Epoch: 425, train_loss=0.0279 val_loss=0.0347 val_acc=0.7182\n"
          ]
        },
        {
          "output_type": "stream",
          "name": "stderr",
          "text": [
            "100%|██████████| 67/67 [00:01<00:00, 36.21it/s]\n",
            "100%|██████████| 2/2 [00:00<00:00, 100.68it/s]\n"
          ]
        },
        {
          "output_type": "stream",
          "name": "stdout",
          "text": [
            "\n",
            "Epoch: 426, train_loss=0.0274 val_loss=0.0344 val_acc=0.7455\n"
          ]
        },
        {
          "output_type": "stream",
          "name": "stderr",
          "text": [
            "100%|██████████| 67/67 [00:01<00:00, 36.71it/s]\n",
            "100%|██████████| 2/2 [00:00<00:00, 97.27it/s]\n"
          ]
        },
        {
          "output_type": "stream",
          "name": "stdout",
          "text": [
            "\n",
            "Epoch: 427, train_loss=0.0274 val_loss=0.0342 val_acc=0.7364\n"
          ]
        },
        {
          "output_type": "stream",
          "name": "stderr",
          "text": [
            "100%|██████████| 67/67 [00:01<00:00, 37.26it/s]\n",
            "100%|██████████| 2/2 [00:00<00:00, 112.72it/s]\n"
          ]
        },
        {
          "output_type": "stream",
          "name": "stdout",
          "text": [
            "\n",
            "Epoch: 428, train_loss=0.0273 val_loss=0.0338 val_acc=0.7636\n"
          ]
        },
        {
          "output_type": "stream",
          "name": "stderr",
          "text": [
            "100%|██████████| 67/67 [00:01<00:00, 37.47it/s]\n",
            "100%|██████████| 2/2 [00:00<00:00, 103.11it/s]\n"
          ]
        },
        {
          "output_type": "stream",
          "name": "stdout",
          "text": [
            "\n",
            "Epoch: 429, train_loss=0.0274 val_loss=0.0344 val_acc=0.7091\n"
          ]
        },
        {
          "output_type": "stream",
          "name": "stderr",
          "text": [
            "100%|██████████| 67/67 [00:01<00:00, 37.76it/s]\n",
            "100%|██████████| 2/2 [00:00<00:00, 106.57it/s]\n"
          ]
        },
        {
          "output_type": "stream",
          "name": "stdout",
          "text": [
            "\n",
            "Epoch: 430, train_loss=0.0275 val_loss=0.0343 val_acc=0.7182\n"
          ]
        },
        {
          "output_type": "stream",
          "name": "stderr",
          "text": [
            "100%|██████████| 67/67 [00:01<00:00, 36.61it/s]\n",
            "100%|██████████| 2/2 [00:00<00:00, 103.36it/s]\n"
          ]
        },
        {
          "output_type": "stream",
          "name": "stdout",
          "text": [
            "\n",
            "Epoch: 431, train_loss=0.0275 val_loss=0.0341 val_acc=0.7455\n"
          ]
        },
        {
          "output_type": "stream",
          "name": "stderr",
          "text": [
            "100%|██████████| 67/67 [00:01<00:00, 36.50it/s]\n",
            "100%|██████████| 2/2 [00:00<00:00, 99.46it/s]\n"
          ]
        },
        {
          "output_type": "stream",
          "name": "stdout",
          "text": [
            "\n",
            "Epoch: 432, train_loss=0.0274 val_loss=0.0343 val_acc=0.7273\n"
          ]
        },
        {
          "output_type": "stream",
          "name": "stderr",
          "text": [
            "100%|██████████| 67/67 [00:01<00:00, 36.40it/s]\n",
            "100%|██████████| 2/2 [00:00<00:00, 97.23it/s]\n"
          ]
        },
        {
          "output_type": "stream",
          "name": "stdout",
          "text": [
            "\n",
            "Epoch: 433, train_loss=0.0275 val_loss=0.0344 val_acc=0.7273\n"
          ]
        },
        {
          "output_type": "stream",
          "name": "stderr",
          "text": [
            "100%|██████████| 67/67 [00:01<00:00, 36.37it/s]\n",
            "100%|██████████| 2/2 [00:00<00:00, 105.13it/s]\n"
          ]
        },
        {
          "output_type": "stream",
          "name": "stdout",
          "text": [
            "\n",
            "Epoch: 434, train_loss=0.0274 val_loss=0.0348 val_acc=0.7000\n"
          ]
        },
        {
          "output_type": "stream",
          "name": "stderr",
          "text": [
            "100%|██████████| 67/67 [00:01<00:00, 37.20it/s]\n",
            "100%|██████████| 2/2 [00:00<00:00, 114.67it/s]\n"
          ]
        },
        {
          "output_type": "stream",
          "name": "stdout",
          "text": [
            "\n",
            "Epoch: 435, train_loss=0.0273 val_loss=0.0338 val_acc=0.7455\n"
          ]
        },
        {
          "output_type": "stream",
          "name": "stderr",
          "text": [
            "100%|██████████| 67/67 [00:01<00:00, 37.57it/s]\n",
            "100%|██████████| 2/2 [00:00<00:00, 107.16it/s]\n"
          ]
        },
        {
          "output_type": "stream",
          "name": "stdout",
          "text": [
            "\n",
            "Epoch: 436, train_loss=0.0274 val_loss=0.0341 val_acc=0.7273\n"
          ]
        },
        {
          "output_type": "stream",
          "name": "stderr",
          "text": [
            "100%|██████████| 67/67 [00:01<00:00, 37.74it/s]\n",
            "100%|██████████| 2/2 [00:00<00:00, 110.23it/s]\n"
          ]
        },
        {
          "output_type": "stream",
          "name": "stdout",
          "text": [
            "\n",
            "Epoch: 437, train_loss=0.0275 val_loss=0.0347 val_acc=0.7091\n"
          ]
        },
        {
          "output_type": "stream",
          "name": "stderr",
          "text": [
            "100%|██████████| 67/67 [00:01<00:00, 37.66it/s]\n",
            "100%|██████████| 2/2 [00:00<00:00, 111.04it/s]\n"
          ]
        },
        {
          "output_type": "stream",
          "name": "stdout",
          "text": [
            "\n",
            "Epoch: 438, train_loss=0.0276 val_loss=0.0354 val_acc=0.6636\n"
          ]
        },
        {
          "output_type": "stream",
          "name": "stderr",
          "text": [
            "100%|██████████| 67/67 [00:01<00:00, 37.73it/s]\n",
            "100%|██████████| 2/2 [00:00<00:00, 94.00it/s]\n"
          ]
        },
        {
          "output_type": "stream",
          "name": "stdout",
          "text": [
            "\n",
            "Epoch: 439, train_loss=0.0278 val_loss=0.0349 val_acc=0.7000\n"
          ]
        },
        {
          "output_type": "stream",
          "name": "stderr",
          "text": [
            "100%|██████████| 67/67 [00:01<00:00, 37.61it/s]\n",
            "100%|██████████| 2/2 [00:00<00:00, 109.78it/s]\n"
          ]
        },
        {
          "output_type": "stream",
          "name": "stdout",
          "text": [
            "\n",
            "Epoch: 440, train_loss=0.0275 val_loss=0.0349 val_acc=0.7091\n"
          ]
        },
        {
          "output_type": "stream",
          "name": "stderr",
          "text": [
            "100%|██████████| 67/67 [00:01<00:00, 36.86it/s]\n",
            "100%|██████████| 2/2 [00:00<00:00, 95.47it/s]\n"
          ]
        },
        {
          "output_type": "stream",
          "name": "stdout",
          "text": [
            "\n",
            "Epoch: 441, train_loss=0.0274 val_loss=0.0340 val_acc=0.7455\n"
          ]
        },
        {
          "output_type": "stream",
          "name": "stderr",
          "text": [
            "100%|██████████| 67/67 [00:01<00:00, 36.51it/s]\n",
            "100%|██████████| 2/2 [00:00<00:00, 92.02it/s]\n"
          ]
        },
        {
          "output_type": "stream",
          "name": "stdout",
          "text": [
            "\n",
            "Epoch: 442, train_loss=0.0274 val_loss=0.0339 val_acc=0.7545\n"
          ]
        },
        {
          "output_type": "stream",
          "name": "stderr",
          "text": [
            "100%|██████████| 67/67 [00:01<00:00, 37.70it/s]\n",
            "100%|██████████| 2/2 [00:00<00:00, 107.65it/s]\n"
          ]
        },
        {
          "output_type": "stream",
          "name": "stdout",
          "text": [
            "\n",
            "Epoch: 443, train_loss=0.0274 val_loss=0.0343 val_acc=0.7364\n"
          ]
        },
        {
          "output_type": "stream",
          "name": "stderr",
          "text": [
            "100%|██████████| 67/67 [00:01<00:00, 37.79it/s]\n",
            "100%|██████████| 2/2 [00:00<00:00, 107.27it/s]\n"
          ]
        },
        {
          "output_type": "stream",
          "name": "stdout",
          "text": [
            "\n",
            "Epoch: 444, train_loss=0.0274 val_loss=0.0341 val_acc=0.7545\n"
          ]
        },
        {
          "output_type": "stream",
          "name": "stderr",
          "text": [
            "100%|██████████| 67/67 [00:01<00:00, 37.87it/s]\n",
            "100%|██████████| 2/2 [00:00<00:00, 105.99it/s]\n"
          ]
        },
        {
          "output_type": "stream",
          "name": "stdout",
          "text": [
            "\n",
            "Epoch: 445, train_loss=0.0274 val_loss=0.0344 val_acc=0.7273\n"
          ]
        },
        {
          "output_type": "stream",
          "name": "stderr",
          "text": [
            "100%|██████████| 67/67 [00:01<00:00, 37.49it/s]\n",
            "100%|██████████| 2/2 [00:00<00:00, 111.95it/s]\n"
          ]
        },
        {
          "output_type": "stream",
          "name": "stdout",
          "text": [
            "\n",
            "Epoch: 446, train_loss=0.0274 val_loss=0.0340 val_acc=0.7455\n"
          ]
        },
        {
          "output_type": "stream",
          "name": "stderr",
          "text": [
            "100%|██████████| 67/67 [00:01<00:00, 37.66it/s]\n",
            "100%|██████████| 2/2 [00:00<00:00, 100.26it/s]\n"
          ]
        },
        {
          "output_type": "stream",
          "name": "stdout",
          "text": [
            "\n",
            "Epoch: 447, train_loss=0.0273 val_loss=0.0348 val_acc=0.7091\n"
          ]
        },
        {
          "output_type": "stream",
          "name": "stderr",
          "text": [
            "100%|██████████| 67/67 [00:01<00:00, 37.03it/s]\n",
            "100%|██████████| 2/2 [00:00<00:00, 105.78it/s]\n"
          ]
        },
        {
          "output_type": "stream",
          "name": "stdout",
          "text": [
            "\n",
            "Epoch: 448, train_loss=0.0272 val_loss=0.0341 val_acc=0.7364\n"
          ]
        },
        {
          "output_type": "stream",
          "name": "stderr",
          "text": [
            "100%|██████████| 67/67 [00:01<00:00, 36.62it/s]\n",
            "100%|██████████| 2/2 [00:00<00:00, 94.42it/s]\n"
          ]
        },
        {
          "output_type": "stream",
          "name": "stdout",
          "text": [
            "\n",
            "Epoch: 449, train_loss=0.0273 val_loss=0.0343 val_acc=0.7455\n"
          ]
        },
        {
          "output_type": "stream",
          "name": "stderr",
          "text": [
            "100%|██████████| 67/67 [00:01<00:00, 36.74it/s]\n",
            "100%|██████████| 2/2 [00:00<00:00, 108.25it/s]\n"
          ]
        },
        {
          "output_type": "stream",
          "name": "stdout",
          "text": [
            "\n",
            "Epoch: 450, train_loss=0.0272 val_loss=0.0342 val_acc=0.7455\n"
          ]
        },
        {
          "output_type": "stream",
          "name": "stderr",
          "text": [
            "100%|██████████| 67/67 [00:01<00:00, 37.73it/s]\n",
            "100%|██████████| 2/2 [00:00<00:00, 103.48it/s]\n"
          ]
        },
        {
          "output_type": "stream",
          "name": "stdout",
          "text": [
            "\n",
            "Epoch: 451, train_loss=0.0273 val_loss=0.0335 val_acc=0.7727\n"
          ]
        },
        {
          "output_type": "stream",
          "name": "stderr",
          "text": [
            "100%|██████████| 67/67 [00:01<00:00, 37.68it/s]\n",
            "100%|██████████| 2/2 [00:00<00:00, 102.23it/s]\n"
          ]
        },
        {
          "output_type": "stream",
          "name": "stdout",
          "text": [
            "\n",
            "Epoch: 452, train_loss=0.0275 val_loss=0.0340 val_acc=0.7455\n"
          ]
        },
        {
          "output_type": "stream",
          "name": "stderr",
          "text": [
            "100%|██████████| 67/67 [00:01<00:00, 37.81it/s]\n",
            "100%|██████████| 2/2 [00:00<00:00, 99.65it/s]\n"
          ]
        },
        {
          "output_type": "stream",
          "name": "stdout",
          "text": [
            "\n",
            "Epoch: 453, train_loss=0.0275 val_loss=0.0348 val_acc=0.7000\n"
          ]
        },
        {
          "output_type": "stream",
          "name": "stderr",
          "text": [
            "100%|██████████| 67/67 [00:01<00:00, 37.66it/s]\n",
            "100%|██████████| 2/2 [00:00<00:00, 106.68it/s]\n"
          ]
        },
        {
          "output_type": "stream",
          "name": "stdout",
          "text": [
            "\n",
            "Epoch: 454, train_loss=0.0276 val_loss=0.0335 val_acc=0.7455\n"
          ]
        },
        {
          "output_type": "stream",
          "name": "stderr",
          "text": [
            "100%|██████████| 67/67 [00:01<00:00, 37.58it/s]\n",
            "100%|██████████| 2/2 [00:00<00:00, 104.25it/s]\n"
          ]
        },
        {
          "output_type": "stream",
          "name": "stdout",
          "text": [
            "\n",
            "Epoch: 455, train_loss=0.0276 val_loss=0.0339 val_acc=0.7636\n"
          ]
        },
        {
          "output_type": "stream",
          "name": "stderr",
          "text": [
            "100%|██████████| 67/67 [00:01<00:00, 36.33it/s]\n",
            "100%|██████████| 2/2 [00:00<00:00, 105.43it/s]\n"
          ]
        },
        {
          "output_type": "stream",
          "name": "stdout",
          "text": [
            "\n",
            "Epoch: 456, train_loss=0.0288 val_loss=0.0347 val_acc=0.7091\n"
          ]
        },
        {
          "output_type": "stream",
          "name": "stderr",
          "text": [
            "100%|██████████| 67/67 [00:01<00:00, 36.09it/s]\n",
            "100%|██████████| 2/2 [00:00<00:00, 105.15it/s]\n"
          ]
        },
        {
          "output_type": "stream",
          "name": "stdout",
          "text": [
            "\n",
            "Epoch: 457, train_loss=0.0275 val_loss=0.0335 val_acc=0.7727\n"
          ]
        },
        {
          "output_type": "stream",
          "name": "stderr",
          "text": [
            "100%|██████████| 67/67 [00:01<00:00, 36.24it/s]\n",
            "100%|██████████| 2/2 [00:00<00:00, 87.98it/s]\n"
          ]
        },
        {
          "output_type": "stream",
          "name": "stdout",
          "text": [
            "\n",
            "Epoch: 458, train_loss=0.0273 val_loss=0.0340 val_acc=0.7545\n"
          ]
        },
        {
          "output_type": "stream",
          "name": "stderr",
          "text": [
            "100%|██████████| 67/67 [00:01<00:00, 36.18it/s]\n",
            "100%|██████████| 2/2 [00:00<00:00, 103.66it/s]\n"
          ]
        },
        {
          "output_type": "stream",
          "name": "stdout",
          "text": [
            "\n",
            "Epoch: 459, train_loss=0.0273 val_loss=0.0343 val_acc=0.7364\n"
          ]
        },
        {
          "output_type": "stream",
          "name": "stderr",
          "text": [
            "100%|██████████| 67/67 [00:01<00:00, 37.61it/s]\n",
            "100%|██████████| 2/2 [00:00<00:00, 108.59it/s]\n"
          ]
        },
        {
          "output_type": "stream",
          "name": "stdout",
          "text": [
            "\n",
            "Epoch: 460, train_loss=0.0272 val_loss=0.0347 val_acc=0.7000\n"
          ]
        },
        {
          "output_type": "stream",
          "name": "stderr",
          "text": [
            "100%|██████████| 67/67 [00:01<00:00, 37.55it/s]\n",
            "100%|██████████| 2/2 [00:00<00:00, 106.98it/s]\n"
          ]
        },
        {
          "output_type": "stream",
          "name": "stdout",
          "text": [
            "\n",
            "Epoch: 461, train_loss=0.0272 val_loss=0.0351 val_acc=0.6818\n"
          ]
        },
        {
          "output_type": "stream",
          "name": "stderr",
          "text": [
            "100%|██████████| 67/67 [00:01<00:00, 37.53it/s]\n",
            "100%|██████████| 2/2 [00:00<00:00, 112.20it/s]\n"
          ]
        },
        {
          "output_type": "stream",
          "name": "stdout",
          "text": [
            "\n",
            "Epoch: 462, train_loss=0.0273 val_loss=0.0342 val_acc=0.7364\n"
          ]
        },
        {
          "output_type": "stream",
          "name": "stderr",
          "text": [
            "100%|██████████| 67/67 [00:01<00:00, 37.76it/s]\n",
            "100%|██████████| 2/2 [00:00<00:00, 113.15it/s]\n"
          ]
        },
        {
          "output_type": "stream",
          "name": "stdout",
          "text": [
            "\n",
            "Epoch: 463, train_loss=0.0275 val_loss=0.0346 val_acc=0.7182\n"
          ]
        },
        {
          "output_type": "stream",
          "name": "stderr",
          "text": [
            "100%|██████████| 67/67 [00:01<00:00, 37.51it/s]\n",
            "100%|██████████| 2/2 [00:00<00:00, 105.70it/s]\n"
          ]
        },
        {
          "output_type": "stream",
          "name": "stdout",
          "text": [
            "\n",
            "Epoch: 464, train_loss=0.0275 val_loss=0.0344 val_acc=0.7273\n"
          ]
        },
        {
          "output_type": "stream",
          "name": "stderr",
          "text": [
            "100%|██████████| 67/67 [00:01<00:00, 36.37it/s]\n",
            "100%|██████████| 2/2 [00:00<00:00, 104.69it/s]\n"
          ]
        },
        {
          "output_type": "stream",
          "name": "stdout",
          "text": [
            "\n",
            "Epoch: 465, train_loss=0.0273 val_loss=0.0343 val_acc=0.7273\n"
          ]
        },
        {
          "output_type": "stream",
          "name": "stderr",
          "text": [
            "100%|██████████| 67/67 [00:01<00:00, 36.18it/s]\n",
            "100%|██████████| 2/2 [00:00<00:00, 97.69it/s]\n"
          ]
        },
        {
          "output_type": "stream",
          "name": "stdout",
          "text": [
            "\n",
            "Epoch: 466, train_loss=0.0273 val_loss=0.0360 val_acc=0.6182\n"
          ]
        },
        {
          "output_type": "stream",
          "name": "stderr",
          "text": [
            "100%|██████████| 67/67 [00:01<00:00, 37.24it/s]\n",
            "100%|██████████| 2/2 [00:00<00:00, 106.37it/s]\n"
          ]
        },
        {
          "output_type": "stream",
          "name": "stdout",
          "text": [
            "\n",
            "Epoch: 467, train_loss=0.0275 val_loss=0.0343 val_acc=0.7364\n"
          ]
        },
        {
          "output_type": "stream",
          "name": "stderr",
          "text": [
            "100%|██████████| 67/67 [00:01<00:00, 37.62it/s]\n",
            "100%|██████████| 2/2 [00:00<00:00, 111.30it/s]\n"
          ]
        },
        {
          "output_type": "stream",
          "name": "stdout",
          "text": [
            "\n",
            "Epoch: 468, train_loss=0.0272 val_loss=0.0335 val_acc=0.7909\n"
          ]
        },
        {
          "output_type": "stream",
          "name": "stderr",
          "text": [
            "100%|██████████| 67/67 [00:01<00:00, 37.75it/s]\n",
            "100%|██████████| 2/2 [00:00<00:00, 103.78it/s]\n"
          ]
        },
        {
          "output_type": "stream",
          "name": "stdout",
          "text": [
            "\n",
            "Epoch: 469, train_loss=0.0271 val_loss=0.0343 val_acc=0.7273\n"
          ]
        },
        {
          "output_type": "stream",
          "name": "stderr",
          "text": [
            "100%|██████████| 67/67 [00:01<00:00, 37.80it/s]\n",
            "100%|██████████| 2/2 [00:00<00:00, 109.69it/s]\n"
          ]
        },
        {
          "output_type": "stream",
          "name": "stdout",
          "text": [
            "\n",
            "Epoch: 470, train_loss=0.0272 val_loss=0.0336 val_acc=0.7636\n"
          ]
        },
        {
          "output_type": "stream",
          "name": "stderr",
          "text": [
            "100%|██████████| 67/67 [00:01<00:00, 37.77it/s]\n",
            "100%|██████████| 2/2 [00:00<00:00, 107.60it/s]\n"
          ]
        },
        {
          "output_type": "stream",
          "name": "stdout",
          "text": [
            "\n",
            "Epoch: 471, train_loss=0.0283 val_loss=0.0342 val_acc=0.7364\n"
          ]
        },
        {
          "output_type": "stream",
          "name": "stderr",
          "text": [
            "100%|██████████| 67/67 [00:01<00:00, 37.36it/s]\n",
            "100%|██████████| 2/2 [00:00<00:00, 88.79it/s]\n"
          ]
        },
        {
          "output_type": "stream",
          "name": "stdout",
          "text": [
            "\n",
            "Epoch: 472, train_loss=0.0274 val_loss=0.0342 val_acc=0.7364\n"
          ]
        },
        {
          "output_type": "stream",
          "name": "stderr",
          "text": [
            "100%|██████████| 67/67 [00:01<00:00, 36.98it/s]\n",
            "100%|██████████| 2/2 [00:00<00:00, 102.90it/s]\n"
          ]
        },
        {
          "output_type": "stream",
          "name": "stdout",
          "text": [
            "\n",
            "Epoch: 473, train_loss=0.0274 val_loss=0.0339 val_acc=0.7364\n"
          ]
        },
        {
          "output_type": "stream",
          "name": "stderr",
          "text": [
            "100%|██████████| 67/67 [00:01<00:00, 36.72it/s]\n",
            "100%|██████████| 2/2 [00:00<00:00, 103.26it/s]\n"
          ]
        },
        {
          "output_type": "stream",
          "name": "stdout",
          "text": [
            "\n",
            "Epoch: 474, train_loss=0.0274 val_loss=0.0351 val_acc=0.6909\n"
          ]
        },
        {
          "output_type": "stream",
          "name": "stderr",
          "text": [
            "100%|██████████| 67/67 [00:01<00:00, 37.95it/s]\n",
            "100%|██████████| 2/2 [00:00<00:00, 109.58it/s]\n"
          ]
        },
        {
          "output_type": "stream",
          "name": "stdout",
          "text": [
            "\n",
            "Epoch: 475, train_loss=0.0277 val_loss=0.0348 val_acc=0.7182\n"
          ]
        },
        {
          "output_type": "stream",
          "name": "stderr",
          "text": [
            "100%|██████████| 67/67 [00:01<00:00, 37.88it/s]\n",
            "100%|██████████| 2/2 [00:00<00:00, 105.86it/s]\n"
          ]
        },
        {
          "output_type": "stream",
          "name": "stdout",
          "text": [
            "\n",
            "Epoch: 476, train_loss=0.0273 val_loss=0.0342 val_acc=0.7455\n"
          ]
        },
        {
          "output_type": "stream",
          "name": "stderr",
          "text": [
            "100%|██████████| 67/67 [00:01<00:00, 37.69it/s]\n",
            "100%|██████████| 2/2 [00:00<00:00, 104.35it/s]\n"
          ]
        },
        {
          "output_type": "stream",
          "name": "stdout",
          "text": [
            "\n",
            "Epoch: 477, train_loss=0.0274 val_loss=0.0345 val_acc=0.7182\n"
          ]
        },
        {
          "output_type": "stream",
          "name": "stderr",
          "text": [
            "100%|██████████| 67/67 [00:01<00:00, 38.01it/s]\n",
            "100%|██████████| 2/2 [00:00<00:00, 82.71it/s]\n"
          ]
        },
        {
          "output_type": "stream",
          "name": "stdout",
          "text": [
            "\n",
            "Epoch: 478, train_loss=0.0273 val_loss=0.0342 val_acc=0.7091\n"
          ]
        },
        {
          "output_type": "stream",
          "name": "stderr",
          "text": [
            "100%|██████████| 67/67 [00:01<00:00, 37.49it/s]\n",
            "100%|██████████| 2/2 [00:00<00:00, 108.64it/s]\n"
          ]
        },
        {
          "output_type": "stream",
          "name": "stdout",
          "text": [
            "\n",
            "Epoch: 479, train_loss=0.0272 val_loss=0.0345 val_acc=0.7273\n"
          ]
        },
        {
          "output_type": "stream",
          "name": "stderr",
          "text": [
            "100%|██████████| 67/67 [00:01<00:00, 36.87it/s]\n",
            "100%|██████████| 2/2 [00:00<00:00, 93.48it/s]\n"
          ]
        },
        {
          "output_type": "stream",
          "name": "stdout",
          "text": [
            "\n",
            "Epoch: 480, train_loss=0.0272 val_loss=0.0341 val_acc=0.7364\n"
          ]
        },
        {
          "output_type": "stream",
          "name": "stderr",
          "text": [
            "100%|██████████| 67/67 [00:01<00:00, 36.40it/s]\n",
            "100%|██████████| 2/2 [00:00<00:00, 104.64it/s]\n"
          ]
        },
        {
          "output_type": "stream",
          "name": "stdout",
          "text": [
            "\n",
            "Epoch: 481, train_loss=0.0272 val_loss=0.0339 val_acc=0.7727\n"
          ]
        },
        {
          "output_type": "stream",
          "name": "stderr",
          "text": [
            "100%|██████████| 67/67 [00:01<00:00, 36.02it/s]\n",
            "100%|██████████| 2/2 [00:00<00:00, 95.80it/s]\n"
          ]
        },
        {
          "output_type": "stream",
          "name": "stdout",
          "text": [
            "\n",
            "Epoch: 482, train_loss=0.0273 val_loss=0.0334 val_acc=0.7636\n"
          ]
        },
        {
          "output_type": "stream",
          "name": "stderr",
          "text": [
            "100%|██████████| 67/67 [00:01<00:00, 35.83it/s]\n",
            "100%|██████████| 2/2 [00:00<00:00, 74.74it/s]\n"
          ]
        },
        {
          "output_type": "stream",
          "name": "stdout",
          "text": [
            "\n",
            "Epoch: 483, train_loss=0.0272 val_loss=0.0340 val_acc=0.7545\n"
          ]
        },
        {
          "output_type": "stream",
          "name": "stderr",
          "text": [
            "100%|██████████| 67/67 [00:01<00:00, 37.38it/s]\n",
            "100%|██████████| 2/2 [00:00<00:00, 111.60it/s]\n"
          ]
        },
        {
          "output_type": "stream",
          "name": "stdout",
          "text": [
            "\n",
            "Epoch: 484, train_loss=0.0272 val_loss=0.0348 val_acc=0.6818\n"
          ]
        },
        {
          "output_type": "stream",
          "name": "stderr",
          "text": [
            "100%|██████████| 67/67 [00:01<00:00, 37.81it/s]\n",
            "100%|██████████| 2/2 [00:00<00:00, 108.41it/s]\n"
          ]
        },
        {
          "output_type": "stream",
          "name": "stdout",
          "text": [
            "\n",
            "Epoch: 485, train_loss=0.0272 val_loss=0.0339 val_acc=0.7455\n"
          ]
        },
        {
          "output_type": "stream",
          "name": "stderr",
          "text": [
            "100%|██████████| 67/67 [00:01<00:00, 37.86it/s]\n",
            "100%|██████████| 2/2 [00:00<00:00, 113.76it/s]\n"
          ]
        },
        {
          "output_type": "stream",
          "name": "stdout",
          "text": [
            "\n",
            "Epoch: 486, train_loss=0.0272 val_loss=0.0342 val_acc=0.7273\n"
          ]
        },
        {
          "output_type": "stream",
          "name": "stderr",
          "text": [
            "100%|██████████| 67/67 [00:01<00:00, 37.61it/s]\n",
            "100%|██████████| 2/2 [00:00<00:00, 99.23it/s]\n"
          ]
        },
        {
          "output_type": "stream",
          "name": "stdout",
          "text": [
            "\n",
            "Epoch: 487, train_loss=0.0275 val_loss=0.0336 val_acc=0.7727\n"
          ]
        },
        {
          "output_type": "stream",
          "name": "stderr",
          "text": [
            "100%|██████████| 67/67 [00:01<00:00, 37.90it/s]\n",
            "100%|██████████| 2/2 [00:00<00:00, 113.36it/s]\n"
          ]
        },
        {
          "output_type": "stream",
          "name": "stdout",
          "text": [
            "\n",
            "Epoch: 488, train_loss=0.0273 val_loss=0.0337 val_acc=0.7545\n"
          ]
        },
        {
          "output_type": "stream",
          "name": "stderr",
          "text": [
            "100%|██████████| 67/67 [00:01<00:00, 36.43it/s]\n",
            "100%|██████████| 2/2 [00:00<00:00, 93.08it/s]\n"
          ]
        },
        {
          "output_type": "stream",
          "name": "stdout",
          "text": [
            "\n",
            "Epoch: 489, train_loss=0.0273 val_loss=0.0333 val_acc=0.7909\n"
          ]
        },
        {
          "output_type": "stream",
          "name": "stderr",
          "text": [
            "100%|██████████| 67/67 [00:01<00:00, 36.67it/s]\n",
            "100%|██████████| 2/2 [00:00<00:00, 88.58it/s]\n"
          ]
        },
        {
          "output_type": "stream",
          "name": "stdout",
          "text": [
            "\n",
            "Epoch: 490, train_loss=0.0273 val_loss=0.0349 val_acc=0.6909\n"
          ]
        },
        {
          "output_type": "stream",
          "name": "stderr",
          "text": [
            "100%|██████████| 67/67 [00:01<00:00, 36.60it/s]\n",
            "100%|██████████| 2/2 [00:00<00:00, 106.84it/s]\n"
          ]
        },
        {
          "output_type": "stream",
          "name": "stdout",
          "text": [
            "\n",
            "Epoch: 491, train_loss=0.0276 val_loss=0.0339 val_acc=0.7727\n"
          ]
        },
        {
          "output_type": "stream",
          "name": "stderr",
          "text": [
            "100%|██████████| 67/67 [00:01<00:00, 37.76it/s]\n",
            "100%|██████████| 2/2 [00:00<00:00, 112.68it/s]\n"
          ]
        },
        {
          "output_type": "stream",
          "name": "stdout",
          "text": [
            "\n",
            "Epoch: 492, train_loss=0.0272 val_loss=0.0343 val_acc=0.7273\n"
          ]
        },
        {
          "output_type": "stream",
          "name": "stderr",
          "text": [
            "100%|██████████| 67/67 [00:01<00:00, 37.73it/s]\n",
            "100%|██████████| 2/2 [00:00<00:00, 106.87it/s]\n"
          ]
        },
        {
          "output_type": "stream",
          "name": "stdout",
          "text": [
            "\n",
            "Epoch: 493, train_loss=0.0272 val_loss=0.0337 val_acc=0.7636\n"
          ]
        },
        {
          "output_type": "stream",
          "name": "stderr",
          "text": [
            "100%|██████████| 67/67 [00:01<00:00, 37.80it/s]\n",
            "100%|██████████| 2/2 [00:00<00:00, 106.44it/s]\n"
          ]
        },
        {
          "output_type": "stream",
          "name": "stdout",
          "text": [
            "\n",
            "Epoch: 494, train_loss=0.0276 val_loss=0.0348 val_acc=0.7091\n"
          ]
        },
        {
          "output_type": "stream",
          "name": "stderr",
          "text": [
            "100%|██████████| 67/67 [00:01<00:00, 37.69it/s]\n",
            "100%|██████████| 2/2 [00:00<00:00, 106.93it/s]\n"
          ]
        },
        {
          "output_type": "stream",
          "name": "stdout",
          "text": [
            "\n",
            "Epoch: 495, train_loss=0.0273 val_loss=0.0337 val_acc=0.7727\n"
          ]
        },
        {
          "output_type": "stream",
          "name": "stderr",
          "text": [
            "100%|██████████| 67/67 [00:01<00:00, 37.71it/s]\n",
            "100%|██████████| 2/2 [00:00<00:00, 98.44it/s]\n"
          ]
        },
        {
          "output_type": "stream",
          "name": "stdout",
          "text": [
            "\n",
            "Epoch: 496, train_loss=0.0275 val_loss=0.0343 val_acc=0.7364\n"
          ]
        },
        {
          "output_type": "stream",
          "name": "stderr",
          "text": [
            "100%|██████████| 67/67 [00:01<00:00, 36.75it/s]\n",
            "100%|██████████| 2/2 [00:00<00:00, 98.77it/s]\n"
          ]
        },
        {
          "output_type": "stream",
          "name": "stdout",
          "text": [
            "\n",
            "Epoch: 497, train_loss=0.0274 val_loss=0.0342 val_acc=0.7455\n"
          ]
        },
        {
          "output_type": "stream",
          "name": "stderr",
          "text": [
            "100%|██████████| 67/67 [00:01<00:00, 36.52it/s]\n",
            "100%|██████████| 2/2 [00:00<00:00, 96.70it/s]\n"
          ]
        },
        {
          "output_type": "stream",
          "name": "stdout",
          "text": [
            "\n",
            "Epoch: 498, train_loss=0.0274 val_loss=0.0341 val_acc=0.7455\n"
          ]
        },
        {
          "output_type": "stream",
          "name": "stderr",
          "text": [
            "100%|██████████| 67/67 [00:01<00:00, 37.38it/s]\n",
            "100%|██████████| 2/2 [00:00<00:00, 104.65it/s]"
          ]
        },
        {
          "output_type": "stream",
          "name": "stdout",
          "text": [
            "\n",
            "Epoch: 499, train_loss=0.0277 val_loss=0.0340 val_acc=0.7545\n"
          ]
        },
        {
          "output_type": "stream",
          "name": "stderr",
          "text": [
            "\n"
          ]
        }
      ]
    },
    {
      "cell_type": "markdown",
      "source": [
        "## Show images and their true label-predicted label"
      ],
      "metadata": {
        "id": "B-eseRqQV-Th"
      }
    },
    {
      "cell_type": "code",
      "source": [
        "plt.rcParams['figure.figsize'] = [50,80] # make plots bigger\n",
        "for (img, label) in dataloaders['test']:\n",
        "  label = label.to(device)\n",
        "  batch_size = img.shape[0]\n",
        "  img = img.to(device)\n",
        "  img = (img[:, None] / 255).float()\n",
        "  pred = t.argmax(model(img), dim=1).int()\n",
        "  fig, axes = plt.subplots(10, 1)\n",
        "  for i, ax in enumerate(axes):\n",
        "    cur_pred = pred[i]\n",
        "    pred_label = unique_labels[cur_pred]\n",
        "    true_label = unique_labels[label.cpu()[i]]\n",
        "    ax.imshow(img[i].cpu().permute(1, 2, 0))\n",
        "    ax.title.set_text(f'label={true_label} prediction={pred_label}')\n",
        "  plt.show()\n",
        "  break  "
      ],
      "metadata": {
        "id": "oePjd3RIfv0P"
      },
      "execution_count": null,
      "outputs": []
    }
  ]
}